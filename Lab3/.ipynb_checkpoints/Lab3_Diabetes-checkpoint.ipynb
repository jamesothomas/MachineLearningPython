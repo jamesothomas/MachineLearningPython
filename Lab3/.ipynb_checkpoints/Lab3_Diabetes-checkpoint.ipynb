{
 "cells": [
  {
   "cell_type": "markdown",
   "metadata": {},
   "source": [
    "# Lab Three: Extended Logistic Regression\n",
    "\n",
    "# James Thomas, Xiaoxian Jing, Kuang Yan\n",
    "\n",
    " 1. [Preparation and Overview](#prep)<br>\n",
    "  1.1 [Business Case](#business_case)<br>\n",
    "  1.2 [Define Class Variables](#class_variables)<br>\n",
    "  1.3 [Training and Testing Data](#split)<br>\n",
    " 2. [Modeling](#modeling)<br>\n",
    "  2.1 [One-Verses-All Logistic Regression](#1vall)<br>\n",
    "  2.2 [Train the Model](#train)<br>\n",
    "  2.3 [Compare to Scikit-Learn](#compare)<br>\n",
    " 3. [Deployment](#deployment)<br>\n",
    "  3.1 [Advice](#advice)<br>\n",
    " 4. [Exceptional Work](#exceptional)<br>\n",
    "  4.1 [Additional Analysis](#additional_analysis)<br>\n",
    "  4.2 [Mean Square Error](#mse)<br>\n",
    " 5. [Final Thoughts](#thoughts)<br>\n",
    "  \n",
    "[//]: # (put the html anchors above the titles for better scrolling)\n",
    "[//]: # (note the <br>, and why do I need .. for 3rd level?, maybe I should just use pureish html)"
   ]
  },
  {
   "cell_type": "markdown",
   "metadata": {},
   "source": [
    "<a id=\"prep\"></a>\n",
    "## Preparation and Overview\n"
   ]
  },
  {
   "cell_type": "markdown",
   "metadata": {},
   "source": [
    "<a id=\"business_case\"></a>\n",
    "### Business Case\n",
    "\n",
    ">__[20 points]__ Explain the tast and what business-case or use-case it is designed to solve (or designed to investigate). Detail exactly what the classification task is and what parties would be interested in the results. For example, would the model be deployed or used mostly for offline analysis?\n",
    "\n",
    "For this project we will return to the diabetes dataset we used for Lab1. Briefly, this dataset contains information regarding diabetic patients who were admitted to the hospital.\n",
    "\n",
    "This dataset contains labels that characterize whether the patient was readmitted to the hospital in less than 30 days, readmitted to the hospital after more than 30 days, or not readmitted at all. Predicting these labels will be our classification task. \n",
    "\n",
    "There are two potential sets of parties interested in these results. \n",
    "\n",
    "- First, emergency medical care centers. These care centers will likely be interested in the results because of the insight they may provide for the day to day operations of the centers. We may discover that certain types of patients are much more likely to be readmitted to an emergency medical care center. This information could be used by the care centers to provide extra attention to the most at-risk patients once identified. In this case, the model would likely be deployed so that the healthcare professionals can have feedback as soon as possible. Throughout this project, we will focus on this possibility so as not to split our time and energy.\n",
    "\n",
    "- Second, special focus groups, such as the [American Diabetes Association](http://www.diabetes.org/). These organizations can use the insight gained from our studies to issue standards or suggestions. These standards or suggestions could then be implemented at individual care centers. Since the ADA is a large organization with a relative large sphere of influence, these suggestions could help ensure parity accross a variety of care centers. In this case, the model would mostly be used for offline analysis. For this project, we will not focus on this possibility."
   ]
  },
  {
   "cell_type": "markdown",
   "metadata": {},
   "source": [
    "<a id=\"class_variables\"></a>\n",
    "### Define Class Variables\n",
    "\n",
    "> __[5 points]__ (_mostly the same processes as from previous labs_) Define and prepare your class variables. Use proper variable representations (int, float, one-hot, etc.). Use pre-processing methods (as needed) for dimensionality reduction, scaling, etc. Remove variables that are not needed/useful for the analysis. Descrive the final dataset that is used for classificiation/regression (include a description of any newly formed variables you created)."
   ]
  },
  {
   "cell_type": "markdown",
   "metadata": {},
   "source": [
    "<a id=\"split\"></a>\n",
    "### Training and Testing Data\n",
    "\n",
    ">__[5 points]__ Divide you data into training and testing data using an 80% training and 20% testing split. Use the cross validation modules that are part of scikit-learn. __Argue \"for\" or \"against\" splitting your data using an 80/20 split. That is, why is the 80/20 split appropriate (or not) for your dataset?  __"
   ]
  },
  {
   "cell_type": "markdown",
   "metadata": {},
   "source": [
    "<a id=\"modeling\"></a>\n",
    "## Modeling\n",
    "\n",
    "> The implementation of logistic regression must be written only from the examples given to you by the instructor. No credit will be assigned to teams that copy implementations from another source, regardless of if the code is properly cited. "
   ]
  },
  {
   "cell_type": "markdown",
   "metadata": {},
   "source": [
    "<a id=\"1vall\"></a>\n",
    "### One-Verses-All Logistic Regression\n",
    "\n",
    "> __[20 points]__ Create a custom, one-versus-all logistic regression classifier using numpy and scipy to optimize. Use object oriented conventions identical to scikit-learn. You should start with the template developed by the instructor in the course. You should add the following functionality to the logistic regression classifier:\n",
    "- Ability to choose optimization technique when class is instantiated: either steepest descent, stochastic gradient descent, or Newton's method. \n",
    "- Update the gradient calculation to include a customizable regularization term (either using no regularization, L1 regularization, L2 regularization, or both L1 and L2 regularization). Associate a cost with the regularization term, \"C\", that can be adjusted when the class is instantiated."
   ]
  },
  {
   "cell_type": "markdown",
   "metadata": {},
   "source": [
    "### Train the Model\n",
    "<a id=\"train\"></a>\n",
    "\n",
    "> __[15 points]__ Train your classifier to achieve good generalization performance. That is, adjust the __optimization technique__ and the value of the __regularization term \"C\"__ to achieve the best performance on your test set. Visualize the performance of the classifier versus the parameters you investigated. Is your method of selecting parameters justified? That is, do you think there is any \"data snooping\" involved with this method of selecting parameters?"
   ]
  },
  {
   "cell_type": "markdown",
   "metadata": {},
   "source": [
    "<a id=\"compare\"></a>\n",
    "### Compare to Scikit-Learn\n",
    "\n",
    "> __[15 points]__ Compare the performance of your \"best\" logistic regression optimization procedure to the procedure used in scikit-learn. Visualize the performance differences in terms of training time and classification performance. __Discuss the results.__"
   ]
  },
  {
   "cell_type": "markdown",
   "metadata": {},
   "source": [
    "<a id=\"deployment\"></a>\n",
    "## Deployment\n"
   ]
  },
  {
   "cell_type": "markdown",
   "metadata": {},
   "source": [
    "<a id=\"advice\"></a>\n",
    "### Advice\n",
    "\n",
    "> __[10 points]__ Which implementation of logistic regression would you advise be used in a deployed machine learning model, your implementation or scikit-learn (or other third party)? Why?"
   ]
  },
  {
   "cell_type": "markdown",
   "metadata": {},
   "source": [
    "<a id=\"exceptional\"></a>\n",
    "## Exceptional Work"
   ]
  },
  {
   "cell_type": "markdown",
   "metadata": {},
   "source": [
    "<a id=\"additional_analysis\"></a>\n",
    "### Additional Analysis\n",
    "\n",
    "> You have free reign to provide additional analyses. __One idea__: Update the code to use either \"one-versus-all\" or \"one-versus-one\" extensions of binary to multi-class classification. "
   ]
  },
  {
   "cell_type": "markdown",
   "metadata": {},
   "source": [
    "<a id=\"mse\"></a>\n",
    "### Mean Square Error\n",
    "\n",
    "> One idea (__required for 7000 level students__): Implement an optimization technique for logistic regression using mean square error as your objective function (instead of binary entropy). Your solution should be able to solve the binary logistic regression problem in one gradient update step. "
   ]
  },
  {
   "cell_type": "markdown",
   "metadata": {},
   "source": [
    "<a id=\"thoughts\"></a>\n",
    "## Final Thoughts\n",
    "\n",
    "some final thoughts..."
   ]
  },
  {
   "cell_type": "code",
   "execution_count": null,
   "metadata": {},
   "outputs": [],
   "source": []
  }
 ],
 "metadata": {
  "kernelspec": {
   "display_name": "Python 3",
   "language": "python",
   "name": "python3"
  },
  "language_info": {
   "codemirror_mode": {
    "name": "ipython",
    "version": 3
   },
   "file_extension": ".py",
   "mimetype": "text/x-python",
   "name": "python",
   "nbconvert_exporter": "python",
   "pygments_lexer": "ipython3",
   "version": "3.6.7"
  }
 },
 "nbformat": 4,
 "nbformat_minor": 2
}
