{
 "cells": [
  {
   "cell_type": "markdown",
   "metadata": {},
   "source": [
    "# Lab Six: Convolutional Network Architectures\n",
    "\n",
    "# James Thomas, Xiaoxian Jing, Kuang Yan\n",
    "\n",
    " 1. [Dataset Selection](#data)<br>\n",
    " 2. [Preparation](#prep)<br>\n",
    "  2.1 [Metric](#metric)<br>\n",
    "  2.2 [Test-Train Split](#split)<br>\n",
    " 3. [Modeling](#modeling)<br>\n",
    "  3.1 [CNN](#cnn)<br>\n",
    "  3.2 [Different Architectures](#architectures)<br>\n",
    "  3.3 [Visualize Final Results](#visualize)<br>\n",
    "  3.4 [Compare the Performance](#compare)<br>\n",
    " 4. [Exceptional Work](#exceptional)<br>\n",
    "  4.1 [Additional Analyses](#additional_analysis)<br>\n",
    "  4.2 [Transfer Learning](#Transfer_Learning)<br>\n",
    " 5. [Final Thoughts](#thoughts)<br>\n",
    "  \n",
    "[//]: # (put the html anchors above the titles for better scrolling)\n",
    "[//]: # (note the <br>, and why do I need .. for 3rd level?, maybe I should just use pureish html)"
   ]
  },
  {
   "cell_type": "markdown",
   "metadata": {},
   "source": [
    "<a id=\"data\"></a>\n",
    "\n",
    "## Data Selection\n",
    "\n",
    "> Select a dataset identically to lab two (images). That is, the dataset must be image data. In terms of generalization performance, it is helpful to have a large dataset of identically sized images. It is fine to perform binary classification or multi-class classification.\n",
    "\n",
    "For this project we chose to use a [random sample of NIH Chest X-Ray Dataset](https://www.kaggle.com/nih-chest-xrays/sample/home). This dataset contains 5606 images that have been preprocessed to be a uniform size of $1024 \\times 1024$ and also includes a csv containing the labels associated with the x-ray images. This dataset includes X Ray images of patients with 14 different diseases."
   ]
  },
  {
   "cell_type": "markdown",
   "metadata": {},
   "source": [
    "<a id=\"preparation\"></a>\n",
    "\n",
    "## Preparation\n",
    "\n",
    "Before we define the metric and decide on a test-train split, we need to make sure all of the X-Ray images are the same format. The images are all the same size, but we will need to make sure all of them are black and white as well as flipping some of the images along the vertical axis to account for the different persepctives used (patient laying on back or front). While we are doing this we will also resize the images to a smaller size to make our testing run quicker. If we use left-right flipping as a part of our data expansion, the initial flipping will be unnecessary. However, we wanted to start from a common initial point to (hopefully) get a better of idea how the individual variables affect our model's performance.\n",
    "\n",
    "We have also taken the 2D Fourier transformation of the images and saved the transformations as numpy arrays as well as an image of the transforms. We may augment our model with the transformed space in order to see if there is any increase in performance with the additional \"momentum\" space information.\n",
    "\n",
    "Finally, we will also need to do some work on the target to make it into a binary classification problem. Initially we will only try to classify the instances based on whether the patient had pnemonia or not. In the future we can also look at a binary classification of whether the patient had any disease or not. Finally, we can also try to a multi-classification model to predict each of the diseases individually. However, given that we only have ~5,000 images (before expansion), we do not think this model would perform very well."
   ]
  },
  {
   "cell_type": "code",
   "execution_count": 1,
   "metadata": {},
   "outputs": [
    {
     "data": {
      "text/html": [
       "<div>\n",
       "<style scoped>\n",
       "    .dataframe tbody tr th:only-of-type {\n",
       "        vertical-align: middle;\n",
       "    }\n",
       "\n",
       "    .dataframe tbody tr th {\n",
       "        vertical-align: top;\n",
       "    }\n",
       "\n",
       "    .dataframe thead th {\n",
       "        text-align: right;\n",
       "    }\n",
       "</style>\n",
       "<table border=\"1\" class=\"dataframe\">\n",
       "  <thead>\n",
       "    <tr style=\"text-align: right;\">\n",
       "      <th></th>\n",
       "      <th>Image Index</th>\n",
       "      <th>Finding Labels</th>\n",
       "      <th>Follow-up #</th>\n",
       "      <th>Patient ID</th>\n",
       "      <th>Patient Age</th>\n",
       "      <th>Patient Gender</th>\n",
       "      <th>View Position</th>\n",
       "      <th>OriginalImageWidth</th>\n",
       "      <th>OriginalImageHeight</th>\n",
       "      <th>OriginalImagePixelSpacing_x</th>\n",
       "      <th>OriginalImagePixelSpacing_y</th>\n",
       "    </tr>\n",
       "  </thead>\n",
       "  <tbody>\n",
       "    <tr>\n",
       "      <th>0</th>\n",
       "      <td>00000013_005.png</td>\n",
       "      <td>Emphysema|Infiltration|Pleural_Thickening|Pneu...</td>\n",
       "      <td>5</td>\n",
       "      <td>13</td>\n",
       "      <td>060Y</td>\n",
       "      <td>M</td>\n",
       "      <td>AP</td>\n",
       "      <td>3056</td>\n",
       "      <td>2544</td>\n",
       "      <td>0.139</td>\n",
       "      <td>0.139</td>\n",
       "    </tr>\n",
       "    <tr>\n",
       "      <th>1</th>\n",
       "      <td>00000013_026.png</td>\n",
       "      <td>Cardiomegaly|Emphysema</td>\n",
       "      <td>26</td>\n",
       "      <td>13</td>\n",
       "      <td>057Y</td>\n",
       "      <td>M</td>\n",
       "      <td>AP</td>\n",
       "      <td>2500</td>\n",
       "      <td>2048</td>\n",
       "      <td>0.168</td>\n",
       "      <td>0.168</td>\n",
       "    </tr>\n",
       "    <tr>\n",
       "      <th>2</th>\n",
       "      <td>00000017_001.png</td>\n",
       "      <td>No Finding</td>\n",
       "      <td>1</td>\n",
       "      <td>17</td>\n",
       "      <td>077Y</td>\n",
       "      <td>M</td>\n",
       "      <td>AP</td>\n",
       "      <td>2500</td>\n",
       "      <td>2048</td>\n",
       "      <td>0.168</td>\n",
       "      <td>0.168</td>\n",
       "    </tr>\n",
       "    <tr>\n",
       "      <th>3</th>\n",
       "      <td>00000030_001.png</td>\n",
       "      <td>Atelectasis</td>\n",
       "      <td>1</td>\n",
       "      <td>30</td>\n",
       "      <td>079Y</td>\n",
       "      <td>M</td>\n",
       "      <td>PA</td>\n",
       "      <td>2992</td>\n",
       "      <td>2991</td>\n",
       "      <td>0.143</td>\n",
       "      <td>0.143</td>\n",
       "    </tr>\n",
       "    <tr>\n",
       "      <th>4</th>\n",
       "      <td>00000032_001.png</td>\n",
       "      <td>Cardiomegaly|Edema|Effusion</td>\n",
       "      <td>1</td>\n",
       "      <td>32</td>\n",
       "      <td>055Y</td>\n",
       "      <td>F</td>\n",
       "      <td>AP</td>\n",
       "      <td>2500</td>\n",
       "      <td>2048</td>\n",
       "      <td>0.168</td>\n",
       "      <td>0.168</td>\n",
       "    </tr>\n",
       "  </tbody>\n",
       "</table>\n",
       "</div>"
      ],
      "text/plain": [
       "        Image Index                                     Finding Labels  \\\n",
       "0  00000013_005.png  Emphysema|Infiltration|Pleural_Thickening|Pneu...   \n",
       "1  00000013_026.png                             Cardiomegaly|Emphysema   \n",
       "2  00000017_001.png                                         No Finding   \n",
       "3  00000030_001.png                                        Atelectasis   \n",
       "4  00000032_001.png                        Cardiomegaly|Edema|Effusion   \n",
       "\n",
       "   Follow-up #  Patient ID Patient Age Patient Gender View Position  \\\n",
       "0            5          13        060Y              M            AP   \n",
       "1           26          13        057Y              M            AP   \n",
       "2            1          17        077Y              M            AP   \n",
       "3            1          30        079Y              M            PA   \n",
       "4            1          32        055Y              F            AP   \n",
       "\n",
       "   OriginalImageWidth  OriginalImageHeight  OriginalImagePixelSpacing_x  \\\n",
       "0                3056                 2544                        0.139   \n",
       "1                2500                 2048                        0.168   \n",
       "2                2500                 2048                        0.168   \n",
       "3                2992                 2991                        0.143   \n",
       "4                2500                 2048                        0.168   \n",
       "\n",
       "   OriginalImagePixelSpacing_y  \n",
       "0                        0.139  \n",
       "1                        0.168  \n",
       "2                        0.168  \n",
       "3                        0.143  \n",
       "4                        0.168  "
      ]
     },
     "execution_count": 1,
     "metadata": {},
     "output_type": "execute_result"
    }
   ],
   "source": [
    "import pandas as pd\n",
    "\n",
    "# first read in the dataframe that gives us the perspective\n",
    "df = pd.read_csv('sample_labels.csv')\n",
    "df.head()"
   ]
  },
  {
   "cell_type": "code",
   "execution_count": 50,
   "metadata": {},
   "outputs": [
    {
     "data": {
      "text/plain": [
       "'finished #5605: 00030797_000.png: Original Dims (1024 1024) : Finial Dims (1024 1024): time 1488.72 seconds'"
      ]
     },
     "metadata": {},
     "output_type": "display_data"
    },
    {
     "name": "stdout",
     "output_type": "stream",
     "text": [
      "0 files missed, check proj.dat file\n"
     ]
    }
   ],
   "source": [
    "# resize and save the images\n",
    "import os\n",
    "from PIL import Image\n",
    "import time\n",
    "from IPython.display import display, clear_output\n",
    "\n",
    "size = 1024\n",
    "base = os.getcwd()\n",
    "full = os.path.join(base,'sample/images/')\n",
    "t_start = time.time()\n",
    "\n",
    "size_dict = {64:  '64x64',\n",
    "             128: '128x128',\n",
    "             256: '256x256',\n",
    "             512: '512x512',\n",
    "             1024:'1024x1024'}\n",
    "\n",
    "i=0\n",
    "errors = 0\n",
    "for (dirpath, dirnames, filenames) in os.walk(full):\n",
    "    for file in filenames:\n",
    "        # get the info from the df\n",
    "        # possibly a more efficient way to do this, but this works\n",
    "        row = df[df['Image Index']==str(file)]\n",
    "        if row['View Position'].values[0] == 'PA':\n",
    "            # flip the PA\n",
    "            img = Image.open(os.path.join(full, file)).convert('L').transpose(Image.FLIP_LEFT_RIGHT)\n",
    "        elif row['View Position'].values[0] == 'AP':\n",
    "            # keep AP\n",
    "            img = Image.open(os.path.join(full, file)).convert('L')\n",
    "        else:\n",
    "            # in case there is an error\n",
    "            img = Image.open(os.path.join(full, file)).convert('L')\n",
    "            error += 1\n",
    "            with open('sample/proj.dat', 'a+') as f:\n",
    "                f.write('Could not find image {} in the df\\n'.format(file))\n",
    "                f.write(str(row['View Position']=='PA'))\n",
    "        o_size = img.size\n",
    "        s = size, size\n",
    "        img.thumbnail(s)\n",
    "        img.save(os.path.join(base, 'sample', size_dict[size], file))\n",
    "        clear_output()\n",
    "        display('finished #{}: {}: Original Dims ({} {}) : Finial Dims ({} {}): time {:.2f} seconds'.format(i, file, o_size[0], o_size[1], img.size[0], img.size[1], time.time()-t_start))\n",
    "        i+=1\n",
    "print('{} files missed, check proj.dat file'.format(errors))"
   ]
  },
  {
   "cell_type": "code",
   "execution_count": 20,
   "metadata": {},
   "outputs": [
    {
     "data": {
      "text/plain": [
       "'finished #5605: 00030797_000.png: size 64: time 48.12 seconds'"
      ]
     },
     "metadata": {},
     "output_type": "display_data"
    }
   ],
   "source": [
    "# now the Fourier transforms in case we use that information.\n",
    "import numpy as np\n",
    "import os\n",
    "from PIL import Image\n",
    "import time\n",
    "from IPython.display import display, clear_output\n",
    "import matplotlib.pyplot as plt\n",
    "from matplotlib.colors import LogNorm\n",
    "\n",
    "base = os.getcwd()\n",
    "print(base)\n",
    "t_start = time.time()\n",
    "\n",
    "size_dict = {64:  '64x64',\n",
    "             128: '128x128',\n",
    "             256: '256x256',\n",
    "             512: '512x512',\n",
    "             1024:'1024x1024'}\n",
    "\n",
    "#sizes = [64, 128, 256, 512, 1024]\n",
    "sizes = [64]\n",
    "for size in sizes:\n",
    "  \n",
    "    read_dir = os.path.join(base, 'sample', size_dict[size])\n",
    "    write_dir = read_dir+'_fft'\n",
    "    \n",
    "    i = 0\n",
    "    for (dirpath, dirnames, filenames) in os.walk(read_dir):\n",
    "        for file in filenames:\n",
    "            # read image\n",
    "            img = Image.open(os.path.join(read_dir, file))\n",
    "            fft = np.fft.fft2(img)\n",
    "            fft_abs = np.abs(fft)\n",
    "            f, _ = os.path.splitext(file)\n",
    "            np.save(write_dir+'/'+f+'.fft', fft)\n",
    "        \n",
    "            #fig, ax = plt.subplots(figsize=(5,5))\n",
    "            #im = ax.imshow(fft_abs, cmap='hot', norm=LogNorm(vmin=0.1))\n",
    "            #ax.set(xticks=[], yticks=[], title=file)\n",
    "            #cb = fig.colorbar(im)\n",
    "            #fig.savefig(os.path.join(write_dir, file))\n",
    "            #plt.close(fig)\n",
    "        \n",
    "            clear_output()\n",
    "            display('finished #{}: {}: size {}: time {:.2f} seconds'.format(i, file, size, time.time()-t_start))\n",
    "            i+=1"
   ]
  },
  {
   "cell_type": "code",
   "execution_count": 2,
   "metadata": {},
   "outputs": [
    {
     "data": {
      "text/plain": [
       "Hernia                  13\n",
       "Pneumonia               62\n",
       "Fibrosis                84\n",
       "Edema                  118\n",
       "Emphysema              127\n",
       "Cardiomegaly           141\n",
       "Pleural_Thickening     176\n",
       "Consolidation          226\n",
       "Pneumothorax           271\n",
       "Mass                   284\n",
       "Nodule                 313\n",
       "Atelectasis            508\n",
       "Effusion               644\n",
       "Infiltration           967\n",
       "No Finding            3044\n",
       "dtype: int64"
      ]
     },
     "execution_count": 2,
     "metadata": {},
     "output_type": "execute_result"
    }
   ],
   "source": [
    "import numpy as np\n",
    "\n",
    "# check if the frame contains 'No Finding' True if the patient was sick, False if not\n",
    "y_sick = ~df['Finding Labels'].str.contains('No Finding')\n",
    "\n",
    "# now check for pneumonia, True if patient has pneumonia, False else\n",
    "y_pneumonia = df['Finding Labels'].str.contains('Pneumonia')\n",
    "\n",
    "\n",
    "# now make target for all diseases\n",
    "\n",
    "disease_list = ['Hernia', 'Pneumonia', 'Fibrosis', 'Edema', 'Emphysema', 'Cardiomegaly', 'Pleural_Thickening',\n",
    "                'Consolidation', 'Pneumothorax', 'Mass', 'Nodule', 'Atelectasis', 'Effusion', 'Infiltration', 'No Finding']\n",
    "\n",
    "def disease_to_list(string, full_results = disease_list):\n",
    "    '''Function to generate a list of the different diseases each patient has\n",
    "    Inputs\n",
    "    string: the string containing the diseases, ie df['Finding Labels']\n",
    "    full_results: the list of all possible diseases used for the indices in the resulting list\n",
    "    Returns\n",
    "    list: a list with False if the patient didn't have the disease and True if the patient did. Indices based on full_results\n",
    "    '''\n",
    "    diseases = string.split('|')\n",
    "    result = [False]*len(full_results)\n",
    "    \n",
    "    for d in diseases:\n",
    "        result[full_results.index(d)] = True\n",
    "    return result\n",
    "\n",
    "y_all_l = df['Finding Labels'].apply(disease_to_list) # series version of .apply(). This returns a pd.series of lists\n",
    "y_all = pd.DataFrame(y_all_l.tolist(), columns = disease_list) # convert to a pd.dataframe\n",
    "\n",
    "# now check that the totals match kaggle https://www.kaggle.com/nih-chest-xrays/sample\n",
    "y_all.sum(axis=0)"
   ]
  },
  {
   "cell_type": "markdown",
   "metadata": {},
   "source": [
    "<a id=\"Metric\"></a>\n",
    "\n",
    "### Metric\n",
    "\n",
    "> __[15 points]__ Choose and explain what metric(s) you will use to evaluate your algorithm’s performance. You should give a __detailed argument for why this (these) metric(s) are appropriate__ on your data. That is, why is the metric appropriate for the task (e.g., in terms of the business case for the task). Please note: rarely is accuracy the best evaluation metric to use. Think deeply about an appropriate measure of performance.\n",
    "\n",
    "For this project we chose to use two metrics. \n",
    "\n",
    "- First, the F1 score. This metric allows us to account for false positives as well as false negatives, which improves over a simple accuracy. Although a more in-depth metric, such as a custom cost matrix, may allow for finer tuning of the performace of our model, it removes the ability for us to compare our model with others.  \n",
    "\n",
    "- Second, Recall. This metric emphesizes captureing all of the X Rays with a disease without much regard for false positives. In this situation, this is okay because the false positives will likley just have additional screenings or tests, while a false negative could have serioius health consequences for the patient."
   ]
  },
  {
   "cell_type": "markdown",
   "metadata": {},
   "source": [
    "<a id=\"split\"></a>\n",
    "\n",
    "### Test-Train Split\n",
    "\n",
    "> __[15 points]__ Choose the method you will use for dividing your data into training and testing (i.e., are you using Stratified 10-fold cross validation? Shuffle splits? Why?). __Explain why your chosen method is appropriate or use more than one method as appropriate__. Convince me that your cross validation method is a realistic mirroring of how an algorithm would be used in practice. \n",
    "\n",
    "For this project we will use 70% of the data for training, 10% for validation, and the remaining 20% for testing. Since we also have a class imbalance, we will use stratification at each splitting to ensure that all of the labels are represented appropriately in the sub-samples. Since Keras automatically manages the separation of the validation and training, we will manually split the 20% for testing from the remaining 80%. Furthermore, we will only split the pneumonia target for now."
   ]
  },
  {
   "cell_type": "code",
   "execution_count": 3,
   "metadata": {},
   "outputs": [],
   "source": [
    "from sklearn.model_selection import train_test_split\n",
    "\n",
    "dat_train, dat_test, y_train, y_test = train_test_split(df, y_sick, test_size=0.2, random_state=42, stratify=y_pneumonia)"
   ]
  },
  {
   "cell_type": "markdown",
   "metadata": {},
   "source": [
    "<a id=\"Modeling\"></a>\n",
    "\n",
    "## Modeling"
   ]
  },
  {
   "cell_type": "markdown",
   "metadata": {},
   "source": [
    "<a id=\"cnn\"></a>\n",
    "\n",
    "### CNN\n",
    "\n",
    "> __[15 points]__ Create a convolutional neural network to use on your data using Keras. Setup the training to use data expansion in Keras. Explain why the chosen data expansion techniques are appropriate for your dataset. \n",
    "\n",
    "The expansion techniques we use are\n",
    "\n",
    "- Rotation: We will allow for our images to be rotated up to 5 degrees in either direction.\n",
    "- Up-Down flip: We will allow for horizantal flipping.\n",
    "- Shifts: We will allow for horizontal and vertical shifts"
   ]
  },
  {
   "cell_type": "code",
   "execution_count": 4,
   "metadata": {},
   "outputs": [
    {
     "name": "stderr",
     "output_type": "stream",
     "text": [
      "Using TensorFlow backend.\n"
     ]
    }
   ],
   "source": [
    "# the datagen \n",
    "# from class: https://github.com/eclarson/MachineLearningNotebooks/blob/master/12.%20More%20Advanced%20CNN%20Techniques.ipynb\n",
    "from keras.preprocessing.image import ImageDataGenerator\n",
    "\n",
    "datagen = ImageDataGenerator(featurewise_center=False,\n",
    "    samplewise_center=False,\n",
    "    featurewise_std_normalization=False,\n",
    "    samplewise_std_normalization=False,\n",
    "    zca_whitening=False,\n",
    "    rotation_range=5, # used, Int. Degree range for random rotations.\n",
    "    width_shift_range=0.1, # used, Float (fraction of total width). Range for random horizontal shifts.\n",
    "    height_shift_range=0.1, # used,  Float (fraction of total height). Range for random vertical shifts.\n",
    "    shear_range=0., # Float. Shear Intensity (Shear angle in counter-clockwise direction as radians)\n",
    "    zoom_range=0.,\n",
    "    channel_shift_range=0.,\n",
    "    fill_mode='nearest',\n",
    "    cval=0.,\n",
    "    horizontal_flip=True,\n",
    "    vertical_flip=False,\n",
    "    rescale=None)\n"
   ]
  },
  {
   "cell_type": "code",
   "execution_count": 5,
   "metadata": {},
   "outputs": [
    {
     "name": "stdout",
     "output_type": "stream",
     "text": [
      "working on train 4483, 00029666_001.png, 73.95\n"
     ]
    },
    {
     "data": {
      "image/png": "[encoded data removed]",
      "text/plain": [
       "<PIL.PngImagePlugin.PngImageFile image mode=L size=256x256 at 0x1958645BCC0>"
      ]
     },
     "metadata": {},
     "output_type": "display_data"
    }
   ],
   "source": [
    "%matplotlib inline\n",
    "from PIL import Image\n",
    "import time\n",
    "import os\n",
    "from IPython.display import display, clear_output\n",
    "# load the images. this is going to take a fair amount of memory...\n",
    "\n",
    "\n",
    "size = 256\n",
    "\n",
    "size_dict = {64:  '64x64',\n",
    "             128: '128x128',\n",
    "             256: '256x256',\n",
    "             512: '512x512',\n",
    "             1024:'1024x1024'}\n",
    "path = os.path.join(os.getcwd(), 'sample', size_dict[size])\n",
    "\n",
    "X_test = np.empty([len(dat_test), size, size, 1], dtype=np.float32) # preallocate\n",
    "X_train = np.empty([len(dat_train), size, size, 1], dtype=np.float32) # num_images, img_width, img_height, num_channels\n",
    "\n",
    "X_test[:,:,:,0]=1\n",
    "X_train[:,:,:,0]=1\n",
    "\n",
    "index = 0\n",
    "t_start = time.time()\n",
    "for name in dat_test['Image Index']:\n",
    "    clear_output()\n",
    "    print('working on test {}, {}, {:.2f}'.format(index, name, time.time()-t_start))\n",
    "    img = Image.open(os.path.join(path, name))\n",
    "    display(img)\n",
    "    X_test[index,:,:,0] = np.array(img)/255.0-0.5\n",
    "    index+=1\n",
    "\n",
    "index = 0\n",
    "t_start = time.time()\n",
    "for name in dat_train['Image Index']:\n",
    "    clear_output()\n",
    "    print('working on train {}, {}, {:.2f}'.format(index, name, time.time()-t_start))\n",
    "    img = Image.open(os.path.join(path, name))\n",
    "    display(img)\n",
    "    X_train[index,:,:,0] = np.array(img)/255.5-0.5\n",
    "    index+=1"
   ]
  },
  {
   "cell_type": "code",
   "execution_count": 19,
   "metadata": {},
   "outputs": [
    {
     "name": "stdout",
     "output_type": "stream",
     "text": [
      "_________________________________________________________________\n",
      "Layer (type)                 Output Shape              Param #   \n",
      "=================================================================\n",
      "input_4 (InputLayer)         (None, 256, 256, 1)       0         \n",
      "_________________________________________________________________\n",
      "conv2d_13 (Conv2D)           (None, 254, 254, 32)      320       \n",
      "_________________________________________________________________\n",
      "max_pooling2d_13 (MaxPooling (None, 127, 127, 32)      0         \n",
      "_________________________________________________________________\n",
      "conv2d_14 (Conv2D)           (None, 125, 125, 16)      4624      \n",
      "_________________________________________________________________\n",
      "max_pooling2d_14 (MaxPooling (None, 62, 62, 16)        0         \n",
      "_________________________________________________________________\n",
      "conv2d_15 (Conv2D)           (None, 60, 60, 16)        2320      \n",
      "_________________________________________________________________\n",
      "max_pooling2d_15 (MaxPooling (None, 30, 30, 16)        0         \n",
      "_________________________________________________________________\n",
      "conv2d_16 (Conv2D)           (None, 28, 28, 16)        2320      \n",
      "_________________________________________________________________\n",
      "max_pooling2d_16 (MaxPooling (None, 14, 14, 16)        0         \n",
      "_________________________________________________________________\n",
      "conv2d_17 (Conv2D)           (None, 12, 12, 1)         145       \n",
      "_________________________________________________________________\n",
      "max_pooling2d_17 (MaxPooling (None, 6, 6, 1)           0         \n",
      "_________________________________________________________________\n",
      "flatten_4 (Flatten)          (None, 36)                0         \n",
      "_________________________________________________________________\n",
      "dense_10 (Dense)             (None, 20)                740       \n",
      "_________________________________________________________________\n",
      "dense_11 (Dense)             (None, 10)                210       \n",
      "_________________________________________________________________\n",
      "dense_12 (Dense)             (None, 1)                 11        \n",
      "=================================================================\n",
      "Total params: 10,690\n",
      "Trainable params: 10,690\n",
      "Non-trainable params: 0\n",
      "_________________________________________________________________\n",
      "None\n"
     ]
    }
   ],
   "source": [
    "# Convolutional Neural Network\n",
    "from keras.utils import plot_model\n",
    "from keras.models import Model\n",
    "from keras.layers import Input, Dense, Flatten\n",
    "from keras.layers.convolutional import Conv2D\n",
    "from keras.layers.pooling import MaxPooling2D\n",
    "\n",
    "visible = Input(shape=(size,size,1))\n",
    "\n",
    "conv1 = Conv2D(32, kernel_size=3, activation='relu')(visible)\n",
    "pool1 = MaxPooling2D(pool_size=(2, 2))(conv1)\n",
    "\n",
    "conv2 = Conv2D(16, kernel_size=3, activation='relu')(pool1)\n",
    "pool2 = MaxPooling2D(pool_size=(2, 2))(conv2)\n",
    "\n",
    "conv3 = Conv2D(16, kernel_size=3, activation='relu')(pool2)\n",
    "pool3 = MaxPooling2D(pool_size=(2, 2))(conv3)\n",
    "\n",
    "conv4 = Conv2D(16, kernel_size=3, activation='relu')(pool3)\n",
    "pool4 = MaxPooling2D(pool_size=(2, 2))(conv4)\n",
    "\n",
    "conv5 = Conv2D(1, kernel_size=3, activation='relu')(pool4)\n",
    "pool5 = MaxPooling2D(pool_size=(2, 2))(conv5)\n",
    "\n",
    "flat = Flatten()(pool5)\n",
    "hidden1 = Dense(20, activation='relu')(flat)\n",
    "hidden2 = Dense(10, activation='relu')(hidden1)\n",
    "output = Dense(1, activation='sigmoid')(hidden2)\n",
    "\n",
    "model = Model(inputs=visible, outputs=output)\n",
    "# summarize layers\n",
    "print(model.summary())"
   ]
  },
  {
   "cell_type": "code",
   "execution_count": 20,
   "metadata": {},
   "outputs": [
    {
     "name": "stdout",
     "output_type": "stream",
     "text": [
      "(4484,)\n",
      "(1122,)\n",
      "Epoch 1/5\n",
      "140/140 [==============================] - 20s 142ms/step - loss: 0.6763 - acc: 0.5788 - val_loss: 0.6668 - val_acc: 0.5989\n",
      "Epoch 2/5\n",
      "140/140 [==============================] - 18s 130ms/step - loss: 0.6693 - acc: 0.6002 - val_loss: 0.6605 - val_acc: 0.6016\n",
      "Epoch 3/5\n",
      "140/140 [==============================] - 18s 131ms/step - loss: 0.6645 - acc: 0.5980 - val_loss: 0.6506 - val_acc: 0.6248\n",
      "Epoch 4/5\n",
      "140/140 [==============================] - 18s 131ms/step - loss: 0.6623 - acc: 0.6125 - val_loss: 0.6483 - val_acc: 0.6257\n",
      "Epoch 5/5\n",
      "140/140 [==============================] - 18s 131ms/step - loss: 0.6639 - acc: 0.6127 - val_loss: 0.6541 - val_acc: 0.6087\n"
     ]
    },
    {
     "data": {
      "text/plain": [
       "<keras.callbacks.History at 0x195cdb36ef0>"
      ]
     },
     "execution_count": 20,
     "metadata": {},
     "output_type": "execute_result"
    }
   ],
   "source": [
    "from keras.utils import to_categorical\n",
    "import tensorflow as tf\n",
    "#print(y_train.shape)\n",
    "#print(y_test.shape)\n",
    "#y_train = to_categorical(y_train)\n",
    "#y_test = to_categorical(y_test)\n",
    "print(y_train.shape)\n",
    "print(y_test.shape)\n",
    "\n",
    "model.compile(loss='binary_crossentropy',\n",
    "              optimizer='rmsprop',\n",
    "              metrics=['accuracy'])\n",
    "\n",
    "\n",
    "model.fit_generator(datagen.flow(X_train, y_train, batch_size=32), \n",
    "                        steps_per_epoch=int(len(X_train)/32), # how many generators to go through per epoch\n",
    "                        epochs=5, verbose=1,\n",
    "                        validation_data=(X_test,y_test)\n",
    "                        )"
   ]
  },
  {
   "cell_type": "code",
   "execution_count": 13,
   "metadata": {},
   "outputs": [],
   "source": [
    "import gc\n",
    "import keras.backend as K\n",
    "\n",
    "model = None\n",
    "gc.collect()\n",
    "K.clear_session()"
   ]
  },
  {
   "cell_type": "markdown",
   "metadata": {},
   "source": [
    "<a id=\"architectures\"></a>\n",
    "\n",
    "### Different Architectures\n",
    "\n",
    "> __[20 points]__ Investigate at least two different convolutional network architectures (and investigate changing some parameters of each architecture). Use the method of cross validation and evaluation metric that you argued for at the beginning of the lab. Visualize the performance of the training and validation sets per iteration (use the \"history\" parameter of Keras)."
   ]
  },
  {
   "cell_type": "markdown",
   "metadata": {},
   "source": [
    "<a id=\"visualize\"></a>\n",
    "\n",
    "### Visualize Final Results\n",
    "\n",
    "> __[15 points]__ Visualize the final results of the CNNs and interpret the performance. Use proper statistics as appropriate, especially for comparing models. "
   ]
  },
  {
   "cell_type": "markdown",
   "metadata": {},
   "source": [
    "<a id=\"compare\"></a>\n",
    "\n",
    "### Compare the Perfomace\n",
    "\n",
    "> __[10 points]__ Compare the performance of your convolutional network to a standard multi-layer perceptron (MLP) using the receiver operating characteristic and area under the curve. Use proper statistical comparison techniques.  "
   ]
  },
  {
   "cell_type": "markdown",
   "metadata": {},
   "source": [
    "<a id=\"exceptional\"></a>\n",
    "\n",
    "## Exceptional Work"
   ]
  },
  {
   "cell_type": "markdown",
   "metadata": {},
   "source": [
    "<a id=\"additional_analyses\"></a>\n",
    "\n",
    "### Additional Analyses\n",
    "\n",
    "> You have free reigh to provide additional analyses.\n",
    "\n",
    "In addition to simply predicting whether or not a patient has one of the conditions, it may also be useful to know which sections of the X Ray were most indicative of the condition. To extract this information we will add heatmaps to the images using class activation mappings (CAMs)."
   ]
  },
  {
   "cell_type": "code",
   "execution_count": null,
   "metadata": {},
   "outputs": [],
   "source": [
    "import keras.backend as K\n",
    "\n",
    "get_layer = K.function(\n",
    "    [model.layers[0].input, K.learning_phase()],\n",
    "    [model.layers[LAYER_DESIRED].output])\n",
    "layer_output = get_layer([x_test, 0])[0]"
   ]
  },
  {
   "cell_type": "markdown",
   "metadata": {},
   "source": [
    "<a id=\"Transfer_Learning\"></a>\n",
    "\n",
    "### Transfer Learning\n",
    "\n",
    "> One idea (__required for 7000 level students__): Use transfer learning to pre-train the weights of your initial layers of your CNN. Compare the performance when using transfer learning to training from scratch in terms of classification performance."
   ]
  },
  {
   "cell_type": "markdown",
   "metadata": {},
   "source": [
    "<a id=\"thoughts\"></a>\n",
    "\n",
    "## Final Thoughts"
   ]
  }
 ],
 "metadata": {
  "kernelspec": {
   "display_name": "Python 3",
   "language": "python",
   "name": "python3"
  },
  "language_info": {
   "codemirror_mode": {
    "name": "ipython",
    "version": 3
   },
   "file_extension": ".py",
   "mimetype": "text/x-python",
   "name": "python",
   "nbconvert_exporter": "python",
   "pygments_lexer": "ipython3",
   "version": "3.6.7"
  }
 },
 "nbformat": 4,
 "nbformat_minor": 2
}
