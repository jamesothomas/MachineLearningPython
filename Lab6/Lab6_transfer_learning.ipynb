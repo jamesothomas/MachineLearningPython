{
 "cells": [
  {
   "cell_type": "code",
   "execution_count": 98,
   "metadata": {},
   "outputs": [],
   "source": [
    "from __future__ import print_function\n",
    "import numpy as np\n",
    "import PIL.Image as Image\n",
    "import cv2\n",
    "import pandas as pd\n",
    "import matplotlib.pyplot as plt\n",
    "from IPython.display import clear_output\n",
    "import time"
   ]
  },
  {
   "cell_type": "code",
   "execution_count": 99,
   "metadata": {},
   "outputs": [
    {
     "data": {
      "text/plain": [
       "<pandas.core.groupby.generic.DataFrameGroupBy object at 0x7ffe9161e470>"
      ]
     },
     "execution_count": 99,
     "metadata": {},
     "output_type": "execute_result"
    }
   ],
   "source": [
    "file_path = '/users/jamesthomas/MachineLearning_Python/Lab2/images/resize/thumb/'\n",
    "file_path_2 = '/users/jamesthomas/MachineLearning_Python/Lab2/images/full_size/'\n",
    "\n",
    "\n",
    "df = pd.read_csv(file_path_2+'sample_labels.csv')\n",
    "new_df = df[['Image Index','Finding Labels']]\n",
    "new_df.groupby(['Finding Labels'])"
   ]
  },
  {
   "cell_type": "code",
   "execution_count": 100,
   "metadata": {},
   "outputs": [
    {
     "data": {
      "text/html": [
       "<div>\n",
       "<style scoped>\n",
       "    .dataframe tbody tr th:only-of-type {\n",
       "        vertical-align: middle;\n",
       "    }\n",
       "\n",
       "    .dataframe tbody tr th {\n",
       "        vertical-align: top;\n",
       "    }\n",
       "\n",
       "    .dataframe thead th {\n",
       "        text-align: right;\n",
       "    }\n",
       "</style>\n",
       "<table border=\"1\" class=\"dataframe\">\n",
       "  <thead>\n",
       "    <tr style=\"text-align: right;\">\n",
       "      <th></th>\n",
       "      <th>Image Index</th>\n",
       "      <th>Finding Labels</th>\n",
       "      <th>Follow-up #</th>\n",
       "      <th>Patient ID</th>\n",
       "      <th>Patient Age</th>\n",
       "      <th>Patient Gender</th>\n",
       "      <th>View Position</th>\n",
       "      <th>OriginalImageWidth</th>\n",
       "      <th>OriginalImageHeight</th>\n",
       "      <th>OriginalImagePixelSpacing_x</th>\n",
       "      <th>OriginalImagePixelSpacing_y</th>\n",
       "    </tr>\n",
       "  </thead>\n",
       "  <tbody>\n",
       "    <tr>\n",
       "      <th>0</th>\n",
       "      <td>00000013_005.png</td>\n",
       "      <td>Emphysema|Infiltration|Pleural_Thickening|Pneu...</td>\n",
       "      <td>5</td>\n",
       "      <td>13</td>\n",
       "      <td>060Y</td>\n",
       "      <td>M</td>\n",
       "      <td>AP</td>\n",
       "      <td>3056</td>\n",
       "      <td>2544</td>\n",
       "      <td>0.139</td>\n",
       "      <td>0.139</td>\n",
       "    </tr>\n",
       "    <tr>\n",
       "      <th>1</th>\n",
       "      <td>00000013_026.png</td>\n",
       "      <td>Cardiomegaly|Emphysema</td>\n",
       "      <td>26</td>\n",
       "      <td>13</td>\n",
       "      <td>057Y</td>\n",
       "      <td>M</td>\n",
       "      <td>AP</td>\n",
       "      <td>2500</td>\n",
       "      <td>2048</td>\n",
       "      <td>0.168</td>\n",
       "      <td>0.168</td>\n",
       "    </tr>\n",
       "    <tr>\n",
       "      <th>2</th>\n",
       "      <td>00000017_001.png</td>\n",
       "      <td>No Finding</td>\n",
       "      <td>1</td>\n",
       "      <td>17</td>\n",
       "      <td>077Y</td>\n",
       "      <td>M</td>\n",
       "      <td>AP</td>\n",
       "      <td>2500</td>\n",
       "      <td>2048</td>\n",
       "      <td>0.168</td>\n",
       "      <td>0.168</td>\n",
       "    </tr>\n",
       "    <tr>\n",
       "      <th>3</th>\n",
       "      <td>00000030_001.png</td>\n",
       "      <td>Atelectasis</td>\n",
       "      <td>1</td>\n",
       "      <td>30</td>\n",
       "      <td>079Y</td>\n",
       "      <td>M</td>\n",
       "      <td>PA</td>\n",
       "      <td>2992</td>\n",
       "      <td>2991</td>\n",
       "      <td>0.143</td>\n",
       "      <td>0.143</td>\n",
       "    </tr>\n",
       "    <tr>\n",
       "      <th>4</th>\n",
       "      <td>00000032_001.png</td>\n",
       "      <td>Cardiomegaly|Edema|Effusion</td>\n",
       "      <td>1</td>\n",
       "      <td>32</td>\n",
       "      <td>055Y</td>\n",
       "      <td>F</td>\n",
       "      <td>AP</td>\n",
       "      <td>2500</td>\n",
       "      <td>2048</td>\n",
       "      <td>0.168</td>\n",
       "      <td>0.168</td>\n",
       "    </tr>\n",
       "  </tbody>\n",
       "</table>\n",
       "</div>"
      ],
      "text/plain": [
       "        Image Index                                     Finding Labels  \\\n",
       "0  00000013_005.png  Emphysema|Infiltration|Pleural_Thickening|Pneu...   \n",
       "1  00000013_026.png                             Cardiomegaly|Emphysema   \n",
       "2  00000017_001.png                                         No Finding   \n",
       "3  00000030_001.png                                        Atelectasis   \n",
       "4  00000032_001.png                        Cardiomegaly|Edema|Effusion   \n",
       "\n",
       "   Follow-up #  Patient ID Patient Age Patient Gender View Position  \\\n",
       "0            5          13        060Y              M            AP   \n",
       "1           26          13        057Y              M            AP   \n",
       "2            1          17        077Y              M            AP   \n",
       "3            1          30        079Y              M            PA   \n",
       "4            1          32        055Y              F            AP   \n",
       "\n",
       "   OriginalImageWidth  OriginalImageHeight  OriginalImagePixelSpacing_x  \\\n",
       "0                3056                 2544                        0.139   \n",
       "1                2500                 2048                        0.168   \n",
       "2                2500                 2048                        0.168   \n",
       "3                2992                 2991                        0.143   \n",
       "4                2500                 2048                        0.168   \n",
       "\n",
       "   OriginalImagePixelSpacing_y  \n",
       "0                        0.139  \n",
       "1                        0.168  \n",
       "2                        0.168  \n",
       "3                        0.143  \n",
       "4                        0.168  "
      ]
     },
     "execution_count": 100,
     "metadata": {},
     "output_type": "execute_result"
    }
   ],
   "source": [
    "df.head()"
   ]
  },
  {
   "cell_type": "code",
   "execution_count": 101,
   "metadata": {},
   "outputs": [
    {
     "data": {
      "text/plain": [
       "Hernia                  13\n",
       "Pneumonia               62\n",
       "Fibrosis                84\n",
       "Edema                  118\n",
       "Emphysema              127\n",
       "Cardiomegaly           141\n",
       "Pleural_Thickening     176\n",
       "Consolidation          226\n",
       "Pneumothorax           271\n",
       "Mass                   284\n",
       "Nodule                 313\n",
       "Atelectasis            508\n",
       "Effusion               644\n",
       "Infiltration           967\n",
       "No Finding            3044\n",
       "dtype: int64"
      ]
     },
     "execution_count": 101,
     "metadata": {},
     "output_type": "execute_result"
    }
   ],
   "source": [
    "# check if the frame contains 'No Finding' True if the patient was sick, False if not\n",
    "y_sick = ~df['Finding Labels'].str.contains('No Finding')\n",
    "\n",
    "# now check for pneumonia, True if patient has pneumonia, False else\n",
    "y_pneumonia = df['Finding Labels'].str.contains('Pneumonia')\n",
    "\n",
    "\n",
    "# now make target for all diseases\n",
    "\n",
    "disease_list = ['Hernia', 'Pneumonia', 'Fibrosis', 'Edema', 'Emphysema', 'Cardiomegaly', 'Pleural_Thickening',\n",
    "                'Consolidation', 'Pneumothorax', 'Mass', 'Nodule', 'Atelectasis', 'Effusion', 'Infiltration', 'No Finding']\n",
    "\n",
    "def disease_to_list(string, full_results = disease_list):\n",
    "    '''Function to generate a list of the different diseases each patient has\n",
    "    Inputs\n",
    "    string: the string containing the diseases, ie df['Finding Labels']\n",
    "    full_results: the list of all possible diseases used for the indices in the resulting list\n",
    "    Returns\n",
    "    list: a list with False if the patient didn't have the disease and True if the patient did. Indices based on full_results\n",
    "    '''\n",
    "    diseases = string.split('|')\n",
    "    result = [False]*len(full_results)\n",
    "    \n",
    "    for d in diseases:\n",
    "        result[full_results.index(d)] = True\n",
    "    return result\n",
    "\n",
    "y_all_l = df['Finding Labels'].apply(disease_to_list) # series version of .apply(). This returns a pd.series of lists\n",
    "y_all = pd.DataFrame(y_all_l.tolist(), columns = disease_list) # convert to a pd.dataframe\n",
    "\n",
    "# now check that the totals match kaggle https://www.kaggle.com/nih-chest-xrays/sample\n",
    "y_all.sum(axis=0)"
   ]
  },
  {
   "cell_type": "code",
   "execution_count": 102,
   "metadata": {},
   "outputs": [],
   "source": [
    "from sklearn.model_selection import train_test_split\n",
    "\n",
    "dat_train, dat_test, y_train, y_test = train_test_split(df, y_sick, test_size=0.2, random_state=42, stratify=y_sick)"
   ]
  },
  {
   "cell_type": "code",
   "execution_count": 47,
   "metadata": {},
   "outputs": [
    {
     "name": "stdout",
     "output_type": "stream",
     "text": [
      "working on train 4483, 00022208_005.png, 16.22\n"
     ]
    }
   ],
   "source": [
    "size = 256\n",
    "\n",
    "X_test = np.empty([len(dat_test), size, size, 1], dtype=np.float32) # preallocate\n",
    "X_train = np.empty([len(dat_train), size, size, 1], dtype=np.float32) # num_images, img_width, img_height, num_channels\n",
    "\n",
    "X_test[:,:,:,0]=1\n",
    "X_train[:,:,:,0]=1\n",
    "\n",
    "index = 0\n",
    "t_start = time.time()\n",
    "for name in dat_test['Image Index']:\n",
    "    clear_output(wait=True)\n",
    "    print('working on test {}, {}, {:.2f}'.format(index, name, time.time()-t_start))\n",
    "    img = Image.open(file_path+name)\n",
    "    #display(img)\n",
    "    X_test[index,:,:,0] = np.array(img)/255.0-0.5\n",
    "    index+=1\n",
    "\n",
    "index = 0\n",
    "t_start = time.time()\n",
    "for name in dat_train['Image Index']:\n",
    "    clear_output(wait=True)\n",
    "    print('working on train {}, {}, {:.2f}'.format(index, name, time.time()-t_start))\n",
    "    img = Image.open(file_path+name)\n",
    "    #display(img)\n",
    "    X_train[index,:,:,0] = np.array(img)/255.5-0.5\n",
    "    index+=1"
   ]
  },
  {
   "cell_type": "code",
   "execution_count": 7,
   "metadata": {},
   "outputs": [
    {
     "name": "stderr",
     "output_type": "stream",
     "text": [
      "/hpc/applications/anaconda/3/lib/python3.6/site-packages/h5py/__init__.py:34: FutureWarning: Conversion of the second argument of issubdtype from `float` to `np.floating` is deprecated. In future, it will be treated as `np.float64 == np.dtype(float).type`.\n",
      "  from ._conv import register_converters as _register_converters\n",
      "Using TensorFlow backend.\n"
     ]
    }
   ],
   "source": [
    "# the datagen \n",
    "# from class: https://github.com/eclarson/MachineLearningNotebooks/blob/master/12.%20More%20Advanced%20CNN%20Techniques.ipynb\n",
    "from keras.preprocessing.image import ImageDataGenerator\n",
    "\n",
    "datagen = ImageDataGenerator(featurewise_center=False,\n",
    "    samplewise_center=False,\n",
    "    featurewise_std_normalization=False,\n",
    "    samplewise_std_normalization=False,\n",
    "    zca_whitening=False,\n",
    "    rotation_range=5, # used, Int. Degree range for random rotations.\n",
    "    width_shift_range=0.1, # used, Float (fraction of total width). Range for random horizontal shifts.\n",
    "    height_shift_range=0.1, # used,  Float (fraction of total height). Range for random vertical shifts.\n",
    "    shear_range=0., # Float. Shear Intensity (Shear angle in counter-clockwise direction as radians)\n",
    "    zoom_range=0.,\n",
    "    channel_shift_range=0.,\n",
    "    fill_mode='nearest',\n",
    "    cval=0.,\n",
    "    horizontal_flip=True,\n",
    "    vertical_flip=False,\n",
    "    rescale=None)"
   ]
  },
  {
   "cell_type": "code",
   "execution_count": 29,
   "metadata": {},
   "outputs": [
    {
     "name": "stdout",
     "output_type": "stream",
     "text": [
      "_________________________________________________________________\n",
      "Layer (type)                 Output Shape              Param #   \n",
      "=================================================================\n",
      "input_5 (InputLayer)         (None, 256, 256, 1)       0         \n",
      "_________________________________________________________________\n",
      "conv2d_1 (Conv2D)            (None, 254, 254, 32)      320       \n",
      "_________________________________________________________________\n",
      "max_pooling2d_4 (MaxPooling2 (None, 127, 127, 32)      0         \n",
      "_________________________________________________________________\n",
      "conv2d_2 (Conv2D)            (None, 125, 125, 16)      4624      \n",
      "_________________________________________________________________\n",
      "max_pooling2d_5 (MaxPooling2 (None, 62, 62, 16)        0         \n",
      "_________________________________________________________________\n",
      "conv2d_3 (Conv2D)            (None, 60, 60, 16)        2320      \n",
      "_________________________________________________________________\n",
      "max_pooling2d_6 (MaxPooling2 (None, 30, 30, 16)        0         \n",
      "_________________________________________________________________\n",
      "conv2d_4 (Conv2D)            (None, 28, 28, 16)        2320      \n",
      "_________________________________________________________________\n",
      "max_pooling2d_7 (MaxPooling2 (None, 14, 14, 16)        0         \n",
      "_________________________________________________________________\n",
      "final_conv (Conv2D)          (None, 12, 12, 1)         145       \n",
      "_________________________________________________________________\n",
      "max_pooling2d_8 (MaxPooling2 (None, 6, 6, 1)           0         \n",
      "_________________________________________________________________\n",
      "flatten_4 (Flatten)          (None, 36)                0         \n",
      "_________________________________________________________________\n",
      "dense_7 (Dense)              (None, 20)                740       \n",
      "_________________________________________________________________\n",
      "dense_8 (Dense)              (None, 10)                210       \n",
      "_________________________________________________________________\n",
      "dense_9 (Dense)              (None, 1)                 11        \n",
      "=================================================================\n",
      "Total params: 10,690\n",
      "Trainable params: 10,690\n",
      "Non-trainable params: 0\n",
      "_________________________________________________________________\n",
      "None\n"
     ]
    }
   ],
   "source": [
    "# Convolutional Neural Network\n",
    "from keras.utils import plot_model\n",
    "from keras.models import Model\n",
    "from keras.layers import Input, Dense, Flatten\n",
    "from keras.layers.convolutional import Conv2D\n",
    "from keras.layers.pooling import MaxPooling2D\n",
    "\n",
    "visible = Input(shape=(size,size,1))\n",
    "\n",
    "conv1 = Conv2D(32, kernel_size=3, activation='relu')(visible)\n",
    "#conv1 = Conv2D(32, kernel_size=1, activation='relu')(conv1)\n",
    "pool1 = MaxPooling2D(pool_size=(2, 2))(conv1)\n",
    "\n",
    "conv2 = Conv2D(16, kernel_size=3, activation='relu')(pool1)\n",
    "pool2 = MaxPooling2D(pool_size=(2, 2))(conv2)\n",
    "\n",
    "conv3 = Conv2D(16, kernel_size=3, activation='relu')(pool2)\n",
    "pool3 = MaxPooling2D(pool_size=(2, 2))(conv3)\n",
    "\n",
    "conv4 = Conv2D(16, kernel_size=3, activation='relu')(pool3)\n",
    "pool4 = MaxPooling2D(pool_size=(2, 2))(conv4)\n",
    "\n",
    "conv5 = Conv2D(1, kernel_size=3, activation='relu',name='final_conv')(pool4)\n",
    "pool5 = MaxPooling2D(pool_size=(2, 2))(conv5)\n",
    "\n",
    "\n",
    "flat = Flatten()(pool5)\n",
    "hidden1 = Dense(20, activation='relu')(flat)\n",
    "hidden2 = Dense(10, activation='relu')(hidden1)\n",
    "output = Dense(1, activation='sigmoid')(hidden2)\n",
    "\n",
    "model = Model(inputs=visible, outputs=output)\n",
    "# summarize layers\n",
    "print(model.summary())"
   ]
  },
  {
   "cell_type": "code",
   "execution_count": 9,
   "metadata": {},
   "outputs": [
    {
     "name": "stdout",
     "output_type": "stream",
     "text": [
      "(4484,)\n",
      "(1122,)\n",
      "Epoch 1/5\n",
      "140/140 [==============================] - 85s 610ms/step - loss: 0.6782 - acc: 0.5795 - val_loss: 0.6586 - val_acc: 0.6337\n",
      "Epoch 2/5\n",
      "140/140 [==============================] - 104s 742ms/step - loss: 0.6705 - acc: 0.5987 - val_loss: 0.6434 - val_acc: 0.6453\n",
      "Epoch 3/5\n",
      "140/140 [==============================] - 91s 652ms/step - loss: 0.6672 - acc: 0.6071 - val_loss: 0.6444 - val_acc: 0.6426\n",
      "Epoch 4/5\n",
      "140/140 [==============================] - 86s 611ms/step - loss: 0.6658 - acc: 0.6056 - val_loss: 0.6441 - val_acc: 0.6471\n",
      "Epoch 5/5\n",
      "140/140 [==============================] - 97s 690ms/step - loss: 0.6655 - acc: 0.6065 - val_loss: 0.6512 - val_acc: 0.6417\n"
     ]
    },
    {
     "data": {
      "text/plain": [
       "<keras.callbacks.History at 0x7fffc4f83b00>"
      ]
     },
     "execution_count": 9,
     "metadata": {},
     "output_type": "execute_result"
    }
   ],
   "source": [
    "from keras.utils import to_categorical\n",
    "import tensorflow as tf\n",
    "#print(y_train.shape)\n",
    "#print(y_test.shape)\n",
    "#y_train = to_categorical(y_train)\n",
    "#y_test = to_categorical(y_test)\n",
    "print(y_train.shape)\n",
    "print(y_test.shape)\n",
    "\n",
    "model.compile(loss='binary_crossentropy',\n",
    "              optimizer='rmsprop',\n",
    "              metrics=['accuracy'])\n",
    "\n",
    "\n",
    "model.fit_generator(datagen.flow(X_train, y_train, batch_size=32), \n",
    "                        steps_per_epoch=int(len(X_train)/32), # how many generators to go through per epoch\n",
    "                        epochs=5, verbose=1,\n",
    "                        validation_data=(X_test,y_test)\n",
    "                        )"
   ]
  },
  {
   "cell_type": "code",
   "execution_count": 10,
   "metadata": {},
   "outputs": [],
   "source": [
    "heat_map_model = Model(inputs=model.input, outputs=model.get_layer('final_conv').output)\n",
    "\n",
    "heat_map_data = heat_map_model.predict(X_train)"
   ]
  },
  {
   "cell_type": "code",
   "execution_count": 11,
   "metadata": {},
   "outputs": [
    {
     "name": "stderr",
     "output_type": "stream",
     "text": [
      "/users/xjing/.local/lib/python3.6/site-packages/scipy/ndimage/interpolation.py:605: UserWarning: From scipy 0.13.0, the output shape of zoom() is calculated with round() instead of int() - for these inputs the size of the returned array has changed.\n",
      "  \"the returned array has changed.\", UserWarning)\n"
     ]
    }
   ],
   "source": [
    "from scipy.ndimage import zoom\n",
    "\n",
    "factor = 21.33\n",
    "upsacle = np.array([zoom(x,(factor,factor,1),order=2) for x in heat_map_data])"
   ]
  },
  {
   "cell_type": "code",
   "execution_count": 12,
   "metadata": {},
   "outputs": [],
   "source": [
    "#heat_map_data = np.array([imresize(np.reshape(x,(12,12)), size=(256,256), `='nearest') for x in heat_map_data])\n",
    "#print(heat_map_data.shape)"
   ]
  },
  {
   "cell_type": "code",
   "execution_count": 13,
   "metadata": {},
   "outputs": [],
   "source": [
    "import pylab\n",
    "def heat_plot(i):\n",
    "    data = upsacle[i][:,:,0]\n",
    "\n",
    "    plt.subplot(111)\n",
    "    ax1=plt.subplot(1, 1, 1)\n",
    "\n",
    "    im = np.reshape(X_train[i],(256,256))\n",
    "    ax1.imshow(im,cmap=pylab.gray())\n",
    "\n",
    "    heat=ax1.imshow(data, cmap='hot', interpolation='nearest',alpha=0.2)\n",
    "    plt.colorbar(heat)\n",
    "\n",
    "    plt.show()"
   ]
  },
  {
   "cell_type": "code",
   "execution_count": 14,
   "metadata": {},
   "outputs": [
    {
     "name": "stderr",
     "output_type": "stream",
     "text": [
      "/hpc/applications/anaconda/3/lib/python3.6/site-packages/matplotlib/cbook/deprecation.py:107: MatplotlibDeprecationWarning: Adding an axes using the same arguments as a previous axes currently reuses the earlier instance.  In a future version, a new instance will always be created and returned.  Meanwhile, this warning can be suppressed, and the future behavior ensured, by passing a unique label to each axes instance.\n",
      "  warnings.warn(message, mplDeprecation, stacklevel=1)\n"
     ]
    },
    {
     "data": {
      "image/png": "[encoded data removed]",
      "text/plain": [
       "<Figure size 432x288 with 2 Axes>"
      ]
     },
     "metadata": {
      "needs_background": "light"
     },
     "output_type": "display_data"
    }
   ],
   "source": [
    "heat_plot(36)"
   ]
  },
  {
   "cell_type": "code",
   "execution_count": 38,
   "metadata": {},
   "outputs": [
    {
     "name": "stdout",
     "output_type": "stream",
     "text": [
      "working on train 4483, 00022208_005.png, 33.99\n"
     ]
    }
   ],
   "source": [
    "from scipy import fftpack\n",
    "im_fft = fftpack.fft2(img)\n",
    "\n",
    "size = 256\n",
    "\n",
    "X_test_fft = np.empty([len(dat_test), size, size, 2], dtype=np.float32) # preallocate\n",
    "X_train_fft = np.empty([len(dat_train), size, size, 2], dtype=np.float32) # num_images, img_width, img_height, num_channels\n",
    "\n",
    "\n",
    "index = 0\n",
    "t_start = time.time()\n",
    "for name in dat_test['Image Index']:\n",
    "    clear_output(wait=True)\n",
    "    print('working on test {}, {}, {:.2f}'.format(index, name, time.time()-t_start))\n",
    "    img = Image.open(file_path+name)\n",
    "    #display(img)\n",
    "    X_test_fft[index,:,:,0] = np.real(fftpack.fft2(img))\n",
    "    X_test_fft[index,:,:,1] = np.imag(fftpack.fft2(img))\n",
    "    index+=1\n",
    "\n",
    "index = 0\n",
    "t_start = time.time()\n",
    "for name in dat_train['Image Index']:\n",
    "    clear_output(wait=True)\n",
    "    print('working on train {}, {}, {:.2f}'.format(index, name, time.time()-t_start))\n",
    "    img = Image.open(file_path+name)\n",
    "    #display(img)\n",
    "    X_train_fft[index,:,:,0] = np.real(fftpack.fft2(img))\n",
    "    X_train_fft[index,:,:,1] = np.imag(fftpack.fft2(img))\n",
    "    index+=1"
   ]
  },
  {
   "cell_type": "code",
   "execution_count": 39,
   "metadata": {},
   "outputs": [
    {
     "name": "stdout",
     "output_type": "stream",
     "text": [
      "_________________________________________________________________\n",
      "Layer (type)                 Output Shape              Param #   \n",
      "=================================================================\n",
      "input_7 (InputLayer)         (None, 256, 256, 2)       0         \n",
      "_________________________________________________________________\n",
      "conv2d_9 (Conv2D)            (None, 254, 254, 32)      608       \n",
      "_________________________________________________________________\n",
      "max_pooling2d_14 (MaxPooling (None, 127, 127, 32)      0         \n",
      "_________________________________________________________________\n",
      "conv2d_10 (Conv2D)           (None, 125, 125, 16)      4624      \n",
      "_________________________________________________________________\n",
      "max_pooling2d_15 (MaxPooling (None, 62, 62, 16)        0         \n",
      "_________________________________________________________________\n",
      "conv2d_11 (Conv2D)           (None, 60, 60, 16)        2320      \n",
      "_________________________________________________________________\n",
      "max_pooling2d_16 (MaxPooling (None, 30, 30, 16)        0         \n",
      "_________________________________________________________________\n",
      "conv2d_12 (Conv2D)           (None, 28, 28, 16)        2320      \n",
      "_________________________________________________________________\n",
      "max_pooling2d_17 (MaxPooling (None, 14, 14, 16)        0         \n",
      "_________________________________________________________________\n",
      "final_conv (Conv2D)          (None, 12, 12, 1)         145       \n",
      "_________________________________________________________________\n",
      "max_pooling2d_18 (MaxPooling (None, 6, 6, 1)           0         \n",
      "_________________________________________________________________\n",
      "flatten_6 (Flatten)          (None, 36)                0         \n",
      "_________________________________________________________________\n",
      "dense_13 (Dense)             (None, 20)                740       \n",
      "_________________________________________________________________\n",
      "dense_14 (Dense)             (None, 10)                210       \n",
      "_________________________________________________________________\n",
      "dense_15 (Dense)             (None, 1)                 11        \n",
      "=================================================================\n",
      "Total params: 10,978\n",
      "Trainable params: 10,978\n",
      "Non-trainable params: 0\n",
      "_________________________________________________________________\n",
      "None\n"
     ]
    }
   ],
   "source": [
    "visible = Input(shape=(size,size,2))\n",
    "\n",
    "conv1 = Conv2D(32, kernel_size=3, activation='relu')(visible)\n",
    "#conv1 = Conv2D(32, kernel_size=1, activation='relu')(conv1)\n",
    "pool1 = MaxPooling2D(pool_size=(2, 2))(conv1)\n",
    "\n",
    "conv2 = Conv2D(16, kernel_size=3, activation='relu')(pool1)\n",
    "pool2 = MaxPooling2D(pool_size=(2, 2))(conv2)\n",
    "\n",
    "conv3 = Conv2D(16, kernel_size=3, activation='relu')(pool2)\n",
    "pool3 = MaxPooling2D(pool_size=(2, 2))(conv3)\n",
    "\n",
    "conv4 = Conv2D(16, kernel_size=3, activation='relu')(pool3)\n",
    "pool4 = MaxPooling2D(pool_size=(2, 2))(conv4)\n",
    "\n",
    "conv5 = Conv2D(1, kernel_size=3, activation='relu',name='final_conv')(pool4)\n",
    "pool5 = MaxPooling2D(pool_size=(2, 2))(conv5)\n",
    "\n",
    "\n",
    "flat = Flatten()(pool5)\n",
    "hidden1 = Dense(20, activation='relu')(flat)\n",
    "hidden2 = Dense(10, activation='relu')(hidden1)\n",
    "output = Dense(1, activation='sigmoid')(hidden2)\n",
    "\n",
    "model = Model(inputs=visible, outputs=output)\n",
    "# summarize layers\n",
    "print(model.summary())"
   ]
  },
  {
   "cell_type": "code",
   "execution_count": 40,
   "metadata": {},
   "outputs": [
    {
     "name": "stdout",
     "output_type": "stream",
     "text": [
      "(4484,)\n",
      "(1122,)\n",
      "Train on 4484 samples, validate on 1122 samples\n",
      "Epoch 1/5\n",
      "4484/4484 [==============================] - 144s 32ms/step - loss: 8.6428 - acc: 0.4554 - val_loss: 8.6532 - val_acc: 0.4572\n",
      "Epoch 2/5\n",
      "4484/4484 [==============================] - 129s 29ms/step - loss: 8.6574 - acc: 0.4570 - val_loss: 8.6532 - val_acc: 0.4572\n",
      "Epoch 3/5\n",
      "4484/4484 [==============================] - 150s 33ms/step - loss: 8.6574 - acc: 0.4570 - val_loss: 8.6532 - val_acc: 0.4572\n",
      "Epoch 4/5\n",
      "4484/4484 [==============================] - 144s 32ms/step - loss: 8.6574 - acc: 0.4570 - val_loss: 8.6532 - val_acc: 0.4572\n",
      "Epoch 5/5\n",
      "4484/4484 [==============================] - 143s 32ms/step - loss: 8.6574 - acc: 0.4570 - val_loss: 8.6532 - val_acc: 0.4572\n"
     ]
    },
    {
     "data": {
      "text/plain": [
       "<keras.callbacks.History at 0x7ffe85211a20>"
      ]
     },
     "execution_count": 40,
     "metadata": {},
     "output_type": "execute_result"
    }
   ],
   "source": [
    "from keras.utils import to_categorical\n",
    "import tensorflow as tf\n",
    "#print(y_train.shape)\n",
    "#print(y_test.shape)\n",
    "#y_train = to_categorical(y_train)\n",
    "#y_test = to_categorical(y_test)\n",
    "print(y_train.shape)\n",
    "print(y_test.shape)\n",
    "\n",
    "model.compile(loss='binary_crossentropy',\n",
    "              optimizer='rmsprop',\n",
    "              metrics=['accuracy'])\n",
    "\n",
    "\n",
    "model.fit(X_train_fft, y_train,\n",
    "        epochs=5,batch_size=64,verbose=1,\n",
    "        validation_data=(X_test_fft,y_test)\n",
    "        )"
   ]
  },
  {
   "cell_type": "code",
   "execution_count": 43,
   "metadata": {},
   "outputs": [
    {
     "name": "stdout",
     "output_type": "stream",
     "text": [
      "_________________________________________________________________\n",
      "Layer (type)                 Output Shape              Param #   \n",
      "=================================================================\n",
      "input_9 (InputLayer)         (None, 256, 256, 2)       0         \n",
      "_________________________________________________________________\n",
      "flatten_8 (Flatten)          (None, 131072)            0         \n",
      "_________________________________________________________________\n",
      "dense_20 (Dense)             (None, 20)                2621460   \n",
      "_________________________________________________________________\n",
      "dense_21 (Dense)             (None, 10)                210       \n",
      "_________________________________________________________________\n",
      "dense_22 (Dense)             (None, 10)                110       \n",
      "_________________________________________________________________\n",
      "dense_23 (Dense)             (None, 1)                 11        \n",
      "=================================================================\n",
      "Total params: 2,621,791\n",
      "Trainable params: 2,621,791\n",
      "Non-trainable params: 0\n",
      "_________________________________________________________________\n",
      "None\n"
     ]
    }
   ],
   "source": [
    "visible = Input(shape=(size,size,2))\n",
    "\n",
    "flat = Flatten()(visible)\n",
    "hidden1 = Dense(20, activation='relu')(flat)\n",
    "hidden2 = Dense(10, activation='relu')(hidden1)\n",
    "hidden3 = Dense(10, activation='relu')(hidden2)\n",
    "output = Dense(1, activation='sigmoid')(hidden3)\n",
    "\n",
    "model_mlp = Model(inputs=visible, outputs=output)\n",
    "# summarize layers\n",
    "print(model_mlp.summary())"
   ]
  },
  {
   "cell_type": "code",
   "execution_count": 44,
   "metadata": {},
   "outputs": [
    {
     "name": "stdout",
     "output_type": "stream",
     "text": [
      "Train on 4484 samples, validate on 1122 samples\n",
      "Epoch 1/5\n",
      "4484/4484 [==============================] - 14s 3ms/step - loss: 8.6574 - acc: 0.4570 - val_loss: 8.6532 - val_acc: 0.4572\n",
      "Epoch 2/5\n",
      "4484/4484 [==============================] - 7s 2ms/step - loss: 8.6574 - acc: 0.4570 - val_loss: 8.6532 - val_acc: 0.4572\n",
      "Epoch 3/5\n",
      "4484/4484 [==============================] - 11s 2ms/step - loss: 8.6574 - acc: 0.4570 - val_loss: 8.6532 - val_acc: 0.4572\n",
      "Epoch 4/5\n",
      "4484/4484 [==============================] - 6s 1ms/step - loss: 8.6574 - acc: 0.4570 - val_loss: 8.6532 - val_acc: 0.4572\n",
      "Epoch 5/5\n",
      "4484/4484 [==============================] - 5s 1ms/step - loss: 8.6574 - acc: 0.4570 - val_loss: 8.6532 - val_acc: 0.4572\n"
     ]
    },
    {
     "data": {
      "text/plain": [
       "<keras.callbacks.History at 0x7ffe85279a90>"
      ]
     },
     "execution_count": 44,
     "metadata": {},
     "output_type": "execute_result"
    }
   ],
   "source": [
    "model_mlp.compile(loss='binary_crossentropy',\n",
    "              optimizer='rmsprop',\n",
    "              metrics=['accuracy'])\n",
    "\n",
    "\n",
    "model_mlp.fit(X_train_fft, y_train,\n",
    "        epochs=5,batch_size=64,verbose=1,\n",
    "        validation_data=(X_test_fft,y_test)\n",
    "        )"
   ]
  },
  {
   "cell_type": "code",
   "execution_count": 45,
   "metadata": {},
   "outputs": [
    {
     "name": "stdout",
     "output_type": "stream",
     "text": [
      "_________________________________________________________________\n",
      "Layer (type)                 Output Shape              Param #   \n",
      "=================================================================\n",
      "input_10 (InputLayer)        (None, 256, 256, 1)       0         \n",
      "_________________________________________________________________\n",
      "flatten_9 (Flatten)          (None, 65536)             0         \n",
      "_________________________________________________________________\n",
      "dense_24 (Dense)             (None, 20)                1310740   \n",
      "_________________________________________________________________\n",
      "dense_25 (Dense)             (None, 10)                210       \n",
      "_________________________________________________________________\n",
      "dense_26 (Dense)             (None, 10)                110       \n",
      "_________________________________________________________________\n",
      "dense_27 (Dense)             (None, 1)                 11        \n",
      "=================================================================\n",
      "Total params: 1,311,071\n",
      "Trainable params: 1,311,071\n",
      "Non-trainable params: 0\n",
      "_________________________________________________________________\n",
      "None\n"
     ]
    }
   ],
   "source": [
    "visible = Input(shape=(size,size,1))\n",
    "\n",
    "flat = Flatten()(visible)\n",
    "hidden1 = Dense(20, activation='relu')(flat)\n",
    "hidden2 = Dense(10, activation='relu')(hidden1)\n",
    "hidden3 = Dense(10, activation='relu')(hidden2)\n",
    "output = Dense(1, activation='sigmoid')(hidden3)\n",
    "\n",
    "model_mlp = Model(inputs=visible, outputs=output)\n",
    "# summarize layers\n",
    "print(model_mlp.summary())"
   ]
  },
  {
   "cell_type": "code",
   "execution_count": 48,
   "metadata": {},
   "outputs": [
    {
     "name": "stdout",
     "output_type": "stream",
     "text": [
      "Epoch 1/5\n",
      "140/140 [==============================] - 26s 182ms/step - loss: 0.8252 - acc: 0.5185 - val_loss: 0.6915 - val_acc: 0.5579\n",
      "Epoch 2/5\n",
      "140/140 [==============================] - 19s 135ms/step - loss: 0.7091 - acc: 0.5413 - val_loss: 0.6986 - val_acc: 0.5463\n",
      "Epoch 3/5\n",
      "140/140 [==============================] - 18s 130ms/step - loss: 0.7179 - acc: 0.5420 - val_loss: 0.8215 - val_acc: 0.5419\n",
      "Epoch 4/5\n",
      "140/140 [==============================] - 18s 129ms/step - loss: 0.6997 - acc: 0.5389 - val_loss: 0.6936 - val_acc: 0.5446\n",
      "Epoch 5/5\n",
      "140/140 [==============================] - 18s 131ms/step - loss: 0.6963 - acc: 0.5460 - val_loss: 0.6898 - val_acc: 0.5428\n"
     ]
    },
    {
     "data": {
      "text/plain": [
       "<keras.callbacks.History at 0x7ffe85279160>"
      ]
     },
     "execution_count": 48,
     "metadata": {},
     "output_type": "execute_result"
    }
   ],
   "source": [
    "model_mlp.compile(loss='binary_crossentropy',\n",
    "              optimizer='rmsprop',\n",
    "              metrics=['accuracy'])\n",
    "\n",
    "\n",
    "model_mlp.fit_generator(datagen.flow(X_train, y_train, batch_size=32), \n",
    "                        steps_per_epoch=int(len(X_train)/32), # how many generators to go through per epoch\n",
    "                        epochs=5, verbose=1,\n",
    "                        validation_data=(X_test,y_test)\n",
    "                        )"
   ]
  },
  {
   "cell_type": "code",
   "execution_count": null,
   "metadata": {},
   "outputs": [],
   "source": []
  },
  {
   "cell_type": "code",
   "execution_count": 15,
   "metadata": {},
   "outputs": [],
   "source": [
    "import gc\n",
    "import keras.backend as K\n",
    "\n",
    "model = None\n",
    "gc.collect()\n",
    "K.clear_session()"
   ]
  },
  {
   "cell_type": "code",
   "execution_count": 4,
   "metadata": {},
   "outputs": [
    {
     "data": {
      "text/plain": [
       "'0.24.1'"
      ]
     },
     "execution_count": 4,
     "metadata": {},
     "output_type": "execute_result"
    }
   ],
   "source": [
    "pd.__version__"
   ]
  },
  {
   "cell_type": "code",
   "execution_count": 38,
   "metadata": {},
   "outputs": [
    {
     "name": "stdout",
     "output_type": "stream",
     "text": [
      "cost matrix used is \n",
      "[[ 0  2]\n",
      " [ 9 -1]]\n"
     ]
    }
   ],
   "source": [
    "from sklearn.metrics import confusion_matrix\n",
    "\n",
    "cost_matrix = np.array([[0,2],[9,-1]])\n",
    "print('cost matrix used is ')\n",
    "print(cost_matrix)\n",
    "\n",
    "def custom_cost_metric(y_true, y_pred, cost_mat=cost_matrix):\n",
    "    conf_mat = confusion_matrix(y_true, y_pred)\n",
    "    cost = np.sum(cost_mat*conf_mat)/len(y_true)\n",
    "    return cost"
   ]
  },
  {
   "cell_type": "code",
   "execution_count": 39,
   "metadata": {},
   "outputs": [],
   "source": [
    "import pickle\n",
    "cost_dict_ens = pickle.load( open( \"Ensembles.pickle\", \"rb\" ) )\n",
    "cost_dict_le = pickle.load( open( 'LeNet5.pickle', 'rb'))\n",
    "cost_dict_mlp = pickle.load( open('MLP.pickle', 'rb'))\n",
    "cost_dict_xce = pickle.load( open('XCeption.pickle', 'rb'))\n",
    "cost_dict_res = pickle.load( open('ResNet.pickle','rb'))\n",
    "\n",
    "y_true = pickle.load( open('y_true.pickle','rb'))\n",
    "y_true = y_true.values"
   ]
  },
  {
   "cell_type": "code",
   "execution_count": 40,
   "metadata": {},
   "outputs": [],
   "source": [
    "cost_list = []\n",
    "for cost_dict in [cost_dict_ens,cost_dict_le,cost_dict_mlp,cost_dict_xce,cost_dict_res]:\n",
    "    for key in cost_dict:\n",
    "        cost_dict[key] = custom_cost_metric(y_true, (cost_dict[key]>0.5).astype(int), cost_mat=cost_matrix)\n",
    "    cost_list += [list(cost_dict.values())]"
   ]
  },
  {
   "cell_type": "code",
   "execution_count": 61,
   "metadata": {},
   "outputs": [
    {
     "data": {
      "image/png": "[encoded data removed]",
      "text/plain": [
       "<Figure size 432x288 with 1 Axes>"
      ]
     },
     "metadata": {
      "needs_background": "light"
     },
     "output_type": "display_data"
    }
   ],
   "source": [
    "import matplotlib.pyplot as plt\n",
    "import numpy as np\n",
    "x=['Ensembles','LeNet5','MLP','XCeption','ResNet']\n",
    "dy=np.array([(max(li)-min(li))/2 for li in cost_list])\n",
    "y=np.array([sum(li)/len(li) for li in cost_list])\n",
    "\n",
    "plt.errorbar(x,y,yerr=dy,fmt='o',ecolor='r',color='b',elinewidth=2,capsize=4)\n",
    "plt.ylabel('Cost function range')\n",
    "plt.xlabel('Model type')\n",
    "plt.title('Cost function spread  Vs  Model type')\n",
    "plt.show()"
   ]
  },
  {
   "cell_type": "code",
   "execution_count": 62,
   "metadata": {},
   "outputs": [],
   "source": [
    "epoch_his = pickle.load(open('epoch_results.pickle','rb'))"
   ]
  },
  {
   "cell_type": "code",
   "execution_count": 79,
   "metadata": {},
   "outputs": [
    {
     "data": {
      "image/png": "[encoded data removed]",
      "text/plain": [
       "<Figure size 1440x288 with 2 Axes>"
      ]
     },
     "metadata": {
      "needs_background": "light"
     },
     "output_type": "display_data"
    }
   ],
   "source": [
    "colors = ['green','blue','red','black','yellow']\n",
    "plt.figure(figsize=(20,4))\n",
    "\n",
    "\n",
    "plt.subplot(1,2,1)\n",
    "plt.title('Cost Vs Epoch')\n",
    "cnt = 0\n",
    "for key in epoch_his:\n",
    "    plt.plot([1,2,3,4,5,6,7,8,9,10],[li[1] for li in epoch_his[key]], color=colors[cnt], label=key)\n",
    "    cnt += 1\n",
    "plt.legend()\n",
    "plt.xlabel('Epoch Number')\n",
    "plt.ylabel('Cost')\n",
    "\n",
    "\n",
    "plt.subplot(1,2,2)\n",
    "cnt = 0\n",
    "plt.title('F1 score Vs Epoch')\n",
    "for key in epoch_his:\n",
    "    plt.plot([1,2,3,4,5,6,7,8,9,10],[li[0] for li in epoch_his[key]], color=colors[cnt], label=key)\n",
    "    cnt += 1\n",
    "plt.legend()\n",
    "plt.xlabel('Epoch Number')\n",
    "plt.ylabel('F1 score')\n",
    "plt.show()"
   ]
  },
  {
   "cell_type": "code",
   "execution_count": 80,
   "metadata": {},
   "outputs": [],
   "source": [
    "comp = pickle.load(open('compare_models.pickle','rb'))"
   ]
  },
  {
   "cell_type": "code",
   "execution_count": 84,
   "metadata": {},
   "outputs": [
    {
     "name": "stdout",
     "output_type": "stream",
     "text": [
      "resnet [1.8850267379679144, 1.6319073083778965, 1.7691622103386808, 1.9955436720142603, 1.7727272727272727]\n",
      "mlp [2.642602495543672, 2.820855614973262, 1.5409982174688057, 2.7442067736185383, 3.8101604278074865]\n"
     ]
    }
   ],
   "source": [
    "for key in comp:\n",
    "    comp[key] = [custom_cost_metric(y_true, (li>0.5).astype(int), cost_mat=cost_matrix) for li in comp[key]]\n",
    "    print(key,comp[key])"
   ]
  },
  {
   "cell_type": "code",
   "execution_count": 91,
   "metadata": {},
   "outputs": [
    {
     "name": "stdout",
     "output_type": "stream",
     "text": [
      "MLP performance is within range (95% confidence): (1.641049344400297, 1.9806975361701133)\n",
      "Average mlp cost (customized metric) is 2.711764705882353\n",
      "MLP is indisguishable compared to resnet:  False\n",
      "ResNet is better comparing to MLP.\n"
     ]
    }
   ],
   "source": [
    "import numpy as np, scipy.stats as st\n",
    "st_range_res = st.t.interval(0.95, len(comp['resnet'])-1, loc=np.mean(comp['resnet']), scale=st.sem(comp['resnet']))\n",
    "\n",
    "print('MLP performance is within range (95% confidence):',st_range_res)\n",
    "\n",
    "cost_mlp_ave = sum(comp['mlp'])/5\n",
    "print('Average mlp cost (customized metric) is', cost_mlp_ave)\n",
    "print('MLP is indisguishable compared to resnet: ' ,cost_mlp_ave>=st_range_res[0] and cost_mlp_ave<= st_range_res[1])\n",
    "if cost_mlp_ave<=st_range_res[0]:\n",
    "    print('MLP is better comparing to resnet.')\n",
    "else:\n",
    "    print('ResNet is better comparing to MLP.')"
   ]
  },
  {
   "cell_type": "code",
   "execution_count": null,
   "metadata": {},
   "outputs": [],
   "source": []
  },
  {
   "cell_type": "code",
   "execution_count": null,
   "metadata": {},
   "outputs": [],
   "source": []
  },
  {
   "cell_type": "code",
   "execution_count": null,
   "metadata": {},
   "outputs": [],
   "source": []
  },
  {
   "cell_type": "markdown",
   "metadata": {},
   "source": [
    "The following part is for transfer learning.\n",
    "\n",
    "Notice that X_train, X_test are for original image, x_train, x_test are for transfer learning."
   ]
  },
  {
   "cell_type": "code",
   "execution_count": 103,
   "metadata": {},
   "outputs": [],
   "source": [
    "import keras"
   ]
  },
  {
   "cell_type": "code",
   "execution_count": 107,
   "metadata": {},
   "outputs": [
    {
     "name": "stdout",
     "output_type": "stream",
     "text": [
      "working on train 4483, 00022208_005.png, 60.31\n"
     ]
    }
   ],
   "source": [
    "#reload the images, using three channels\n",
    "size = 256\n",
    "X_test = np.empty([len(dat_test), size, size, 3], dtype=np.float32) # preallocate\n",
    "X_train = np.empty([len(dat_train), size, size, 3], dtype=np.float32) # num_images, img_width, img_height, num_channels\n",
    "\n",
    "X_test[:,:,:,0]=1\n",
    "X_train[:,:,:,0]=1\n",
    "\n",
    "index = 0\n",
    "t_start = time.time()\n",
    "for name in dat_test['Image Index']:\n",
    "    clear_output(wait=True)\n",
    "    print('working on test {}, {}, {:.2f}'.format(index, name, time.time()-t_start))\n",
    "    img = keras.preprocessing.image.load_img(file_path+name, grayscale = False)\n",
    "    #display(img)\n",
    "    X_test[index,:,:,:] = np.array(img)/255.0-0.5\n",
    "    index+=1\n",
    "\n",
    "index = 0\n",
    "t_start = time.time()\n",
    "for name in dat_train['Image Index']:\n",
    "    clear_output(wait=True)\n",
    "    print('working on train {}, {}, {:.2f}'.format(index, name, time.time()-t_start))\n",
    "    img = keras.preprocessing.image.load_img(file_path+name, grayscale = False)\n",
    "    #display(img)\n",
    "    X_train[index,:,:,:] = np.array(img)/255.5-0.5\n",
    "    index+=1"
   ]
  },
  {
   "cell_type": "code",
   "execution_count": 105,
   "metadata": {},
   "outputs": [],
   "source": [
    "from keras.applications.resnet50 import ResNet50\n",
    "from keras.preprocessing import image\n",
    "from keras.applications.resnet50 import preprocess_input, decode_predictions\n",
    "import numpy as np\n",
    "\n",
    "res_model = ResNet50(weights='imagenet')"
   ]
  },
  {
   "cell_type": "code",
   "execution_count": 108,
   "metadata": {},
   "outputs": [
    {
     "name": "stdout",
     "output_type": "stream",
     "text": [
      "(4484, 256, 256, 3)\n",
      "(4484,)\n",
      "(1122, 256, 256, 3)\n",
      "(1122,)\n"
     ]
    }
   ],
   "source": [
    "from keras.utils import to_categorical\n",
    "\n",
    "NUM_CLASSES = 1\n",
    "\n",
    "(x_train, y_train), (x_test, y_test) = (X_train, y_train), (X_test,y_test)\n",
    "\n",
    "y_train_ohe = y_train\n",
    "y_test_ohe = y_test\n",
    "\n",
    "print(x_train.shape)\n",
    "print(y_train.shape)\n",
    "print(x_test.shape)\n",
    "print(y_test.shape)"
   ]
  },
  {
   "cell_type": "code",
   "execution_count": 109,
   "metadata": {},
   "outputs": [
    {
     "name": "stdout",
     "output_type": "stream",
     "text": [
      "CPU times: user 12 µs, sys: 0 ns, total: 12 µs\n",
      "Wall time: 28.4 µs\n"
     ]
    },
    {
     "data": {
      "text/plain": [
       "(1, 1, 1, 2048)"
      ]
     },
     "execution_count": 109,
     "metadata": {},
     "output_type": "execute_result"
    }
   ],
   "source": [
    "# connect new layers to the output\n",
    "from keras.applications.resnet50 import ResNet50\n",
    "from keras.applications.resnet50 import preprocess_input, decode_predictions\n",
    "\n",
    "# load only convolutional layers of resnet:\n",
    "if 'res_no_top' not in locals():\n",
    "    res_no_top = ResNet50(weights='imagenet', include_top=False)\n",
    "\n",
    "x = x_train[0]\n",
    "x = np.expand_dims(x, axis=0)\n",
    "x = preprocess_input(x)\n",
    "\n",
    "%time \n",
    "preds = res_no_top.predict(x)\n",
    "preds.shape"
   ]
  },
  {
   "cell_type": "code",
   "execution_count": 110,
   "metadata": {},
   "outputs": [],
   "source": [
    "x_train_up = preprocess_input(x_train)\n",
    "x_test_up = preprocess_input(x_test)"
   ]
  },
  {
   "cell_type": "code",
   "execution_count": 111,
   "metadata": {},
   "outputs": [
    {
     "name": "stdout",
     "output_type": "stream",
     "text": [
      "CPU times: user 1h 20min 47s, sys: 21min 31s, total: 1h 42min 19s\n",
      "Wall time: 15min 30s\n"
     ]
    }
   ],
   "source": [
    "%%time\n",
    "#get the result after passing the image to the resnet to the last conv layer\n",
    "\n",
    "x_train_resnet = res_no_top.predict(x_train_up)\n",
    "x_test_resnet = res_no_top.predict(x_test_up)"
   ]
  },
  {
   "cell_type": "code",
   "execution_count": 112,
   "metadata": {},
   "outputs": [
    {
     "name": "stdout",
     "output_type": "stream",
     "text": [
      "_________________________________________________________________\n",
      "Layer (type)                 Output Shape              Param #   \n",
      "=================================================================\n",
      "input_4 (InputLayer)         (None, 1, 1, 2048)        0         \n",
      "_________________________________________________________________\n",
      "flatten_3 (Flatten)          (None, 2048)              0         \n",
      "_________________________________________________________________\n",
      "dense_1 (Dense)              (None, 200)               409800    \n",
      "_________________________________________________________________\n",
      "dense_2 (Dense)              (None, 200)               40200     \n",
      "_________________________________________________________________\n",
      "dense_3 (Dense)              (None, 1)                 201       \n",
      "=================================================================\n",
      "Total params: 450,201\n",
      "Trainable params: 450,201\n",
      "Non-trainable params: 0\n",
      "_________________________________________________________________\n"
     ]
    }
   ],
   "source": [
    "from keras.layers import SeparableConv2D\n",
    "from keras.layers.normalization import BatchNormalization\n",
    "from keras.layers import Add, Flatten, Dense\n",
    "from keras.layers import average, concatenate\n",
    "from keras.models import Input, Model\n",
    "\n",
    "\n",
    "# let's add a fully-connected layer\n",
    "input_x = Input(shape=x_train_resnet[0].shape)\n",
    "x = Flatten()(input_x)\n",
    "x = Dense(200, activation='relu',kernel_initializer='he_uniform')(x)\n",
    "x = Dense(200, activation='relu',kernel_initializer='he_uniform')(x)\n",
    "# and a fully connected layer \n",
    "predictions = Dense(NUM_CLASSES, activation='sigmoid', kernel_initializer='glorot_uniform')(x)\n",
    "\n",
    "model = Model(inputs=input_x, outputs=predictions)\n",
    "\n",
    "model.summary()\n"
   ]
  },
  {
   "cell_type": "code",
   "execution_count": null,
   "metadata": {},
   "outputs": [],
   "source": [
    "y_train_ohe_resnet = y_train_ohe[:x_train_resnet.shape[0]]\n",
    "\n",
    "model.compile(optimizer='rmsprop', loss='mean_squared_error',metrics=['accuracy'])\n",
    "\n",
    "model.fit(x_train_resnet,y_train_ohe_resnet,epochs=5,\n",
    "          batch_size=64,verbose=1,\n",
    "         validation_data=(x_test_resnet, y_test_ohe[:x_test_resnet.shape[0]]))\n"
   ]
  },
  {
   "cell_type": "code",
   "execution_count": null,
   "metadata": {},
   "outputs": [],
   "source": []
  },
  {
   "cell_type": "markdown",
   "metadata": {},
   "source": [
    "In the code above, we used the weight that is from ResNet 50. However the ResNet was not trained to identify the medical conditions. Here, we will use the ResNet architecture and make all layers trainable."
   ]
  },
  {
   "cell_type": "code",
   "execution_count": null,
   "metadata": {},
   "outputs": [],
   "source": [
    "from keras.applications.resnet50 import ResNet50\n",
    "from keras.applications.resnet50 import preprocess_input, decode_predictions\n",
    "\n",
    "\n",
    "x_train_up = preprocess_input(x_train)\n",
    "x_test_up = preprocess_input(x_test)"
   ]
  },
  {
   "cell_type": "code",
   "execution_count": null,
   "metadata": {},
   "outputs": [
    {
     "name": "stdout",
     "output_type": "stream",
     "text": [
      "__________________________________________________________________________________________________\n",
      "Layer (type)                    Output Shape         Param #     Connected to                     \n",
      "==================================================================================================\n",
      "input_4 (InputLayer)            (None, 256, 256, 3)  0                                            \n",
      "__________________________________________________________________________________________________\n",
      "conv1 (Conv2D)                  (None, 128, 128, 64) 9472        input_4[0][0]                    \n",
      "__________________________________________________________________________________________________\n",
      "bn_conv1 (BatchNormalization)   (None, 128, 128, 64) 256         conv1[0][0]                      \n",
      "__________________________________________________________________________________________________\n",
      "activation_99 (Activation)      (None, 128, 128, 64) 0           bn_conv1[0][0]                   \n",
      "__________________________________________________________________________________________________\n",
      "max_pooling2d_3 (MaxPooling2D)  (None, 63, 63, 64)   0           activation_99[0][0]              \n",
      "__________________________________________________________________________________________________\n",
      "res2a_branch2a (Conv2D)         (None, 63, 63, 64)   4160        max_pooling2d_3[0][0]            \n",
      "__________________________________________________________________________________________________\n",
      "bn2a_branch2a (BatchNormalizati (None, 63, 63, 64)   256         res2a_branch2a[0][0]             \n",
      "__________________________________________________________________________________________________\n",
      "activation_100 (Activation)     (None, 63, 63, 64)   0           bn2a_branch2a[0][0]              \n",
      "__________________________________________________________________________________________________\n",
      "res2a_branch2b (Conv2D)         (None, 63, 63, 64)   36928       activation_100[0][0]             \n",
      "__________________________________________________________________________________________________\n",
      "bn2a_branch2b (BatchNormalizati (None, 63, 63, 64)   256         res2a_branch2b[0][0]             \n",
      "__________________________________________________________________________________________________\n",
      "activation_101 (Activation)     (None, 63, 63, 64)   0           bn2a_branch2b[0][0]              \n",
      "__________________________________________________________________________________________________\n",
      "res2a_branch2c (Conv2D)         (None, 63, 63, 256)  16640       activation_101[0][0]             \n",
      "__________________________________________________________________________________________________\n",
      "res2a_branch1 (Conv2D)          (None, 63, 63, 256)  16640       max_pooling2d_3[0][0]            \n",
      "__________________________________________________________________________________________________\n",
      "bn2a_branch2c (BatchNormalizati (None, 63, 63, 256)  1024        res2a_branch2c[0][0]             \n",
      "__________________________________________________________________________________________________\n",
      "bn2a_branch1 (BatchNormalizatio (None, 63, 63, 256)  1024        res2a_branch1[0][0]              \n",
      "__________________________________________________________________________________________________\n",
      "add_33 (Add)                    (None, 63, 63, 256)  0           bn2a_branch2c[0][0]              \n",
      "                                                                 bn2a_branch1[0][0]               \n",
      "__________________________________________________________________________________________________\n",
      "activation_102 (Activation)     (None, 63, 63, 256)  0           add_33[0][0]                     \n",
      "__________________________________________________________________________________________________\n",
      "res2b_branch2a (Conv2D)         (None, 63, 63, 64)   16448       activation_102[0][0]             \n",
      "__________________________________________________________________________________________________\n",
      "bn2b_branch2a (BatchNormalizati (None, 63, 63, 64)   256         res2b_branch2a[0][0]             \n",
      "__________________________________________________________________________________________________\n",
      "activation_103 (Activation)     (None, 63, 63, 64)   0           bn2b_branch2a[0][0]              \n",
      "__________________________________________________________________________________________________\n",
      "res2b_branch2b (Conv2D)         (None, 63, 63, 64)   36928       activation_103[0][0]             \n",
      "__________________________________________________________________________________________________\n",
      "bn2b_branch2b (BatchNormalizati (None, 63, 63, 64)   256         res2b_branch2b[0][0]             \n",
      "__________________________________________________________________________________________________\n",
      "activation_104 (Activation)     (None, 63, 63, 64)   0           bn2b_branch2b[0][0]              \n",
      "__________________________________________________________________________________________________\n",
      "res2b_branch2c (Conv2D)         (None, 63, 63, 256)  16640       activation_104[0][0]             \n",
      "__________________________________________________________________________________________________\n",
      "bn2b_branch2c (BatchNormalizati (None, 63, 63, 256)  1024        res2b_branch2c[0][0]             \n",
      "__________________________________________________________________________________________________\n",
      "add_34 (Add)                    (None, 63, 63, 256)  0           bn2b_branch2c[0][0]              \n",
      "                                                                 activation_102[0][0]             \n",
      "__________________________________________________________________________________________________\n",
      "activation_105 (Activation)     (None, 63, 63, 256)  0           add_34[0][0]                     \n",
      "__________________________________________________________________________________________________\n",
      "res2c_branch2a (Conv2D)         (None, 63, 63, 64)   16448       activation_105[0][0]             \n",
      "__________________________________________________________________________________________________\n",
      "bn2c_branch2a (BatchNormalizati (None, 63, 63, 64)   256         res2c_branch2a[0][0]             \n",
      "__________________________________________________________________________________________________\n",
      "activation_106 (Activation)     (None, 63, 63, 64)   0           bn2c_branch2a[0][0]              \n",
      "__________________________________________________________________________________________________\n",
      "res2c_branch2b (Conv2D)         (None, 63, 63, 64)   36928       activation_106[0][0]             \n",
      "__________________________________________________________________________________________________\n",
      "bn2c_branch2b (BatchNormalizati (None, 63, 63, 64)   256         res2c_branch2b[0][0]             \n",
      "__________________________________________________________________________________________________\n",
      "activation_107 (Activation)     (None, 63, 63, 64)   0           bn2c_branch2b[0][0]              \n",
      "__________________________________________________________________________________________________\n",
      "res2c_branch2c (Conv2D)         (None, 63, 63, 256)  16640       activation_107[0][0]             \n",
      "__________________________________________________________________________________________________\n",
      "bn2c_branch2c (BatchNormalizati (None, 63, 63, 256)  1024        res2c_branch2c[0][0]             \n",
      "__________________________________________________________________________________________________\n",
      "add_35 (Add)                    (None, 63, 63, 256)  0           bn2c_branch2c[0][0]              \n",
      "                                                                 activation_105[0][0]             \n",
      "__________________________________________________________________________________________________\n",
      "activation_108 (Activation)     (None, 63, 63, 256)  0           add_35[0][0]                     \n",
      "__________________________________________________________________________________________________\n",
      "res3a_branch2a (Conv2D)         (None, 32, 32, 128)  32896       activation_108[0][0]             \n",
      "__________________________________________________________________________________________________\n",
      "bn3a_branch2a (BatchNormalizati (None, 32, 32, 128)  512         res3a_branch2a[0][0]             \n",
      "__________________________________________________________________________________________________\n",
      "activation_109 (Activation)     (None, 32, 32, 128)  0           bn3a_branch2a[0][0]              \n",
      "__________________________________________________________________________________________________\n",
      "res3a_branch2b (Conv2D)         (None, 32, 32, 128)  147584      activation_109[0][0]             \n",
      "__________________________________________________________________________________________________\n",
      "bn3a_branch2b (BatchNormalizati (None, 32, 32, 128)  512         res3a_branch2b[0][0]             \n",
      "__________________________________________________________________________________________________\n",
      "activation_110 (Activation)     (None, 32, 32, 128)  0           bn3a_branch2b[0][0]              \n",
      "__________________________________________________________________________________________________\n",
      "res3a_branch2c (Conv2D)         (None, 32, 32, 512)  66048       activation_110[0][0]             \n",
      "__________________________________________________________________________________________________\n",
      "res3a_branch1 (Conv2D)          (None, 32, 32, 512)  131584      activation_108[0][0]             \n",
      "__________________________________________________________________________________________________\n",
      "bn3a_branch2c (BatchNormalizati (None, 32, 32, 512)  2048        res3a_branch2c[0][0]             \n",
      "__________________________________________________________________________________________________\n",
      "bn3a_branch1 (BatchNormalizatio (None, 32, 32, 512)  2048        res3a_branch1[0][0]              \n",
      "__________________________________________________________________________________________________\n",
      "add_36 (Add)                    (None, 32, 32, 512)  0           bn3a_branch2c[0][0]              \n",
      "                                                                 bn3a_branch1[0][0]               \n",
      "__________________________________________________________________________________________________\n",
      "activation_111 (Activation)     (None, 32, 32, 512)  0           add_36[0][0]                     \n",
      "__________________________________________________________________________________________________\n",
      "res3b_branch2a (Conv2D)         (None, 32, 32, 128)  65664       activation_111[0][0]             \n",
      "__________________________________________________________________________________________________\n",
      "bn3b_branch2a (BatchNormalizati (None, 32, 32, 128)  512         res3b_branch2a[0][0]             \n",
      "__________________________________________________________________________________________________\n",
      "activation_112 (Activation)     (None, 32, 32, 128)  0           bn3b_branch2a[0][0]              \n",
      "__________________________________________________________________________________________________\n",
      "res3b_branch2b (Conv2D)         (None, 32, 32, 128)  147584      activation_112[0][0]             \n",
      "__________________________________________________________________________________________________\n",
      "bn3b_branch2b (BatchNormalizati (None, 32, 32, 128)  512         res3b_branch2b[0][0]             \n",
      "__________________________________________________________________________________________________\n",
      "activation_113 (Activation)     (None, 32, 32, 128)  0           bn3b_branch2b[0][0]              \n",
      "__________________________________________________________________________________________________\n",
      "res3b_branch2c (Conv2D)         (None, 32, 32, 512)  66048       activation_113[0][0]             \n",
      "__________________________________________________________________________________________________\n",
      "bn3b_branch2c (BatchNormalizati (None, 32, 32, 512)  2048        res3b_branch2c[0][0]             \n",
      "__________________________________________________________________________________________________\n",
      "add_37 (Add)                    (None, 32, 32, 512)  0           bn3b_branch2c[0][0]              \n",
      "                                                                 activation_111[0][0]             \n",
      "__________________________________________________________________________________________________\n",
      "activation_114 (Activation)     (None, 32, 32, 512)  0           add_37[0][0]                     \n",
      "__________________________________________________________________________________________________\n",
      "res3c_branch2a (Conv2D)         (None, 32, 32, 128)  65664       activation_114[0][0]             \n",
      "__________________________________________________________________________________________________\n",
      "bn3c_branch2a (BatchNormalizati (None, 32, 32, 128)  512         res3c_branch2a[0][0]             \n",
      "__________________________________________________________________________________________________\n",
      "activation_115 (Activation)     (None, 32, 32, 128)  0           bn3c_branch2a[0][0]              \n",
      "__________________________________________________________________________________________________\n",
      "res3c_branch2b (Conv2D)         (None, 32, 32, 128)  147584      activation_115[0][0]             \n",
      "__________________________________________________________________________________________________\n",
      "bn3c_branch2b (BatchNormalizati (None, 32, 32, 128)  512         res3c_branch2b[0][0]             \n",
      "__________________________________________________________________________________________________\n",
      "activation_116 (Activation)     (None, 32, 32, 128)  0           bn3c_branch2b[0][0]              \n",
      "__________________________________________________________________________________________________\n",
      "res3c_branch2c (Conv2D)         (None, 32, 32, 512)  66048       activation_116[0][0]             \n",
      "__________________________________________________________________________________________________\n",
      "bn3c_branch2c (BatchNormalizati (None, 32, 32, 512)  2048        res3c_branch2c[0][0]             \n",
      "__________________________________________________________________________________________________\n",
      "add_38 (Add)                    (None, 32, 32, 512)  0           bn3c_branch2c[0][0]              \n",
      "                                                                 activation_114[0][0]             \n",
      "__________________________________________________________________________________________________\n",
      "activation_117 (Activation)     (None, 32, 32, 512)  0           add_38[0][0]                     \n",
      "__________________________________________________________________________________________________\n",
      "res3d_branch2a (Conv2D)         (None, 32, 32, 128)  65664       activation_117[0][0]             \n",
      "__________________________________________________________________________________________________\n",
      "bn3d_branch2a (BatchNormalizati (None, 32, 32, 128)  512         res3d_branch2a[0][0]             \n",
      "__________________________________________________________________________________________________\n",
      "activation_118 (Activation)     (None, 32, 32, 128)  0           bn3d_branch2a[0][0]              \n",
      "__________________________________________________________________________________________________\n",
      "res3d_branch2b (Conv2D)         (None, 32, 32, 128)  147584      activation_118[0][0]             \n",
      "__________________________________________________________________________________________________\n",
      "bn3d_branch2b (BatchNormalizati (None, 32, 32, 128)  512         res3d_branch2b[0][0]             \n",
      "__________________________________________________________________________________________________\n",
      "activation_119 (Activation)     (None, 32, 32, 128)  0           bn3d_branch2b[0][0]              \n",
      "__________________________________________________________________________________________________\n",
      "res3d_branch2c (Conv2D)         (None, 32, 32, 512)  66048       activation_119[0][0]             \n",
      "__________________________________________________________________________________________________\n",
      "bn3d_branch2c (BatchNormalizati (None, 32, 32, 512)  2048        res3d_branch2c[0][0]             \n",
      "__________________________________________________________________________________________________\n",
      "add_39 (Add)                    (None, 32, 32, 512)  0           bn3d_branch2c[0][0]              \n",
      "                                                                 activation_117[0][0]             \n",
      "__________________________________________________________________________________________________\n",
      "activation_120 (Activation)     (None, 32, 32, 512)  0           add_39[0][0]                     \n",
      "__________________________________________________________________________________________________\n",
      "res4a_branch2a (Conv2D)         (None, 16, 16, 256)  131328      activation_120[0][0]             \n",
      "__________________________________________________________________________________________________\n",
      "bn4a_branch2a (BatchNormalizati (None, 16, 16, 256)  1024        res4a_branch2a[0][0]             \n",
      "__________________________________________________________________________________________________\n",
      "activation_121 (Activation)     (None, 16, 16, 256)  0           bn4a_branch2a[0][0]              \n",
      "__________________________________________________________________________________________________\n",
      "res4a_branch2b (Conv2D)         (None, 16, 16, 256)  590080      activation_121[0][0]             \n",
      "__________________________________________________________________________________________________\n",
      "bn4a_branch2b (BatchNormalizati (None, 16, 16, 256)  1024        res4a_branch2b[0][0]             \n",
      "__________________________________________________________________________________________________\n",
      "activation_122 (Activation)     (None, 16, 16, 256)  0           bn4a_branch2b[0][0]              \n",
      "__________________________________________________________________________________________________\n",
      "res4a_branch2c (Conv2D)         (None, 16, 16, 1024) 263168      activation_122[0][0]             \n",
      "__________________________________________________________________________________________________\n",
      "res4a_branch1 (Conv2D)          (None, 16, 16, 1024) 525312      activation_120[0][0]             \n",
      "__________________________________________________________________________________________________\n",
      "bn4a_branch2c (BatchNormalizati (None, 16, 16, 1024) 4096        res4a_branch2c[0][0]             \n",
      "__________________________________________________________________________________________________\n",
      "bn4a_branch1 (BatchNormalizatio (None, 16, 16, 1024) 4096        res4a_branch1[0][0]              \n",
      "__________________________________________________________________________________________________\n",
      "add_40 (Add)                    (None, 16, 16, 1024) 0           bn4a_branch2c[0][0]              \n",
      "                                                                 bn4a_branch1[0][0]               \n",
      "__________________________________________________________________________________________________\n",
      "activation_123 (Activation)     (None, 16, 16, 1024) 0           add_40[0][0]                     \n",
      "__________________________________________________________________________________________________\n",
      "res4b_branch2a (Conv2D)         (None, 16, 16, 256)  262400      activation_123[0][0]             \n",
      "__________________________________________________________________________________________________\n",
      "bn4b_branch2a (BatchNormalizati (None, 16, 16, 256)  1024        res4b_branch2a[0][0]             \n",
      "__________________________________________________________________________________________________\n",
      "activation_124 (Activation)     (None, 16, 16, 256)  0           bn4b_branch2a[0][0]              \n",
      "__________________________________________________________________________________________________\n",
      "res4b_branch2b (Conv2D)         (None, 16, 16, 256)  590080      activation_124[0][0]             \n",
      "__________________________________________________________________________________________________\n",
      "bn4b_branch2b (BatchNormalizati (None, 16, 16, 256)  1024        res4b_branch2b[0][0]             \n",
      "__________________________________________________________________________________________________\n",
      "activation_125 (Activation)     (None, 16, 16, 256)  0           bn4b_branch2b[0][0]              \n",
      "__________________________________________________________________________________________________\n",
      "res4b_branch2c (Conv2D)         (None, 16, 16, 1024) 263168      activation_125[0][0]             \n",
      "__________________________________________________________________________________________________\n",
      "bn4b_branch2c (BatchNormalizati (None, 16, 16, 1024) 4096        res4b_branch2c[0][0]             \n",
      "__________________________________________________________________________________________________\n",
      "add_41 (Add)                    (None, 16, 16, 1024) 0           bn4b_branch2c[0][0]              \n",
      "                                                                 activation_123[0][0]             \n",
      "__________________________________________________________________________________________________\n",
      "activation_126 (Activation)     (None, 16, 16, 1024) 0           add_41[0][0]                     \n",
      "__________________________________________________________________________________________________\n",
      "res4c_branch2a (Conv2D)         (None, 16, 16, 256)  262400      activation_126[0][0]             \n",
      "__________________________________________________________________________________________________\n",
      "bn4c_branch2a (BatchNormalizati (None, 16, 16, 256)  1024        res4c_branch2a[0][0]             \n",
      "__________________________________________________________________________________________________\n",
      "activation_127 (Activation)     (None, 16, 16, 256)  0           bn4c_branch2a[0][0]              \n",
      "__________________________________________________________________________________________________\n",
      "res4c_branch2b (Conv2D)         (None, 16, 16, 256)  590080      activation_127[0][0]             \n",
      "__________________________________________________________________________________________________\n",
      "bn4c_branch2b (BatchNormalizati (None, 16, 16, 256)  1024        res4c_branch2b[0][0]             \n",
      "__________________________________________________________________________________________________\n",
      "activation_128 (Activation)     (None, 16, 16, 256)  0           bn4c_branch2b[0][0]              \n",
      "__________________________________________________________________________________________________\n",
      "res4c_branch2c (Conv2D)         (None, 16, 16, 1024) 263168      activation_128[0][0]             \n",
      "__________________________________________________________________________________________________\n",
      "bn4c_branch2c (BatchNormalizati (None, 16, 16, 1024) 4096        res4c_branch2c[0][0]             \n",
      "__________________________________________________________________________________________________\n",
      "add_42 (Add)                    (None, 16, 16, 1024) 0           bn4c_branch2c[0][0]              \n",
      "                                                                 activation_126[0][0]             \n",
      "__________________________________________________________________________________________________\n",
      "activation_129 (Activation)     (None, 16, 16, 1024) 0           add_42[0][0]                     \n",
      "__________________________________________________________________________________________________\n",
      "res4d_branch2a (Conv2D)         (None, 16, 16, 256)  262400      activation_129[0][0]             \n",
      "__________________________________________________________________________________________________\n",
      "bn4d_branch2a (BatchNormalizati (None, 16, 16, 256)  1024        res4d_branch2a[0][0]             \n",
      "__________________________________________________________________________________________________\n",
      "activation_130 (Activation)     (None, 16, 16, 256)  0           bn4d_branch2a[0][0]              \n",
      "__________________________________________________________________________________________________\n",
      "res4d_branch2b (Conv2D)         (None, 16, 16, 256)  590080      activation_130[0][0]             \n",
      "__________________________________________________________________________________________________\n",
      "bn4d_branch2b (BatchNormalizati (None, 16, 16, 256)  1024        res4d_branch2b[0][0]             \n",
      "__________________________________________________________________________________________________\n",
      "activation_131 (Activation)     (None, 16, 16, 256)  0           bn4d_branch2b[0][0]              \n",
      "__________________________________________________________________________________________________\n",
      "res4d_branch2c (Conv2D)         (None, 16, 16, 1024) 263168      activation_131[0][0]             \n",
      "__________________________________________________________________________________________________\n",
      "bn4d_branch2c (BatchNormalizati (None, 16, 16, 1024) 4096        res4d_branch2c[0][0]             \n",
      "__________________________________________________________________________________________________\n",
      "add_43 (Add)                    (None, 16, 16, 1024) 0           bn4d_branch2c[0][0]              \n",
      "                                                                 activation_129[0][0]             \n",
      "__________________________________________________________________________________________________\n",
      "activation_132 (Activation)     (None, 16, 16, 1024) 0           add_43[0][0]                     \n",
      "__________________________________________________________________________________________________\n",
      "res4e_branch2a (Conv2D)         (None, 16, 16, 256)  262400      activation_132[0][0]             \n",
      "__________________________________________________________________________________________________\n",
      "bn4e_branch2a (BatchNormalizati (None, 16, 16, 256)  1024        res4e_branch2a[0][0]             \n",
      "__________________________________________________________________________________________________\n",
      "activation_133 (Activation)     (None, 16, 16, 256)  0           bn4e_branch2a[0][0]              \n",
      "__________________________________________________________________________________________________\n",
      "res4e_branch2b (Conv2D)         (None, 16, 16, 256)  590080      activation_133[0][0]             \n",
      "__________________________________________________________________________________________________\n",
      "bn4e_branch2b (BatchNormalizati (None, 16, 16, 256)  1024        res4e_branch2b[0][0]             \n",
      "__________________________________________________________________________________________________\n",
      "activation_134 (Activation)     (None, 16, 16, 256)  0           bn4e_branch2b[0][0]              \n",
      "__________________________________________________________________________________________________\n",
      "res4e_branch2c (Conv2D)         (None, 16, 16, 1024) 263168      activation_134[0][0]             \n",
      "__________________________________________________________________________________________________\n",
      "bn4e_branch2c (BatchNormalizati (None, 16, 16, 1024) 4096        res4e_branch2c[0][0]             \n",
      "__________________________________________________________________________________________________\n",
      "add_44 (Add)                    (None, 16, 16, 1024) 0           bn4e_branch2c[0][0]              \n",
      "                                                                 activation_132[0][0]             \n",
      "__________________________________________________________________________________________________\n",
      "activation_135 (Activation)     (None, 16, 16, 1024) 0           add_44[0][0]                     \n",
      "__________________________________________________________________________________________________\n",
      "res4f_branch2a (Conv2D)         (None, 16, 16, 256)  262400      activation_135[0][0]             \n",
      "__________________________________________________________________________________________________\n",
      "bn4f_branch2a (BatchNormalizati (None, 16, 16, 256)  1024        res4f_branch2a[0][0]             \n",
      "__________________________________________________________________________________________________\n",
      "activation_136 (Activation)     (None, 16, 16, 256)  0           bn4f_branch2a[0][0]              \n",
      "__________________________________________________________________________________________________\n",
      "res4f_branch2b (Conv2D)         (None, 16, 16, 256)  590080      activation_136[0][0]             \n",
      "__________________________________________________________________________________________________\n",
      "bn4f_branch2b (BatchNormalizati (None, 16, 16, 256)  1024        res4f_branch2b[0][0]             \n",
      "__________________________________________________________________________________________________\n",
      "activation_137 (Activation)     (None, 16, 16, 256)  0           bn4f_branch2b[0][0]              \n",
      "__________________________________________________________________________________________________\n",
      "res4f_branch2c (Conv2D)         (None, 16, 16, 1024) 263168      activation_137[0][0]             \n",
      "__________________________________________________________________________________________________\n",
      "bn4f_branch2c (BatchNormalizati (None, 16, 16, 1024) 4096        res4f_branch2c[0][0]             \n",
      "__________________________________________________________________________________________________\n",
      "add_45 (Add)                    (None, 16, 16, 1024) 0           bn4f_branch2c[0][0]              \n",
      "                                                                 activation_135[0][0]             \n",
      "__________________________________________________________________________________________________\n",
      "activation_138 (Activation)     (None, 16, 16, 1024) 0           add_45[0][0]                     \n",
      "__________________________________________________________________________________________________\n",
      "res5a_branch2a (Conv2D)         (None, 8, 8, 512)    524800      activation_138[0][0]             \n",
      "__________________________________________________________________________________________________\n",
      "bn5a_branch2a (BatchNormalizati (None, 8, 8, 512)    2048        res5a_branch2a[0][0]             \n",
      "__________________________________________________________________________________________________\n",
      "activation_139 (Activation)     (None, 8, 8, 512)    0           bn5a_branch2a[0][0]              \n",
      "__________________________________________________________________________________________________\n",
      "res5a_branch2b (Conv2D)         (None, 8, 8, 512)    2359808     activation_139[0][0]             \n",
      "__________________________________________________________________________________________________\n",
      "bn5a_branch2b (BatchNormalizati (None, 8, 8, 512)    2048        res5a_branch2b[0][0]             \n",
      "__________________________________________________________________________________________________\n",
      "activation_140 (Activation)     (None, 8, 8, 512)    0           bn5a_branch2b[0][0]              \n",
      "__________________________________________________________________________________________________\n",
      "res5a_branch2c (Conv2D)         (None, 8, 8, 2048)   1050624     activation_140[0][0]             \n",
      "__________________________________________________________________________________________________\n",
      "res5a_branch1 (Conv2D)          (None, 8, 8, 2048)   2099200     activation_138[0][0]             \n",
      "__________________________________________________________________________________________________\n",
      "bn5a_branch2c (BatchNormalizati (None, 8, 8, 2048)   8192        res5a_branch2c[0][0]             \n",
      "__________________________________________________________________________________________________\n",
      "bn5a_branch1 (BatchNormalizatio (None, 8, 8, 2048)   8192        res5a_branch1[0][0]              \n",
      "__________________________________________________________________________________________________\n",
      "add_46 (Add)                    (None, 8, 8, 2048)   0           bn5a_branch2c[0][0]              \n",
      "                                                                 bn5a_branch1[0][0]               \n",
      "__________________________________________________________________________________________________\n",
      "activation_141 (Activation)     (None, 8, 8, 2048)   0           add_46[0][0]                     \n",
      "__________________________________________________________________________________________________\n",
      "res5b_branch2a (Conv2D)         (None, 8, 8, 512)    1049088     activation_141[0][0]             \n",
      "__________________________________________________________________________________________________\n",
      "bn5b_branch2a (BatchNormalizati (None, 8, 8, 512)    2048        res5b_branch2a[0][0]             \n",
      "__________________________________________________________________________________________________\n",
      "activation_142 (Activation)     (None, 8, 8, 512)    0           bn5b_branch2a[0][0]              \n",
      "__________________________________________________________________________________________________\n",
      "res5b_branch2b (Conv2D)         (None, 8, 8, 512)    2359808     activation_142[0][0]             \n",
      "__________________________________________________________________________________________________\n",
      "bn5b_branch2b (BatchNormalizati (None, 8, 8, 512)    2048        res5b_branch2b[0][0]             \n",
      "__________________________________________________________________________________________________\n",
      "activation_143 (Activation)     (None, 8, 8, 512)    0           bn5b_branch2b[0][0]              \n",
      "__________________________________________________________________________________________________\n",
      "res5b_branch2c (Conv2D)         (None, 8, 8, 2048)   1050624     activation_143[0][0]             \n",
      "__________________________________________________________________________________________________\n",
      "bn5b_branch2c (BatchNormalizati (None, 8, 8, 2048)   8192        res5b_branch2c[0][0]             \n",
      "__________________________________________________________________________________________________\n",
      "add_47 (Add)                    (None, 8, 8, 2048)   0           bn5b_branch2c[0][0]              \n",
      "                                                                 activation_141[0][0]             \n",
      "__________________________________________________________________________________________________\n",
      "activation_144 (Activation)     (None, 8, 8, 2048)   0           add_47[0][0]                     \n",
      "__________________________________________________________________________________________________\n",
      "res5c_branch2a (Conv2D)         (None, 8, 8, 512)    1049088     activation_144[0][0]             \n",
      "__________________________________________________________________________________________________\n",
      "bn5c_branch2a (BatchNormalizati (None, 8, 8, 512)    2048        res5c_branch2a[0][0]             \n",
      "__________________________________________________________________________________________________\n",
      "activation_145 (Activation)     (None, 8, 8, 512)    0           bn5c_branch2a[0][0]              \n",
      "__________________________________________________________________________________________________\n",
      "res5c_branch2b (Conv2D)         (None, 8, 8, 512)    2359808     activation_145[0][0]             \n",
      "__________________________________________________________________________________________________\n",
      "bn5c_branch2b (BatchNormalizati (None, 8, 8, 512)    2048        res5c_branch2b[0][0]             \n",
      "__________________________________________________________________________________________________\n",
      "activation_146 (Activation)     (None, 8, 8, 512)    0           bn5c_branch2b[0][0]              \n",
      "__________________________________________________________________________________________________\n",
      "res5c_branch2c (Conv2D)         (None, 8, 8, 2048)   1050624     activation_146[0][0]             \n",
      "__________________________________________________________________________________________________\n",
      "bn5c_branch2c (BatchNormalizati (None, 8, 8, 2048)   8192        res5c_branch2c[0][0]             \n",
      "__________________________________________________________________________________________________\n",
      "add_48 (Add)                    (None, 8, 8, 2048)   0           bn5c_branch2c[0][0]              \n",
      "                                                                 activation_144[0][0]             \n",
      "__________________________________________________________________________________________________\n",
      "activation_147 (Activation)     (None, 8, 8, 2048)   0           add_48[0][0]                     \n",
      "__________________________________________________________________________________________________\n",
      "avg_pool (AveragePooling2D)     (None, 1, 1, 2048)   0           activation_147[0][0]             \n",
      "__________________________________________________________________________________________________\n",
      "flatten_3 (Flatten)             (None, 2048)         0           avg_pool[0][0]                   \n",
      "__________________________________________________________________________________________________\n",
      "dense_4 (Dense)                 (None, 200)          409800      flatten_3[0][0]                  \n",
      "__________________________________________________________________________________________________\n",
      "dense_5 (Dense)                 (None, 200)          40200       dense_4[0][0]                    \n",
      "__________________________________________________________________________________________________\n",
      "dense_6 (Dense)                 (None, 1)            201         dense_5[0][0]                    \n",
      "==================================================================================================\n",
      "Total params: 24,037,913\n",
      "Trainable params: 23,984,793\n",
      "Non-trainable params: 53,120\n",
      "__________________________________________________________________________________________________\n"
     ]
    },
    {
     "name": "stderr",
     "output_type": "stream",
     "text": [
      "/hpc/applications/anaconda/3/lib/python3.6/site-packages/ipykernel_launcher.py:17: UserWarning: Update your `Model` call to the Keras 2 API: `Model(inputs=Tensor(\"in..., outputs=Tensor(\"de...)`\n"
     ]
    }
   ],
   "source": [
    "model = ResNet50(weights='imagenet', include_top=False,input_shape=(256, 256, 3))\n",
    "# Freeze the layers which you don't want to train. Here I am freezing the all layers.\n",
    "for layer in model.layers[:]:\n",
    "    layer.trainable = True\n",
    "\n",
    "# Adding custom Layer\n",
    "# We only add\n",
    "x = model.output\n",
    "x = Flatten()(x)\n",
    "x = Dense(200, activation='relu',kernel_initializer='he_uniform')(x)\n",
    "x = Dense(200, activation='relu',kernel_initializer='he_uniform')(x)\n",
    "# and a fully connected layer \n",
    "predictions = Dense(1, activation='sigmoid', kernel_initializer='glorot_uniform')(x)\n",
    "\n",
    "\n",
    "# creating the final model \n",
    "model_final = Model(input = model.input, output = predictions)\n",
    "\n",
    "# compile the model \n",
    "model_final.compile(optimizer='rmsprop', loss='mean_squared_error',metrics=['accuracy'])\n",
    "\n",
    "model_final.summary()"
   ]
  },
  {
   "cell_type": "code",
   "execution_count": null,
   "metadata": {},
   "outputs": [
    {
     "name": "stdout",
     "output_type": "stream",
     "text": [
      "Train on 4484 samples, validate on 1122 samples\n",
      "Epoch 1/5\n",
      "4484/4484 [==============================] - 5711s 1s/step - loss: 0.3123 - acc: 0.5346 - val_loss: 0.2864 - val_acc: 0.4572\n",
      "Epoch 2/5\n",
      "4484/4484 [==============================] - 5716s 1s/step - loss: 0.2566 - acc: 0.5511 - val_loss: 0.4343 - val_acc: 0.5428\n",
      "Epoch 3/5\n",
      "3456/4484 [======================>.......] - ETA: 21:00 - loss: 0.2489 - acc: 0.5359"
     ]
    }
   ],
   "source": [
    "y_train_ohe_resnet = y_train_ohe[:x_train_up.shape[0]]\n",
    "\n",
    "\n",
    "model_final.fit(x_train_up,y_train_ohe_resnet,epochs=5,\n",
    "          batch_size=64,verbose=1,\n",
    "         validation_data=(x_test_up, y_test_ohe[:x_test_up.shape[0]]))"
   ]
  }
 ],
 "metadata": {
  "kernelspec": {
   "display_name": "Python 3",
   "language": "python",
   "name": "python3"
  },
  "language_info": {
   "codemirror_mode": {
    "name": "ipython",
    "version": 3
   },
   "file_extension": ".py",
   "mimetype": "text/x-python",
   "name": "python",
   "nbconvert_exporter": "python",
   "pygments_lexer": "ipython3",
   "version": "3.6.7"
  }
 },
 "nbformat": 4,
 "nbformat_minor": 2
}
