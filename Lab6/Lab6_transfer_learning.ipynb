{
 "cells": [
  {
   "cell_type": "code",
   "execution_count": 113,
   "metadata": {},
   "outputs": [],
   "source": [
    "from __future__ import print_function\n",
    "import numpy as np\n",
    "import PIL.Image as Image\n",
    "import cv2\n",
    "import pandas as pd\n",
    "import matplotlib.pyplot as plt\n",
    "from IPython.display import clear_output\n",
    "import time"
   ]
  },
  {
   "cell_type": "code",
   "execution_count": 114,
   "metadata": {},
   "outputs": [
    {
     "data": {
      "text/plain": [
       "<pandas.core.groupby.DataFrameGroupBy object at 0x7ffe8aae3e48>"
      ]
     },
     "execution_count": 114,
     "metadata": {},
     "output_type": "execute_result"
    }
   ],
   "source": [
    "file_path = '/users/jamesthomas/MachineLearning_Python/Lab2/images/resize/thumb/'\n",
    "file_path_2 = '/users/jamesthomas/MachineLearning_Python/Lab2/'\n",
    "\n",
    "df = pd.read_csv(file_path_2+'male_PA_single_disease.csv')\n",
    "new_df = df[['Image Index','Finding Labels']]\n",
    "new_df.groupby(['Finding Labels'])"
   ]
  },
  {
   "cell_type": "code",
   "execution_count": 115,
   "metadata": {},
   "outputs": [
    {
     "data": {
      "text/html": [
       "<div>\n",
       "<style scoped>\n",
       "    .dataframe tbody tr th:only-of-type {\n",
       "        vertical-align: middle;\n",
       "    }\n",
       "\n",
       "    .dataframe tbody tr th {\n",
       "        vertical-align: top;\n",
       "    }\n",
       "\n",
       "    .dataframe thead th {\n",
       "        text-align: right;\n",
       "    }\n",
       "</style>\n",
       "<table border=\"1\" class=\"dataframe\">\n",
       "  <thead>\n",
       "    <tr style=\"text-align: right;\">\n",
       "      <th></th>\n",
       "      <th>Image Index</th>\n",
       "      <th>Finding Labels</th>\n",
       "      <th>Follow-up #</th>\n",
       "      <th>Patient ID</th>\n",
       "      <th>Patient Age</th>\n",
       "      <th>Patient Gender</th>\n",
       "      <th>View Position</th>\n",
       "      <th>OriginalImageWidth</th>\n",
       "      <th>OriginalImageHeight</th>\n",
       "      <th>OriginalImagePixelSpacing_x</th>\n",
       "      <th>OriginalImagePixelSpacing_y</th>\n",
       "    </tr>\n",
       "  </thead>\n",
       "  <tbody>\n",
       "    <tr>\n",
       "      <th>0</th>\n",
       "      <td>00000030_001.png</td>\n",
       "      <td>Atelectasis</td>\n",
       "      <td>1</td>\n",
       "      <td>30</td>\n",
       "      <td>079Y</td>\n",
       "      <td>M</td>\n",
       "      <td>PA</td>\n",
       "      <td>2992</td>\n",
       "      <td>2991</td>\n",
       "      <td>0.143</td>\n",
       "      <td>0.143</td>\n",
       "    </tr>\n",
       "    <tr>\n",
       "      <th>1</th>\n",
       "      <td>00000061_002.png</td>\n",
       "      <td>Effusion</td>\n",
       "      <td>2</td>\n",
       "      <td>61</td>\n",
       "      <td>077Y</td>\n",
       "      <td>M</td>\n",
       "      <td>PA</td>\n",
       "      <td>2992</td>\n",
       "      <td>2991</td>\n",
       "      <td>0.143</td>\n",
       "      <td>0.143</td>\n",
       "    </tr>\n",
       "    <tr>\n",
       "      <th>2</th>\n",
       "      <td>00000079_000.png</td>\n",
       "      <td>Mass</td>\n",
       "      <td>0</td>\n",
       "      <td>79</td>\n",
       "      <td>063Y</td>\n",
       "      <td>M</td>\n",
       "      <td>PA</td>\n",
       "      <td>2500</td>\n",
       "      <td>2048</td>\n",
       "      <td>0.168</td>\n",
       "      <td>0.168</td>\n",
       "    </tr>\n",
       "    <tr>\n",
       "      <th>3</th>\n",
       "      <td>00000118_011.png</td>\n",
       "      <td>Pneumothorax</td>\n",
       "      <td>11</td>\n",
       "      <td>118</td>\n",
       "      <td>073Y</td>\n",
       "      <td>M</td>\n",
       "      <td>PA</td>\n",
       "      <td>2774</td>\n",
       "      <td>2991</td>\n",
       "      <td>0.143</td>\n",
       "      <td>0.143</td>\n",
       "    </tr>\n",
       "    <tr>\n",
       "      <th>4</th>\n",
       "      <td>00000165_008.png</td>\n",
       "      <td>No Finding</td>\n",
       "      <td>8</td>\n",
       "      <td>165</td>\n",
       "      <td>078Y</td>\n",
       "      <td>M</td>\n",
       "      <td>PA</td>\n",
       "      <td>2940</td>\n",
       "      <td>2900</td>\n",
       "      <td>0.143</td>\n",
       "      <td>0.143</td>\n",
       "    </tr>\n",
       "  </tbody>\n",
       "</table>\n",
       "</div>"
      ],
      "text/plain": [
       "        Image Index Finding Labels  Follow-up #  Patient ID Patient Age  \\\n",
       "0  00000030_001.png    Atelectasis            1          30        079Y   \n",
       "1  00000061_002.png       Effusion            2          61        077Y   \n",
       "2  00000079_000.png           Mass            0          79        063Y   \n",
       "3  00000118_011.png   Pneumothorax           11         118        073Y   \n",
       "4  00000165_008.png     No Finding            8         165        078Y   \n",
       "\n",
       "  Patient Gender View Position  OriginalImageWidth  OriginalImageHeight  \\\n",
       "0              M            PA                2992                 2991   \n",
       "1              M            PA                2992                 2991   \n",
       "2              M            PA                2500                 2048   \n",
       "3              M            PA                2774                 2991   \n",
       "4              M            PA                2940                 2900   \n",
       "\n",
       "   OriginalImagePixelSpacing_x  OriginalImagePixelSpacing_y  \n",
       "0                        0.143                        0.143  \n",
       "1                        0.143                        0.143  \n",
       "2                        0.168                        0.168  \n",
       "3                        0.143                        0.143  \n",
       "4                        0.143                        0.143  "
      ]
     },
     "execution_count": 115,
     "metadata": {},
     "output_type": "execute_result"
    }
   ],
   "source": [
    "df.head()"
   ]
  },
  {
   "cell_type": "code",
   "execution_count": 116,
   "metadata": {},
   "outputs": [
    {
     "data": {
      "text/plain": [
       "Hernia                   2\n",
       "Pneumonia                5\n",
       "Fibrosis                16\n",
       "Edema                    1\n",
       "Emphysema               17\n",
       "Cardiomegaly            14\n",
       "Pleural_Thickening      27\n",
       "Consolidation           10\n",
       "Pneumothorax            25\n",
       "Mass                    39\n",
       "Nodule                  48\n",
       "Atelectasis             71\n",
       "Effusion                58\n",
       "Infiltration           147\n",
       "No Finding            1082\n",
       "dtype: int64"
      ]
     },
     "execution_count": 116,
     "metadata": {},
     "output_type": "execute_result"
    }
   ],
   "source": [
    "# check if the frame contains 'No Finding' True if the patient was sick, False if not\n",
    "y_sick = ~df['Finding Labels'].str.contains('No Finding')\n",
    "\n",
    "# now check for pneumonia, True if patient has pneumonia, False else\n",
    "y_pneumonia = df['Finding Labels'].str.contains('Pneumonia')\n",
    "\n",
    "\n",
    "# now make target for all diseases\n",
    "\n",
    "disease_list = ['Hernia', 'Pneumonia', 'Fibrosis', 'Edema', 'Emphysema', 'Cardiomegaly', 'Pleural_Thickening',\n",
    "                'Consolidation', 'Pneumothorax', 'Mass', 'Nodule', 'Atelectasis', 'Effusion', 'Infiltration', 'No Finding']\n",
    "\n",
    "def disease_to_list(string, full_results = disease_list):\n",
    "    '''Function to generate a list of the different diseases each patient has\n",
    "    Inputs\n",
    "    string: the string containing the diseases, ie df['Finding Labels']\n",
    "    full_results: the list of all possible diseases used for the indices in the resulting list\n",
    "    Returns\n",
    "    list: a list with False if the patient didn't have the disease and True if the patient did. Indices based on full_results\n",
    "    '''\n",
    "    diseases = string.split('|')\n",
    "    result = [False]*len(full_results)\n",
    "    \n",
    "    for d in diseases:\n",
    "        result[full_results.index(d)] = True\n",
    "    return result\n",
    "\n",
    "y_all_l = df['Finding Labels'].apply(disease_to_list) # series version of .apply(). This returns a pd.series of lists\n",
    "y_all = pd.DataFrame(y_all_l.tolist(), columns = disease_list) # convert to a pd.dataframe\n",
    "\n",
    "# now check that the totals match kaggle https://www.kaggle.com/nih-chest-xrays/sample\n",
    "y_all.sum(axis=0)"
   ]
  },
  {
   "cell_type": "code",
   "execution_count": 117,
   "metadata": {},
   "outputs": [],
   "source": [
    "from sklearn.model_selection import train_test_split\n",
    "\n",
    "dat_train, dat_test, y_train, y_test = train_test_split(df, y_sick, test_size=0.2, random_state=42, stratify=y_pneumonia)"
   ]
  },
  {
   "cell_type": "code",
   "execution_count": 118,
   "metadata": {},
   "outputs": [
    {
     "name": "stdout",
     "output_type": "stream",
     "text": [
      "working on train 1248, 00024040_000.png, 15.12\n"
     ]
    },
    {
     "data": {
      "image/png": "[encoded data removed]",
      "text/plain": [
       "<PIL.PngImagePlugin.PngImageFile image mode=L size=256x256 at 0x7FFE8A0EEB70>"
      ]
     },
     "metadata": {},
     "output_type": "display_data"
    }
   ],
   "source": [
    "X_test = np.empty([len(dat_test), size, size, 1], dtype=np.float32) # preallocate\n",
    "X_train = np.empty([len(dat_train), size, size, 1], dtype=np.float32) # num_images, img_width, img_height, num_channels\n",
    "\n",
    "X_test[:,:,:,0]=1\n",
    "X_train[:,:,:,0]=1\n",
    "\n",
    "index = 0\n",
    "t_start = time.time()\n",
    "for name in dat_test['Image Index']:\n",
    "    clear_output(wait=True)\n",
    "    print('working on test {}, {}, {:.2f}'.format(index, name, time.time()-t_start))\n",
    "    img = Image.open(file_path+name)\n",
    "    display(img)\n",
    "    X_test[index,:,:,0] = np.array(img)/255.0-0.5\n",
    "    index+=1\n",
    "\n",
    "index = 0\n",
    "t_start = time.time()\n",
    "for name in dat_train['Image Index']:\n",
    "    clear_output(wait=True)\n",
    "    print('working on train {}, {}, {:.2f}'.format(index, name, time.time()-t_start))\n",
    "    img = Image.open(file_path+name)\n",
    "    display(img)\n",
    "    X_train[index,:,:,0] = np.array(img)/255.5-0.5\n",
    "    index+=1"
   ]
  },
  {
   "cell_type": "code",
   "execution_count": 119,
   "metadata": {},
   "outputs": [],
   "source": [
    "# the datagen \n",
    "# from class: https://github.com/eclarson/MachineLearningNotebooks/blob/master/12.%20More%20Advanced%20CNN%20Techniques.ipynb\n",
    "from keras.preprocessing.image import ImageDataGenerator\n",
    "\n",
    "datagen = ImageDataGenerator(featurewise_center=False,\n",
    "    samplewise_center=False,\n",
    "    featurewise_std_normalization=False,\n",
    "    samplewise_std_normalization=False,\n",
    "    zca_whitening=False,\n",
    "    rotation_range=5, # used, Int. Degree range for random rotations.\n",
    "    width_shift_range=0.1, # used, Float (fraction of total width). Range for random horizontal shifts.\n",
    "    height_shift_range=0.1, # used,  Float (fraction of total height). Range for random vertical shifts.\n",
    "    shear_range=0., # Float. Shear Intensity (Shear angle in counter-clockwise direction as radians)\n",
    "    zoom_range=0.,\n",
    "    channel_shift_range=0.,\n",
    "    fill_mode='nearest',\n",
    "    cval=0.,\n",
    "    horizontal_flip=True,\n",
    "    vertical_flip=False,\n",
    "    rescale=None)"
   ]
  },
  {
   "cell_type": "code",
   "execution_count": 120,
   "metadata": {},
   "outputs": [
    {
     "name": "stdout",
     "output_type": "stream",
     "text": [
      "_________________________________________________________________\n",
      "Layer (type)                 Output Shape              Param #   \n",
      "=================================================================\n",
      "input_11 (InputLayer)        (None, 256, 256, 1)       0         \n",
      "_________________________________________________________________\n",
      "conv2d_5 (Conv2D)            (None, 254, 254, 32)      320       \n",
      "_________________________________________________________________\n",
      "max_pooling2d_10 (MaxPooling (None, 127, 127, 32)      0         \n",
      "_________________________________________________________________\n",
      "conv2d_6 (Conv2D)            (None, 125, 125, 16)      4624      \n",
      "_________________________________________________________________\n",
      "max_pooling2d_11 (MaxPooling (None, 62, 62, 16)        0         \n",
      "_________________________________________________________________\n",
      "conv2d_7 (Conv2D)            (None, 60, 60, 16)        2320      \n",
      "_________________________________________________________________\n",
      "max_pooling2d_12 (MaxPooling (None, 30, 30, 16)        0         \n",
      "_________________________________________________________________\n",
      "conv2d_8 (Conv2D)            (None, 28, 28, 16)        2320      \n",
      "_________________________________________________________________\n",
      "max_pooling2d_13 (MaxPooling (None, 14, 14, 16)        0         \n",
      "_________________________________________________________________\n",
      "final_conv (Conv2D)          (None, 12, 12, 1)         145       \n",
      "_________________________________________________________________\n",
      "max_pooling2d_14 (MaxPooling (None, 6, 6, 1)           0         \n",
      "_________________________________________________________________\n",
      "flatten_10 (Flatten)         (None, 36)                0         \n",
      "_________________________________________________________________\n",
      "dense_21 (Dense)             (None, 20)                740       \n",
      "_________________________________________________________________\n",
      "dense_22 (Dense)             (None, 10)                210       \n",
      "_________________________________________________________________\n",
      "dense_23 (Dense)             (None, 1)                 11        \n",
      "=================================================================\n",
      "Total params: 10,690\n",
      "Trainable params: 10,690\n",
      "Non-trainable params: 0\n",
      "_________________________________________________________________\n",
      "None\n"
     ]
    }
   ],
   "source": [
    "# Convolutional Neural Network\n",
    "from keras.utils import plot_model\n",
    "from keras.models import Model\n",
    "from keras.layers import Input, Dense, Flatten\n",
    "from keras.layers.convolutional import Conv2D\n",
    "from keras.layers.pooling import MaxPooling2D\n",
    "\n",
    "visible = Input(shape=(size,size,1))\n",
    "\n",
    "conv1 = Conv2D(32, kernel_size=3, activation='relu')(visible)\n",
    "pool1 = MaxPooling2D(pool_size=(2, 2))(conv1)\n",
    "\n",
    "conv2 = Conv2D(16, kernel_size=3, activation='relu')(pool1)\n",
    "pool2 = MaxPooling2D(pool_size=(2, 2))(conv2)\n",
    "\n",
    "conv3 = Conv2D(16, kernel_size=3, activation='relu')(pool2)\n",
    "pool3 = MaxPooling2D(pool_size=(2, 2))(conv3)\n",
    "\n",
    "conv4 = Conv2D(16, kernel_size=3, activation='relu')(pool3)\n",
    "pool4 = MaxPooling2D(pool_size=(2, 2))(conv4)\n",
    "\n",
    "conv5 = Conv2D(1, kernel_size=3, activation='relu',name='final_conv')(pool4)\n",
    "pool5 = MaxPooling2D(pool_size=(2, 2))(conv5)\n",
    "\n",
    "flat = Flatten()(pool5)\n",
    "hidden1 = Dense(20, activation='relu')(flat)\n",
    "hidden2 = Dense(10, activation='relu')(hidden1)\n",
    "output = Dense(1, activation='sigmoid')(hidden2)\n",
    "\n",
    "model = Model(inputs=visible, outputs=output)\n",
    "# summarize layers\n",
    "print(model.summary())"
   ]
  },
  {
   "cell_type": "code",
   "execution_count": 121,
   "metadata": {},
   "outputs": [
    {
     "name": "stdout",
     "output_type": "stream",
     "text": [
      "(1249,)\n",
      "(313,)\n",
      "Epoch 1/5\n",
      "39/39 [==============================] - 44s 1s/step - loss: 0.6508 - acc: 0.6711 - val_loss: 0.6197 - val_acc: 0.6965\n",
      "Epoch 2/5\n",
      "39/39 [==============================] - 19s 477ms/step - loss: 0.6128 - acc: 0.6969 - val_loss: 0.6147 - val_acc: 0.6965\n",
      "Epoch 3/5\n",
      "39/39 [==============================] - 19s 475ms/step - loss: 0.6019 - acc: 0.6993 - val_loss: 0.7740 - val_acc: 0.6965\n",
      "Epoch 4/5\n",
      "39/39 [==============================] - 19s 479ms/step - loss: 0.6173 - acc: 0.6977 - val_loss: 0.6149 - val_acc: 0.6965\n",
      "Epoch 5/5\n",
      "39/39 [==============================] - 20s 516ms/step - loss: 0.6115 - acc: 0.6985 - val_loss: 0.6181 - val_acc: 0.6965\n"
     ]
    },
    {
     "data": {
      "text/plain": [
       "<keras.callbacks.History at 0x7ffe8a5a66d8>"
      ]
     },
     "execution_count": 121,
     "metadata": {},
     "output_type": "execute_result"
    }
   ],
   "source": [
    "from keras.utils import to_categorical\n",
    "import tensorflow as tf\n",
    "#print(y_train.shape)\n",
    "#print(y_test.shape)\n",
    "#y_train = to_categorical(y_train)\n",
    "#y_test = to_categorical(y_test)\n",
    "print(y_train.shape)\n",
    "print(y_test.shape)\n",
    "\n",
    "model.compile(loss='binary_crossentropy',\n",
    "              optimizer='rmsprop',\n",
    "              metrics=['accuracy'])\n",
    "\n",
    "\n",
    "model.fit_generator(datagen.flow(X_train, y_train, batch_size=32), \n",
    "                        steps_per_epoch=int(len(X_train)/32), # how many generators to go through per epoch\n",
    "                        epochs=5, verbose=1,\n",
    "                        validation_data=(X_test,y_test)\n",
    "                        )"
   ]
  },
  {
   "cell_type": "code",
   "execution_count": 142,
   "metadata": {},
   "outputs": [],
   "source": [
    "heat_map_model = Model(inputs=model.input, outputs=model.get_layer('final_conv').output)\n",
    "\n",
    "heat_map_data = heat_map_model.predict(X_train)"
   ]
  },
  {
   "cell_type": "code",
   "execution_count": 143,
   "metadata": {},
   "outputs": [
    {
     "name": "stderr",
     "output_type": "stream",
     "text": [
      "/hpc/applications/anaconda/3/lib/python3.6/site-packages/ipykernel_launcher.py:1: DeprecationWarning: `imresize` is deprecated!\n",
      "`imresize` is deprecated in SciPy 1.0.0, and will be removed in 1.3.0.\n",
      "Use Pillow instead: ``numpy.array(Image.fromarray(arr).resize())``.\n",
      "  \"\"\"Entry point for launching an IPython kernel.\n"
     ]
    },
    {
     "name": "stdout",
     "output_type": "stream",
     "text": [
      "(1249, 256, 256)\n"
     ]
    }
   ],
   "source": [
    "heat_map_data = np.array([imresize(np.reshape(x,(12,12)), size=(256,256), interp='nearest') for x in heat_map_data])\n",
    "print(heat_map_data.shape)"
   ]
  },
  {
   "cell_type": "code",
   "execution_count": 150,
   "metadata": {},
   "outputs": [
    {
     "data": {
      "image/png": "[encoded data removed]",
      "text/plain": [
       "<Figure size 432x288 with 1 Axes>"
      ]
     },
     "metadata": {
      "needs_background": "light"
     },
     "output_type": "display_data"
    }
   ],
   "source": [
    "data = heat_map_data[0]\n",
    "import matplotlib.pyplot as plt\n",
    "\n",
    "plt.imshow(data, cmap='hot', interpolation='nearest')\n",
    "plt.show()"
   ]
  },
  {
   "cell_type": "code",
   "execution_count": null,
   "metadata": {},
   "outputs": [],
   "source": []
  },
  {
   "cell_type": "code",
   "execution_count": null,
   "metadata": {},
   "outputs": [],
   "source": []
  },
  {
   "cell_type": "code",
   "execution_count": 23,
   "metadata": {},
   "outputs": [],
   "source": [
    "import gc\n",
    "import keras.backend as K\n",
    "\n",
    "model = None\n",
    "gc.collect()\n",
    "K.clear_session()"
   ]
  },
  {
   "cell_type": "markdown",
   "metadata": {},
   "source": [
    "The following part is for transfer learning.\n",
    "\n",
    "Notice that X_train, X_test are for original image, x_train, x_test are for transfer learning."
   ]
  },
  {
   "cell_type": "code",
   "execution_count": 96,
   "metadata": {},
   "outputs": [
    {
     "name": "stdout",
     "output_type": "stream",
     "text": [
      "working on train 1248, 00024040_000.png, 4.71\n"
     ]
    }
   ],
   "source": [
    "#reload the images, using three channels\n",
    "X_test = np.empty([len(dat_test), size, size, 3], dtype=np.float32) # preallocate\n",
    "X_train = np.empty([len(dat_train), size, size, 3], dtype=np.float32) # num_images, img_width, img_height, num_channels\n",
    "\n",
    "X_test[:,:,:,0]=1\n",
    "X_train[:,:,:,0]=1\n",
    "\n",
    "index = 0\n",
    "t_start = time.time()\n",
    "for name in dat_test['Image Index']:\n",
    "    clear_output(wait=True)\n",
    "    print('working on test {}, {}, {:.2f}'.format(index, name, time.time()-t_start))\n",
    "    img = keras.preprocessing.image.load_img(file_path+name, grayscale = False)\n",
    "    #display(img)\n",
    "    X_test[index,:,:,:] = np.array(img)/255.0-0.5\n",
    "    index+=1\n",
    "\n",
    "index = 0\n",
    "t_start = time.time()\n",
    "for name in dat_train['Image Index']:\n",
    "    clear_output(wait=True)\n",
    "    print('working on train {}, {}, {:.2f}'.format(index, name, time.time()-t_start))\n",
    "    img = keras.preprocessing.image.load_img(file_path+name, grayscale = False)\n",
    "    #display(img)\n",
    "    X_train[index,:,:,:] = np.array(img)/255.5-0.5\n",
    "    index+=1"
   ]
  },
  {
   "cell_type": "code",
   "execution_count": 94,
   "metadata": {},
   "outputs": [],
   "source": [
    "from keras.applications.resnet50 import ResNet50\n",
    "from keras.preprocessing import image\n",
    "from keras.applications.resnet50 import preprocess_input, decode_predictions\n",
    "import numpy as np\n",
    "\n",
    "res_model = ResNet50(weights='imagenet')"
   ]
  },
  {
   "cell_type": "code",
   "execution_count": 97,
   "metadata": {},
   "outputs": [
    {
     "name": "stdout",
     "output_type": "stream",
     "text": [
      "(1249, 256, 256, 3)\n",
      "(1249,)\n",
      "(313, 256, 256, 3)\n",
      "(313,)\n"
     ]
    }
   ],
   "source": [
    "from keras.utils import to_categorical\n",
    "\n",
    "NUM_CLASSES = 1\n",
    "\n",
    "(x_train, y_train), (x_test, y_test) = (X_train, y_train), (X_test,y_test)\n",
    "\n",
    "y_train_ohe = y_train\n",
    "y_test_ohe = y_test\n",
    "\n",
    "print(x_train.shape)\n",
    "print(y_train.shape)\n",
    "print(x_test.shape)\n",
    "print(y_test.shape)"
   ]
  },
  {
   "cell_type": "code",
   "execution_count": 98,
   "metadata": {},
   "outputs": [
    {
     "name": "stderr",
     "output_type": "stream",
     "text": [
      "/hpc/applications/anaconda/3/lib/python3.6/site-packages/ipykernel_launcher.py:5: DeprecationWarning: `imresize` is deprecated!\n",
      "`imresize` is deprecated in SciPy 1.0.0, and will be removed in 1.3.0.\n",
      "Use Pillow instead: ``numpy.array(Image.fromarray(arr).resize())``.\n",
      "  \"\"\"\n"
     ]
    },
    {
     "name": "stdout",
     "output_type": "stream",
     "text": [
      "(1249, 256, 256, 3)\n"
     ]
    },
    {
     "name": "stderr",
     "output_type": "stream",
     "text": [
      "/hpc/applications/anaconda/3/lib/python3.6/site-packages/ipykernel_launcher.py:9: DeprecationWarning: `imresize` is deprecated!\n",
      "`imresize` is deprecated in SciPy 1.0.0, and will be removed in 1.3.0.\n",
      "Use Pillow instead: ``numpy.array(Image.fromarray(arr).resize())``.\n",
      "  if __name__ == '__main__':\n"
     ]
    },
    {
     "name": "stdout",
     "output_type": "stream",
     "text": [
      "(313, 256, 256, 3)\n",
      "CPU times: user 1.49 s, sys: 137 ms, total: 1.63 s\n",
      "Wall time: 1.85 s\n"
     ]
    }
   ],
   "source": [
    "%%time\n",
    "# from skimage.transform import resize # stupid slow function\n",
    "from scipy.misc import imresize\n",
    "import numpy as np\n",
    "\n",
    "x_train_up = [imresize(x, size=(256,256,3), interp='nearest') for x in x_train]\n",
    "x_train_up = np.stack(x_train_up, axis=0)\n",
    "print(x_train_up.shape)\n",
    "\n",
    "x_test_up = [imresize(x, size=(256,256,3), interp='nearest') for x in x_test]\n",
    "x_test_up = np.stack(x_test_up, axis=0)\n",
    "print(x_test_up.shape)"
   ]
  },
  {
   "cell_type": "code",
   "execution_count": 99,
   "metadata": {},
   "outputs": [
    {
     "name": "stdout",
     "output_type": "stream",
     "text": [
      "CPU times: user 8 µs, sys: 3 µs, total: 11 µs\n",
      "Wall time: 21 µs\n"
     ]
    },
    {
     "data": {
      "text/plain": [
       "(1, 1, 1, 2048)"
      ]
     },
     "execution_count": 99,
     "metadata": {},
     "output_type": "execute_result"
    }
   ],
   "source": [
    "# connect new layers to the output\n",
    "from keras.applications.resnet50 import ResNet50\n",
    "from keras.applications.resnet50 import preprocess_input, decode_predictions\n",
    "\n",
    "# load only convolutional layers of resnet:\n",
    "if 'res_no_top' not in locals():\n",
    "    res_no_top = ResNet50(weights='imagenet', include_top=False)\n",
    "\n",
    "x = x_train[0]\n",
    "x = np.expand_dims(x, axis=0)\n",
    "x = preprocess_input(x)\n",
    "\n",
    "%time \n",
    "preds = res_no_top.predict(x)\n",
    "preds.shape\n"
   ]
  },
  {
   "cell_type": "code",
   "execution_count": 100,
   "metadata": {},
   "outputs": [],
   "source": [
    "x_train_up = preprocess_input(x_train)\n",
    "x_test_up = preprocess_input(x_test)"
   ]
  },
  {
   "cell_type": "code",
   "execution_count": 101,
   "metadata": {},
   "outputs": [
    {
     "name": "stdout",
     "output_type": "stream",
     "text": [
      "(1249, 1, 1, 2048)\n",
      "CPU times: user 22min 19s, sys: 3min 46s, total: 26min 6s\n",
      "Wall time: 1min 21s\n"
     ]
    }
   ],
   "source": [
    "%%time\n",
    "\n",
    "x_train_resnet = res_no_top.predict(x_train_up)\n",
    "x_test_resnet = res_no_top.predict(x_test_up)\n",
    "print(x_train_resnet.shape)"
   ]
  },
  {
   "cell_type": "code",
   "execution_count": 110,
   "metadata": {},
   "outputs": [
    {
     "name": "stdout",
     "output_type": "stream",
     "text": [
      "_________________________________________________________________\n",
      "Layer (type)                 Output Shape              Param #   \n",
      "=================================================================\n",
      "input_9 (InputLayer)         (None, 1, 1, 2048)        0         \n",
      "_________________________________________________________________\n",
      "flatten_8 (Flatten)          (None, 2048)              0         \n",
      "_________________________________________________________________\n",
      "dense_15 (Dense)             (None, 200)               409800    \n",
      "_________________________________________________________________\n",
      "dense_16 (Dense)             (None, 200)               40200     \n",
      "_________________________________________________________________\n",
      "dense_17 (Dense)             (None, 1)                 201       \n",
      "=================================================================\n",
      "Total params: 450,201\n",
      "Trainable params: 450,201\n",
      "Non-trainable params: 0\n",
      "_________________________________________________________________\n"
     ]
    }
   ],
   "source": [
    "from keras.layers import SeparableConv2D\n",
    "from keras.layers.normalization import BatchNormalization\n",
    "from keras.layers import Add, Flatten, Dense\n",
    "from keras.layers import average, concatenate\n",
    "from keras.models import Input, Model\n",
    "\n",
    "\n",
    "# let's add a fully-connected layer\n",
    "input_x = Input(shape=x_train_resnet[0].shape)\n",
    "x = Flatten()(input_x)\n",
    "x = Dense(200, activation='relu',kernel_initializer='he_uniform')(x)\n",
    "x = Dense(200, activation='relu',kernel_initializer='he_uniform')(x)\n",
    "# and a fully connected layer \n",
    "predictions = Dense(NUM_CLASSES, activation='sigmoid', kernel_initializer='glorot_uniform')(x)\n",
    "\n",
    "model = Model(inputs=input_x, outputs=predictions)\n",
    "\n",
    "model.summary()\n"
   ]
  },
  {
   "cell_type": "code",
   "execution_count": 111,
   "metadata": {},
   "outputs": [
    {
     "name": "stdout",
     "output_type": "stream",
     "text": [
      "Train on 1249 samples, validate on 313 samples\n",
      "Epoch 1/5\n",
      "1249/1249 [==============================] - 4s 3ms/step - loss: 0.2593 - acc: 0.6485 - val_loss: 0.2125 - val_acc: 0.6965\n",
      "Epoch 2/5\n",
      "1249/1249 [==============================] - 0s 76us/step - loss: 0.2298 - acc: 0.6918 - val_loss: 0.2705 - val_acc: 0.3035\n",
      "Epoch 3/5\n",
      "1249/1249 [==============================] - 0s 75us/step - loss: 0.2249 - acc: 0.6637 - val_loss: 0.2197 - val_acc: 0.6965\n",
      "Epoch 4/5\n",
      "1249/1249 [==============================] - 0s 74us/step - loss: 0.2142 - acc: 0.6926 - val_loss: 0.2144 - val_acc: 0.6965\n",
      "Epoch 5/5\n",
      "1249/1249 [==============================] - 0s 76us/step - loss: 0.2162 - acc: 0.6926 - val_loss: 0.2114 - val_acc: 0.6965\n"
     ]
    },
    {
     "data": {
      "text/plain": [
       "<keras.callbacks.History at 0x7ffe8a5a67f0>"
      ]
     },
     "execution_count": 111,
     "metadata": {},
     "output_type": "execute_result"
    }
   ],
   "source": [
    "y_train_ohe_resnet = y_train_ohe[:x_train_resnet.shape[0]]\n",
    "\n",
    "model.compile(optimizer='rmsprop', loss='mean_squared_error',metrics=['accuracy'])\n",
    "\n",
    "model.fit(x_train_resnet,y_train_ohe_resnet,epochs=5,\n",
    "          batch_size=64,verbose=1,\n",
    "         validation_data=(x_test_resnet, y_test_ohe[:x_test_resnet.shape[0]]))\n"
   ]
  },
  {
   "cell_type": "code",
   "execution_count": null,
   "metadata": {},
   "outputs": [],
   "source": []
  },
  {
   "cell_type": "code",
   "execution_count": null,
   "metadata": {},
   "outputs": [],
   "source": []
  }
 ],
 "metadata": {
  "kernelspec": {
   "display_name": "Python 3",
   "language": "python",
   "name": "python3"
  },
  "language_info": {
   "codemirror_mode": {
    "name": "ipython",
    "version": 3
   },
   "file_extension": ".py",
   "mimetype": "text/x-python",
   "name": "python",
   "nbconvert_exporter": "python",
   "pygments_lexer": "ipython3",
   "version": "3.6.7"
  }
 },
 "nbformat": 4,
 "nbformat_minor": 2
}
