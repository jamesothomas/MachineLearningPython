{
 "cells": [
  {
   "cell_type": "code",
   "execution_count": 1,
   "metadata": {},
   "outputs": [],
   "source": [
    "import numpy as np\n",
    "import pandas as pd\n",
    "\n",
    "from sklearn.metrics import accuracy_score\n",
    "from sklearn.metrics import f1_score, confusion_matrix\n",
    "from sklearn.model_selection import train_test_split\n",
    "from scipy.special import expit\n",
    "from scipy.optimize import minimize_scalar\n",
    "\n",
    "import copy\n",
    "\n",
    "from numpy.linalg import pinv\n",
    "from sklearn.datasets import load_iris\n",
    "from scipy.optimize import fmin_bfgs\n",
    "\n",
    "import multiprocessing as mp\n",
    "import matplotlib.pyplot as plt\n",
    "import warnings\n",
    "warnings.filterwarnings('ignore')"
   ]
  },
  {
   "cell_type": "code",
   "execution_count": 2,
   "metadata": {},
   "outputs": [],
   "source": [
    "from sklearn.preprocessing import StandardScaler\n",
    "from sklearn.datasets import load_iris"
   ]
  },
  {
   "cell_type": "code",
   "execution_count": 3,
   "metadata": {},
   "outputs": [],
   "source": [
    "'''\n",
    "Here, the val function gives the value of the activation, and the dev is the derivative value of the activation.\n",
    "'''\n",
    "class Linear:\n",
    "    def val(x):\n",
    "        return x\n",
    "    def dev(x):\n",
    "        return 1\n",
    "\n",
    "class TANH:\n",
    "    def val(x):\n",
    "        return np.tanh(x)\n",
    "    def dev(x):\n",
    "        return 1 - np.tanh(x)*np.tanh(x)\n",
    "\n",
    "class Sigmoid:\n",
    "    def val(x):\n",
    "        return 1 / (1 + np.exp(-x))\n",
    "    def dev(x):\n",
    "        return (1 / (1 + np.exp(-x))) * (1-1 / (1 + np.exp(-x)))\n",
    "\n",
    "class Relu:    \n",
    "    def val(x):\n",
    "        return np.maximum(x.copy(),0)\n",
    "    def dev(x):\n",
    "        return (x>0).astype(int)\n",
    "\n",
    "class ArcTan:    \n",
    "    def val(x):\n",
    "        return np.arctan(x)\n",
    "    def dev(x):\n",
    "        return 1/(x*x+1)\n",
    "    \n",
    "class SiLU:\n",
    "    def val(x):\n",
    "        return x / (1 + np.exp(-x))\n",
    "    def dev(x):\n",
    "        return x / (1 + np.exp(-x)) + (1-x / (1 + np.exp(-x))) / (1 + np.exp(-x))\n",
    "\n",
    "'''\n",
    "Here, we define the three different adaptive learning rates.\n",
    "'''\n",
    "def no_decay(eta,t,epoch):\n",
    "    return eta\n",
    "\n",
    "def exp_decay(eta,t,epoch):\n",
    "    k = 0.001\n",
    "    lrate = eta * np.exp(-k*t)\n",
    "    return lrate\n",
    "\n",
    "def inverse_decay(eta,t,epoch):\n",
    "    lrate = eta /(1+t/epoch)\n",
    "    return lrate"
   ]
  },
  {
   "cell_type": "markdown",
   "metadata": {},
   "source": [
    "So, we can write the cost function in the following fashion.\n",
    "\\begin{equation*}\n",
    "cost\\_ function = f_i(\\phi_{i} (M_i \\phi_{i-1}(M_{i-1} N_{i-2}+b_{i-1}) + b_i))\n",
    "\\end{equation*}\n",
    "in which, $f_i$ represents all the afterward layers and the cost function definition, $b_i$ is the bias term for the $i$-th layer, and $N_i$ is the neuron value of the $i$-th layer, $V_i$ is the value before apply the activation function($V_i = M_{i} N_{i-1}+b_{i}$). \n",
    "\n",
    "We find that:\n",
    "\\begin{equation*}\n",
    "\\frac{\\partial (cost\\_ function)}{\\partial M_i} = f_i ^{'}(N_{i}) * \\phi_{i}^{'}(V_i)* N_{i-1}\n",
    "\\end{equation*}\n",
    "\\begin{equation*}\n",
    "\\frac{\\partial (cost\\_ function)}{\\partial b_i} = f_i ^{'}(N_{i}) * \\phi_{i}^{'}(V_i)\n",
    "\\end{equation*}\n",
    "\\begin{equation*}\n",
    "\\frac{\\partial (cost\\_ function)}{\\partial M_{i-1}} = f_i ^{'}(N_{i}) * \\phi_{i}^{'}(V_i)* M_{i}*\\phi_{i-1}^{'}(V_{i-1})*N_{i-2}\n",
    "\\end{equation*}\n",
    "\\begin{equation*}\n",
    "\\frac{\\partial (cost\\_ function)}{\\partial b_{i-1}} = f_i ^{'}(N_{i}) * \\phi_{i}^{'}(V_i)* M_{i}*\\phi_{i-1}^{'}(V_{i-1})\n",
    "\\end{equation*}\n",
    "In principle we can also write the third equation as,\n",
    "\\begin{equation*}\n",
    "\\frac{\\partial (cost\\_ function)}{\\partial M_{i-1}} = f_{i-1} ^{'}(N_{i-1})*\\phi_{i-1}^{'}(V_{i-1})*N_{i-2}\n",
    "\\end{equation*}\n",
    "which gives us that\n",
    "\\begin{equation*}\n",
    " f_{i-1} ^{'}(N_{i-1})= f_i ^{'}(N_{i}) * \\phi_{i}^{'}(V_i)* M_{i}\n",
    "\\end{equation*}\n",
    "We can refer $f_i ^{'}(N_{i})$ as the derivative_prefix, and as long as we can keep track of the derivative_prefix in different layers, we can calculate the partial derivative of each layer efficiently.\n",
    "\n",
    "Note that, in the formulas above, we only show the ingredients of every equation for the purpose of simplicity, in the actual formula, we need to move the matrice around and use different multiplications carefully.\n",
    "\n",
    "The actual iterations are as follow:\n",
    "\\begin{equation*} \n",
    " f_{i-1} ^{'}(N_{i-1})=  M_{i}^T@f_i ^{'}(N_{i}) * \\phi_{i}^{'}(V_i)\n",
    "\\end{equation*}\n",
    "\\begin{equation*}\n",
    "\\frac{\\partial (cost\\_ function)}{\\partial M_i} = f_i ^{'}(N_{i}) * \\phi_{i}^{'}(V_i)@ N_{i-1}^T\n",
    "\\end{equation*}\n",
    "\\begin{equation*}\n",
    "\\frac{\\partial (cost\\_ function)}{\\partial b_i} = f_i ^{'}(N_{i}) * \\phi_{i}^{'}(V_i) @ I\n",
    "\\end{equation*}\n",
    "In the last formula, $I$ is a matrix with value 1.\n",
    "\n",
    "\n",
    "We start with the last layer, and the initial derivative_prefix is the derivative of the cost_fuction (either mean square error or cross entropy)."
   ]
  },
  {
   "cell_type": "code",
   "execution_count": 39,
   "metadata": {},
   "outputs": [
    {
     "name": "stderr",
     "output_type": "stream",
     "text": [
      "Exception ignored in: <Finalize object, dead>\n",
      "Traceback (most recent call last):\n",
      "  File \"/hpc/applications/anaconda/3/lib/python3.6/multiprocessing/util.py\", line 186, in __call__\n",
      "    res = self._callback(*self._args, **self._kwargs)\n",
      "  File \"/hpc/applications/anaconda/3/lib/python3.6/multiprocessing/pool.py\", line 597, in _terminate_pool\n",
      "    cls._help_stuff_finish(inqueue, task_handler, len(pool))\n",
      "  File \"/hpc/applications/anaconda/3/lib/python3.6/multiprocessing/pool.py\", line 582, in _help_stuff_finish\n",
      "    inqueue._rlock.acquire()\n",
      "KeyboardInterrupt\n"
     ]
    }
   ],
   "source": [
    "class Sequential(object):\n",
    "    def __init__(self, C=0.0, epochs=500, eta=0.001, random_state=None, \n",
    "                 cost_function='quadratic', \n",
    "                 metric='accuracy',\n",
    "                 verbose=1,\n",
    "                 regular='None',\n",
    "                 learning_rate = no_decay,\n",
    "                 early_stopping=False):\n",
    "        np.random.seed(random_state)\n",
    "        self.C = C\n",
    "        self.epochs = epochs\n",
    "        self.eta = eta\n",
    "        self.cost_function = cost_function\n",
    "        self.metric = metric\n",
    "        self.verbose = verbose\n",
    "        self.regular = regular\n",
    "        self.early_stopping = early_stopping\n",
    "        self.learning_rate = learning_rate\n",
    "        \n",
    "        self.dims = []\n",
    "        self.acts = []\n",
    "        \n",
    "        self.matrice = []\n",
    "        self.bias = []\n",
    "        self.vects = [] #before the activation function\n",
    "        self.neurons = [] #after the activation function\n",
    "        self.dropout = [] #to be implemented later\n",
    "        self.Y = []\n",
    "        \n",
    "        self.loss = []\n",
    "        self.grad_norm = []\n",
    "        \n",
    "    def add(self,arg,argv):\n",
    "        '''\n",
    "        add('Dense',12)\n",
    "        add('Dense',15)\n",
    "        add('Activation',Sigmoid)\n",
    "        add('Activation',Relu)\n",
    "        add('Dropout',0.5)\n",
    "        '''\n",
    "        if arg == 'Dense':\n",
    "            if len(self.dropout) < len(self.dims):\n",
    "                self.dropout.append(0)\n",
    "            if len(self.dims) == 0:\n",
    "                self.dims.append([0,argv])\n",
    "            else:\n",
    "                self.dims.append([self.dims[-1][-1],argv])\n",
    "                \n",
    "            self.grad_norm.append([]) #keep track of the grad_norm\n",
    "        if arg == 'Activation':\n",
    "            self.acts.append(argv)\n",
    "        if arg == 'Dropout':\n",
    "            self.dropout.append(argv)\n",
    "        return\n",
    "    \n",
    "    @staticmethod\n",
    "    def _encode_labels(y):\n",
    "        onehot = pd.get_dummies(y).values.T\n",
    "        return onehot\n",
    "\n",
    "    def _initialize_params(self,X,Y):\n",
    "        for row,col in self.dims:\n",
    "            W_num_elems = row*col\n",
    "            W = np.random.uniform(-1.0, 1.0, size=W_num_elems)\n",
    "            W = W.reshape(col, row) # reshape to be W\n",
    "            self.matrice.append(W)\n",
    "            \n",
    "            b = np.random.uniform(-1.0, 1.0, size=col)\n",
    "            b = b.reshape(col, 1)\n",
    "            self.bias.append(b) #adding bias vector\n",
    "        \n",
    "        self.neurons.append(X.T)\n",
    "        self.Y = self._encode_labels(Y)\n",
    "        return\n",
    "    \n",
    "    def activate(self,vec,act):\n",
    "        return act.val(vec)\n",
    "    \n",
    "    def activate_dev(self,vec,act):\n",
    "        return act.dev(vec)\n",
    "    \n",
    "    def _feedforward(self):\n",
    "        '''\n",
    "        clear the previous feedforward result\n",
    "        '''\n",
    "        self.neurons = self.neurons[:1]\n",
    "        self.vects = []\n",
    "        for W,b,act in zip(self.matrice,self.bias,self.acts):\n",
    "            self.vects.append(W @ self.neurons[-1] + b)\n",
    "            self.neurons.append(self.activate(self.vects[-1],act))\n",
    "        m = self.Y.shape[1]\n",
    "        if self.cost_function == 'quadratic':\n",
    "            self.loss.append(((self.neurons[-1]-self.Y)*(self.neurons[-1]-self.Y)).sum()/m)\n",
    "        elif self.cost_function == 'cross_entropy':\n",
    "            cost = -(1.0/m) * np.sum(self.Y*np.log(self.neurons[-1]) + (1-self.Y)*np.log(1-self.neurons[-1]))\n",
    "            self.loss.append(cost)\n",
    "        return\n",
    "\n",
    "    def predict(self,X_test):\n",
    "        neuron = X_test.T\n",
    "        for W,b,act in zip(self.matrice,self.bias,self.acts):\n",
    "            vec = W @ neuron + b\n",
    "            neuron = self.activate(vec,act)\n",
    "        y_pred = np.argmax(neuron, axis=0)\n",
    "        return y_pred\n",
    "\n",
    "    def set_init_dev_prefix(self):\n",
    "        if self.cost_function == 'quadratic':\n",
    "            return -2 * (self.Y - self.neurons[-1])\n",
    "        if self.cost_function == 'cross_entropy':\n",
    "            return -(self.Y-self.neurons[-1])\n",
    "\n",
    "    def _update_params(self):\n",
    "        cur_dev_prefix = self.set_init_dev_prefix()\n",
    "        grads = []\n",
    "        bias_grads = []\n",
    "        for N,N1,V,act,W in zip(self.neurons[1:][::-1],self.neurons[:-1][::-1],self.vects[::-1],self.acts[::-1],self.matrice[::-1]):\n",
    "            cur_dev_prefix *= self.activate_dev(V,act)\n",
    "            grads.append(cur_dev_prefix @ N1.T)\n",
    "            bias_grads.append(cur_dev_prefix @ np.full((cur_dev_prefix.shape[1], 1), 1))\n",
    "            cur_dev_prefix = W.T @ cur_dev_prefix\n",
    "        grads.reverse()\n",
    "        bias_grads.reverse()\n",
    "        \n",
    "        if self.regular != 'None':\n",
    "            for W,b,grad,bias_grad in zip(self.matrice,self.bias,grads,bias_grads):\n",
    "                if 'L2' in self.regular:\n",
    "                    grad += 2*self.C * W\n",
    "                    bias_grad += 2*self.C * b\n",
    "                if 'L1' in self.regular:\n",
    "                    grad += ((W>0).astype(int)-0.5)*(2*self.C)\n",
    "                    bias_grad += self.C *((b>0).astype(int)-0.5)*(2*self.C)\n",
    "                    \n",
    "        for W,grad,b,bias_grad,grad_n in zip(self.matrice,grads,self.bias,bias_grads,self.grad_norm):\n",
    "            W -= self.eta * grad\n",
    "            b -= self.eta * bias_grad\n",
    "            \n",
    "            grad_n.append(max(grad.max(),b.max()))#keep track of the grad norm\n",
    "        return\n",
    "    \n",
    "    def fit(self,X,Y):\n",
    "        self.dims[0][0] = X.shape[1]\n",
    "        if len(np.unique(Y)) != self.dims[-1][-1]:\n",
    "            print('Error: output dimension is wrong!')\n",
    "            return False\n",
    "        self._initialize_params(X,Y)\n",
    "        eta_0 = self.eta\n",
    "\n",
    "        for i in range(self.epochs):\n",
    "            self.eta = self.learning_rate(eta_0,i,self.epochs)\n",
    "            self._feedforward()\n",
    "            self._update_params()\n",
    "\n",
    "            if self.verbose and not i % max(1,int(self.epochs/10)):\n",
    "                if self.metric == 'accuracy':\n",
    "                    accu = accuracy_score(np.argmax(self.neurons[-1], axis=0),Y)\n",
    "                    meas = 'accuracy'\n",
    "                if self.metric == 'customized':\n",
    "                    accu = cost_metric(Y,np.argmax(self.neurons[-1], axis=0),my_cost_matrix)\n",
    "                    meas = 'customized cost'\n",
    "                print('{} percent finished, current {} is {:.3f}.'.format(100*i//self.epochs,meas,accu))\n",
    "        if self.verbose:\n",
    "            print('Training is done!')\n",
    "        return\n",
    "    \n",
    "    def plot(self):\n",
    "        plt.figure()\n",
    "        plt.plot([i for i in range(self.epochs-100)],self.loss[100:])\n",
    "        plt.xlabel('Epoch number')\n",
    "        plt.ylabel('Loss')\n",
    "        plt.show()\n",
    "        return\n",
    "    def grad_plot(self):\n",
    "        self.grad_norm = [np.array(arr)/self.Y.shape[1] for arr in self.grad_norm]\n",
    "        ax = plt.subplot(1,1,1)\n",
    "        for idx,arr in enumerate(self.grad_norm):\n",
    "            plt.plot(abs(arr[100:]), label='w'+str(idx))\n",
    "        plt.legend()\n",
    "        plt.ylabel('Average gradient magnitude')\n",
    "        plt.xlabel('Iteration')\n",
    "        plt.show()\n",
    "        return"
   ]
  },
  {
   "cell_type": "code",
   "execution_count": 5,
   "metadata": {},
   "outputs": [],
   "source": [
    "full_df = pd.read_csv('data/processed_data.csv')\n",
    "\n",
    "Y = full_df['readmitted'].replace({'NO':0,'<30':1,'>30':2}).values\n",
    "data_cols = list(full_df)\n",
    "data_cols.remove('readmitted')\n",
    "X = full_df[data_cols].values"
   ]
  },
  {
   "cell_type": "code",
   "execution_count": 6,
   "metadata": {},
   "outputs": [],
   "source": [
    "if False:\n",
    "    model = Sequential(C=0.001, epochs=2000, eta=0.00001, random_state=42, \n",
    "                     cost_function='cross_entropy', \n",
    "                     metric='accuracy',\n",
    "                     verbose=1,\n",
    "                     regular='L1',\n",
    "                     learning_rate=no_decay)\n",
    "\n",
    "    model.add('Dense',20)\n",
    "    model.add('Activation',Relu)\n",
    "    model.add('Dense',3)\n",
    "    model.add('Activation',Sigmoid)\n",
    "\n",
    "\n",
    "\n",
    "    model.fit(X,Y)"
   ]
  },
  {
   "cell_type": "code",
   "execution_count": 7,
   "metadata": {},
   "outputs": [],
   "source": [
    "def find_cost_metric(y_true, y_pred, cost_matrix):\n",
    "    conf_matrix = confusion_matrix(y_true, y_pred)\n",
    "    if cost_matrix is None:\n",
    "        # check if the user passed a cost matrix\n",
    "        print('No cost matrix passed, using ones')\n",
    "        cost_matrix = np.ones(conf_matrix.shape)\n",
    "    if (cost_matrix < 0).all():\n",
    "        # make sure they are all positive\n",
    "        cost_matrix = cost_matrix - np.min(cost_matrix)\n",
    "    cost_matrix = cost_matrix/len(y_true) # normalize for bounds       \n",
    "    return(np.sum(conf_matrix * cost_matrix))\n",
    "\n",
    "my_cost_matrix = np.array([[1,  10, 10],\n",
    "                           [5,  0,  3],\n",
    "                           [5,  3,  0]])"
   ]
  },
  {
   "cell_type": "code",
   "execution_count": 18,
   "metadata": {},
   "outputs": [],
   "source": [
    "'''\n",
    "modify the model to apply the grid search\n",
    "'''\n",
    "\n",
    "x_train, x_test, y_train, y_test = train_test_split(X, Y, test_size=0.2, random_state=0, stratify=Y)\n",
    "\n",
    "def estimator(param):\n",
    "    model = Sequential(C=0, epochs=1000, eta=0.00001, random_state=42, \n",
    "                 cost_function=param['cost_function'], \n",
    "                 metric='accuracy',\n",
    "                 verbose=0,\n",
    "                 regular='None',\n",
    "                 learning_rate=no_decay)\n",
    "    for neu_nbr, act in zip(param['Layers'],param['Activations']):\n",
    "        model.add('Dense',neu_nbr)\n",
    "        model.add('Activation',act)\n",
    "    model.fit(x_train,y_train)\n",
    "    y_pred = model.predict(x_test)\n",
    "    acc = find_cost_metric(y_test,y_pred,my_cost_matrix)\n",
    "    return acc"
   ]
  },
  {
   "cell_type": "code",
   "execution_count": 19,
   "metadata": {},
   "outputs": [],
   "source": [
    "'''\n",
    "create grid search parameters, in total testing 72 sets of parameters \n",
    "'''\n",
    "\n",
    "import random\n",
    "param_test = []\n",
    "activation_list = [Linear,TANH,Sigmoid,Relu,ArcTan,SiLU]*5\n",
    "for cost_function in ['cross_entropy','quadratic']:\n",
    "    for layer_nbr in range(2,8,1):\n",
    "        for k in range(6):\n",
    "            #for same objective function and nbr of layers, create 6 sets of parameters\n",
    "            neuron_list = [20 for i in range(layer_nbr-1)] + [3]\n",
    "            #neuron number of hidden layers vary from 5 to 40\n",
    "            random.shuffle(activation_list)\n",
    "            act_list = activation_list[:layer_nbr-1] + [Sigmoid]\n",
    "            #activation function of hidden layers are randomly selected\n",
    "            tmp_param = {'cost_function':cost_function,'Layers':neuron_list,'Activations':act_list}\n",
    "            param_test.append(tmp_param)"
   ]
  },
  {
   "cell_type": "code",
   "execution_count": 20,
   "metadata": {},
   "outputs": [
    {
     "name": "stdout",
     "output_type": "stream",
     "text": [
      "36\n"
     ]
    }
   ],
   "source": [
    "import multiprocessing as mp\n",
    "n_core = mp.cpu_count()\n",
    "print(n_core)"
   ]
  },
  {
   "cell_type": "code",
   "execution_count": null,
   "metadata": {
    "scrolled": false
   },
   "outputs": [],
   "source": [
    "'''\n",
    "use multi-processing for the grid search\n",
    "'''\n",
    "pool = mp.Pool(processes=n_core)\n",
    "cost_list = pool.map(estimator,param_test)\n",
    "print(cost_list)"
   ]
  },
  {
   "cell_type": "code",
   "execution_count": 16,
   "metadata": {},
   "outputs": [
    {
     "data": {
      "image/png": "[encoded data removed]",
      "text/plain": [
       "<Figure size 432x288 with 1 Axes>"
      ]
     },
     "metadata": {
      "needs_background": "light"
     },
     "output_type": "display_data"
    }
   ],
   "source": [
    "x_axis = [len(param_set['Layers']) for param_set in param_test]\n",
    "y_axis = cost_list\n",
    "c = ['blue' if param_set['cost_function']=='quadratic' else 'green' for param_set in param_test]\n",
    "plt.scatter(x_axis, y_axis, alpha=0.6,c=c)\n",
    "plt.xlabel('number of layers')\n",
    "plt.ylabel('cost_value')\n",
    "plt.show()"
   ]
  },
  {
   "cell_type": "markdown",
   "metadata": {},
   "source": [
    "From the above graph, we notice two things:\n",
    "\n",
    "1. Since the cost_value defined is roughly negatively propotional to the accuracy, it shows that the mean square error is much better than the cross entropy as the objective function overall.\n",
    "\n",
    "2. As we increase the number of layers, the accuracy first increases, then start decreasing, and reaches maximum when it's 4 layers. I did another gird search where the number of neorons in each layer is a random number between 5 to 40, it also shows that when the number of layers is 4 gives the best accuracy.\n",
    "\n",
    "Note that, in the search above we didnt exploit all possible combinations of activiation functions, we will run another analysis below. But lets check what is the best set of parameters we found so far."
   ]
  },
  {
   "cell_type": "code",
   "execution_count": 17,
   "metadata": {},
   "outputs": [
    {
     "data": {
      "text/plain": [
       "{'cost_function': 'quadratic',\n",
       " 'Layers': [20, 20, 20, 3],\n",
       " 'Activations': [__main__.Linear,\n",
       "  __main__.SiLU,\n",
       "  __main__.TANH,\n",
       "  __main__.Sigmoid]}"
      ]
     },
     "execution_count": 17,
     "metadata": {},
     "output_type": "execute_result"
    }
   ],
   "source": [
    "best_param_idx = sorted(list(enumerate(cost_list)),key=lambda l:l[1])[0][0]\n",
    "best_param = param_test[best_param_idx]\n",
    "best_param"
   ]
  },
  {
   "cell_type": "markdown",
   "metadata": {},
   "source": [
    "Since Relu and SiLU are similar, and TANH, Sigmoid, ArcTan are similar, we will just replace the activation function of the second layer and third layer, and leave the rest untouched."
   ]
  },
  {
   "cell_type": "code",
   "execution_count": 26,
   "metadata": {},
   "outputs": [],
   "source": [
    "param_test = []\n",
    "for act1 in [Relu,SiLU]:\n",
    "    for act2 in [TANH,Sigmoid,ArcTan]:\n",
    "        neuron_list = [20 for i in range(3)] + [3]\n",
    "        act_list = [Linear,act1,act2,Sigmoid]\n",
    "        tmp_param = {'cost_function':'quadratic','Layers':neuron_list,'Activations':act_list}\n",
    "        param_test.append(tmp_param)"
   ]
  },
  {
   "cell_type": "code",
   "execution_count": 27,
   "metadata": {},
   "outputs": [
    {
     "name": "stdout",
     "output_type": "stream",
     "text": [
      "[2.0616671021688004, 2.0475568330284815, 2.026286908805853, 2.0519989547948785, 2.0445779984321923, 2.029161222889992]\n"
     ]
    }
   ],
   "source": [
    "pool = mp.Pool(processes=6)\n",
    "cost_list = pool.map(estimator,param_test)\n",
    "print(cost_list)"
   ]
  },
  {
   "cell_type": "code",
   "execution_count": 28,
   "metadata": {},
   "outputs": [
    {
     "data": {
      "image/png": "[encoded data removed]",
      "text/plain": [
       "<Figure size 432x288 with 1 Axes>"
      ]
     },
     "metadata": {
      "needs_background": "light"
     },
     "output_type": "display_data"
    }
   ],
   "source": [
    "x_axis = [len(param_set['Layers']) for param_set in param_test]\n",
    "y_axis = cost_list\n",
    "c = ['blue' if param_set['Activations'][1]==Relu else 'green' for param_set in param_test]\n",
    "plt.scatter(x_axis, y_axis, alpha=0.6,c=c)\n",
    "plt.xlabel('number of layers')\n",
    "plt.ylabel('cost_value')\n",
    "plt.show()"
   ]
  },
  {
   "cell_type": "code",
   "execution_count": 32,
   "metadata": {},
   "outputs": [
    {
     "data": {
      "image/png": "[encoded data removed]",
      "text/plain": [
       "<Figure size 432x288 with 1 Axes>"
      ]
     },
     "metadata": {
      "needs_background": "light"
     },
     "output_type": "display_data"
    }
   ],
   "source": [
    "x_axis = [len(param_set['Layers']) for param_set in param_test]\n",
    "y_axis = cost_list\n",
    "def color(act):\n",
    "    if act == TANH:\n",
    "        return 'blue'\n",
    "    if act == Sigmoid:\n",
    "        return 'green'\n",
    "    return 'red'\n",
    "c = [color(param_set['Activations'][2]) for param_set in param_test]\n",
    "plt.scatter(x_axis, y_axis, alpha=0.6,c=c)\n",
    "plt.xlabel('number of layers')\n",
    "plt.ylabel('cost_value')\n",
    "plt.show()"
   ]
  },
  {
   "cell_type": "markdown",
   "metadata": {},
   "source": [
    "From the two diagrams above, we find that Relu and SiLU tend to have similar behavior, and Relu has larger variance, this is because the derivative for Relu disappear when $x<0$, thus, if the epoch number is not large enough (heavily depends on the number of epochs), the result is not that good, but can be more accurate than SiLU when the train is long enough.\n",
    "\n",
    "And it's clear from the second graph, ArcTan gives better result comparing to Sigmoid or TANH under same setting.\n",
    "\n",
    "For the best set of parameters, we update SiLU with Relu."
   ]
  },
  {
   "cell_type": "code",
   "execution_count": 34,
   "metadata": {},
   "outputs": [
    {
     "data": {
      "text/plain": [
       "{'cost_function': 'quadratic',\n",
       " 'Layers': [20, 20, 20, 3],\n",
       " 'Activations': [__main__.Linear,\n",
       "  __main__.Relu,\n",
       "  __main__.ArcTan,\n",
       "  __main__.Sigmoid]}"
      ]
     },
     "execution_count": 34,
     "metadata": {},
     "output_type": "execute_result"
    }
   ],
   "source": [
    "best_param_idx = sorted(list(enumerate(cost_list)),key=lambda l:l[1])[0][0]\n",
    "best_param = param_test[best_param_idx]\n",
    "best_param"
   ]
  },
  {
   "cell_type": "code",
   "execution_count": 61,
   "metadata": {},
   "outputs": [
    {
     "name": "stdout",
     "output_type": "stream",
     "text": [
      "0 percent finished, current accuracy is 0.506.\n",
      "10 percent finished, current accuracy is 0.632.\n",
      "20 percent finished, current accuracy is 0.659.\n",
      "30 percent finished, current accuracy is 0.674.\n",
      "40 percent finished, current accuracy is 0.687.\n",
      "50 percent finished, current accuracy is 0.696.\n",
      "60 percent finished, current accuracy is 0.698.\n",
      "70 percent finished, current accuracy is 0.699.\n",
      "80 percent finished, current accuracy is 0.701.\n",
      "90 percent finished, current accuracy is 0.701.\n",
      "Training is done!\n",
      "2.0487588189182127\n"
     ]
    }
   ],
   "source": [
    "'''\n",
    "best set of parameters, use such parameters to train for more epochs\n",
    "'''\n",
    "model = Sequential(C=0, epochs=3000, eta=0.000003, random_state=42, \n",
    "             cost_function=best_param['cost_function'], \n",
    "             metric='accuracy',\n",
    "             verbose=1,\n",
    "             regular='None',\n",
    "             learning_rate=no_decay)\n",
    "for neu_nbr, act in zip(best_param['Layers'],best_param['Activations']):\n",
    "    model.add('Dense',neu_nbr)\n",
    "    model.add('Activation',act)\n",
    "model.fit(x_train,y_train)\n",
    "y_pred = model.predict(x_test)\n",
    "final_cost = find_cost_metric(y_test,y_pred,my_cost_matrix)\n",
    "print(final_cost)"
   ]
  },
  {
   "cell_type": "code",
   "execution_count": 62,
   "metadata": {},
   "outputs": [
    {
     "data": {
      "image/png": "[encoded data removed]",
      "text/plain": [
       "<Figure size 432x288 with 1 Axes>"
      ]
     },
     "metadata": {
      "needs_background": "light"
     },
     "output_type": "display_data"
    }
   ],
   "source": [
    "model.grad_plot()"
   ]
  },
  {
   "cell_type": "code",
   "execution_count": 64,
   "metadata": {},
   "outputs": [
    {
     "data": {
      "image/png": "[encoded data removed]",
      "text/plain": [
       "<Figure size 432x288 with 1 Axes>"
      ]
     },
     "metadata": {
      "needs_background": "light"
     },
     "output_type": "display_data"
    }
   ],
   "source": [
    "model.plot()"
   ]
  },
  {
   "cell_type": "markdown",
   "metadata": {},
   "source": [
    "Notice that in our model the value of eta is very smaell, this is because we didnt compensate the partial derivative due to the large dateset."
   ]
  },
  {
   "cell_type": "code",
   "execution_count": null,
   "metadata": {
    "scrolled": false
   },
   "outputs": [],
   "source": [
    "model = Sequential(C=0.1, epochs=10000, eta=0.001, random_state=42, \n",
    "                 cost_function='cross_entropy', \n",
    "                 metric='accuracy',\n",
    "                 verbose=1,\n",
    "                 regular='L1',\n",
    "                 learning_rate=inverse_decay)\n",
    "model.add('Dense',3)\n",
    "model.add('Activation',Sigmoid)\n",
    "model.add('Dense',20)\n",
    "model.add('Activation',Sigmoid)\n",
    "model.add('Dense',28)\n",
    "model.add('Activation',Sigmoid)\n",
    "model.add('Dense',3)\n",
    "model.add('Activation',Sigmoid)\n",
    "\n",
    "ds = load_iris()\n",
    "X = ds.data\n",
    "X_test = StandardScaler().fit(X).transform(X)\n",
    "X = StandardScaler().fit(X).transform(X)\n",
    "Y = ds.target # note problem is NOT binary anymore, there are three classes!\n",
    "\n",
    "\n",
    "model.fit(X,Y)\n",
    "#print(model.predict(X))\n",
    "#print(Y)"
   ]
  },
  {
   "cell_type": "code",
   "execution_count": null,
   "metadata": {},
   "outputs": [],
   "source": [
    "from sklearn.datasets import load_digits\n",
    "\n",
    "ds = load_digits()\n",
    "X = ds.data/16.0-0.5\n",
    "Y = ds.target\n",
    "\n",
    "model = Sequential(C=0.1, epochs=1000, eta=0.001, random_state=None, \n",
    "                 cost_function='cross_entropy', \n",
    "                 metric='accuracy',\n",
    "                 verbose=1,\n",
    "                 regular='L1',\n",
    "                 learning_rate=no_decay)\n",
    "model.add('Dense',60)\n",
    "model.add('Activation',Sigmoid)\n",
    "model.add('Dense',10)\n",
    "model.add('Activation',Sigmoid)\n",
    "\n",
    "\n",
    "\n",
    "model.fit(X,Y)\n",
    "model.grad_plot()\n",
    "print(model.predict(X))"
   ]
  },
  {
   "cell_type": "code",
   "execution_count": null,
   "metadata": {},
   "outputs": [],
   "source": []
  }
 ],
 "metadata": {
  "kernelspec": {
   "display_name": "Python 3",
   "language": "python",
   "name": "python3"
  },
  "language_info": {
   "codemirror_mode": {
    "name": "ipython",
    "version": 3
   },
   "file_extension": ".py",
   "mimetype": "text/x-python",
   "name": "python",
   "nbconvert_exporter": "python",
   "pygments_lexer": "ipython3",
   "version": "3.6.7"
  }
 },
 "nbformat": 4,
 "nbformat_minor": 2
}
