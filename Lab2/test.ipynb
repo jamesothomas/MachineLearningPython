{
 "cells": [
  {
   "cell_type": "code",
   "execution_count": null,
   "metadata": {},
   "outputs": [],
   "source": [
    "import pandas as pd\n",
    "\n",
    "chunksize = 10\n",
    "chunk_dict = {}\n",
    "counter = 0\n",
    "for chunk in pd.read_csv('male_PA_vectorized.csv', chunksize = chunksize):\n",
    "    chunk_dict['chunk_{}'.format(counter)] = chunk\n",
    "    counter += 1\n",
    "    print(counter)\n",
    "print(full_frame.head())\n",
    "print(full_frame.shape)\n",
    "print(full_frame.memory_usage(index=True))\n",
    "full_frame = pd.concat(chunk_dict.values())"
   ]
  },
  {
   "cell_type": "code",
   "execution_count": 5,
   "metadata": {},
   "outputs": [
    {
     "name": "stdout",
     "output_type": "stream",
     "text": [
      "191776\n"
     ]
    }
   ],
   "source": [
    "print(full_frame.memory_usage(index=True).sum())"
   ]
  },
  {
   "cell_type": "code",
   "execution_count": null,
   "metadata": {},
   "outputs": [],
   "source": []
  }
 ],
 "metadata": {
  "kernelspec": {
   "display_name": "Python 3",
   "language": "python",
   "name": "python3"
  },
  "language_info": {
   "codemirror_mode": {
    "name": "ipython",
    "version": 3
   },
   "file_extension": ".py",
   "mimetype": "text/x-python",
   "name": "python",
   "nbconvert_exporter": "python",
   "pygments_lexer": "ipython3",
   "version": "3.6.7"
  }
 },
 "nbformat": 4,
 "nbformat_minor": 2
}
