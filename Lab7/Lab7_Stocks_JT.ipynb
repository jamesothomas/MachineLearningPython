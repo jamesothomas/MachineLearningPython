{
 "cells": [
  {
   "cell_type": "markdown",
   "metadata": {},
   "source": [
    "# Lab 7: Recurrent Network Atchitectures\n",
    "\n",
    "### James O. Thomas\n",
    "### Xiaoxian Jing\n",
    "### Kuang Yan\n",
    "\n",
    "1. [Data Selection](#data_selection) <br>\n",
    "2. [Preparation](#preparation) <br>\n",
    "  2.1 [Class Variables](#class_varibles) <br>\n",
    "  2.2 [Metrics](#metrics) <br>\n",
    "  2.3 [Test-Train Split](#test_train_split) <br>\n",
    "3. [Modeling](#modeling) <br>\n",
    "  3.1 [Architectures](#architectures) <br>\n",
    "  3.2 [Second Recurrent Chain](#second_chain) <br>\n",
    "  3.3 [Evaluation](#evaluation) <br>\n",
    "4. [Exceptional Work](#exceptional_work) <br>\n",
    "  4.1 [Additional Analysis](#additional_analysis) <br>\n",
    "  4.1 [Simple RNN](#simple_numerics) <br>\n",
    "  4.2 [Visualize Word Embeddings](#visualize_embeddings) <br>\n",
    "  4.3 [Novel Text](#novel_text) <br>\n",
    "5. [Final Thoughts](#final_thoughts) <br>"
   ]
  },
  {
   "cell_type": "markdown",
   "metadata": {},
   "source": [
    "<a id=\"data_selection\"></a>\n",
    "\n",
    "# Data Selection\n",
    "\n",
    "> Select a dataset similarly to lab one:text. That is, the dataset should be text data (or a time series sequence). In terms of generalization performance, it is helpful to have a large dataset of similar sized text documents. It is fine to perform binary classification or multi-class classification. The classification can be \"many-to-one\" or \"many-to-many\" sequence classification, whichever you feel more comfortable with. "
   ]
  },
  {
   "cell_type": "markdown",
   "metadata": {},
   "source": [
    "<a id=\"preparation\"></a>\n",
    "\n",
    "# Preparation"
   ]
  },
  {
   "cell_type": "markdown",
   "metadata": {},
   "source": [
    "<a id=\"class_variables\"></a>\n",
    "    \n",
    "## Class Variables\n",
    "\n",
    "> __[10 points]__ Define and prepare your class variables. Use proper variable representations (int, float, one-hot, etc.). Use pre-processing methods (as needed). Describe the final dataset that is used for classification/regression (include a description of any newly formed variables you created). __Discuss methods of tokenization in your dataset as well as any decisions to force a specific length of sequence.__ "
   ]
  },
  {
   "cell_type": "markdown",
   "metadata": {},
   "source": [
    "<a id=\"metrics\"></a>\n",
    "\n",
    "## Metrics\n",
    "\n",
    "> __[10 points]__ Choose and explain what metric(s) you will use to evaluate your algorithm’s performance. You should give a __detailed argument for why this (these) metric(s) are appropriate__ on your data. That is, why is the metric appropriate for the task (_e.g._, in terms of the business case for the task). Please note: rarely is accuracy the best evaluation metric to use. Think deeply about an appropriate measure of performance."
   ]
  },
  {
   "cell_type": "markdown",
   "metadata": {},
   "source": [
    "<a id=\"test_train_split\"></a>\n",
    "\n",
    "## Test-Train Split\n",
    "\n",
    "> __[10 points]__ Choose the method you will use for dividing your data into training and testing (i.e., are you using Stratified 10-fold cross validation? Shuffle splits? Why?). __Explain why your chosen method is appropriate or use more than one method as appropriate.__ Convince me that your cross validation method is a realistic mirroring of how an algorithm would be used in practice. "
   ]
  },
  {
   "cell_type": "markdown",
   "metadata": {},
   "source": [
    "<a id=\"modeling\"></a>\n",
    "\n",
    "# Modeling"
   ]
  },
  {
   "cell_type": "markdown",
   "metadata": {},
   "source": [
    "<a id=\"architectures\"></a>\n",
    "\n",
    "## Architectures\n",
    "\n",
    "> __[20 points]__ Investigate at least two different recurrent network architectures (perhaps LSTM and GRU). Be sure to use an embedding layer (pre-trained, from scratch, or both). Adjust hyper-parameters of the networks as needed to improve generalization performance."
   ]
  },
  {
   "cell_type": "markdown",
   "metadata": {},
   "source": [
    "<a id=\"second_chain\"></a>\n",
    "\n",
    "## Second Recurrent Chain\n",
    "\n",
    "> __[20 points]__ Using the best RNN parameters and architecture, add a second recurrent chain to your RNN. The input to the second chain should be the output sequence of the first chain. Visualize the performance of training and validation sets versus the training iterations. "
   ]
  },
  {
   "cell_type": "markdown",
   "metadata": {},
   "source": [
    "<a id=\"evaluation\"></a>\n",
    "\n",
    "## Evaluation\n",
    "\n",
    "> __[20 points]__ Use the method of cross validation and evaluation criteria that you argued for at the beginning of the lab. Visualize the results of all the RNNs you trained.  Use proper statistical comparison techniques to determine which method(s) is (are) superior.  "
   ]
  },
  {
   "cell_type": "markdown",
   "metadata": {},
   "source": [
    "<a id=\"exceptional_work\"></a>\n",
    "\n",
    "# Exceptional Work"
   ]
  },
  {
   "cell_type": "markdown",
   "metadata": {},
   "source": [
    "<a id=\"additional_analysis\"></a>\n",
    "\n",
    "## Additional Analysis\n",
    "\n",
    "> You have free reigh to provide additional analysis"
   ]
  },
  {
   "cell_type": "markdown",
   "metadata": {},
   "source": [
    "<a id=\"simple_numerics\"></a>\n",
    "\n",
    "## Simple RNN (no embeddings)\n",
    "\n",
    "Out of curiousity, we build a RNN using only the stock/index prices not including all of the complication and overhead associated with including the text information. In principle, the news articles could have an effect on the prices, but we are not sure how big of an effect. We will use the pandas_datareader to access the information from yahoo from 2015 to today. We will look at Tesla (TSLA), Microsoft (MSFT), the Dow Jones Industrial average (DJI), and the S&P 500 (GSPC).\n",
    "\n",
    "For this part of the project we will train the model on the previous n (where n is a hyperparameter we will explore) days and try to predict the the the change in closing price from the current day to the next day. This will allow us to predict whether or not the price for the stock will increase or decrease the next day and therefore tell us whether we should buy or sell the stock. It appears that the stock prices don't change much overnight and we frankly don't think we can compete with the high-frequency traders during the day."
   ]
  },
  {
   "cell_type": "code",
   "execution_count": 49,
   "metadata": {},
   "outputs": [],
   "source": [
    "import pandas_datareader.data as web\n",
    "import datetime as dt\n",
    "\n",
    "start = dt.datetime(2008, 8, 8)\n",
    "end = dt.datetime.now()\n",
    "\n",
    "# dow https://en.wikipedia.org/wiki/Dow_Jones_Industrial_Average\n",
    "# S&P 500\n",
    "# Nasdaq\n",
    "\n",
    "tsla_df = web.DataReader(\"TSLA\", 'yahoo', start, end)\n",
    "msft_df = web.DataReader(\"MSFT\", 'yahoo', start, end)\n",
    "dji_df = web.DataReader('^DJI', 'yahoo', start, end) # 'yahoo', 'fred'?\n",
    "gspc_df = web.DataReader('^GSPC', 'yahoo', start, end) # 'yahoo', 'fred'?"
   ]
  },
  {
   "cell_type": "code",
   "execution_count": 50,
   "metadata": {},
   "outputs": [],
   "source": [
    "import matplotlib.pyplot as plt\n",
    "%matplotlib inline\n",
    "\n",
    "def plot_stock(df, title=''):\n",
    "    fig = plt.figure()\n",
    "    ax = fig.add_subplot(1,1,1)\n",
    "    ax.plot(df['High'], label='High')\n",
    "    ax.plot(df['Low'], label='Low')\n",
    "    ax.plot(df['Open'], label='Open')\n",
    "    ax.plot(df['Close'], label='Close')\n",
    "    ax.plot(df['Adj Close'], label='Adj Close')\n",
    "    ax.set(title=title, ylabel='price', xlabel='date')\n",
    "    plt.xticks(rotation=45)\n",
    "    l = ax.legend()\n",
    "    fig.show()"
   ]
  },
  {
   "cell_type": "code",
   "execution_count": 51,
   "metadata": {},
   "outputs": [
    {
     "data": {
      "text/html": [
       "<div>\n",
       "<style scoped>\n",
       "    .dataframe tbody tr th:only-of-type {\n",
       "        vertical-align: middle;\n",
       "    }\n",
       "\n",
       "    .dataframe tbody tr th {\n",
       "        vertical-align: top;\n",
       "    }\n",
       "\n",
       "    .dataframe thead th {\n",
       "        text-align: right;\n",
       "    }\n",
       "</style>\n",
       "<table border=\"1\" class=\"dataframe\">\n",
       "  <thead>\n",
       "    <tr style=\"text-align: right;\">\n",
       "      <th></th>\n",
       "      <th>High</th>\n",
       "      <th>Low</th>\n",
       "      <th>Open</th>\n",
       "      <th>Close</th>\n",
       "      <th>Volume</th>\n",
       "      <th>Adj Close</th>\n",
       "    </tr>\n",
       "    <tr>\n",
       "      <th>Date</th>\n",
       "      <th></th>\n",
       "      <th></th>\n",
       "      <th></th>\n",
       "      <th></th>\n",
       "      <th></th>\n",
       "      <th></th>\n",
       "    </tr>\n",
       "  </thead>\n",
       "  <tbody>\n",
       "    <tr>\n",
       "      <th>2008-08-08</th>\n",
       "      <td>28.230000</td>\n",
       "      <td>27.190001</td>\n",
       "      <td>27.350000</td>\n",
       "      <td>28.129999</td>\n",
       "      <td>80814100.0</td>\n",
       "      <td>21.626917</td>\n",
       "    </tr>\n",
       "    <tr>\n",
       "      <th>2008-08-11</th>\n",
       "      <td>28.400000</td>\n",
       "      <td>27.660000</td>\n",
       "      <td>27.860001</td>\n",
       "      <td>27.900000</td>\n",
       "      <td>68743800.0</td>\n",
       "      <td>21.450087</td>\n",
       "    </tr>\n",
       "    <tr>\n",
       "      <th>2008-08-12</th>\n",
       "      <td>28.360001</td>\n",
       "      <td>27.580000</td>\n",
       "      <td>27.780001</td>\n",
       "      <td>28.120001</td>\n",
       "      <td>62813000.0</td>\n",
       "      <td>21.619234</td>\n",
       "    </tr>\n",
       "    <tr>\n",
       "      <th>2008-08-13</th>\n",
       "      <td>28.500000</td>\n",
       "      <td>27.760000</td>\n",
       "      <td>28.070000</td>\n",
       "      <td>27.910000</td>\n",
       "      <td>51165200.0</td>\n",
       "      <td>21.457777</td>\n",
       "    </tr>\n",
       "    <tr>\n",
       "      <th>2008-08-14</th>\n",
       "      <td>28.280001</td>\n",
       "      <td>27.559999</td>\n",
       "      <td>27.820000</td>\n",
       "      <td>27.910000</td>\n",
       "      <td>49732300.0</td>\n",
       "      <td>21.457777</td>\n",
       "    </tr>\n",
       "    <tr>\n",
       "      <th>2008-08-15</th>\n",
       "      <td>28.150000</td>\n",
       "      <td>27.580000</td>\n",
       "      <td>27.980000</td>\n",
       "      <td>27.809999</td>\n",
       "      <td>47267400.0</td>\n",
       "      <td>21.380890</td>\n",
       "    </tr>\n",
       "    <tr>\n",
       "      <th>2008-08-18</th>\n",
       "      <td>28.049999</td>\n",
       "      <td>27.549999</td>\n",
       "      <td>27.780001</td>\n",
       "      <td>27.690001</td>\n",
       "      <td>38078200.0</td>\n",
       "      <td>21.288635</td>\n",
       "    </tr>\n",
       "    <tr>\n",
       "      <th>2008-08-19</th>\n",
       "      <td>27.750000</td>\n",
       "      <td>27.270000</td>\n",
       "      <td>27.540001</td>\n",
       "      <td>27.320000</td>\n",
       "      <td>40332900.0</td>\n",
       "      <td>21.087946</td>\n",
       "    </tr>\n",
       "    <tr>\n",
       "      <th>2008-08-20</th>\n",
       "      <td>27.580000</td>\n",
       "      <td>27.170000</td>\n",
       "      <td>27.540001</td>\n",
       "      <td>27.290001</td>\n",
       "      <td>41497200.0</td>\n",
       "      <td>21.064791</td>\n",
       "    </tr>\n",
       "    <tr>\n",
       "      <th>2008-08-21</th>\n",
       "      <td>27.230000</td>\n",
       "      <td>26.860001</td>\n",
       "      <td>27.100000</td>\n",
       "      <td>27.180000</td>\n",
       "      <td>43614200.0</td>\n",
       "      <td>20.979874</td>\n",
       "    </tr>\n",
       "    <tr>\n",
       "      <th>2008-08-22</th>\n",
       "      <td>27.879999</td>\n",
       "      <td>27.219999</td>\n",
       "      <td>27.230000</td>\n",
       "      <td>27.840000</td>\n",
       "      <td>47930400.0</td>\n",
       "      <td>21.489328</td>\n",
       "    </tr>\n",
       "    <tr>\n",
       "      <th>2008-08-25</th>\n",
       "      <td>27.840000</td>\n",
       "      <td>27.459999</td>\n",
       "      <td>27.610001</td>\n",
       "      <td>27.660000</td>\n",
       "      <td>51381300.0</td>\n",
       "      <td>21.350393</td>\n",
       "    </tr>\n",
       "    <tr>\n",
       "      <th>2008-08-26</th>\n",
       "      <td>27.719999</td>\n",
       "      <td>27.170000</td>\n",
       "      <td>27.580000</td>\n",
       "      <td>27.270000</td>\n",
       "      <td>44774400.0</td>\n",
       "      <td>21.049351</td>\n",
       "    </tr>\n",
       "    <tr>\n",
       "      <th>2008-08-27</th>\n",
       "      <td>27.790001</td>\n",
       "      <td>27.129999</td>\n",
       "      <td>27.340000</td>\n",
       "      <td>27.559999</td>\n",
       "      <td>33975300.0</td>\n",
       "      <td>21.273201</td>\n",
       "    </tr>\n",
       "    <tr>\n",
       "      <th>2008-08-28</th>\n",
       "      <td>28.010000</td>\n",
       "      <td>27.600000</td>\n",
       "      <td>27.610001</td>\n",
       "      <td>27.940001</td>\n",
       "      <td>48372600.0</td>\n",
       "      <td>21.566519</td>\n",
       "    </tr>\n",
       "    <tr>\n",
       "      <th>2008-08-29</th>\n",
       "      <td>27.780001</td>\n",
       "      <td>27.290001</td>\n",
       "      <td>27.680000</td>\n",
       "      <td>27.290001</td>\n",
       "      <td>50735500.0</td>\n",
       "      <td>21.064791</td>\n",
       "    </tr>\n",
       "    <tr>\n",
       "      <th>2008-09-02</th>\n",
       "      <td>27.760000</td>\n",
       "      <td>27.059999</td>\n",
       "      <td>27.670000</td>\n",
       "      <td>27.100000</td>\n",
       "      <td>66079200.0</td>\n",
       "      <td>20.918129</td>\n",
       "    </tr>\n",
       "    <tr>\n",
       "      <th>2008-09-03</th>\n",
       "      <td>27.180000</td>\n",
       "      <td>26.840000</td>\n",
       "      <td>27.000000</td>\n",
       "      <td>26.900000</td>\n",
       "      <td>57127700.0</td>\n",
       "      <td>20.763758</td>\n",
       "    </tr>\n",
       "    <tr>\n",
       "      <th>2008-09-04</th>\n",
       "      <td>26.889999</td>\n",
       "      <td>26.350000</td>\n",
       "      <td>26.740000</td>\n",
       "      <td>26.350000</td>\n",
       "      <td>66141900.0</td>\n",
       "      <td>20.339216</td>\n",
       "    </tr>\n",
       "    <tr>\n",
       "      <th>2008-09-05</th>\n",
       "      <td>26.219999</td>\n",
       "      <td>25.629999</td>\n",
       "      <td>26.030001</td>\n",
       "      <td>25.650000</td>\n",
       "      <td>82305200.0</td>\n",
       "      <td>19.798891</td>\n",
       "    </tr>\n",
       "  </tbody>\n",
       "</table>\n",
       "</div>"
      ],
      "text/plain": [
       "                 High        Low       Open      Close      Volume  Adj Close\n",
       "Date                                                                         \n",
       "2008-08-08  28.230000  27.190001  27.350000  28.129999  80814100.0  21.626917\n",
       "2008-08-11  28.400000  27.660000  27.860001  27.900000  68743800.0  21.450087\n",
       "2008-08-12  28.360001  27.580000  27.780001  28.120001  62813000.0  21.619234\n",
       "2008-08-13  28.500000  27.760000  28.070000  27.910000  51165200.0  21.457777\n",
       "2008-08-14  28.280001  27.559999  27.820000  27.910000  49732300.0  21.457777\n",
       "2008-08-15  28.150000  27.580000  27.980000  27.809999  47267400.0  21.380890\n",
       "2008-08-18  28.049999  27.549999  27.780001  27.690001  38078200.0  21.288635\n",
       "2008-08-19  27.750000  27.270000  27.540001  27.320000  40332900.0  21.087946\n",
       "2008-08-20  27.580000  27.170000  27.540001  27.290001  41497200.0  21.064791\n",
       "2008-08-21  27.230000  26.860001  27.100000  27.180000  43614200.0  20.979874\n",
       "2008-08-22  27.879999  27.219999  27.230000  27.840000  47930400.0  21.489328\n",
       "2008-08-25  27.840000  27.459999  27.610001  27.660000  51381300.0  21.350393\n",
       "2008-08-26  27.719999  27.170000  27.580000  27.270000  44774400.0  21.049351\n",
       "2008-08-27  27.790001  27.129999  27.340000  27.559999  33975300.0  21.273201\n",
       "2008-08-28  28.010000  27.600000  27.610001  27.940001  48372600.0  21.566519\n",
       "2008-08-29  27.780001  27.290001  27.680000  27.290001  50735500.0  21.064791\n",
       "2008-09-02  27.760000  27.059999  27.670000  27.100000  66079200.0  20.918129\n",
       "2008-09-03  27.180000  26.840000  27.000000  26.900000  57127700.0  20.763758\n",
       "2008-09-04  26.889999  26.350000  26.740000  26.350000  66141900.0  20.339216\n",
       "2008-09-05  26.219999  25.629999  26.030001  25.650000  82305200.0  19.798891"
      ]
     },
     "execution_count": 51,
     "metadata": {},
     "output_type": "execute_result"
    }
   ],
   "source": [
    "msft_df.head(20)"
   ]
  },
  {
   "cell_type": "code",
   "execution_count": 52,
   "metadata": {},
   "outputs": [
    {
     "name": "stderr",
     "output_type": "stream",
     "text": [
      "C:\\ProgramData\\Anaconda3\\envs\\machine_learning_python\\lib\\site-packages\\matplotlib\\figure.py:445: UserWarning: Matplotlib is currently using module://ipykernel.pylab.backend_inline, which is a non-GUI backend, so cannot show the figure.\n",
      "  % get_backend())\n"
     ]
    },
    {
     "data": {
      "image/png": "[encoded data removed]",
      "text/plain": [
       "<Figure size 432x288 with 1 Axes>"
      ]
     },
     "metadata": {
      "needs_background": "light"
     },
     "output_type": "display_data"
    }
   ],
   "source": [
    "plot_stock(msft_df, title='MSFT')"
   ]
  },
  {
   "cell_type": "markdown",
   "metadata": {},
   "source": [
    "As an exercise in procrastination, we also filter the data some to remove some of the high frequency fluctuations using Fourier filtering. It should be noted that Fourier filtering assumes the data will repreat itself outside of the domain and therefore has no influene on predicting the future as it is. Rather, it only makes the curves smoother and potentially easier to understand."
   ]
  },
  {
   "cell_type": "code",
   "execution_count": 53,
   "metadata": {},
   "outputs": [],
   "source": [
    "import numpy as np\n",
    "\n",
    "def Fourier_filter(data, filter_percent=0.9, plot=False, plot_title=''):\n",
    "    f = np.fft.rfft(data) # use rfft because we have real inputs...\n",
    "    f[int(len(data)*(1-filter_percent)):] = 0\n",
    "    inv = np.fft.irfft(f)\n",
    "    \n",
    "    if plot:\n",
    "        fig = plt.figure()\n",
    "        ax = fig.add_subplot(1,1,1)\n",
    "        ax.plot(data, label='original')\n",
    "        ax.plot(inv, label='filtered {}'.format(filter_percent))\n",
    "        ax.legend()\n",
    "        ax.set(title=plot_title, xlabel='time', ylabel='cost')\n",
    "        fig.show()\n",
    "    \n",
    "    return inv"
   ]
  },
  {
   "cell_type": "code",
   "execution_count": 54,
   "metadata": {},
   "outputs": [
    {
     "data": {
      "image/png": "[encoded data removed]",
      "text/plain": [
       "<Figure size 432x288 with 1 Axes>"
      ]
     },
     "metadata": {
      "needs_background": "light"
     },
     "output_type": "display_data"
    }
   ],
   "source": [
    "filterings = [0.5, 0.9, 0.95, 0.99]\n",
    "\n",
    "fig = plt.figure()\n",
    "ax = fig.add_subplot(1,1,1)\n",
    "for filt in filterings:\n",
    "    res = Fourier_filter(msft_df['Open'].values, filter_percent=filt, plot=False)\n",
    "    ax.plot(res, label='{}%'.format(filt*100))\n",
    "ax.plot(msft_df['Open'].values, label='original')\n",
    "l = ax.legend()\n",
    "ax.set_title('Fourier Filtering of MSFT Open')\n",
    "fig.show()"
   ]
  },
  {
   "cell_type": "markdown",
   "metadata": {},
   "source": [
    "Now back to the real work, we need to preprocess the data some to be able to use it. First, let us make a new target of the change in the closing price from the previoius day. This is a somewhat well behaved parameter."
   ]
  },
  {
   "cell_type": "code",
   "execution_count": 55,
   "metadata": {},
   "outputs": [
    {
     "data": {
      "text/html": [
       "<div>\n",
       "<style scoped>\n",
       "    .dataframe tbody tr th:only-of-type {\n",
       "        vertical-align: middle;\n",
       "    }\n",
       "\n",
       "    .dataframe tbody tr th {\n",
       "        vertical-align: top;\n",
       "    }\n",
       "\n",
       "    .dataframe thead th {\n",
       "        text-align: right;\n",
       "    }\n",
       "</style>\n",
       "<table border=\"1\" class=\"dataframe\">\n",
       "  <thead>\n",
       "    <tr style=\"text-align: right;\">\n",
       "      <th></th>\n",
       "      <th>High</th>\n",
       "      <th>Low</th>\n",
       "      <th>Open</th>\n",
       "      <th>Close</th>\n",
       "      <th>Volume</th>\n",
       "      <th>Adj Close</th>\n",
       "      <th>Change</th>\n",
       "    </tr>\n",
       "    <tr>\n",
       "      <th>Date</th>\n",
       "      <th></th>\n",
       "      <th></th>\n",
       "      <th></th>\n",
       "      <th></th>\n",
       "      <th></th>\n",
       "      <th></th>\n",
       "      <th></th>\n",
       "    </tr>\n",
       "  </thead>\n",
       "  <tbody>\n",
       "    <tr>\n",
       "      <th>2008-08-08</th>\n",
       "      <td>28.230000</td>\n",
       "      <td>27.190001</td>\n",
       "      <td>27.350000</td>\n",
       "      <td>28.129999</td>\n",
       "      <td>80814100.0</td>\n",
       "      <td>21.626917</td>\n",
       "      <td>-0.230000</td>\n",
       "    </tr>\n",
       "    <tr>\n",
       "      <th>2008-08-11</th>\n",
       "      <td>28.400000</td>\n",
       "      <td>27.660000</td>\n",
       "      <td>27.860001</td>\n",
       "      <td>27.900000</td>\n",
       "      <td>68743800.0</td>\n",
       "      <td>21.450087</td>\n",
       "      <td>0.220001</td>\n",
       "    </tr>\n",
       "    <tr>\n",
       "      <th>2008-08-12</th>\n",
       "      <td>28.360001</td>\n",
       "      <td>27.580000</td>\n",
       "      <td>27.780001</td>\n",
       "      <td>28.120001</td>\n",
       "      <td>62813000.0</td>\n",
       "      <td>21.619234</td>\n",
       "      <td>-0.210001</td>\n",
       "    </tr>\n",
       "    <tr>\n",
       "      <th>2008-08-13</th>\n",
       "      <td>28.500000</td>\n",
       "      <td>27.760000</td>\n",
       "      <td>28.070000</td>\n",
       "      <td>27.910000</td>\n",
       "      <td>51165200.0</td>\n",
       "      <td>21.457777</td>\n",
       "      <td>0.000000</td>\n",
       "    </tr>\n",
       "    <tr>\n",
       "      <th>2008-08-14</th>\n",
       "      <td>28.280001</td>\n",
       "      <td>27.559999</td>\n",
       "      <td>27.820000</td>\n",
       "      <td>27.910000</td>\n",
       "      <td>49732300.0</td>\n",
       "      <td>21.457777</td>\n",
       "      <td>-0.100000</td>\n",
       "    </tr>\n",
       "  </tbody>\n",
       "</table>\n",
       "</div>"
      ],
      "text/plain": [
       "                 High        Low       Open      Close      Volume  Adj Close  \\\n",
       "Date                                                                            \n",
       "2008-08-08  28.230000  27.190001  27.350000  28.129999  80814100.0  21.626917   \n",
       "2008-08-11  28.400000  27.660000  27.860001  27.900000  68743800.0  21.450087   \n",
       "2008-08-12  28.360001  27.580000  27.780001  28.120001  62813000.0  21.619234   \n",
       "2008-08-13  28.500000  27.760000  28.070000  27.910000  51165200.0  21.457777   \n",
       "2008-08-14  28.280001  27.559999  27.820000  27.910000  49732300.0  21.457777   \n",
       "\n",
       "              Change  \n",
       "Date                  \n",
       "2008-08-08 -0.230000  \n",
       "2008-08-11  0.220001  \n",
       "2008-08-12 -0.210001  \n",
       "2008-08-13  0.000000  \n",
       "2008-08-14 -0.100000  "
      ]
     },
     "execution_count": 55,
     "metadata": {},
     "output_type": "execute_result"
    }
   ],
   "source": [
    "msft_df['Change'] = msft_df['Close'].diff()\n",
    "msft_df['Change'] = msft_df['Change'].shift(-1)\n",
    "msft_df.head()"
   ]
  },
  {
   "cell_type": "code",
   "execution_count": 56,
   "metadata": {},
   "outputs": [
    {
     "name": "stderr",
     "output_type": "stream",
     "text": [
      "C:\\ProgramData\\Anaconda3\\envs\\machine_learning_python\\lib\\site-packages\\numpy\\lib\\histograms.py:824: RuntimeWarning: invalid value encountered in greater_equal\n",
      "  keep = (tmp_a >= first_edge)\n",
      "C:\\ProgramData\\Anaconda3\\envs\\machine_learning_python\\lib\\site-packages\\numpy\\lib\\histograms.py:825: RuntimeWarning: invalid value encountered in less_equal\n",
      "  keep &= (tmp_a <= last_edge)\n"
     ]
    },
    {
     "data": {
      "text/plain": [
       "(array([   2.,   11.,   21.,  106., 1719.,  766.,   55.,   14.,    6.,\n",
       "           3.]),\n",
       " array([-6.09999847, -4.82999878, -3.55999908, -2.28999939, -1.01999969,\n",
       "         0.25      ,  1.51999969,  2.78999939,  4.05999908,  5.32999878,\n",
       "         6.59999847]),\n",
       " <a list of 10 Patch objects>)"
      ]
     },
     "execution_count": 56,
     "metadata": {},
     "output_type": "execute_result"
    },
    {
     "data": {
      "image/png": "[encoded data removed]",
      "text/plain": [
       "<Figure size 432x288 with 1 Axes>"
      ]
     },
     "metadata": {
      "needs_background": "light"
     },
     "output_type": "display_data"
    }
   ],
   "source": [
    "plt.hist(msft_df['Change'])"
   ]
  },
  {
   "cell_type": "code",
   "execution_count": 57,
   "metadata": {},
   "outputs": [
    {
     "data": {
      "text/plain": [
       "High         0\n",
       "Low          0\n",
       "Open         0\n",
       "Close        0\n",
       "Volume       0\n",
       "Adj Close    0\n",
       "Change       0\n",
       "dtype: int64"
      ]
     },
     "execution_count": 57,
     "metadata": {},
     "output_type": "execute_result"
    }
   ],
   "source": [
    "msft_df.dropna(inplace=True)\n",
    "msft_df.isna().sum()"
   ]
  },
  {
   "cell_type": "markdown",
   "metadata": {},
   "source": [
    "Although we expected no na values, it is a good idea to check. Now we can normalize the data. We will use `MinMaxScalar`, but we could also use `StandardScalar` and likely have similar results. Because we only want to fit the transformation on the training data, we will also do the train-test split (80-20 split). Since we want to preserve the time structure of the data, we will explicetly set `shuffle=False` when calling `train_test_split`."
   ]
  },
  {
   "cell_type": "code",
   "execution_count": 58,
   "metadata": {},
   "outputs": [],
   "source": [
    "from sklearn.preprocessing import MinMaxScaler\n",
    "\n",
    "# how do you normalize these? How do you not data snoop?\n",
    "Data_df = msft_df[[col for col in list(msft_df) if col != 'Change']]\n",
    "Target_df = msft_df['Change']\n",
    "\n",
    "# now the normalization\n",
    "min_max_scaler = MinMaxScaler()\n",
    "X = min_max_scaler.fit_transform(Data_df.values)\n",
    "Y = Target_df.values"
   ]
  },
  {
   "cell_type": "code",
   "execution_count": 59,
   "metadata": {},
   "outputs": [
    {
     "name": "stdout",
     "output_type": "stream",
     "text": [
      "2703 2703\n",
      "(2703, 6)\n",
      "High         2.840000e+01\n",
      "Low          2.766000e+01\n",
      "Open         2.786000e+01\n",
      "Close        2.790000e+01\n",
      "Volume       6.874380e+07\n",
      "Adj Close    2.145009e+01\n",
      "Name: 2008-08-11 00:00:00, dtype: float64\n"
     ]
    }
   ],
   "source": [
    "print(len(X), len(Y))\n",
    "print(X.shape)\n",
    "print(Data_df.iloc[1])"
   ]
  },
  {
   "cell_type": "code",
   "execution_count": 60,
   "metadata": {},
   "outputs": [],
   "source": [
    "# function for making the data sets\n",
    "def make_datasets(X, Y, length=60):\n",
    "    if len(X) != len(Y):\n",
    "        print('you done messed up')\n",
    "    X_data_list = []\n",
    "    Y_data_list = []\n",
    "    for i in range(length, len(X)):\n",
    "        X_data_list.append(X[i-length:i,:])\n",
    "        Y_data_list.append(Y[i])\n",
    "    X_data = np.array(X_data_list)\n",
    "    Y_data = np.array(Y_data_list)\n",
    "    return(X_data, Y_data)"
   ]
  },
  {
   "cell_type": "code",
   "execution_count": 61,
   "metadata": {},
   "outputs": [],
   "source": [
    "X_dataset, Y_dataset = make_datasets(X, Y)"
   ]
  },
  {
   "cell_type": "code",
   "execution_count": 62,
   "metadata": {},
   "outputs": [
    {
     "name": "stdout",
     "output_type": "stream",
     "text": [
      "X_dataset shape (2643, 60, 6)\n",
      "Y_dataset shape (2643,)\n",
      "1 [[0.11041037 0.11168355 0.10977197 0.11043741 0.19660056 0.08081167]\n",
      " [0.11006481 0.11098498 0.10907831 0.11234301 0.17758502 0.08223612]\n",
      " [0.1112743  0.11255676 0.11159282 0.11052403 0.14023944 0.08087643]\n",
      " [0.10937366 0.11081034 0.10942513 0.11052403 0.13564522 0.08087643]\n",
      " [0.10825054 0.11098498 0.11081245 0.10965785 0.12774217 0.08022894]\n",
      " [0.10738661 0.11072301 0.10907831 0.10861845 0.09827944 0.07945203]\n",
      " [0.10479482 0.10827804 0.10699732 0.10541359 0.10550854 0.07776196]\n",
      " [0.10332614 0.10740482 0.10699732 0.10515375 0.10924156 0.07756696]\n",
      " [0.10030238 0.10469788 0.10318218 0.10420095 0.11602915 0.07685185]\n",
      " [0.10591792 0.10784142 0.10430937 0.10991771 0.12986791 0.08114214]]\n",
      "2 [[0.11006481 0.11098498 0.10907831 0.11234301 0.17758502 0.08223612]\n",
      " [0.1112743  0.11255676 0.11159282 0.11052403 0.14023944 0.08087643]\n",
      " [0.10937366 0.11081034 0.10942513 0.11052403 0.13564522 0.08087643]\n",
      " [0.10825054 0.11098498 0.11081245 0.10965785 0.12774217 0.08022894]\n",
      " [0.10738661 0.11072301 0.10907831 0.10861845 0.09827944 0.07945203]\n",
      " [0.10479482 0.10827804 0.10699732 0.10541359 0.10550854 0.07776196]\n",
      " [0.10332614 0.10740482 0.10699732 0.10515375 0.10924156 0.07756696]\n",
      " [0.10030238 0.10469788 0.10318218 0.10420095 0.11602915 0.07685185]\n",
      " [0.10591792 0.10784142 0.10430937 0.10991771 0.12986791 0.08114214]\n",
      " [0.10557236 0.10993712 0.10760427 0.10835859 0.1409323  0.07997212]]\n"
     ]
    }
   ],
   "source": [
    "print('X_dataset shape {}'.format(X_dataset.shape))\n",
    "print('Y_dataset shape {}'.format(Y_dataset.shape))\n",
    "print('1 {}'.format(X_dataset[1][:10,:]))\n",
    "print('2 {}'.format(X_dataset[2][:10,:]))"
   ]
  },
  {
   "cell_type": "markdown",
   "metadata": {},
   "source": [
    "<a id=\"visualize_embeddings\"></a>\n",
    "\n",
    "## Visualize Word Embeddings\n",
    "\n",
    "> One idea (__required for 7000 level students__): Use t-SNE (or SVD) to visualize the word embeddings of a subset of words in your vocabulary. Try to interpret what each dimension reflects (in your own words). That is, try to explain what aspect of the language is encoded in the reduced dimensionality embedding. "
   ]
  },
  {
   "cell_type": "markdown",
   "metadata": {},
   "source": [
    "<a id=\"novel_text\"></a>\n",
    "\n",
    "## Novel Text\n",
    "\n",
    "> Another Idea (NOT required): Try to create a RNN for generating novel text. "
   ]
  },
  {
   "cell_type": "code",
   "execution_count": null,
   "metadata": {},
   "outputs": [],
   "source": []
  }
 ],
 "metadata": {
  "kernelspec": {
   "display_name": "Python 3",
   "language": "python",
   "name": "python3"
  },
  "language_info": {
   "codemirror_mode": {
    "name": "ipython",
    "version": 3
   },
   "file_extension": ".py",
   "mimetype": "text/x-python",
   "name": "python",
   "nbconvert_exporter": "python",
   "pygments_lexer": "ipython3",
   "version": "3.6.7"
  }
 },
 "nbformat": 4,
 "nbformat_minor": 2
}
