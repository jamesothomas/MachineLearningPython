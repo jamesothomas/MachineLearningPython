{
 "cells": [
  {
   "cell_type": "markdown",
   "metadata": {},
   "source": [
    "# Lab 7: Recurrent Network Atchitectures\n",
    "\n",
    "### James O. Thomas\n",
    "### Xiaoxian Jing\n",
    "### Kuang Yan\n",
    "\n",
    "1. [Data Selection](#data_selection) <br>\n",
    "  1.1 [Stock Prices Example](#pure_stock) <br>\n",
    "  1.2 [Stock Prices and News](#stock_and_news) <br>\n",
    "2. [Preparation](#preparation) <br>\n",
    "  2.1 [Class Variables](#class_varibles) <br>\n",
    "  2.2 [Metrics](#metrics) <br>\n",
    "  2.3 [Test-Train Split](#test_train_split) <br>\n",
    "3. [Modeling](#modeling) <br>\n",
    "  3.1 [Architectures](#architectures) <br>\n",
    "  3.2 [Second Recurrent Chain](#second_chain) <br>\n",
    "  3.3 [Evaluation](#evaluation) <br>\n",
    "4. [Exceptional Work](#exceptional_work) <br>\n",
    "  4.1 [Additional Analysis](#additional_analysis) <br>\n",
    "  4.1 [Simple RNN](#simple_numerics) <br>\n",
    "  4.2 [Visualize Word Embeddings](#visualize_embeddings) <br>\n",
    "  4.3 [Novel Text](#novel_text) <br>\n",
    "5. [Final Thoughts](#final_thoughts) <br>"
   ]
  },
  {
   "cell_type": "markdown",
   "metadata": {},
   "source": [
    "<a id=\"data_selection\"></a>\n",
    "\n",
    "# Data Selection\n",
    "\n",
    "> Select a dataset similarly to lab one:text. That is, the dataset should be text data (or a time series sequence). In terms of generalization performance, it is helpful to have a large dataset of similar sized text documents. It is fine to perform binary classification or multi-class classification. The classification can be \"many-to-one\" or \"many-to-many\" sequence classification, whichever you feel more comfortable with. \n",
    "\n",
    "For this lab we will be using stock prices and news. There are several ways to get historical stock prices (see below), but getting historical news headlines is somewhat harder. Therefore we will use the kaggle data set from https://www.kaggle.com/aaron7sun/stocknews. This source aggregated the news headlines from reddit (that's somewhat scary) and the stock information is from yahoo finance."
   ]
  },
  {
   "cell_type": "markdown",
   "metadata": {},
   "source": [
    "<a id=\"pure_stock\"></a>\n",
    "\n",
    "## Stock Prices Example\n",
    "\n",
    "Below is an example of retrieving pure stock prices"
   ]
  },
  {
   "cell_type": "code",
   "execution_count": 149,
   "metadata": {},
   "outputs": [],
   "source": [
    "# pure stock prices using pandas_datareader\n",
    "import pandas_datareader.data as web\n",
    "import datetime as dt\n",
    "\n",
    "start = dt.datetime(2008, 8, 8)\n",
    "end = dt.datetime.now()\n",
    "\n",
    "# dow https://en.wikipedia.org/wiki/Dow_Jones_Industrial_Average\n",
    "# S&P 500\n",
    "# Nasdaq\n",
    "\n",
    "tsla_df = web.DataReader(\"TSLA\", 'yahoo', start, end)\n",
    "msft_df = web.DataReader(\"MSFT\", 'yahoo', start, end)\n",
    "dji_df = web.DataReader('^DJI', 'yahoo', start, end) # 'yahoo', 'fred'?\n",
    "gspc_df = web.DataReader('^GSPC', 'yahoo', start, end) # 'yahoo', 'fred'?"
   ]
  },
  {
   "cell_type": "code",
   "execution_count": 150,
   "metadata": {},
   "outputs": [],
   "source": [
    "import matplotlib.pyplot as plt\n",
    "%matplotlib inline\n",
    "\n",
    "def plot_stock(df, title=''):\n",
    "    fig = plt.figure()\n",
    "    ax = fig.add_subplot(1,1,1)\n",
    "    ax.plot(df['High'], label='High')\n",
    "    ax.plot(df['Low'], label='Low')\n",
    "    ax.plot(df['Open'], label='Open')\n",
    "    ax.plot(df['Close'], label='Close')\n",
    "    ax.plot(df['Adj Close'], label='Adj Close')\n",
    "    ax.set(title=title, ylabel='price', xlabel='date')\n",
    "    plt.xticks(rotation=45)\n",
    "    l = ax.legend()\n",
    "    fig.show()"
   ]
  },
  {
   "cell_type": "code",
   "execution_count": 151,
   "metadata": {},
   "outputs": [
    {
     "data": {
      "text/html": [
       "<div>\n",
       "<style scoped>\n",
       "    .dataframe tbody tr th:only-of-type {\n",
       "        vertical-align: middle;\n",
       "    }\n",
       "\n",
       "    .dataframe tbody tr th {\n",
       "        vertical-align: top;\n",
       "    }\n",
       "\n",
       "    .dataframe thead th {\n",
       "        text-align: right;\n",
       "    }\n",
       "</style>\n",
       "<table border=\"1\" class=\"dataframe\">\n",
       "  <thead>\n",
       "    <tr style=\"text-align: right;\">\n",
       "      <th></th>\n",
       "      <th>High</th>\n",
       "      <th>Low</th>\n",
       "      <th>Open</th>\n",
       "      <th>Close</th>\n",
       "      <th>Volume</th>\n",
       "      <th>Adj Close</th>\n",
       "    </tr>\n",
       "    <tr>\n",
       "      <th>Date</th>\n",
       "      <th></th>\n",
       "      <th></th>\n",
       "      <th></th>\n",
       "      <th></th>\n",
       "      <th></th>\n",
       "      <th></th>\n",
       "    </tr>\n",
       "  </thead>\n",
       "  <tbody>\n",
       "    <tr>\n",
       "      <th>2008-08-08</th>\n",
       "      <td>11759.959961</td>\n",
       "      <td>11388.040039</td>\n",
       "      <td>11432.089844</td>\n",
       "      <td>11734.320312</td>\n",
       "      <td>212830000</td>\n",
       "      <td>11734.320312</td>\n",
       "    </tr>\n",
       "    <tr>\n",
       "      <th>2008-08-11</th>\n",
       "      <td>11867.110352</td>\n",
       "      <td>11675.530273</td>\n",
       "      <td>11729.669922</td>\n",
       "      <td>11782.349609</td>\n",
       "      <td>183190000</td>\n",
       "      <td>11782.349609</td>\n",
       "    </tr>\n",
       "    <tr>\n",
       "      <th>2008-08-12</th>\n",
       "      <td>11782.349609</td>\n",
       "      <td>11601.519531</td>\n",
       "      <td>11781.700195</td>\n",
       "      <td>11642.469727</td>\n",
       "      <td>173590000</td>\n",
       "      <td>11642.469727</td>\n",
       "    </tr>\n",
       "    <tr>\n",
       "      <th>2008-08-13</th>\n",
       "      <td>11633.780273</td>\n",
       "      <td>11453.339844</td>\n",
       "      <td>11632.809570</td>\n",
       "      <td>11532.959961</td>\n",
       "      <td>182550000</td>\n",
       "      <td>11532.959961</td>\n",
       "    </tr>\n",
       "    <tr>\n",
       "      <th>2008-08-14</th>\n",
       "      <td>11718.280273</td>\n",
       "      <td>11450.889648</td>\n",
       "      <td>11532.070312</td>\n",
       "      <td>11615.929688</td>\n",
       "      <td>159790000</td>\n",
       "      <td>11615.929688</td>\n",
       "    </tr>\n",
       "  </tbody>\n",
       "</table>\n",
       "</div>"
      ],
      "text/plain": [
       "                    High           Low          Open         Close     Volume  \\\n",
       "Date                                                                            \n",
       "2008-08-08  11759.959961  11388.040039  11432.089844  11734.320312  212830000   \n",
       "2008-08-11  11867.110352  11675.530273  11729.669922  11782.349609  183190000   \n",
       "2008-08-12  11782.349609  11601.519531  11781.700195  11642.469727  173590000   \n",
       "2008-08-13  11633.780273  11453.339844  11632.809570  11532.959961  182550000   \n",
       "2008-08-14  11718.280273  11450.889648  11532.070312  11615.929688  159790000   \n",
       "\n",
       "               Adj Close  \n",
       "Date                      \n",
       "2008-08-08  11734.320312  \n",
       "2008-08-11  11782.349609  \n",
       "2008-08-12  11642.469727  \n",
       "2008-08-13  11532.959961  \n",
       "2008-08-14  11615.929688  "
      ]
     },
     "execution_count": 151,
     "metadata": {},
     "output_type": "execute_result"
    }
   ],
   "source": [
    "dji_df.head()"
   ]
  },
  {
   "cell_type": "code",
   "execution_count": 152,
   "metadata": {},
   "outputs": [
    {
     "name": "stderr",
     "output_type": "stream",
     "text": [
      "C:\\ProgramData\\Anaconda3\\envs\\machine_learning_python\\lib\\site-packages\\matplotlib\\figure.py:445: UserWarning: Matplotlib is currently using module://ipykernel.pylab.backend_inline, which is a non-GUI backend, so cannot show the figure.\n",
      "  % get_backend())\n"
     ]
    },
    {
     "data": {
      "image/png": "[encoded data removed]",
      "text/plain": [
       "<Figure size 432x288 with 1 Axes>"
      ]
     },
     "metadata": {
      "needs_background": "light"
     },
     "output_type": "display_data"
    }
   ],
   "source": [
    "plot_stock(dji_df, title='Dow')"
   ]
  },
  {
   "cell_type": "markdown",
   "metadata": {},
   "source": [
    "<a id=\"stock_and_news\"></a>\n",
    "\n",
    "## Stock Prices and News\n",
    "\n",
    "Now we will import the stock and news prices for use in this lab."
   ]
  },
  {
   "cell_type": "code",
   "execution_count": null,
   "metadata": {},
   "outputs": [],
   "source": [
    "DJIA_df = pd.read_csv('DJIA_table.csv')\n",
    "news_df = pd.read_csv('Combined_News_DJIA.csv')"
   ]
  },
  {
   "cell_type": "code",
   "execution_count": null,
   "metadata": {},
   "outputs": [],
   "source": [
    "DJIA_df.reindex(index=DJIA_df.index[::-1])\n",
    "DJIA_df.head()"
   ]
  },
  {
   "cell_type": "code",
   "execution_count": null,
   "metadata": {},
   "outputs": [],
   "source": [
    "DJIA_df['Change'] = DJIA_df['Close'].diff()\n",
    "DJIA_df['Change'] = DJIA_df['Change'].shift(-1)\n",
    "DJIA_df.head()"
   ]
  },
  {
   "cell_type": "code",
   "execution_count": null,
   "metadata": {},
   "outputs": [],
   "source": [
    "DJIA_df.dropna(inplace=True)\n",
    "DJIA_df.isna().sum()"
   ]
  },
  {
   "cell_type": "markdown",
   "metadata": {},
   "source": [
    "<a id=\"preparation\"></a>\n",
    "\n",
    "# Preparation"
   ]
  },
  {
   "cell_type": "markdown",
   "metadata": {},
   "source": [
    "<a id=\"class_variables\"></a>\n",
    "    \n",
    "## Class Variables\n",
    "\n",
    "> __[10 points]__ Define and prepare your class variables. Use proper variable representations (int, float, one-hot, etc.). Use pre-processing methods (as needed). Describe the final dataset that is used for classification/regression (include a description of any newly formed variables you created). __Discuss methods of tokenization in your dataset as well as any decisions to force a specific length of sequence.__ \n",
    "\n",
    "The data contains 6 numeric features for each day: opening stock price, high stock price, low stock price, closing stock price, volume (number of stocks), and adjusted close. The adjusted closing price is calculated by yahoo and takes into account things such as dividends paid or stock splits, as well as new stock offerings. All of these features will be normalized to floats using min/max scaling. We also use the headlines included in the data set. The words in these headlines are converted to vectors using GloVe."
   ]
  },
  {
   "cell_type": "code",
   "execution_count": null,
   "metadata": {},
   "outputs": [],
   "source": [
    "from sklearn.preprocessing import MinMaxScaler\n",
    "\n",
    "# how do you normalize these? How do you not data snoop?\n",
    "Data_df = DJIA_df[[col for col in list(DJIA_df) if (col != 'Change' and col != 'Date')]]\n",
    "Target_df = DJIA_df['Change']\n",
    "\n",
    "# now the normalization\n",
    "min_max_scaler = MinMaxScaler()\n",
    "X_data = min_max_scaler.fit_transform(Data_df.values)\n",
    "Y = Target_df.values"
   ]
  },
  {
   "cell_type": "code",
   "execution_count": null,
   "metadata": {},
   "outputs": [],
   "source": [
    "def make_datasets(X, Y, length=60):\n",
    "    if len(X) != len(Y):\n",
    "        print('you done messed up')\n",
    "    X_data_list = []\n",
    "    Y_data_list = []\n",
    "    for i in range(length, len(X)):\n",
    "        X_data_list.append(X[i-length:i,:])\n",
    "        Y_data_list.append(Y[i])\n",
    "    X_data = np.array(X_data_list)\n",
    "    Y_data = np.array(Y_data_list)\n",
    "    return(X_data, Y_data)"
   ]
  },
  {
   "cell_type": "code",
   "execution_count": null,
   "metadata": {},
   "outputs": [],
   "source": [
    "X_DJIA, Y = make_datasets(X_data, Y)"
   ]
  },
  {
   "cell_type": "code",
   "execution_count": null,
   "metadata": {},
   "outputs": [],
   "source": [
    "news_df.head()"
   ]
  },
  {
   "cell_type": "code",
   "execution_count": null,
   "metadata": {},
   "outputs": [],
   "source": [
    "news_df.drop(columns=['Date','Label'],inplace=True)"
   ]
  },
  {
   "cell_type": "code",
   "execution_count": null,
   "metadata": {},
   "outputs": [],
   "source": [
    "news_df['All'] = ''\n",
    "for col in news_df:\n",
    "    if col!='All':\n",
    "        news_df['All'] += news_df[col]\n",
    "news_df = news_df.astype(str)"
   ]
  },
  {
   "cell_type": "code",
   "execution_count": null,
   "metadata": {},
   "outputs": [],
   "source": [
    "NUM_TOP_WORDS = None\n",
    "MAX_ART_LEN = 50 # maximum and minimum number of words\n",
    "\n",
    "X_news = []\n",
    "\n",
    "#to make sure each news is MAX_ART_LEN, thus seperatable\n",
    "tokenizer = Tokenizer(num_words=NUM_TOP_WORDS)\n",
    "tokenizer.fit_on_texts(news_df['All'])\n",
    "\n",
    "for col in news_df:\n",
    "    if col!='All':\n",
    "        sequences = tokenizer.texts_to_sequences(news_df[col])\n",
    "        X_tmp = pad_sequences(sequences, maxlen=MAX_ART_LEN,padding='pre')\n",
    "        X_news += [X_tmp]\n",
    "\n",
    "\n",
    "word_index = tokenizer.word_index\n",
    "NUM_TOP_WORDS = len(word_index) if NUM_TOP_WORDS==None else NUM_TOP_WORDS\n",
    "top_words = min((len(word_index),NUM_TOP_WORDS))\n",
    "print('Found %s unique tokens. Distilled to %d top words.' % (len(word_index),top_words))"
   ]
  },
  {
   "cell_type": "code",
   "execution_count": null,
   "metadata": {},
   "outputs": [],
   "source": [
    "X_news = [news[60:-1] for news in X_news]"
   ]
  },
  {
   "cell_type": "code",
   "execution_count": null,
   "metadata": {},
   "outputs": [],
   "source": [
    "X_final = X_news + [X_DJIA]\n",
    "Idx = np.array([i for i in range(len(X_DJIA))])\n",
    "Idx_train, Idx_test = train_test_split(Idx, test_size=0.1,random_state=42)\n",
    "X_train = [_[Idx_train] for _ in X_final]\n",
    "X_test = [_[Idx_test] for _ in X_final]\n",
    "Y_train = Y[Idx_train]\n",
    "Y_test = Y[Idx_test]"
   ]
  },
  {
   "cell_type": "markdown",
   "metadata": {},
   "source": [
    "<a id=\"metrics\"></a>\n",
    "\n",
    "## Metrics\n",
    "\n",
    "> __[10 points]__ Choose and explain what metric(s) you will use to evaluate your algorithm’s performance. You should give a __detailed argument for why this (these) metric(s) are appropriate__ on your data. That is, why is the metric appropriate for the task (_e.g._, in terms of the business case for the task). Please note: rarely is accuracy the best evaluation metric to use. Think deeply about an appropriate measure of performance.\n",
    "\n",
    "During training of our model we will monitor the mean squared error (mse) between the predicted next day closing value and the actual next day closing value. However, we will also use the predictions from a trained model to calculate how much money we would have if we had invested it at a specific time. For this get_rich metric we will use several simplifications. We will ignore any trading fees associated with buying/selling stocks and we will also assume we will buy partial stocks. We will also assume that we can sell and buy the stocks requested immediately. "
   ]
  },
  {
   "cell_type": "code",
   "execution_count": 412,
   "metadata": {},
   "outputs": [
    {
     "name": "stdout",
     "output_type": "stream",
     "text": [
      "193 193 193\n"
     ]
    }
   ],
   "source": [
    "y_test = [ 2.07000000e+02, -2.13896490e+01,  7.32695310e+01,  8.31699220e+01,\n",
    " -6.31894530e+01, -6.31894530e+01, -1.06629883e+02, -3.90488280e+01,\n",
    " -1.52500000e+02, -3.24316410e+01,  1.70689453e+02,  2.62998040e+01,\n",
    "  1.49804690e+01, -1.38691410e+01, -1.83379883e+02,  2.68370117e+02,\n",
    "  2.54150391e+02,  5.31298830e+01, -6.61035200e+00, -5.36806640e+01,\n",
    " -5.05498050e+01,  5.04480468e+02,  2.64101570e+01, -5.33007800e+00,\n",
    "  1.01370117e+02,  2.13270508e+02,  6.26806640e+01,  1.15150391e+02,\n",
    " -2.15140625e+02,  2.48419922e+02, -3.36308600e+01, -9.12617190e+01,\n",
    "  3.93798830e+01, -1.10240234e+02,  5.04394530e+01,  4.84492190e+01,\n",
    "  1.62870118e+02,  6.65800780e+01,  5.57802730e+01, -1.06409668e+02,\n",
    " -7.67099610e+01,  9.38691400e+01, -1.03839843e+02,  1.42201172e+02,\n",
    "  1.57140625e+02,  3.57011710e+01,  4.19629883e+02,  1.39879882e+02,\n",
    "  1.59709961e+02,  1.71103510e+01,  8.70019600e+00,  2.11894530e+01,\n",
    "  1.39939453e+02, -3.31992190e+01,  2.42120117e+02,  3.98105470e+01,\n",
    "  1.21410157e+02, -1.06290039e+02, -1.64790039e+02, -1.12130859e+02,\n",
    " -1.49414000e-01, -5.24501950e+01,  2.81399903e+02, -8.81699220e+01,\n",
    "  4.31601560e+01, -3.03408210e+01,  1.78840821e+02, -1.16015700e+00,\n",
    "  4.07304690e+01, -5.90400390e+01,  6.79950195e+02, -2.63398440e+01,\n",
    "  6.87900390e+01, -4.76894530e+01,  5.05800790e+01,  4.59785160e+01,\n",
    "  2.51900390e+02,  2.76089844e+02,  7.33080078e+02,  7.76406250e+01,\n",
    "  2.65870117e+02, -4.17802730e+01, -2.12298828e+02,  1.29003900e+00,\n",
    "  1.41380860e+02, -4.42900390e+01,  1.98994140e+01,  3.18239257e+02,\n",
    "  7.31103510e+01,  5.99394530e+01, -2.64101560e+01, -6.97998050e+01,\n",
    " -5.62207030e+01, -2.14599600e+01, -6.51191410e+01,  4.19296880e+01,\n",
    " -1.17609375e+02,  3.31339843e+02, -7.15205080e+01, -3.79440429e+02,\n",
    " -4.05898430e+01, -2.00359375e+02,  3.07197270e+01, -1.51894530e+01,\n",
    "  4.16210930e+01,  8.00780000e-02, -7.23710940e+01,  3.26049804e+02,\n",
    "  2.99306640e+01,  5.88798830e+01, -2.59830078e+02, -1.52290039e+02,\n",
    " -1.47469727e+02, -3.66015700e+00, -1.46750000e+02, -5.63203130e+01,\n",
    "  2.37187500e+01,  3.08798830e+01, -1.38380860e+02, -1.97839844e+02,\n",
    " -7.09599610e+01, 1.04100585e+02,  4.86010742e+02,  7.35937500e+00,\n",
    "  3.72402340e+01, -4.42900390e+01,  1.53490235e+02,  7.45019500e+00,\n",
    " -2.63300780e+01, -4.51406240e+01,  2.59394530e+01,  3.48220703e+02,\n",
    " -4.75498040e+01,  2.60791010e+01,  2.65419922e+02,  1.53679688e+02,\n",
    "  7.79394530e+01, -1.33239258e+02, -1.97849609e+02,  5.43300780e+01,\n",
    "  1.01110351e+02, -8.52500000e+01, -3.37320312e+02,  3.37940430e+02,\n",
    "  1.75990235e+02, -1.33701180e+01, -1.64800782e+02, -3.95498050e+01,\n",
    " -3.27705080e+01,  1.30780273e+02,  7.46113280e+01, -1.68429687e+02,\n",
    " -9.44921800e+00,  4.11299805e+02, -8.88505860e+01,  1.86060547e+02,\n",
    " -6.28691400e+01, -4.90400390e+01,  2.52150390e+02,  6.92998050e+01,\n",
    " -1.90859374e+02, -5.89990200e+00, -1.50250000e+02, -7.50000000e-01,\n",
    "  2.80009765e+02,  4.13398430e+01,  3.55957100e+00, -1.21070313e+02,\n",
    "  1.90703130e+01, -3.05450195e+02, -6.22099610e+01,  1.36990234e+02,\n",
    " -8.53300790e+01,  4.27470215e+02,  1.10498050e+01,  2.05498050e+01,\n",
    " -6.87294930e+01, -9.65302730e+01,  5.88798830e+01,  4.85000000e+01,\n",
    " -7.34707040e+01, -2.39660157e+02,  2.50498050e+01,  2.47500000e+01,\n",
    "  2.83007800e+00, -2.48019531e+02, -2.76953100e+00, -6.88798830e+01,\n",
    " -2.20195320e+01, -4.90595700e+01,  5.41015600e+00,  5.29003900e+00,\n",
    " -1.44319336e+02]\n",
    "\n",
    "y_hat_test = [[ 3.48568459e+01],\n",
    "       [ 8.55746918e+01],\n",
    "       [ 3.64781914e+01],\n",
    "       [ 4.48306618e+01],\n",
    "       [ 6.57605827e-02],\n",
    "       [ 1.10593767e+01],\n",
    "       [ 2.97610416e+01],\n",
    "       [ 6.50932846e+01],\n",
    "       [ 1.81920776e+01],\n",
    "       [ 3.74066544e+01],\n",
    "       [ 9.50244713e+00],\n",
    "       [ 1.10367441e+01],\n",
    "       [ 6.99500275e+01],\n",
    "       [ 4.78590393e+01],\n",
    "       [ 6.13443851e+00],\n",
    "       [ 4.75432777e+01],\n",
    "       [ 3.81529846e+01],\n",
    "       [ 6.49200821e+01],\n",
    "       [ 9.23124599e+00],\n",
    "       [ 4.89969864e+01],\n",
    "       [-6.37224257e-01],\n",
    "       [ 3.73332939e+01],\n",
    "       [ 2.56723728e+01],\n",
    "       [ 3.06055870e+01],\n",
    "       [ 3.16947389e+00],\n",
    "       [ 2.67301979e+01],\n",
    "       [ 5.51972847e+01],\n",
    "       [ 2.50404720e+01],\n",
    "       [ 7.28668823e+01],\n",
    "       [ 1.69202309e+01],\n",
    "       [ 3.84074020e+01],\n",
    "       [-6.08408332e-01],\n",
    "       [-6.44036233e-01],\n",
    "       [ 2.49839573e+01],\n",
    "       [ 2.86155319e+01],\n",
    "       [ 4.50891991e+01],\n",
    "       [ 3.30012321e+01],\n",
    "       [ 3.01145763e+01],\n",
    "       [ 4.19418488e+01],\n",
    "       [ 6.30774994e+01],\n",
    "       [ 7.16679840e+01],\n",
    "       [ 6.57829056e+01],\n",
    "       [ 3.18518410e+01],\n",
    "       [ 7.08013458e+01],\n",
    "       [ 4.55216980e+01],\n",
    "       [ 7.87592087e+01],\n",
    "       [-6.58385754e-01],\n",
    "       [ 4.42791634e+01],\n",
    "       [ 2.14649315e+01],\n",
    "       [ 5.55248337e+01],\n",
    "       [ 5.73772812e+01],\n",
    "       [ 4.78718033e+01],\n",
    "       [ 8.45188751e+01],\n",
    "       [ 4.62378006e+01],\n",
    "       [ 3.17186451e+01],\n",
    "       [ 8.04465580e+00],\n",
    "       [ 6.97665100e+01],\n",
    "       [-6.21139467e-01],\n",
    "       [ 3.44518929e+01],\n",
    "       [-6.08889103e-01],\n",
    "       [ 8.06572723e+01],\n",
    "       [ 1.04519167e+01],\n",
    "       [ 3.16368408e+01],\n",
    "       [ 8.10902863e+01],\n",
    "       [ 5.05533371e+01],\n",
    "       [ 2.67441025e+01],\n",
    "       [ 6.31256752e+01],\n",
    "       [ 5.54366417e+01],\n",
    "       [-1.13162845e-01],\n",
    "       [ 6.51303864e+01],\n",
    "       [ 2.98176327e+01],\n",
    "       [ 4.05757713e+01],\n",
    "       [ 1.59454870e+01],\n",
    "       [ 8.14166927e+00],\n",
    "       [ 3.87910805e+01],\n",
    "       [ 4.97994652e+01],\n",
    "       [ 9.74471130e+01],\n",
    "       [ 7.81727219e+01],\n",
    "       [ 2.28968925e+01],\n",
    "       [ 2.19632950e+01],\n",
    "       [ 6.54666367e+01],\n",
    "       [-6.46318972e-01],\n",
    "       [ 8.96618366e+00],\n",
    "       [ 3.91192093e+01],\n",
    "       [ 4.65078964e+01],\n",
    "       [ 3.31366501e+01],\n",
    "       [-6.34267807e-01],\n",
    "       [ 6.59554749e+01],\n",
    "       [ 4.71808968e+01],\n",
    "       [ 9.24702911e+01],\n",
    "       [ 3.26066551e+01],\n",
    "       [ 3.71393585e+01],\n",
    "       [ 3.02444324e+01],\n",
    "       [ 2.32243042e+01],\n",
    "       [ 4.87349968e+01],\n",
    "       [ 5.06317215e+01],\n",
    "       [ 1.52811327e+01],\n",
    "       [ 7.17566833e+01],\n",
    "       [ 4.12057152e+01],\n",
    "       [ 2.83827896e+01],\n",
    "       [ 7.09559021e+01],\n",
    "       [ 3.98174324e+01],\n",
    "       [ 8.82701874e+00],\n",
    "       [ 4.62988167e+01],\n",
    "       [-6.17734551e-01],\n",
    "       [ 3.66872673e+01],\n",
    "       [ 7.87610245e+01],\n",
    "       [ 1.28241100e+01],\n",
    "       [ 7.08412111e-01],\n",
    "       [ 3.07254429e+01],\n",
    "       [ 6.89866638e+01],\n",
    "       [ 9.81334972e+00],\n",
    "       [-6.21212959e-01],\n",
    "       [ 2.80373383e+01],\n",
    "       [ 2.22931671e+01],\n",
    "       [ 2.01317196e+01],\n",
    "       [ 3.59420509e+01],\n",
    "       [ 3.97065849e+01],\n",
    "       [ 5.56522179e+01],\n",
    "       [ 3.56798897e+01],\n",
    "       [ 4.12700310e+01],\n",
    "       [ 3.47401161e+01],\n",
    "       [ 6.73426895e+01],\n",
    "       [-6.19711757e-01],\n",
    "       [ 8.55228348e+01],\n",
    "       [ 1.35483505e+02],\n",
    "       [ 5.54211426e+01],\n",
    "       [ 6.42795868e+01],\n",
    "       [ 4.29975014e+01],\n",
    "       [ 4.81073532e+01],\n",
    "       [ 6.25315619e+00],\n",
    "       [ 3.74018478e+01],\n",
    "       [ 2.17851391e+01],\n",
    "       [ 3.60578728e+01],\n",
    "       [ 6.85463867e+01],\n",
    "       [-6.11843169e-01],\n",
    "       [-6.12506628e-01],\n",
    "       [ 6.16203308e+01],\n",
    "       [ 1.93529587e+01],\n",
    "       [ 5.25612736e+00],\n",
    "       [ 4.00330315e+01],\n",
    "       [ 3.23311653e+01],\n",
    "       [ 1.22158203e+01],\n",
    "       [ 3.29100571e+01],\n",
    "       [ 1.79752274e+01],\n",
    "       [-6.13555074e-01],\n",
    "       [ 4.20714760e+01],\n",
    "       [ 1.64077740e+01],\n",
    "       [-6.25986934e-01],\n",
    "       [ 2.67335377e+01],\n",
    "       [ 2.15898705e+01],\n",
    "       [ 3.69666901e+01],\n",
    "       [ 3.33265648e+01],\n",
    "       [ 5.26159477e+01],\n",
    "       [ 4.28852119e+01],\n",
    "       [ 5.63216667e+01],\n",
    "       [ 4.90272408e+01],\n",
    "       [ 8.38616562e+01],\n",
    "       [ 2.43029156e+01],\n",
    "       [ 2.06956077e+00],\n",
    "       [ 2.50208206e+01],\n",
    "       [ 1.32144995e+01],\n",
    "       [ 7.19557619e+00],\n",
    "       [ 5.09813576e+01],\n",
    "       [ 2.98170738e+01],\n",
    "       [ 8.51872787e+01],\n",
    "       [ 3.53055458e+01],\n",
    "       [ 5.88948326e+01],\n",
    "       [-6.31912708e-01],\n",
    "       [ 2.93101768e+01],\n",
    "       [ 2.80886078e+01],\n",
    "       [ 8.11376762e+00],\n",
    "       [ 4.51679535e+01],\n",
    "       [ 9.56310959e+01],\n",
    "       [ 3.44576530e+01],\n",
    "       [ 3.54919548e+01],\n",
    "       [ 4.54494133e+01],\n",
    "       [ 2.96828728e+01],\n",
    "       [ 2.45039635e+01],\n",
    "       [ 4.09219055e+01],\n",
    "       [ 5.86634941e+01],\n",
    "       [ 5.52643051e+01],\n",
    "       [ 2.67997131e+01],\n",
    "       [ 7.50570536e+00],\n",
    "       [ 2.88204346e+01],\n",
    "       [ 8.97341690e+01],\n",
    "       [ 4.38152695e+01],\n",
    "       [ 5.02870331e+01],\n",
    "       [ 1.21561651e+01],\n",
    "       [ 3.77187996e+01],\n",
    "       [ 2.83836517e+01],\n",
    "       [ 3.80873642e+01],\n",
    "       [ 5.22440948e+01]]\n",
    "\n",
    "y_hat_1d = []\n",
    "for y_hat in y_hat_test:\n",
    "    y_hat_1d.append(y_hat[0])\n",
    "print(len(y_test), len(y_hat_test), len(y_hat_1d))"
   ]
  },
  {
   "cell_type": "code",
   "execution_count": 421,
   "metadata": {},
   "outputs": [],
   "source": [
    "def get_rich(y_hats, y, amount=1e4, print_steps=False, print_results=True):\n",
    "    if len(y_hats) != len(y):\n",
    "        print(\"you will never get rich if you can't count\")\n",
    "        return None\n",
    "    \n",
    "    riches = amount\n",
    "    n_shares = 0\n",
    "    own = False # start not owning any shares\n",
    "    n_shares_list = []\n",
    "    \n",
    "    # loop over the days buying and selling\n",
    "    for i in range(0, len(y_hats)-1):\n",
    "        if print_steps:\n",
    "            print('buy')\n",
    "        if y_hats[i] > 0:\n",
    "            # predicted increase so buy if you don't already own\n",
    "            # if you already own, just hold onto the stocks\n",
    "            if not own:\n",
    "                n_shares = riches/y[i]\n",
    "                own = True\n",
    "        else:\n",
    "            if print_steps:\n",
    "                print('sell')\n",
    "            # predicted decrease so sell if you own\n",
    "            if own:\n",
    "                riches = n_shares*y[i]\n",
    "                n_shares = 0\n",
    "                own = False\n",
    "        n_shares_list.append(n_shares)\n",
    "    # assume you always sell on the last day\n",
    "    if own:\n",
    "        riches = n_shares*y[-1]\n",
    "    \n",
    "    if print_results:\n",
    "        print('We ended up with ${:.2f} which is a {:2f}% change'.format(riches, (riches-amount)/amount*100))\n",
    "    return riches, n_shares_list"
   ]
  },
  {
   "cell_type": "code",
   "execution_count": 423,
   "metadata": {},
   "outputs": [
    {
     "name": "stdout",
     "output_type": "stream",
     "text": [
      "We ended up with $43193.46 which is a 331.934576% change\n"
     ]
    }
   ],
   "source": [
    "v, s = get_rich(y_hat_1d,y_test, print_steps=False, print_results=True)"
   ]
  },
  {
   "cell_type": "markdown",
   "metadata": {},
   "source": [
    "<a id=\"test_train_split\"></a>\n",
    "\n",
    "## Test-Train Split\n",
    "\n",
    "> __[10 points]__ Choose the method you will use for dividing your data into training and testing (i.e., are you using Stratified 10-fold cross validation? Shuffle splits? Why?). __Explain why your chosen method is appropriate or use more than one method as appropriate.__ Convince me that your cross validation method is a realistic mirroring of how an algorithm would be used in practice. \n",
    "\n",
    "For this project we will use an 80/20 split for training/testing. We will use the first 80% of the data as the training and the last 20% for testing. We need to preserver the time sequence in our data so we cannot randomly choose the testing and training data. This splitting also matches our custom get_rich metric where we will theoretically invest $10,000 at the time corresponding to the end of the training data and calculate how much money we would have at the end of the testing data. "
   ]
  },
  {
   "cell_type": "markdown",
   "metadata": {},
   "source": [
    "<a id=\"modeling\"></a>\n",
    "\n",
    "# Modeling"
   ]
  },
  {
   "cell_type": "markdown",
   "metadata": {},
   "source": [
    "<a id=\"architectures\"></a>\n",
    "\n",
    "## Architectures\n",
    "\n",
    "> __[20 points]__ Investigate at least two different recurrent network architectures (perhaps LSTM and GRU). Be sure to use an embedding layer (pre-trained, from scratch, or both). Adjust hyper-parameters of the networks as needed to improve generalization performance."
   ]
  },
  {
   "cell_type": "code",
   "execution_count": null,
   "metadata": {},
   "outputs": [],
   "source": [
    "from keras.models import Sequential, Input, Model\n",
    "from keras.layers import Dense\n",
    "from keras.layers import SimpleRNN\n",
    "from keras.layers.embeddings import Embedding\n",
    "from keras.layers import concatenate\n",
    "\n",
    "NEW_NUM = 5\n",
    "\n",
    "EMBED_SIZE = 51\n",
    "\n",
    "all_inputs = []\n",
    "\n",
    "#RNN for all top 25 news share same embeding and RNN layers, defined as below\n",
    "news_embeding_layer = Embedding(top_words, # input dimension (max int of OHE)\n",
    "                    EMBED_SIZE, # output dimension size\n",
    "                    input_length=MAX_ART_LEN)\n",
    "news_rnn_layer = SimpleRNN(25,dropout=0.2, recurrent_dropout=0.2)\n",
    "\n",
    "\n",
    "#first news pass through the RNN\n",
    "news_input = Input(shape=(MAX_ART_LEN, ))\n",
    "all_inputs.append(news_input)\n",
    "\n",
    "input_embed = news_embeding_layer(news_input)\n",
    "print(input_embed.shape)\n",
    "x_tmp = news_rnn_layer(input_embed)\n",
    "x_news = x_tmp\n",
    "\n",
    "\n",
    "#all rest news pass through the RNN, and concanate them, also need to specify the input\n",
    "for start in range(1,25):\n",
    "    news_input = Input(shape=(MAX_ART_LEN, ))\n",
    "    all_inputs.append(news_input)\n",
    "    input_embed = news_embeding_layer(news_input)\n",
    "    x_tmp = news_rnn_layer(input_embed)\n",
    "    x_news = concatenate([x_news, x_tmp])\n",
    "\n",
    "\n",
    "x_news = Dense(NEW_NUM, activation='sigmoid')(x_news)\n",
    "\n",
    "news_model=Model(inputs=all_inputs,outputs=x_news)\n",
    "\n",
    "news_model.compile(loss='binary_crossentropy', \n",
    "              optimizer='rmsprop', \n",
    "              metrics=['accuracy'])\n",
    "#news_model.summary()"
   ]
  },
  {
   "cell_type": "code",
   "execution_count": null,
   "metadata": {},
   "outputs": [],
   "source": [
    "from IPython.display import SVG\n",
    "from keras.utils.vis_utils import model_to_dot\n",
    "\n",
    "# you will need to install pydot properly on your machine to get this running\n",
    "#SVG(model_to_dot(news_model).create(prog='dot', format='svg'))"
   ]
  },
  {
   "cell_type": "code",
   "execution_count": null,
   "metadata": {},
   "outputs": [],
   "source": [
    "BATCH_SIZE = 2\n",
    "TIME_STEPS = 60\n",
    "feature_num = 6\n",
    "\n",
    "DIJA_input=Input(shape=(TIME_STEPS,feature_num))\n",
    "DJIA_rnn_layer=LSTM(10)\n",
    "x_DIJA = DJIA_rnn_layer(DIJA_input)\n",
    "DJIA_model = Model(inputs=DIJA_input,outputs=x_DIJA)\n",
    "\n",
    "all_inputs.append(DIJA_input)\n",
    "\n",
    "DJIA_model.compile(loss='binary_crossentropy', \n",
    "              optimizer='rmsprop', \n",
    "              metrics=['accuracy'])\n",
    "DJIA_model.summary()"
   ]
  },
  {
   "cell_type": "code",
   "execution_count": null,
   "metadata": {},
   "outputs": [],
   "source": [
    "from IPython.display import SVG\n",
    "from keras.utils.vis_utils import model_to_dot\n",
    "\n",
    "# you will need to install pydot properly on your machine to get this running\n",
    "#SVG(model_to_dot(DJIA_model).create(prog='dot', format='svg'))"
   ]
  },
  {
   "cell_type": "code",
   "execution_count": null,
   "metadata": {},
   "outputs": [],
   "source": [
    "x_final = concatenate([x_news, x_DIJA])\n",
    "x = Dense(1, activation='relu')(x_final)\n",
    "\n",
    "final_model=Model(inputs=all_inputs,outputs=x)\n",
    "\n",
    "final_model.compile(loss='mse', \n",
    "              optimizer='adam', \n",
    "              metrics=['accuracy'])\n",
    "#final_model.summary()"
   ]
  },
  {
   "cell_type": "code",
   "execution_count": null,
   "metadata": {},
   "outputs": [],
   "source": [
    "from IPython.display import SVG\n",
    "from keras.utils.vis_utils import model_to_dot\n",
    "\n",
    "# you will need to install pydot properly on your machine to get this running\n",
    "#SVG(model_to_dot(final_model).create(prog='dot', format='svg'))"
   ]
  },
  {
   "cell_type": "code",
   "execution_count": null,
   "metadata": {},
   "outputs": [],
   "source": [
    "def wraped_model(rnn_news_type=SimpleRNN,rnn_DJIA_type=LSTM):\n",
    "    all_inputs = []\n",
    "        \n",
    "    NEWS_NUM = 2\n",
    "    EMBED_SIZE = 51\n",
    "    \n",
    "    news_embeding_layer = Embedding(top_words,\n",
    "                        EMBED_SIZE,\n",
    "                        input_length=MAX_ART_LEN)\n",
    "    news_rnn_layer = rnn_news_type(10,dropout=0.2, recurrent_dropout=0.2)\n",
    "    \n",
    "    news_input = Input(shape=(MAX_ART_LEN, ))\n",
    "    all_inputs.append(news_input)\n",
    "    input_embed = news_embeding_layer(news_input)\n",
    "    x_tmp = news_rnn_layer(input_embed)\n",
    "    x_news = x_tmp\n",
    "    for start in range(1,25):\n",
    "        news_input = Input(shape=(MAX_ART_LEN, ))\n",
    "        all_inputs.append(news_input)\n",
    "        input_embed = news_embeding_layer(news_input)\n",
    "        x_tmp = news_rnn_layer(input_embed)\n",
    "        x_news = concatenate([x_news, x_tmp])\n",
    "    x_news = Dense(NEWS_NUM, activation='relu')(x_news)\n",
    "    \n",
    "    \n",
    "    \n",
    "    BATCH_SIZE = 2\n",
    "    TIME_STEPS = 60\n",
    "    feature_num = 6\n",
    "    \n",
    "    DIJA_input=Input(shape=(TIME_STEPS,feature_num))\n",
    "    DJIA_rnn_layer=rnn_DJIA_type(2,dropout=0.4, recurrent_dropout=0.2)\n",
    "    x_DIJA = DJIA_rnn_layer(DIJA_input)\n",
    "    all_inputs.append(DIJA_input)\n",
    "    \n",
    "    x_final = concatenate([x_news, x_DIJA])\n",
    "    x = Dense(10, activation='relu')(x_final)\n",
    "    x = Dense(1, activation='linear')(x)\n",
    "\n",
    "    final_model=Model(inputs=all_inputs,outputs=x)\n",
    "\n",
    "    final_model.compile(loss='mse', \n",
    "                  optimizer='adam')\n",
    "    return final_model"
   ]
  },
  {
   "cell_type": "code",
   "execution_count": null,
   "metadata": {},
   "outputs": [],
   "source": [
    "model = wraped_model(LSTM,LSTM)\n",
    "#model.summary()"
   ]
  },
  {
   "cell_type": "code",
   "execution_count": null,
   "metadata": {},
   "outputs": [],
   "source": [
    "from IPython.display import SVG\n",
    "from keras.utils.vis_utils import model_to_dot\n",
    "\n",
    "# you will need to install pydot properly on your machine to get this running\n",
    "#SVG(model_to_dot(model).create(prog='dot', format='svg'))"
   ]
  },
  {
   "cell_type": "code",
   "execution_count": null,
   "metadata": {},
   "outputs": [],
   "source": [
    "model.fit(X_train,Y_train,batch_size=128,epochs=20,verbose=1,validation_data=(X_test,Y_test))"
   ]
  },
  {
   "cell_type": "code",
   "execution_count": null,
   "metadata": {},
   "outputs": [],
   "source": [
    "model.predict(X_test)"
   ]
  },
  {
   "cell_type": "code",
   "execution_count": null,
   "metadata": {},
   "outputs": [],
   "source": [
    "print(Y_test)"
   ]
  },
  {
   "cell_type": "markdown",
   "metadata": {},
   "source": [
    "<a id=\"second_chain\"></a>\n",
    "\n",
    "## Second Recurrent Chain\n",
    "\n",
    "> __[20 points]__ Using the best RNN parameters and architecture, add a second recurrent chain to your RNN. The input to the second chain should be the output sequence of the first chain. Visualize the performance of training and validation sets versus the training iterations. "
   ]
  },
  {
   "cell_type": "markdown",
   "metadata": {},
   "source": [
    "<a id=\"evaluation\"></a>\n",
    "\n",
    "## Evaluation\n",
    "\n",
    "> __[20 points]__ Use the method of cross validation and evaluation criteria that you argued for at the beginning of the lab. Visualize the results of all the RNNs you trained.  Use proper statistical comparison techniques to determine which method(s) is (are) superior.  "
   ]
  },
  {
   "cell_type": "markdown",
   "metadata": {},
   "source": [
    "<a id=\"exceptional_work\"></a>\n",
    "\n",
    "# Exceptional Work"
   ]
  },
  {
   "cell_type": "markdown",
   "metadata": {},
   "source": [
    "<a id=\"additional_analysis\"></a>\n",
    "\n",
    "## Additional Analysis\n",
    "\n",
    "> You have free reigh to provide additional analysis"
   ]
  },
  {
   "cell_type": "markdown",
   "metadata": {},
   "source": [
    "<a id=\"simple_numerics\"></a>\n",
    "\n",
    "## Simple RNN (no embeddings)\n",
    "\n",
    "Out of curiousity, we build a RNN using only the stock/index prices not including all of the complication and overhead associated with including the text information. In principle, the news articles could have an effect on the prices, but we are not sure how big of an effect. We will use the pandas_datareader to access the information from yahoo from 2015 to today. We will look at Tesla (TSLA), Microsoft (MSFT), the Dow Jones Industrial average (DJI), and the S&P 500 (GSPC).\n",
    "\n",
    "For this part of the project we will train the model on the previous n (where n is a hyperparameter we will explore) days and try to predict the the the change in closing price from the current day to the next day. This will allow us to predict whether or not the price for the stock will increase or decrease the next day and therefore tell us whether we should buy or sell the stock. Using this method we can try to examine if it is more important to have more historic data, or to include the news."
   ]
  },
  {
   "cell_type": "code",
   "execution_count": 49,
   "metadata": {},
   "outputs": [],
   "source": [
    "import pandas_datareader.data as web\n",
    "import datetime as dt\n",
    "\n",
    "start = dt.datetime(2008, 8, 8)\n",
    "end = dt.datetime.now()\n",
    "\n",
    "# dow https://en.wikipedia.org/wiki/Dow_Jones_Industrial_Average\n",
    "# S&P 500\n",
    "# Nasdaq\n",
    "\n",
    "tsla_df = web.DataReader(\"TSLA\", 'yahoo', start, end)\n",
    "msft_df = web.DataReader(\"MSFT\", 'yahoo', start, end)\n",
    "dji_df = web.DataReader('^DJI', 'yahoo', start, end) # 'yahoo', 'fred'?\n",
    "gspc_df = web.DataReader('^GSPC', 'yahoo', start, end) # 'yahoo', 'fred'?"
   ]
  },
  {
   "cell_type": "code",
   "execution_count": 50,
   "metadata": {},
   "outputs": [],
   "source": [
    "import matplotlib.pyplot as plt\n",
    "%matplotlib inline\n",
    "\n",
    "def plot_stock(df, title=''):\n",
    "    fig = plt.figure()\n",
    "    ax = fig.add_subplot(1,1,1)\n",
    "    ax.plot(df['High'], label='High')\n",
    "    ax.plot(df['Low'], label='Low')\n",
    "    ax.plot(df['Open'], label='Open')\n",
    "    ax.plot(df['Close'], label='Close')\n",
    "    ax.plot(df['Adj Close'], label='Adj Close')\n",
    "    ax.set(title=title, ylabel='price', xlabel='date')\n",
    "    plt.xticks(rotation=45)\n",
    "    l = ax.legend()\n",
    "    fig.show()"
   ]
  },
  {
   "cell_type": "code",
   "execution_count": 51,
   "metadata": {},
   "outputs": [
    {
     "data": {
      "text/html": [
       "<div>\n",
       "<style scoped>\n",
       "    .dataframe tbody tr th:only-of-type {\n",
       "        vertical-align: middle;\n",
       "    }\n",
       "\n",
       "    .dataframe tbody tr th {\n",
       "        vertical-align: top;\n",
       "    }\n",
       "\n",
       "    .dataframe thead th {\n",
       "        text-align: right;\n",
       "    }\n",
       "</style>\n",
       "<table border=\"1\" class=\"dataframe\">\n",
       "  <thead>\n",
       "    <tr style=\"text-align: right;\">\n",
       "      <th></th>\n",
       "      <th>High</th>\n",
       "      <th>Low</th>\n",
       "      <th>Open</th>\n",
       "      <th>Close</th>\n",
       "      <th>Volume</th>\n",
       "      <th>Adj Close</th>\n",
       "    </tr>\n",
       "    <tr>\n",
       "      <th>Date</th>\n",
       "      <th></th>\n",
       "      <th></th>\n",
       "      <th></th>\n",
       "      <th></th>\n",
       "      <th></th>\n",
       "      <th></th>\n",
       "    </tr>\n",
       "  </thead>\n",
       "  <tbody>\n",
       "    <tr>\n",
       "      <th>2008-08-08</th>\n",
       "      <td>28.230000</td>\n",
       "      <td>27.190001</td>\n",
       "      <td>27.350000</td>\n",
       "      <td>28.129999</td>\n",
       "      <td>80814100.0</td>\n",
       "      <td>21.626917</td>\n",
       "    </tr>\n",
       "    <tr>\n",
       "      <th>2008-08-11</th>\n",
       "      <td>28.400000</td>\n",
       "      <td>27.660000</td>\n",
       "      <td>27.860001</td>\n",
       "      <td>27.900000</td>\n",
       "      <td>68743800.0</td>\n",
       "      <td>21.450087</td>\n",
       "    </tr>\n",
       "    <tr>\n",
       "      <th>2008-08-12</th>\n",
       "      <td>28.360001</td>\n",
       "      <td>27.580000</td>\n",
       "      <td>27.780001</td>\n",
       "      <td>28.120001</td>\n",
       "      <td>62813000.0</td>\n",
       "      <td>21.619234</td>\n",
       "    </tr>\n",
       "    <tr>\n",
       "      <th>2008-08-13</th>\n",
       "      <td>28.500000</td>\n",
       "      <td>27.760000</td>\n",
       "      <td>28.070000</td>\n",
       "      <td>27.910000</td>\n",
       "      <td>51165200.0</td>\n",
       "      <td>21.457777</td>\n",
       "    </tr>\n",
       "    <tr>\n",
       "      <th>2008-08-14</th>\n",
       "      <td>28.280001</td>\n",
       "      <td>27.559999</td>\n",
       "      <td>27.820000</td>\n",
       "      <td>27.910000</td>\n",
       "      <td>49732300.0</td>\n",
       "      <td>21.457777</td>\n",
       "    </tr>\n",
       "    <tr>\n",
       "      <th>2008-08-15</th>\n",
       "      <td>28.150000</td>\n",
       "      <td>27.580000</td>\n",
       "      <td>27.980000</td>\n",
       "      <td>27.809999</td>\n",
       "      <td>47267400.0</td>\n",
       "      <td>21.380890</td>\n",
       "    </tr>\n",
       "    <tr>\n",
       "      <th>2008-08-18</th>\n",
       "      <td>28.049999</td>\n",
       "      <td>27.549999</td>\n",
       "      <td>27.780001</td>\n",
       "      <td>27.690001</td>\n",
       "      <td>38078200.0</td>\n",
       "      <td>21.288635</td>\n",
       "    </tr>\n",
       "    <tr>\n",
       "      <th>2008-08-19</th>\n",
       "      <td>27.750000</td>\n",
       "      <td>27.270000</td>\n",
       "      <td>27.540001</td>\n",
       "      <td>27.320000</td>\n",
       "      <td>40332900.0</td>\n",
       "      <td>21.087946</td>\n",
       "    </tr>\n",
       "    <tr>\n",
       "      <th>2008-08-20</th>\n",
       "      <td>27.580000</td>\n",
       "      <td>27.170000</td>\n",
       "      <td>27.540001</td>\n",
       "      <td>27.290001</td>\n",
       "      <td>41497200.0</td>\n",
       "      <td>21.064791</td>\n",
       "    </tr>\n",
       "    <tr>\n",
       "      <th>2008-08-21</th>\n",
       "      <td>27.230000</td>\n",
       "      <td>26.860001</td>\n",
       "      <td>27.100000</td>\n",
       "      <td>27.180000</td>\n",
       "      <td>43614200.0</td>\n",
       "      <td>20.979874</td>\n",
       "    </tr>\n",
       "    <tr>\n",
       "      <th>2008-08-22</th>\n",
       "      <td>27.879999</td>\n",
       "      <td>27.219999</td>\n",
       "      <td>27.230000</td>\n",
       "      <td>27.840000</td>\n",
       "      <td>47930400.0</td>\n",
       "      <td>21.489328</td>\n",
       "    </tr>\n",
       "    <tr>\n",
       "      <th>2008-08-25</th>\n",
       "      <td>27.840000</td>\n",
       "      <td>27.459999</td>\n",
       "      <td>27.610001</td>\n",
       "      <td>27.660000</td>\n",
       "      <td>51381300.0</td>\n",
       "      <td>21.350393</td>\n",
       "    </tr>\n",
       "    <tr>\n",
       "      <th>2008-08-26</th>\n",
       "      <td>27.719999</td>\n",
       "      <td>27.170000</td>\n",
       "      <td>27.580000</td>\n",
       "      <td>27.270000</td>\n",
       "      <td>44774400.0</td>\n",
       "      <td>21.049351</td>\n",
       "    </tr>\n",
       "    <tr>\n",
       "      <th>2008-08-27</th>\n",
       "      <td>27.790001</td>\n",
       "      <td>27.129999</td>\n",
       "      <td>27.340000</td>\n",
       "      <td>27.559999</td>\n",
       "      <td>33975300.0</td>\n",
       "      <td>21.273201</td>\n",
       "    </tr>\n",
       "    <tr>\n",
       "      <th>2008-08-28</th>\n",
       "      <td>28.010000</td>\n",
       "      <td>27.600000</td>\n",
       "      <td>27.610001</td>\n",
       "      <td>27.940001</td>\n",
       "      <td>48372600.0</td>\n",
       "      <td>21.566519</td>\n",
       "    </tr>\n",
       "    <tr>\n",
       "      <th>2008-08-29</th>\n",
       "      <td>27.780001</td>\n",
       "      <td>27.290001</td>\n",
       "      <td>27.680000</td>\n",
       "      <td>27.290001</td>\n",
       "      <td>50735500.0</td>\n",
       "      <td>21.064791</td>\n",
       "    </tr>\n",
       "    <tr>\n",
       "      <th>2008-09-02</th>\n",
       "      <td>27.760000</td>\n",
       "      <td>27.059999</td>\n",
       "      <td>27.670000</td>\n",
       "      <td>27.100000</td>\n",
       "      <td>66079200.0</td>\n",
       "      <td>20.918129</td>\n",
       "    </tr>\n",
       "    <tr>\n",
       "      <th>2008-09-03</th>\n",
       "      <td>27.180000</td>\n",
       "      <td>26.840000</td>\n",
       "      <td>27.000000</td>\n",
       "      <td>26.900000</td>\n",
       "      <td>57127700.0</td>\n",
       "      <td>20.763758</td>\n",
       "    </tr>\n",
       "    <tr>\n",
       "      <th>2008-09-04</th>\n",
       "      <td>26.889999</td>\n",
       "      <td>26.350000</td>\n",
       "      <td>26.740000</td>\n",
       "      <td>26.350000</td>\n",
       "      <td>66141900.0</td>\n",
       "      <td>20.339216</td>\n",
       "    </tr>\n",
       "    <tr>\n",
       "      <th>2008-09-05</th>\n",
       "      <td>26.219999</td>\n",
       "      <td>25.629999</td>\n",
       "      <td>26.030001</td>\n",
       "      <td>25.650000</td>\n",
       "      <td>82305200.0</td>\n",
       "      <td>19.798891</td>\n",
       "    </tr>\n",
       "  </tbody>\n",
       "</table>\n",
       "</div>"
      ],
      "text/plain": [
       "                 High        Low       Open      Close      Volume  Adj Close\n",
       "Date                                                                         \n",
       "2008-08-08  28.230000  27.190001  27.350000  28.129999  80814100.0  21.626917\n",
       "2008-08-11  28.400000  27.660000  27.860001  27.900000  68743800.0  21.450087\n",
       "2008-08-12  28.360001  27.580000  27.780001  28.120001  62813000.0  21.619234\n",
       "2008-08-13  28.500000  27.760000  28.070000  27.910000  51165200.0  21.457777\n",
       "2008-08-14  28.280001  27.559999  27.820000  27.910000  49732300.0  21.457777\n",
       "2008-08-15  28.150000  27.580000  27.980000  27.809999  47267400.0  21.380890\n",
       "2008-08-18  28.049999  27.549999  27.780001  27.690001  38078200.0  21.288635\n",
       "2008-08-19  27.750000  27.270000  27.540001  27.320000  40332900.0  21.087946\n",
       "2008-08-20  27.580000  27.170000  27.540001  27.290001  41497200.0  21.064791\n",
       "2008-08-21  27.230000  26.860001  27.100000  27.180000  43614200.0  20.979874\n",
       "2008-08-22  27.879999  27.219999  27.230000  27.840000  47930400.0  21.489328\n",
       "2008-08-25  27.840000  27.459999  27.610001  27.660000  51381300.0  21.350393\n",
       "2008-08-26  27.719999  27.170000  27.580000  27.270000  44774400.0  21.049351\n",
       "2008-08-27  27.790001  27.129999  27.340000  27.559999  33975300.0  21.273201\n",
       "2008-08-28  28.010000  27.600000  27.610001  27.940001  48372600.0  21.566519\n",
       "2008-08-29  27.780001  27.290001  27.680000  27.290001  50735500.0  21.064791\n",
       "2008-09-02  27.760000  27.059999  27.670000  27.100000  66079200.0  20.918129\n",
       "2008-09-03  27.180000  26.840000  27.000000  26.900000  57127700.0  20.763758\n",
       "2008-09-04  26.889999  26.350000  26.740000  26.350000  66141900.0  20.339216\n",
       "2008-09-05  26.219999  25.629999  26.030001  25.650000  82305200.0  19.798891"
      ]
     },
     "execution_count": 51,
     "metadata": {},
     "output_type": "execute_result"
    }
   ],
   "source": [
    "msft_df.head(20)"
   ]
  },
  {
   "cell_type": "code",
   "execution_count": 52,
   "metadata": {},
   "outputs": [
    {
     "name": "stderr",
     "output_type": "stream",
     "text": [
      "C:\\ProgramData\\Anaconda3\\envs\\machine_learning_python\\lib\\site-packages\\matplotlib\\figure.py:445: UserWarning: Matplotlib is currently using module://ipykernel.pylab.backend_inline, which is a non-GUI backend, so cannot show the figure.\n",
      "  % get_backend())\n"
     ]
    },
    {
     "data": {
      "image/png": "[encoded data removed]",
      "text/plain": [
       "<Figure size 432x288 with 1 Axes>"
      ]
     },
     "metadata": {
      "needs_background": "light"
     },
     "output_type": "display_data"
    }
   ],
   "source": [
    "plot_stock(msft_df, title='MSFT')"
   ]
  },
  {
   "cell_type": "code",
   "execution_count": 98,
   "metadata": {},
   "outputs": [
    {
     "name": "stderr",
     "output_type": "stream",
     "text": [
      "C:\\ProgramData\\Anaconda3\\envs\\machine_learning_python\\lib\\site-packages\\matplotlib\\figure.py:445: UserWarning: Matplotlib is currently using module://ipykernel.pylab.backend_inline, which is a non-GUI backend, so cannot show the figure.\n",
      "  % get_backend())\n"
     ]
    },
    {
     "data": {
      "image/png": "[encoded data removed]",
      "text/plain": [
       "<Figure size 432x288 with 1 Axes>"
      ]
     },
     "metadata": {
      "needs_background": "light"
     },
     "output_type": "display_data"
    }
   ],
   "source": [
    "plot_stock(dji_df, title='Dow')"
   ]
  },
  {
   "cell_type": "markdown",
   "metadata": {},
   "source": [
    "As an exercise in procrastination, we also filter the data some to remove some of the high frequency fluctuations using Fourier filtering. It should be noted that Fourier filtering assumes the data will repreat itself outside of the domain and therefore has no influene on predicting the future as it is. Rather, it only makes the curves smoother and potentially easier to understand."
   ]
  },
  {
   "cell_type": "code",
   "execution_count": 53,
   "metadata": {},
   "outputs": [],
   "source": [
    "import numpy as np\n",
    "\n",
    "def Fourier_filter(data, filter_percent=0.9, plot=False, plot_title=''):\n",
    "    f = np.fft.rfft(data) # use rfft because we have real inputs...\n",
    "    f[int(len(data)*(1-filter_percent)):] = 0\n",
    "    inv = np.fft.irfft(f)\n",
    "    \n",
    "    if plot:\n",
    "        fig = plt.figure()\n",
    "        ax = fig.add_subplot(1,1,1)\n",
    "        ax.plot(data, label='original')\n",
    "        ax.plot(inv, label='filtered {}'.format(filter_percent))\n",
    "        ax.legend()\n",
    "        ax.set(title=plot_title, xlabel='time', ylabel='cost')\n",
    "        fig.show()\n",
    "    \n",
    "    return inv"
   ]
  },
  {
   "cell_type": "code",
   "execution_count": 54,
   "metadata": {},
   "outputs": [
    {
     "data": {
      "image/png": "[encoded data removed]",
      "text/plain": [
       "<Figure size 432x288 with 1 Axes>"
      ]
     },
     "metadata": {
      "needs_background": "light"
     },
     "output_type": "display_data"
    }
   ],
   "source": [
    "filterings = [0.5, 0.9, 0.95, 0.99]\n",
    "\n",
    "fig = plt.figure()\n",
    "ax = fig.add_subplot(1,1,1)\n",
    "for filt in filterings:\n",
    "    res = Fourier_filter(msft_df['Open'].values, filter_percent=filt, plot=False)\n",
    "    ax.plot(res, label='{}%'.format(filt*100))\n",
    "ax.plot(msft_df['Open'].values, label='original')\n",
    "l = ax.legend()\n",
    "ax.set_title('Fourier Filtering of MSFT Open')\n",
    "fig.show()"
   ]
  },
  {
   "cell_type": "markdown",
   "metadata": {},
   "source": [
    "Now back to the real work, we need to preprocess the data some to be able to use it. First, let us make a new target of the change in the closing price from the previoius day. This is a somewhat well behaved parameter."
   ]
  },
  {
   "cell_type": "code",
   "execution_count": 55,
   "metadata": {},
   "outputs": [
    {
     "data": {
      "text/html": [
       "<div>\n",
       "<style scoped>\n",
       "    .dataframe tbody tr th:only-of-type {\n",
       "        vertical-align: middle;\n",
       "    }\n",
       "\n",
       "    .dataframe tbody tr th {\n",
       "        vertical-align: top;\n",
       "    }\n",
       "\n",
       "    .dataframe thead th {\n",
       "        text-align: right;\n",
       "    }\n",
       "</style>\n",
       "<table border=\"1\" class=\"dataframe\">\n",
       "  <thead>\n",
       "    <tr style=\"text-align: right;\">\n",
       "      <th></th>\n",
       "      <th>High</th>\n",
       "      <th>Low</th>\n",
       "      <th>Open</th>\n",
       "      <th>Close</th>\n",
       "      <th>Volume</th>\n",
       "      <th>Adj Close</th>\n",
       "      <th>Change</th>\n",
       "    </tr>\n",
       "    <tr>\n",
       "      <th>Date</th>\n",
       "      <th></th>\n",
       "      <th></th>\n",
       "      <th></th>\n",
       "      <th></th>\n",
       "      <th></th>\n",
       "      <th></th>\n",
       "      <th></th>\n",
       "    </tr>\n",
       "  </thead>\n",
       "  <tbody>\n",
       "    <tr>\n",
       "      <th>2008-08-08</th>\n",
       "      <td>28.230000</td>\n",
       "      <td>27.190001</td>\n",
       "      <td>27.350000</td>\n",
       "      <td>28.129999</td>\n",
       "      <td>80814100.0</td>\n",
       "      <td>21.626917</td>\n",
       "      <td>-0.230000</td>\n",
       "    </tr>\n",
       "    <tr>\n",
       "      <th>2008-08-11</th>\n",
       "      <td>28.400000</td>\n",
       "      <td>27.660000</td>\n",
       "      <td>27.860001</td>\n",
       "      <td>27.900000</td>\n",
       "      <td>68743800.0</td>\n",
       "      <td>21.450087</td>\n",
       "      <td>0.220001</td>\n",
       "    </tr>\n",
       "    <tr>\n",
       "      <th>2008-08-12</th>\n",
       "      <td>28.360001</td>\n",
       "      <td>27.580000</td>\n",
       "      <td>27.780001</td>\n",
       "      <td>28.120001</td>\n",
       "      <td>62813000.0</td>\n",
       "      <td>21.619234</td>\n",
       "      <td>-0.210001</td>\n",
       "    </tr>\n",
       "    <tr>\n",
       "      <th>2008-08-13</th>\n",
       "      <td>28.500000</td>\n",
       "      <td>27.760000</td>\n",
       "      <td>28.070000</td>\n",
       "      <td>27.910000</td>\n",
       "      <td>51165200.0</td>\n",
       "      <td>21.457777</td>\n",
       "      <td>0.000000</td>\n",
       "    </tr>\n",
       "    <tr>\n",
       "      <th>2008-08-14</th>\n",
       "      <td>28.280001</td>\n",
       "      <td>27.559999</td>\n",
       "      <td>27.820000</td>\n",
       "      <td>27.910000</td>\n",
       "      <td>49732300.0</td>\n",
       "      <td>21.457777</td>\n",
       "      <td>-0.100000</td>\n",
       "    </tr>\n",
       "  </tbody>\n",
       "</table>\n",
       "</div>"
      ],
      "text/plain": [
       "                 High        Low       Open      Close      Volume  Adj Close  \\\n",
       "Date                                                                            \n",
       "2008-08-08  28.230000  27.190001  27.350000  28.129999  80814100.0  21.626917   \n",
       "2008-08-11  28.400000  27.660000  27.860001  27.900000  68743800.0  21.450087   \n",
       "2008-08-12  28.360001  27.580000  27.780001  28.120001  62813000.0  21.619234   \n",
       "2008-08-13  28.500000  27.760000  28.070000  27.910000  51165200.0  21.457777   \n",
       "2008-08-14  28.280001  27.559999  27.820000  27.910000  49732300.0  21.457777   \n",
       "\n",
       "              Change  \n",
       "Date                  \n",
       "2008-08-08 -0.230000  \n",
       "2008-08-11  0.220001  \n",
       "2008-08-12 -0.210001  \n",
       "2008-08-13  0.000000  \n",
       "2008-08-14 -0.100000  "
      ]
     },
     "execution_count": 55,
     "metadata": {},
     "output_type": "execute_result"
    }
   ],
   "source": [
    "msft_df['Change'] = msft_df['Close'].diff()\n",
    "msft_df['Change'] = msft_df['Change'].shift(-1)\n",
    "msft_df.head()"
   ]
  },
  {
   "cell_type": "code",
   "execution_count": 56,
   "metadata": {},
   "outputs": [
    {
     "name": "stderr",
     "output_type": "stream",
     "text": [
      "C:\\ProgramData\\Anaconda3\\envs\\machine_learning_python\\lib\\site-packages\\numpy\\lib\\histograms.py:824: RuntimeWarning: invalid value encountered in greater_equal\n",
      "  keep = (tmp_a >= first_edge)\n",
      "C:\\ProgramData\\Anaconda3\\envs\\machine_learning_python\\lib\\site-packages\\numpy\\lib\\histograms.py:825: RuntimeWarning: invalid value encountered in less_equal\n",
      "  keep &= (tmp_a <= last_edge)\n"
     ]
    },
    {
     "data": {
      "text/plain": [
       "(array([   2.,   11.,   21.,  106., 1719.,  766.,   55.,   14.,    6.,\n",
       "           3.]),\n",
       " array([-6.09999847, -4.82999878, -3.55999908, -2.28999939, -1.01999969,\n",
       "         0.25      ,  1.51999969,  2.78999939,  4.05999908,  5.32999878,\n",
       "         6.59999847]),\n",
       " <a list of 10 Patch objects>)"
      ]
     },
     "execution_count": 56,
     "metadata": {},
     "output_type": "execute_result"
    },
    {
     "data": {
      "image/png": "[encoded data removed]",
      "text/plain": [
       "<Figure size 432x288 with 1 Axes>"
      ]
     },
     "metadata": {
      "needs_background": "light"
     },
     "output_type": "display_data"
    }
   ],
   "source": [
    "plt.hist(msft_df['Change'])"
   ]
  },
  {
   "cell_type": "code",
   "execution_count": 57,
   "metadata": {},
   "outputs": [
    {
     "data": {
      "text/plain": [
       "High         0\n",
       "Low          0\n",
       "Open         0\n",
       "Close        0\n",
       "Volume       0\n",
       "Adj Close    0\n",
       "Change       0\n",
       "dtype: int64"
      ]
     },
     "execution_count": 57,
     "metadata": {},
     "output_type": "execute_result"
    }
   ],
   "source": [
    "msft_df.dropna(inplace=True)\n",
    "msft_df.isna().sum()"
   ]
  },
  {
   "cell_type": "markdown",
   "metadata": {},
   "source": [
    "Although we expected no na values, it is a good idea to check. Now we can normalize the data. We will use `MinMaxScalar`, but we could also use `StandardScalar` and likely have similar results. Because we only want to fit the transformation on the training data, we will also do the train-test split (80-20 split). Since we want to preserve the time structure of the data, we will explicetly set `shuffle=False` when calling `train_test_split`."
   ]
  },
  {
   "cell_type": "code",
   "execution_count": 58,
   "metadata": {},
   "outputs": [],
   "source": [
    "from sklearn.preprocessing import MinMaxScaler\n",
    "\n",
    "# how do you normalize these? How do you not data snoop?\n",
    "Data_df = msft_df[[col for col in list(msft_df) if col != 'Change']]\n",
    "Target_df = msft_df['Change']\n",
    "\n",
    "# now the normalization\n",
    "min_max_scaler = MinMaxScaler()\n",
    "X = min_max_scaler.fit_transform(Data_df.values)\n",
    "Y = Target_df.values"
   ]
  },
  {
   "cell_type": "code",
   "execution_count": 59,
   "metadata": {},
   "outputs": [
    {
     "name": "stdout",
     "output_type": "stream",
     "text": [
      "2703 2703\n",
      "(2703, 6)\n",
      "High         2.840000e+01\n",
      "Low          2.766000e+01\n",
      "Open         2.786000e+01\n",
      "Close        2.790000e+01\n",
      "Volume       6.874380e+07\n",
      "Adj Close    2.145009e+01\n",
      "Name: 2008-08-11 00:00:00, dtype: float64\n"
     ]
    }
   ],
   "source": [
    "print(len(X), len(Y))\n",
    "print(X.shape)\n",
    "print(Data_df.iloc[1])"
   ]
  },
  {
   "cell_type": "code",
   "execution_count": 60,
   "metadata": {},
   "outputs": [],
   "source": [
    "# function for making the data sets\n",
    "def make_datasets(X, Y, length=60):\n",
    "    if len(X) != len(Y):\n",
    "        print('you done messed up')\n",
    "    X_data_list = []\n",
    "    Y_data_list = []\n",
    "    for i in range(length, len(X)):\n",
    "        X_data_list.append(X[i-length:i,:])\n",
    "        Y_data_list.append(Y[i])\n",
    "            \n",
    "    X_data = np.array(X_data_list)\n",
    "    Y_data = np.array(Y_data_list)\n",
    "    return(X_data, Y_data)"
   ]
  },
  {
   "cell_type": "code",
   "execution_count": 99,
   "metadata": {},
   "outputs": [],
   "source": [
    "X_dataset, Y_dataset = make_datasets(X, X[:,3])"
   ]
  },
  {
   "cell_type": "code",
   "execution_count": 109,
   "metadata": {},
   "outputs": [
    {
     "name": "stdout",
     "output_type": "stream",
     "text": [
      "X_dataset shape (2643, 60, 6)\n",
      "Y_dataset shape (2643,)\n",
      "[[0.77727862 0.78082432 0.7802827  0.78059759 0.07161158 0.78291746]]\n",
      "[[0.78946008 0.79165211 0.79597677 0.78718055 0.04227164 0.78929051]]\n"
     ]
    }
   ],
   "source": [
    "print('X_dataset shape {}'.format(X_dataset.shape))\n",
    "print('Y_dataset shape {}'.format(Y_dataset.shape))\n",
    "#print('1 {}'.format(X_dataset[1][:10,:]))\n",
    "#print('2 {}'.format(X_dataset[2][:10,:]))\n",
    "print(X_dataset[-1][:1,:])\n",
    "print(X_dataset[-2][:1,:])"
   ]
  },
  {
   "cell_type": "code",
   "execution_count": 125,
   "metadata": {},
   "outputs": [
    {
     "name": "stdout",
     "output_type": "stream",
     "text": [
      "X test shape (476, 60, 6)\n",
      "Y test shape (476,)\n",
      "X train shape (2167, 60, 6)\n",
      "Y train shape (2167,)\n"
     ]
    }
   ],
   "source": [
    "test_size=0.2\n",
    "rand_ind = np.random.randint(0, high=X_dataset.shape[0], size=int(test_size*X_dataset.shape[0]))\n",
    "\n",
    "X_train = []\n",
    "X_test = []\n",
    "Y_train = []\n",
    "Y_test = []\n",
    "\n",
    "for i in range(X_dataset.shape[0]):\n",
    "    if i in rand_ind:\n",
    "        X_test.append(X_dataset[i,:,:])\n",
    "        Y_test.append(Y_dataset[i])\n",
    "    else:\n",
    "        X_train.append(X_dataset[i,:,:])\n",
    "        Y_train.append(Y_dataset[i])\n",
    "X_test = np.array(X_test)\n",
    "Y_test = np.array(Y_test)\n",
    "X_train = np.array(X_train)\n",
    "Y_train = np.array(Y_train)\n",
    "\n",
    "print('X test shape {}'.format(X_test.shape))\n",
    "print('Y test shape {}'.format(Y_test.shape))\n",
    "print('X train shape {}'.format(X_train.shape))\n",
    "print('Y train shape {}'.format(Y_train.shape))"
   ]
  },
  {
   "cell_type": "code",
   "execution_count": 131,
   "metadata": {},
   "outputs": [
    {
     "name": "stdout",
     "output_type": "stream",
     "text": [
      "_________________________________________________________________\n",
      "Layer (type)                 Output Shape              Param #   \n",
      "=================================================================\n",
      "input_12 (InputLayer)        (None, 60, 6)             0         \n",
      "_________________________________________________________________\n",
      "lstm_12 (LSTM)               (None, 10)                680       \n",
      "_________________________________________________________________\n",
      "dense_24 (Dense)             (None, 10)                110       \n",
      "_________________________________________________________________\n",
      "dense_25 (Dense)             (None, 5)                 55        \n",
      "_________________________________________________________________\n",
      "dense_26 (Dense)             (None, 1)                 6         \n",
      "=================================================================\n",
      "Total params: 851\n",
      "Trainable params: 851\n",
      "Non-trainable params: 0\n",
      "_________________________________________________________________\n",
      "None\n"
     ]
    }
   ],
   "source": [
    "from keras.models import Input, Model\n",
    "from keras.layers import Dense\n",
    "from keras.layers import LSTM\n",
    "from keras.callbacks import EarlyStopping\n",
    "\n",
    "input_holder = Input(shape=(X_dataset.shape[1],X_dataset.shape[2]))\n",
    "\n",
    "x = LSTM(10, dropout=0.2, activation='relu', recurrent_dropout=0.2)(input_holder)\n",
    "x = Dense(10, activation='relu')(x)\n",
    "x = Dense(5, activation='relu')(x)\n",
    "x = Dense(1, activation='sigmoid')(x)\n",
    "\n",
    "simple_model = Model(inputs=input_holder, outputs=x)\n",
    "simple_model.compile(loss='mse',\n",
    "                     optimizer='adam')\n",
    "print(simple_model.summary())"
   ]
  },
  {
   "cell_type": "code",
   "execution_count": 132,
   "metadata": {},
   "outputs": [
    {
     "name": "stdout",
     "output_type": "stream",
     "text": [
      "Train on 2167 samples, validate on 476 samples\n",
      "Epoch 1/150\n",
      "2167/2167 [==============================] - 3s 2ms/step - loss: 0.0964 - val_loss: 0.0892\n",
      "Epoch 2/150\n",
      "2167/2167 [==============================] - 2s 806us/step - loss: 0.0815 - val_loss: 0.0745\n",
      "Epoch 3/150\n",
      "2167/2167 [==============================] - 2s 794us/step - loss: 0.0640 - val_loss: 0.0536\n",
      "Epoch 4/150\n",
      "2167/2167 [==============================] - 2s 817us/step - loss: 0.0450 - val_loss: 0.0416\n",
      "Epoch 5/150\n",
      "2167/2167 [==============================] - 2s 834us/step - loss: 0.0322 - val_loss: 0.0256\n",
      "Epoch 6/150\n",
      "2167/2167 [==============================] - 2s 818us/step - loss: 0.0230 - val_loss: 0.0175\n",
      "Epoch 7/150\n",
      "2167/2167 [==============================] - 2s 833us/step - loss: 0.0192 - val_loss: 0.0204\n",
      "Epoch 8/150\n",
      "2167/2167 [==============================] - 2s 841us/step - loss: 0.0155 - val_loss: 0.0138\n",
      "Epoch 9/150\n",
      "2167/2167 [==============================] - 2s 828us/step - loss: 0.0133 - val_loss: 0.0105\n",
      "Epoch 10/150\n",
      "2167/2167 [==============================] - 2s 825us/step - loss: 0.0109 - val_loss: 0.0086\n",
      "Epoch 11/150\n",
      "2167/2167 [==============================] - 2s 824us/step - loss: 0.0102 - val_loss: 0.0072\n",
      "Epoch 12/150\n",
      "2167/2167 [==============================] - 2s 826us/step - loss: 0.0095 - val_loss: 0.0062\n",
      "Epoch 13/150\n",
      "2167/2167 [==============================] - 2s 825us/step - loss: 0.0097 - val_loss: 0.0056\n",
      "Epoch 14/150\n",
      "2167/2167 [==============================] - 2s 795us/step - loss: 0.0084 - val_loss: 0.0051\n",
      "Epoch 15/150\n",
      "2167/2167 [==============================] - 2s 835us/step - loss: 0.0087 - val_loss: 0.0047\n",
      "Epoch 16/150\n",
      "2167/2167 [==============================] - 2s 823us/step - loss: 0.0075 - val_loss: 0.0046\n",
      "Epoch 17/150\n",
      "2167/2167 [==============================] - 2s 808us/step - loss: 0.0084 - val_loss: 0.0044\n",
      "Epoch 18/150\n",
      "2167/2167 [==============================] - 2s 806us/step - loss: 0.0078 - val_loss: 0.0044\n",
      "Epoch 19/150\n",
      "2167/2167 [==============================] - 2s 829us/step - loss: 0.0078 - val_loss: 0.0042\n",
      "Epoch 20/150\n",
      "2167/2167 [==============================] - 2s 785us/step - loss: 0.0067 - val_loss: 0.0041\n",
      "Epoch 21/150\n",
      "2167/2167 [==============================] - 2s 823us/step - loss: 0.0073 - val_loss: 0.0041\n",
      "Epoch 22/150\n",
      "2167/2167 [==============================] - 2s 828us/step - loss: 0.0068 - val_loss: 0.0041\n",
      "Epoch 23/150\n",
      "2167/2167 [==============================] - 2s 802us/step - loss: 0.0063 - val_loss: 0.0040\n",
      "Epoch 24/150\n",
      "2167/2167 [==============================] - 2s 796us/step - loss: 0.0066 - val_loss: 0.0038\n",
      "Epoch 25/150\n",
      "2167/2167 [==============================] - 2s 823us/step - loss: 0.0060 - val_loss: 0.0036\n",
      "Epoch 26/150\n",
      "2167/2167 [==============================] - 2s 794us/step - loss: 0.0065 - val_loss: 0.0036\n",
      "Epoch 27/150\n",
      "2167/2167 [==============================] - 2s 823us/step - loss: 0.0058 - val_loss: 0.0036\n",
      "Epoch 28/150\n",
      "2167/2167 [==============================] - 2s 822us/step - loss: 0.0058 - val_loss: 0.0033\n",
      "Epoch 29/150\n",
      "2167/2167 [==============================] - 2s 823us/step - loss: 0.0059 - val_loss: 0.0033\n",
      "Epoch 30/150\n",
      "2167/2167 [==============================] - 2s 783us/step - loss: 0.0058 - val_loss: 0.0031\n",
      "Epoch 31/150\n",
      "2167/2167 [==============================] - 2s 828us/step - loss: 0.0060 - val_loss: 0.0031\n",
      "Epoch 32/150\n",
      "2167/2167 [==============================] - 2s 796us/step - loss: 0.0052 - val_loss: 0.0030\n",
      "Epoch 33/150\n",
      "2167/2167 [==============================] - 2s 809us/step - loss: 0.0055 - val_loss: 0.0029\n",
      "Epoch 34/150\n",
      "2167/2167 [==============================] - 2s 806us/step - loss: 0.0049 - val_loss: 0.0030\n",
      "Epoch 35/150\n",
      "2167/2167 [==============================] - 2s 800us/step - loss: 0.0050 - val_loss: 0.0028\n",
      "Epoch 36/150\n",
      "2167/2167 [==============================] - 2s 809us/step - loss: 0.0048 - val_loss: 0.0030\n",
      "Epoch 37/150\n",
      "2167/2167 [==============================] - 2s 832us/step - loss: 0.0050 - val_loss: 0.0028\n",
      "Epoch 38/150\n",
      "2167/2167 [==============================] - 2s 826us/step - loss: 0.0048 - val_loss: 0.0027\n",
      "Epoch 39/150\n",
      "2167/2167 [==============================] - 2s 811us/step - loss: 0.0047 - val_loss: 0.0028\n",
      "Epoch 40/150\n",
      "2167/2167 [==============================] - 2s 784us/step - loss: 0.0047 - val_loss: 0.0026\n",
      "Epoch 41/150\n",
      "2167/2167 [==============================] - 2s 782us/step - loss: 0.0043 - val_loss: 0.0025\n",
      "Epoch 42/150\n",
      "2167/2167 [==============================] - 2s 835us/step - loss: 0.0049 - val_loss: 0.0028\n",
      "Epoch 43/150\n",
      "2167/2167 [==============================] - 2s 825us/step - loss: 0.0049 - val_loss: 0.0026\n",
      "Epoch 44/150\n",
      "2167/2167 [==============================] - 2s 801us/step - loss: 0.0042 - val_loss: 0.0027\n"
     ]
    },
    {
     "data": {
      "text/plain": [
       "<keras.callbacks.History at 0x13c9a5b7f60>"
      ]
     },
     "execution_count": 132,
     "metadata": {},
     "output_type": "execute_result"
    }
   ],
   "source": [
    "simple_model.fit(X_train, Y_train, batch_size=128, epochs=150, verbose=1, validation_data=(X_test, Y_test),\n",
    "                 callbacks=[EarlyStopping(monitor='val_loss', \n",
    "                                          patience=3,\n",
    "                                          restore_best_weights=True)])"
   ]
  },
  {
   "cell_type": "code",
   "execution_count": 133,
   "metadata": {},
   "outputs": [],
   "source": [
    "y_hat = simple_model.predict(X_dataset)"
   ]
  },
  {
   "cell_type": "code",
   "execution_count": 134,
   "metadata": {},
   "outputs": [
    {
     "data": {
      "image/png": "[encoded data removed]",
      "text/plain": [
       "<Figure size 1080x360 with 3 Axes>"
      ]
     },
     "metadata": {
      "needs_background": "light"
     },
     "output_type": "display_data"
    }
   ],
   "source": [
    "fig, ax = plt.subplots(nrows=1, ncols=3, sharey=True, figsize=(15,5))\n",
    "\n",
    "ax[0].set_title('combined')\n",
    "ax[0].plot(y_hat, label='yhat', color='blue')\n",
    "ax[0].plot(Y_dataset, label='real', color='orange')\n",
    "l = ax[0].legend()\n",
    "\n",
    "ax[1].set_title('real')\n",
    "ax[1].plot(Y_dataset, color='orange')\n",
    "\n",
    "ax[2].set_title('yhat')\n",
    "ax[2].plot(y_hat, color='blue')\n",
    "plt.show()"
   ]
  },
  {
   "cell_type": "code",
   "execution_count": 148,
   "metadata": {},
   "outputs": [
    {
     "name": "stdout",
     "output_type": "stream",
     "text": [
      "(2643, 1)\n",
      "(2643, 6)\n"
     ]
    },
    {
     "data": {
      "text/plain": [
       "[<matplotlib.lines.Line2D at 0x13ca15f30b8>]"
      ]
     },
     "execution_count": 148,
     "metadata": {},
     "output_type": "execute_result"
    },
    {
     "data": {
      "image/png": "[encoded data removed]",
      "text/plain": [
       "<Figure size 432x288 with 1 Axes>"
      ]
     },
     "metadata": {
      "needs_background": "light"
     },
     "output_type": "display_data"
    }
   ],
   "source": [
    "y_s = np.concatenate([y_hat, y_hat, y_hat, y_hat, y_hat, y_hat], axis=1)\n",
    "print(y_hat.shape)\n",
    "print(y_s.shape)\n",
    "y_pred = min_max_scaler.inverse_transform(y_s)[:,3]\n",
    "plt.plot(y_pred)\n",
    "plt.plot(msft_df['Close'].values)"
   ]
  },
  {
   "cell_type": "code",
   "execution_count": 97,
   "metadata": {},
   "outputs": [
    {
     "data": {
      "text/plain": [
       "(array([   2.,    0.,   10.,   20.,   71.,  288.,  891., 1110.,  198.,\n",
       "          53.]),\n",
       " array([0.02679411, 0.0273051 , 0.0278161 , 0.0283271 , 0.02883809,\n",
       "        0.02934909, 0.02986008, 0.03037108, 0.03088208, 0.03139307,\n",
       "        0.03190407], dtype=float32),\n",
       " <a list of 10 Patch objects>)"
      ]
     },
     "execution_count": 97,
     "metadata": {},
     "output_type": "execute_result"
    },
    {
     "data": {
      "image/png": "[encoded data removed]",
      "text/plain": [
       "<Figure size 432x288 with 1 Axes>"
      ]
     },
     "metadata": {
      "needs_background": "light"
     },
     "output_type": "display_data"
    }
   ],
   "source": [
    "plt.hist(y_hat)"
   ]
  },
  {
   "cell_type": "code",
   "execution_count": 94,
   "metadata": {},
   "outputs": [
    {
     "ename": "TypeError",
     "evalue": "'int' object is not iterable",
     "output_type": "error",
     "traceback": [
      "\u001b[1;31m---------------------------------------------------------------------------\u001b[0m",
      "\u001b[1;31mTypeError\u001b[0m                                 Traceback (most recent call last)",
      "\u001b[1;32m<ipython-input-94-d0a0bf218125>\u001b[0m in \u001b[0;36m<module>\u001b[1;34m\u001b[0m\n\u001b[1;32m----> 1\u001b[1;33m \u001b[0mmlp_input\u001b[0m \u001b[1;33m=\u001b[0m \u001b[0mInput\u001b[0m\u001b[1;33m(\u001b[0m\u001b[0mshape\u001b[0m\u001b[1;33m=\u001b[0m\u001b[1;33m(\u001b[0m\u001b[0mX_dataset\u001b[0m\u001b[1;33m.\u001b[0m\u001b[0mshape\u001b[0m\u001b[1;33m[\u001b[0m\u001b[1;36m1\u001b[0m\u001b[1;33m]\u001b[0m\u001b[1;33m*\u001b[0m\u001b[0mX_dataset\u001b[0m\u001b[1;33m.\u001b[0m\u001b[0mshape\u001b[0m\u001b[1;33m[\u001b[0m\u001b[1;36m2\u001b[0m\u001b[1;33m]\u001b[0m\u001b[1;33m)\u001b[0m\u001b[1;33m)\u001b[0m\u001b[1;33m\u001b[0m\u001b[1;33m\u001b[0m\u001b[0m\n\u001b[0m\u001b[0;32m      2\u001b[0m \u001b[0mx\u001b[0m \u001b[1;33m=\u001b[0m \u001b[0mDense\u001b[0m\u001b[1;33m(\u001b[0m\u001b[1;36m256\u001b[0m\u001b[1;33m,\u001b[0m \u001b[0mactivation\u001b[0m\u001b[1;33m=\u001b[0m\u001b[1;34m'relu'\u001b[0m\u001b[1;33m)\u001b[0m\u001b[1;33m(\u001b[0m\u001b[0mmlp_input\u001b[0m\u001b[1;33m)\u001b[0m\u001b[1;33m\u001b[0m\u001b[1;33m\u001b[0m\u001b[0m\n\u001b[0;32m      3\u001b[0m \u001b[0mx\u001b[0m \u001b[1;33m=\u001b[0m \u001b[0mDropout\u001b[0m\u001b[1;33m(\u001b[0m\u001b[1;36m0.25\u001b[0m\u001b[1;33m)\u001b[0m\u001b[1;33m(\u001b[0m\u001b[0mx\u001b[0m\u001b[1;33m)\u001b[0m\u001b[1;33m\u001b[0m\u001b[1;33m\u001b[0m\u001b[0m\n\u001b[0;32m      4\u001b[0m \u001b[0mx\u001b[0m \u001b[1;33m=\u001b[0m \u001b[0mDense\u001b[0m\u001b[1;33m(\u001b[0m\u001b[1;36m256\u001b[0m\u001b[1;33m,\u001b[0m \u001b[0mactivation\u001b[0m\u001b[1;33m=\u001b[0m\u001b[1;34m'relu'\u001b[0m\u001b[1;33m)\u001b[0m\u001b[1;33m(\u001b[0m\u001b[0mx\u001b[0m\u001b[1;33m)\u001b[0m\u001b[1;33m\u001b[0m\u001b[1;33m\u001b[0m\u001b[0m\n\u001b[0;32m      5\u001b[0m \u001b[0mx\u001b[0m \u001b[1;33m=\u001b[0m \u001b[0mDropout\u001b[0m\u001b[1;33m(\u001b[0m\u001b[1;36m0.25\u001b[0m\u001b[1;33m)\u001b[0m\u001b[1;33m(\u001b[0m\u001b[0mx\u001b[0m\u001b[1;33m)\u001b[0m\u001b[1;33m\u001b[0m\u001b[1;33m\u001b[0m\u001b[0m\n",
      "\u001b[1;32mC:\\ProgramData\\Anaconda3\\envs\\machine_learning_python\\lib\\site-packages\\keras\\engine\\input_layer.py\u001b[0m in \u001b[0;36mInput\u001b[1;34m(shape, batch_shape, name, dtype, sparse, tensor)\u001b[0m\n\u001b[0;32m    170\u001b[0m                                    'dimension.')\n\u001b[0;32m    171\u001b[0m     \u001b[1;32mif\u001b[0m \u001b[0mshape\u001b[0m \u001b[1;32mis\u001b[0m \u001b[1;32mnot\u001b[0m \u001b[1;32mNone\u001b[0m \u001b[1;32mand\u001b[0m \u001b[1;32mnot\u001b[0m \u001b[0mbatch_shape\u001b[0m\u001b[1;33m:\u001b[0m\u001b[1;33m\u001b[0m\u001b[1;33m\u001b[0m\u001b[0m\n\u001b[1;32m--> 172\u001b[1;33m         \u001b[0mbatch_shape\u001b[0m \u001b[1;33m=\u001b[0m \u001b[1;33m(\u001b[0m\u001b[1;32mNone\u001b[0m\u001b[1;33m,\u001b[0m\u001b[1;33m)\u001b[0m \u001b[1;33m+\u001b[0m \u001b[0mtuple\u001b[0m\u001b[1;33m(\u001b[0m\u001b[0mshape\u001b[0m\u001b[1;33m)\u001b[0m\u001b[1;33m\u001b[0m\u001b[1;33m\u001b[0m\u001b[0m\n\u001b[0m\u001b[0;32m    173\u001b[0m     \u001b[1;32mif\u001b[0m \u001b[1;32mnot\u001b[0m \u001b[0mdtype\u001b[0m\u001b[1;33m:\u001b[0m\u001b[1;33m\u001b[0m\u001b[1;33m\u001b[0m\u001b[0m\n\u001b[0;32m    174\u001b[0m         \u001b[0mdtype\u001b[0m \u001b[1;33m=\u001b[0m \u001b[0mK\u001b[0m\u001b[1;33m.\u001b[0m\u001b[0mfloatx\u001b[0m\u001b[1;33m(\u001b[0m\u001b[1;33m)\u001b[0m\u001b[1;33m\u001b[0m\u001b[1;33m\u001b[0m\u001b[0m\n",
      "\u001b[1;31mTypeError\u001b[0m: 'int' object is not iterable"
     ]
    }
   ],
   "source": [
    "mlp_input = Input(shape=(X_dataset.shape[1]*X_dataset.shape[2]))\n",
    "x = Dense(256, activation='relu')(mlp_input)\n",
    "x = Dropout(0.25)(x)\n",
    "x = Dense(256, activation='relu')(x)\n",
    "x = Dropout(0.25)(x)\n",
    "x = Dense(128, activation='relu')(x)\n",
    "x = Dropout(x)\n",
    "x = Dense(1, activation='sigmoid')\n",
    "\n",
    "mlp = Model(inputs=mlp_input, outputs=x)\n",
    "mlp.compile(loss='mse', optimizer='adam')\n",
    "print(mlp.summary)"
   ]
  },
  {
   "cell_type": "markdown",
   "metadata": {},
   "source": [
    "<a id=\"visualize_embeddings\"></a>\n",
    "\n",
    "## Visualize Word Embeddings\n",
    "\n",
    "> One idea (__required for 7000 level students__): Use t-SNE (or SVD) to visualize the word embeddings of a subset of words in your vocabulary. Try to interpret what each dimension reflects (in your own words). That is, try to explain what aspect of the language is encoded in the reduced dimensionality embedding. \n",
    "\n",
    "For this section we will start with a embedding matrix of our vocabulary using GloVe 50, 100, 200, and 300. We will then use t-SNE to reduce the dimensionality to 2 dimensions. We will then find the lenght of the diffence vectors between two words that we think are similar. Finally we will compare the diffence vectors length from each of the starting dimensionalities and see how close the words remained in reduced dimensionality space.\n",
    "\n",
    "Also, t-SNE does not try to maintain distances so trying to compare the distances between vectors from a high dimension space to a low dimension space will not provide any information."
   ]
  },
  {
   "cell_type": "code",
   "execution_count": 435,
   "metadata": {},
   "outputs": [
    {
     "name": "stdout",
     "output_type": "stream",
     "text": [
      "first 5 words: ['we', 'the', 'people', 'of', 'the']\n",
      "total words found 7620\n"
     ]
    }
   ],
   "source": [
    "# first loat the constitution and clean it some\n",
    "with open('texts/const.txt', 'r') as f:\n",
    "    dat = f.read().lower()\n",
    "    \n",
    "word = ''\n",
    "word_list = []\n",
    "for c in dat:\n",
    "    if c in ['\\n']:\n",
    "        c = ' '\n",
    "    if c in [',', '.', ';']:\n",
    "        continue\n",
    "    if c == ' ': # new word\n",
    "        if word != '':\n",
    "            word_list.append(word)\n",
    "        word = ''\n",
    "    else:\n",
    "        word += c\n",
    "        \n",
    "print('first 5 words: {}'.format(word_list[:5]))\n",
    "print('total words found {}'.format(len(word_list)))"
   ]
  },
  {
   "cell_type": "code",
   "execution_count": 436,
   "metadata": {},
   "outputs": [],
   "source": [
    "# now tokenize to get the dictionary\n",
    "import keras\n",
    "from keras.preprocessing.text import Tokenizer\n",
    "\n",
    "NUM_TOP_WORDS=None\n",
    "\n",
    "tokenizer = Tokenizer(num_words=NUM_TOP_WORDS)\n",
    "tokenizer.fit_on_texts(word_list)\n",
    "sequences = tokenizer.texts_to_sequences(word_list)\n",
    "\n",
    "word_index = tokenizer.word_index"
   ]
  },
  {
   "cell_type": "code",
   "execution_count": 437,
   "metadata": {},
   "outputs": [
    {
     "name": "stdout",
     "output_type": "stream",
     "text": [
      "working on size 50\n",
      "Found 400000 word vectors.\n",
      "embedding matrix size (1167, 50)\n",
      "working on size 100\n",
      "Found 400000 word vectors.\n",
      "embedding matrix size (1167, 100)\n",
      "working on size 200\n",
      "Found 400000 word vectors.\n",
      "embedding matrix size (1167, 200)\n",
      "working on size 300\n",
      "Found 400000 word vectors.\n",
      "embedding matrix size (1167, 300)\n"
     ]
    }
   ],
   "source": [
    "embed_sizes = [50, 100, 200, 300]\n",
    "full_size_embed_dict = {}\n",
    "for EMBED_SIZE in embed_sizes:\n",
    "    print('working on size {}'.format(EMBED_SIZE))\n",
    "    # the embed size should match the file you load glove from\n",
    "    embeddings_index = {}\n",
    "    with open('glove.6B/glove.6B.{}d.txt'.format(EMBED_SIZE), 'r', encoding='utf-8') as f:\n",
    "    # save key/array pairs of the embeddings\n",
    "    #  the key of the dictionary is the word, the array is the embedding\n",
    "        for line in f:\n",
    "            values = line.split()\n",
    "            word = values[0]\n",
    "            coefs = np.asarray(values[1:], dtype='float32')\n",
    "            embeddings_index[word] = coefs\n",
    "\n",
    "    print('Found %s word vectors.' % len(embeddings_index))\n",
    "\n",
    "    # now fill in the matrix, using the ordering from the\n",
    "    #  keras word tokenizer from before\n",
    "    embedding_matrix = np.zeros((len(word_index) + 1, EMBED_SIZE))\n",
    "    for word, i in word_index.items():\n",
    "        embedding_vector = embeddings_index.get(word)\n",
    "        if embedding_vector is not None:\n",
    "            # words not found in embedding index will be all-zeros.\n",
    "            embedding_matrix[i] = embedding_vector\n",
    "\n",
    "    print('embedding matrix size {}'.format(embedding_matrix.shape))\n",
    "    full_size_embed_dict[EMBED_SIZE] = embedding_matrix"
   ]
  },
  {
   "cell_type": "code",
   "execution_count": 441,
   "metadata": {},
   "outputs": [
    {
     "name": "stdout",
     "output_type": "stream",
     "text": [
      "now working on size 50\n",
      "original matrix size (1167, 50)\n",
      "reduced matrix size (1167, 2)\n",
      "now working on size 100\n",
      "original matrix size (1167, 100)\n",
      "reduced matrix size (1167, 2)\n",
      "now working on size 200\n",
      "original matrix size (1167, 200)\n",
      "reduced matrix size (1167, 2)\n",
      "now working on size 300\n",
      "original matrix size (1167, 300)\n",
      "reduced matrix size (1167, 2)\n"
     ]
    }
   ],
   "source": [
    "# now use t-SNE to reduct dimensionality for each starting dimension\n",
    "from sklearn.manifold import TSNE\n",
    "\n",
    "reduced_size_embed_dict = {}\n",
    "original_sizes = [50, 100, 200, 300]\n",
    "for orig_size in original_sizes:\n",
    "    print('now working on size {}'.format(orig_size))\n",
    "    original_matrix = full_size_embed_dict[orig_size]\n",
    "    print('original matrix size {}'.format(original_matrix.shape))\n",
    "    reduced_matrix = TSNE(n_components=2).fit_transform(original_matrix)\n",
    "    print('reduced matrix size {}'.format(reduced_matrix.shape))\n",
    "    reduced_size_embed_dict[orig_size] = reduced_matrix"
   ]
  },
  {
   "cell_type": "code",
   "execution_count": 452,
   "metadata": {},
   "outputs": [],
   "source": [
    "# now find the distances between words\n",
    "\n",
    "word_pairs = [['representatives','members'],\n",
    "              ['representatives','electors'],\n",
    "              ['representatives','person'],\n",
    "              ['members','electors'],\n",
    "              ['members','person'],\n",
    "              ['electors','person']]\n",
    "\n",
    "original_sizes = [50, 100, 200, 300]\n",
    "\n",
    "dict_of_lists = {}\n",
    "for orig_size in original_sizes:\n",
    "    results_list = []\n",
    "    matrix = reduced_size_embed_dict[orig_size]\n",
    "    for word_pair in word_pairs:\n",
    "        i_1 = word_index[word_pair[0]]\n",
    "        i_2 = word_index[word_pair[1]]\n",
    "        v1 = matrix[i_1,:]\n",
    "        v2 = matrix[i_2,:]\n",
    "        d = np.linalg.norm((v1-v2))\n",
    "        results_list.append(word_pair+[d])\n",
    "    dict_of_lists[orig_size] = results_list"
   ]
  },
  {
   "cell_type": "code",
   "execution_count": 454,
   "metadata": {},
   "outputs": [
    {
     "name": "stdout",
     "output_type": "stream",
     "text": [
      "[['representatives', 'members', 0.28411523], ['representatives', 'electors', 8.701734], ['representatives', 'person', 45.378864], ['members', 'electors', 8.949278], ['members', 'person', 45.277645], ['electors', 'person', 44.877583]]\n",
      "\n",
      "[['representatives', 'members', 0.94235283], ['representatives', 'electors', 13.499917], ['representatives', 'person', 27.282352], ['members', 'electors', 13.70231], ['members', 'person', 26.352997], ['electors', 'person', 30.669859]]\n",
      "\n",
      "[['representatives', 'members', 2.107083], ['representatives', 'electors', 7.352334], ['representatives', 'person', 31.682865], ['members', 'electors', 8.701088], ['members', 'person', 29.887543], ['electors', 'person', 38.440357]]\n",
      "\n",
      "[['representatives', 'members', 2.312228], ['representatives', 'electors', 6.104378], ['representatives', 'person', 27.434294], ['members', 'electors', 8.371031], ['members', 'person', 25.157541], ['electors', 'person', 33.527973]]\n"
     ]
    }
   ],
   "source": [
    "print(dict_of_lists[50])\n",
    "print()\n",
    "print(dict_of_lists[100])\n",
    "print()\n",
    "print(dict_of_lists[200])\n",
    "print()\n",
    "print(dict_of_lists[300])"
   ]
  },
  {
   "cell_type": "code",
   "execution_count": 467,
   "metadata": {},
   "outputs": [
    {
     "data": {
      "image/png": "[encoded data removed]",
      "text/plain": [
       "<Figure size 1440x360 with 4 Axes>"
      ]
     },
     "metadata": {
      "needs_background": "light"
     },
     "output_type": "display_data"
    }
   ],
   "source": [
    "# now plot all of the words\n",
    "original_sizes = [50, 100, 200, 300]\n",
    "\n",
    "fig, axes = plt.subplots(nrows=1, ncols=4, figsize=(20,5))\n",
    "fig.suptitle('Using the Constitution Dictionary')\n",
    "for i in range(len(original_sizes)):\n",
    "    original_size = original_sizes[i]\n",
    "    embed_mat = reduced_size_embed_dict[original_size]\n",
    "    ax = axes[i]\n",
    "    ax.set_title('Reduced from {} dimensions'.format(original_size))\n",
    "    ax.scatter(embed_mat[:,0], embed_mat[:,1], marker='.', color='black')\n",
    "    ax.set_ylim(-60, 60)\n",
    "    ax.set_xlim(-60, 60)\n",
    "    # now the special words\n",
    "    for word_pair in word_pairs:\n",
    "        i_1 = word_index[word_pair[0]]\n",
    "        i_2 = word_index[word_pair[1]]\n",
    "        v1 = embed_mat[i_1,:]\n",
    "        v2 = embed_mat[i_2,:]\n",
    "        ax.scatter(v1[0], v1[1], marker='x', color='red')\n",
    "        ax.scatter(v2[0], v2[1], marker='x', color='red')"
   ]
  },
  {
   "cell_type": "code",
   "execution_count": 480,
   "metadata": {},
   "outputs": [
    {
     "name": "stdout",
     "output_type": "stream",
     "text": [
      "working on size 50\n",
      "Found 400000 word vectors.\n",
      "embedding matrix size (10000, 50)\n",
      "working on size 100\n",
      "Found 400000 word vectors.\n",
      "embedding matrix size (10000, 100)\n",
      "working on size 200\n",
      "Found 400000 word vectors.\n",
      "embedding matrix size (10000, 200)\n",
      "working on size 300\n",
      "Found 400000 word vectors.\n",
      "embedding matrix size (10000, 300)\n"
     ]
    }
   ],
   "source": [
    "# now instead of using only the constitution vocabulary, use the first n_lines from the GloVe embedding and hope for the best\n",
    "\n",
    "n_lines = 10000\n",
    "embed_sizes = [50, 100, 200, 300]\n",
    "full_size_glove_embed_dict = {}\n",
    "glove_word_index = {}\n",
    "for EMBED_SIZE in embed_sizes:\n",
    "    print('working on size {}'.format(EMBED_SIZE))\n",
    "    # the embed size should match the file you load glove from\n",
    "    embeddings_glove_index = {}\n",
    "    with open('glove.6B/glove.6B.{}d.txt'.format(EMBED_SIZE), 'r', encoding='utf-8') as f:\n",
    "    # save key/array pairs of the embeddings\n",
    "    #  the key of the dictionary is the word, the array is the embedding\n",
    "        i=0\n",
    "        embedding_matrix = np.zeros((n_lines, EMBED_SIZE))\n",
    "        for line in f:\n",
    "            values = line.split()\n",
    "            word = values[0]\n",
    "            coefs = np.asarray(values[1:], dtype='float32')\n",
    "            embeddings_glove_index[word] = coefs\n",
    "            embedding_matrix[i] = coefs\n",
    "            glove_word_index[word] = i\n",
    "\n",
    "    print('Found %s word vectors.' % len(embeddings_index))\n",
    "\n",
    "    print('embedding matrix size {}'.format(embedding_matrix.shape))\n",
    "    full_size_glove_embed_dict[EMBED_SIZE] = embedding_matrix"
   ]
  },
  {
   "cell_type": "code",
   "execution_count": 481,
   "metadata": {},
   "outputs": [
    {
     "name": "stdout",
     "output_type": "stream",
     "text": [
      "now working on size 50\n",
      "original matrix size (10000, 50)\n",
      "reduced matrix size (10000, 2)\n",
      "now working on size 100\n",
      "original matrix size (10000, 100)\n",
      "reduced matrix size (10000, 2)\n",
      "now working on size 200\n",
      "original matrix size (10000, 200)\n",
      "reduced matrix size (10000, 2)\n",
      "now working on size 300\n",
      "original matrix size (10000, 300)\n",
      "reduced matrix size (10000, 2)\n"
     ]
    }
   ],
   "source": [
    "# now use t-SNE to reduct dimensionality for each starting dimension\n",
    "from sklearn.manifold import TSNE\n",
    "\n",
    "reduced_size_glove_embed_dict = {}\n",
    "original_sizes = [50, 100, 200, 300]\n",
    "for orig_size in original_sizes:\n",
    "    print('now working on size {}'.format(orig_size))\n",
    "    original_matrix = full_size_glove_embed_dict[orig_size]\n",
    "    print('original matrix size {}'.format(original_matrix.shape))\n",
    "    reduced_matrix = TSNE(n_components=2).fit_transform(original_matrix)\n",
    "    print('reduced matrix size {}'.format(reduced_matrix.shape))\n",
    "    reduced_size_glove_embed_dict[orig_size] = reduced_matrix"
   ]
  },
  {
   "cell_type": "code",
   "execution_count": 482,
   "metadata": {},
   "outputs": [
    {
     "data": {
      "image/png": "[encoded data removed]",
      "text/plain": [
       "<Figure size 1440x360 with 4 Axes>"
      ]
     },
     "metadata": {
      "needs_background": "light"
     },
     "output_type": "display_data"
    }
   ],
   "source": [
    "# now plot all of the words\n",
    "original_sizes = [50, 100, 200, 300]\n",
    "\n",
    "fig, axes = plt.subplots(nrows=1, ncols=4, figsize=(20,5))\n",
    "fig.suptitle('Using the first words of GloVe')\n",
    "for i in range(len(original_sizes)):\n",
    "    original_size = original_sizes[i]\n",
    "    embed_mat = reduced_size_glove_embed_dict[original_size]\n",
    "    ax = axes[i]\n",
    "    ax.set_title('Reduced from {} dimensions'.format(original_size))\n",
    "    ax.scatter(embed_mat[:,0], embed_mat[:,1], marker='.', color='black')\n",
    "#    ax.set_ylim(-60, 60)\n",
    "#    ax.set_xlim(-60, 60)\n",
    "    # now the special words\n",
    "    for word_pair in word_pairs:\n",
    "        i_1 = glove_word_index[word_pair[0]]\n",
    "        i_2 = glove_word_index[word_pair[1]]\n",
    "        v1 = embed_mat[i_1,:]\n",
    "        v2 = embed_mat[i_2,:]\n",
    "        ax.scatter(v1[0], v1[1], marker='x', color='red')\n",
    "        ax.scatter(v2[0], v2[1], marker='x', color='red')\n",
    "    for word in ['state', 'states']:\n",
    "        i_w = glove_word_index[word]\n",
    "        v = embed_mat[i_w]\n",
    "        ax.scatter(v[0], v[1], marker='o', color='green')"
   ]
  },
  {
   "cell_type": "markdown",
   "metadata": {},
   "source": [
    "<a id=\"novel_text\"></a>\n",
    "\n",
    "## Novel Text\n",
    "\n",
    "> Another Idea (NOT required): Try to create a RNN for generating novel text. "
   ]
  },
  {
   "cell_type": "markdown",
   "metadata": {},
   "source": [
    "### Word by Word"
   ]
  },
  {
   "cell_type": "code",
   "execution_count": 328,
   "metadata": {},
   "outputs": [
    {
     "name": "stdout",
     "output_type": "stream",
     "text": [
      "['we', 'the', 'people', 'of', 'the']\n"
     ]
    }
   ],
   "source": [
    "# first get a list of words\n",
    "\n",
    "with open('texts/const.txt', 'r') as f:\n",
    "    dat = f.read().lower()\n",
    "    \n",
    "i = 0\n",
    "word = ''\n",
    "word_list = []\n",
    "for c in dat:\n",
    "    if c in ['\\n']:\n",
    "        c = ' '\n",
    "    if c in [',', '.', ';']:\n",
    "        continue\n",
    "    if c == ' ': # new word\n",
    "        if word != '':\n",
    "            word_list.append(word)\n",
    "        word = ''\n",
    "    else:\n",
    "        word += c\n",
    "        \n",
    "print(word_list[:5])"
   ]
  },
  {
   "cell_type": "code",
   "execution_count": 330,
   "metadata": {},
   "outputs": [
    {
     "name": "stdout",
     "output_type": "stream",
     "text": [
      "unique words 1185\n",
      "total words 7620\n"
     ]
    }
   ],
   "source": [
    "const_words = sorted(list(set(word_list))) # get unique words\n",
    "print('unique words {}'.format(len(const_words)))\n",
    "print('total words {}'.format(len(word_list)))"
   ]
  },
  {
   "cell_type": "code",
   "execution_count": 331,
   "metadata": {},
   "outputs": [],
   "source": [
    "word_indices = dict((c,i) for i, c in enumerate(const_words))\n",
    "indices_word = dict((i,c) for i, c in enumerate(const_words))"
   ]
  },
  {
   "cell_type": "code",
   "execution_count": 335,
   "metadata": {},
   "outputs": [
    {
     "name": "stdout",
     "output_type": "stream",
     "text": [
      "1147\n",
      "we\n"
     ]
    }
   ],
   "source": [
    "print(word_indices['we'])\n",
    "print(indices_word[1147])"
   ]
  },
  {
   "cell_type": "code",
   "execution_count": 375,
   "metadata": {},
   "outputs": [],
   "source": [
    "max_len = 40\n",
    "step = 3\n",
    "sentences = []\n",
    "next_words = []\n",
    "for i in range(0, len(word_list) - max_len, step):\n",
    "    sentences.append(word_list[i:i+max_len])\n",
    "    next_words.append(word_list[i+max_len])\n",
    "    \n",
    "x = np.zeros((len(sentences), max_len, len(const_words)), dtype=np.bool)\n",
    "y = np.zeros((len(sentences), len(const_words)), dtype=np.bool)\n",
    "\n",
    "for i, sentence in enumerate(sentences):\n",
    "    for t, word in enumerate(sentence):\n",
    "        x[i, t, word_indices[word]] = 1\n",
    "    y[i, word_indices[next_words[i]]] = 1"
   ]
  },
  {
   "cell_type": "code",
   "execution_count": 376,
   "metadata": {},
   "outputs": [
    {
     "name": "stdout",
     "output_type": "stream",
     "text": [
      "Found 400000 word vectors.\n",
      "(1186, 50)\n",
      "Wall time: 9.38 s\n"
     ]
    }
   ],
   "source": [
    "%%time\n",
    "EMBED_SIZE = 50\n",
    "# the embed size should match the file you load glove from\n",
    "embeddings_index = {}\n",
    "# save key/array pairs of the embeddings\n",
    "#  the key of the dictionary is the word, the array is the embedding\n",
    "with open('glove.6B/glove.6B.50d.txt', 'r', encoding='utf-8') as f:\n",
    "    for line in f:\n",
    "        values = line.split()\n",
    "        word = values[0]\n",
    "        coefs = np.asarray(values[1:], dtype='float32')\n",
    "        embeddings_index[word] = coefs\n",
    "\n",
    "print('Found %s word vectors.' % len(embeddings_index))\n",
    "\n",
    "# now fill in the matrix, using the ordering from the\n",
    "#  keras word tokenizer from before\n",
    "embedding_matrix = np.zeros((len(word_indices) + 1, EMBED_SIZE))\n",
    "for word, i in word_indices.items():\n",
    "    embedding_vector = embeddings_index.get(word)\n",
    "    if embedding_vector is not None:\n",
    "        # words not found in embedding index will be all-zeros.\n",
    "        embedding_matrix[i] = embedding_vector\n",
    "\n",
    "print(embedding_matrix.shape)"
   ]
  },
  {
   "cell_type": "code",
   "execution_count": 377,
   "metadata": {},
   "outputs": [],
   "source": [
    "from keras.layers import Embedding\n",
    "\n",
    "embedding_layer = Embedding(len(word_indices)+1,\n",
    "                           EMBED_SIZE,\n",
    "                           weights=[embedding_matrix],\n",
    "                           input_length=max_len,\n",
    "                           trainable=False)"
   ]
  },
  {
   "cell_type": "code",
   "execution_count": 381,
   "metadata": {},
   "outputs": [
    {
     "name": "stdout",
     "output_type": "stream",
     "text": [
      "_________________________________________________________________\n",
      "Layer (type)                 Output Shape              Param #   \n",
      "=================================================================\n",
      "embedding_2 (Embedding)      (None, 40, 50)            59300     \n",
      "_________________________________________________________________\n",
      "lstm_23 (LSTM)               (None, 128)               91648     \n",
      "_________________________________________________________________\n",
      "dense_38 (Dense)             (None, 1185)              152865    \n",
      "_________________________________________________________________\n",
      "activation_11 (Activation)   (None, 1185)              0         \n",
      "=================================================================\n",
      "Total params: 303,813\n",
      "Trainable params: 244,513\n",
      "Non-trainable params: 59,300\n",
      "_________________________________________________________________\n",
      "None\n"
     ]
    }
   ],
   "source": [
    "from keras.models import Sequential\n",
    "from keras.layers import Dense, Activation\n",
    "from keras.layers import LSTM\n",
    "from keras.optimizers import RMSprop\n",
    "    \n",
    "word_model = Sequential()\n",
    "word_model.add(embedding_layer)\n",
    "word_model.add(LSTM(128, input_shape=(max_len, len(const_words))))\n",
    "word_model.add(Dense(len(const_words)))\n",
    "word_model.add(Activation('softmax'))\n",
    "optimizer = RMSprop(lr=0.01)\n",
    "word_model.compile(loss='categorical_crossentropy', optimizer=optimizer)\n",
    "print(word_model.summary())"
   ]
  },
  {
   "cell_type": "code",
   "execution_count": 370,
   "metadata": {},
   "outputs": [],
   "source": [
    "# helper functions from official LSTM text generation example from Keras Team\n",
    "from keras.callbacks import LambdaCallback\n",
    "from keras.callbacks import ModelCheckpoint\n",
    "from keras.callbacks import ReduceLROnPlateau\n",
    "from keras.callbacks import CSVLogger\n",
    "import random\n",
    "import sys\n",
    "\n",
    "def sample(preds, temperature=1.0):\n",
    "    # helper function to sample an index from a probability array\n",
    "    preds = np.asarray(preds).astype('float64')\n",
    "    preds = np.log(preds) / temperature\n",
    "    exp_preds = np.exp(preds)\n",
    "    preds = exp_preds / np.sum(exp_preds)\n",
    "    probas = np.random.multinomial(1, preds, 1)\n",
    "    return np.argmax(probas)\n",
    "\n",
    "def on_epoch_end(epoch, logs):\n",
    "    # Function invoked at end of each epoch. Prints generated text.\n",
    "    print()\n",
    "    print('----- Generating text after Epoch: %d' % epoch)\n",
    "    print('----- Generating text after Epoch: %d' % epoch, file=writefile)\n",
    "    \n",
    "    start_index = 0\n",
    "    #start_index = random.randint(0, len(const) - max_len - 1)\n",
    "    for diversity in [0.2, 0.5, 1.0, 1.2]:\n",
    "        print('----- diversity:', diversity)\n",
    "        print('----- diversity:', diversity, file=writefile)\n",
    "\n",
    "        generated = []\n",
    "        #sentence = const[start_index: start_index + max_len]\n",
    "        sentence = ['amendment']\n",
    "        generated += sentence\n",
    "        print('----- Generating with seed: \"{}\"'.format(sentence))\n",
    "        print('----- Generating with seed: \"{}\"'.format(sentence), file=writefile)\n",
    "        sys.stdout.write(' '.join(generated))\n",
    "        print(generated, file=writefile)\n",
    "\n",
    "        for i in range(40):\n",
    "            x_pred = np.zeros((1, max_len, len(const_words)))\n",
    "            for t, word in enumerate(sentence):\n",
    "                x_pred[0, t, word_indices[word]] = 1.\n",
    "\n",
    "            preds = word_model.predict(x_pred, verbose=0)[0]\n",
    "            next_word = sample(preds, diversity)\n",
    "            next_word = indices_word[next_word]\n",
    "\n",
    "            generated += next_word\n",
    "            sentence = sentence[1:] + [next_word]\n",
    "\n",
    "            sys.stdout.write(next_word+' ')\n",
    "            print(next_word,file=writefile, end=' ')\n",
    "            sys.stdout.flush()\n",
    "        print()\n",
    "        print(file=writefile)\n",
    "print_callback = LambdaCallback(on_epoch_end=on_epoch_end)\n",
    "\n",
    "chkpt_filepath = 'model_checkpoints/weights_words.hdf5'\n",
    "checkpoint = ModelCheckpoint(chkpt_filepath, monitor='loss',\n",
    "                             verbose=1, save_best_only=True,\n",
    "                             mode='min')\n",
    "\n",
    "reduce_lr = ReduceLROnPlateau(monitor='loss', factor=0.2,\n",
    "                              patience=1, min_lr=0.001)\n",
    "#csv_logger = CSVLogger('texts/const_pred.log')\n",
    "callbacks = [print_callback, checkpoint, reduce_lr]"
   ]
  },
  {
   "cell_type": "code",
   "execution_count": 382,
   "metadata": {},
   "outputs": [
    {
     "ename": "ValueError",
     "evalue": "Error when checking input: expected embedding_2_input to have 2 dimensions, but got array with shape (2527, 40, 1185)",
     "output_type": "error",
     "traceback": [
      "\u001b[1;31m---------------------------------------------------------------------------\u001b[0m",
      "\u001b[1;31mValueError\u001b[0m                                Traceback (most recent call last)",
      "\u001b[1;32m<ipython-input-382-a29e6ef6b75f>\u001b[0m in \u001b[0;36m<module>\u001b[1;34m\u001b[0m\n\u001b[1;32m----> 1\u001b[1;33m \u001b[0mword_model\u001b[0m\u001b[1;33m.\u001b[0m\u001b[0mfit\u001b[0m\u001b[1;33m(\u001b[0m\u001b[0mx\u001b[0m\u001b[1;33m,\u001b[0m \u001b[0my\u001b[0m\u001b[1;33m,\u001b[0m \u001b[0mbatch_size\u001b[0m\u001b[1;33m=\u001b[0m\u001b[1;36m128\u001b[0m\u001b[1;33m,\u001b[0m \u001b[0mepochs\u001b[0m\u001b[1;33m=\u001b[0m\u001b[1;36m10\u001b[0m\u001b[1;33m,\u001b[0m \u001b[0mcallbacks\u001b[0m\u001b[1;33m=\u001b[0m\u001b[1;33m[\u001b[0m\u001b[0mreduce_lr\u001b[0m\u001b[1;33m]\u001b[0m\u001b[1;33m)\u001b[0m\u001b[1;33m\u001b[0m\u001b[1;33m\u001b[0m\u001b[0m\n\u001b[0m\u001b[0;32m      2\u001b[0m \u001b[0mwritefile\u001b[0m\u001b[1;33m=\u001b[0m\u001b[0mopen\u001b[0m\u001b[1;33m(\u001b[0m\u001b[1;34m'texts/const_words_out.txt'\u001b[0m\u001b[1;33m,\u001b[0m\u001b[1;34m'a+'\u001b[0m\u001b[1;33m)\u001b[0m\u001b[1;33m\u001b[0m\u001b[1;33m\u001b[0m\u001b[0m\n\u001b[0;32m      3\u001b[0m \u001b[0mword_model\u001b[0m\u001b[1;33m.\u001b[0m\u001b[0mfit\u001b[0m\u001b[1;33m(\u001b[0m\u001b[0mx\u001b[0m\u001b[1;33m,\u001b[0m \u001b[0my\u001b[0m\u001b[1;33m,\u001b[0m \u001b[0mbatch_size\u001b[0m\u001b[1;33m=\u001b[0m\u001b[1;36m128\u001b[0m\u001b[1;33m,\u001b[0m \u001b[0mepochs\u001b[0m\u001b[1;33m=\u001b[0m\u001b[1;36m2\u001b[0m\u001b[1;33m,\u001b[0m \u001b[0mcallbacks\u001b[0m\u001b[1;33m=\u001b[0m\u001b[1;33m[\u001b[0m\u001b[0mprint_callback\u001b[0m\u001b[1;33m]\u001b[0m\u001b[1;33m)\u001b[0m\u001b[1;33m\u001b[0m\u001b[1;33m\u001b[0m\u001b[0m\n\u001b[0;32m      4\u001b[0m \u001b[0mwritefile\u001b[0m\u001b[1;33m.\u001b[0m\u001b[0mclose\u001b[0m\u001b[1;33m(\u001b[0m\u001b[1;33m)\u001b[0m\u001b[1;33m\u001b[0m\u001b[1;33m\u001b[0m\u001b[0m\n",
      "\u001b[1;32mC:\\ProgramData\\Anaconda3\\envs\\machine_learning_python\\lib\\site-packages\\keras\\engine\\training.py\u001b[0m in \u001b[0;36mfit\u001b[1;34m(self, x, y, batch_size, epochs, verbose, callbacks, validation_split, validation_data, shuffle, class_weight, sample_weight, initial_epoch, steps_per_epoch, validation_steps, **kwargs)\u001b[0m\n\u001b[0;32m    950\u001b[0m             \u001b[0msample_weight\u001b[0m\u001b[1;33m=\u001b[0m\u001b[0msample_weight\u001b[0m\u001b[1;33m,\u001b[0m\u001b[1;33m\u001b[0m\u001b[1;33m\u001b[0m\u001b[0m\n\u001b[0;32m    951\u001b[0m             \u001b[0mclass_weight\u001b[0m\u001b[1;33m=\u001b[0m\u001b[0mclass_weight\u001b[0m\u001b[1;33m,\u001b[0m\u001b[1;33m\u001b[0m\u001b[1;33m\u001b[0m\u001b[0m\n\u001b[1;32m--> 952\u001b[1;33m             batch_size=batch_size)\n\u001b[0m\u001b[0;32m    953\u001b[0m         \u001b[1;31m# Prepare validation data.\u001b[0m\u001b[1;33m\u001b[0m\u001b[1;33m\u001b[0m\u001b[1;33m\u001b[0m\u001b[0m\n\u001b[0;32m    954\u001b[0m         \u001b[0mdo_validation\u001b[0m \u001b[1;33m=\u001b[0m \u001b[1;32mFalse\u001b[0m\u001b[1;33m\u001b[0m\u001b[1;33m\u001b[0m\u001b[0m\n",
      "\u001b[1;32mC:\\ProgramData\\Anaconda3\\envs\\machine_learning_python\\lib\\site-packages\\keras\\engine\\training.py\u001b[0m in \u001b[0;36m_standardize_user_data\u001b[1;34m(self, x, y, sample_weight, class_weight, check_array_lengths, batch_size)\u001b[0m\n\u001b[0;32m    749\u001b[0m             \u001b[0mfeed_input_shapes\u001b[0m\u001b[1;33m,\u001b[0m\u001b[1;33m\u001b[0m\u001b[1;33m\u001b[0m\u001b[0m\n\u001b[0;32m    750\u001b[0m             \u001b[0mcheck_batch_axis\u001b[0m\u001b[1;33m=\u001b[0m\u001b[1;32mFalse\u001b[0m\u001b[1;33m,\u001b[0m  \u001b[1;31m# Don't enforce the batch size.\u001b[0m\u001b[1;33m\u001b[0m\u001b[1;33m\u001b[0m\u001b[0m\n\u001b[1;32m--> 751\u001b[1;33m             exception_prefix='input')\n\u001b[0m\u001b[0;32m    752\u001b[0m \u001b[1;33m\u001b[0m\u001b[0m\n\u001b[0;32m    753\u001b[0m         \u001b[1;32mif\u001b[0m \u001b[0my\u001b[0m \u001b[1;32mis\u001b[0m \u001b[1;32mnot\u001b[0m \u001b[1;32mNone\u001b[0m\u001b[1;33m:\u001b[0m\u001b[1;33m\u001b[0m\u001b[1;33m\u001b[0m\u001b[0m\n",
      "\u001b[1;32mC:\\ProgramData\\Anaconda3\\envs\\machine_learning_python\\lib\\site-packages\\keras\\engine\\training_utils.py\u001b[0m in \u001b[0;36mstandardize_input_data\u001b[1;34m(data, names, shapes, check_batch_axis, exception_prefix)\u001b[0m\n\u001b[0;32m    126\u001b[0m                         \u001b[1;34m': expected '\u001b[0m \u001b[1;33m+\u001b[0m \u001b[0mnames\u001b[0m\u001b[1;33m[\u001b[0m\u001b[0mi\u001b[0m\u001b[1;33m]\u001b[0m \u001b[1;33m+\u001b[0m \u001b[1;34m' to have '\u001b[0m \u001b[1;33m+\u001b[0m\u001b[1;33m\u001b[0m\u001b[1;33m\u001b[0m\u001b[0m\n\u001b[0;32m    127\u001b[0m                         \u001b[0mstr\u001b[0m\u001b[1;33m(\u001b[0m\u001b[0mlen\u001b[0m\u001b[1;33m(\u001b[0m\u001b[0mshape\u001b[0m\u001b[1;33m)\u001b[0m\u001b[1;33m)\u001b[0m \u001b[1;33m+\u001b[0m \u001b[1;34m' dimensions, but got array '\u001b[0m\u001b[1;33m\u001b[0m\u001b[1;33m\u001b[0m\u001b[0m\n\u001b[1;32m--> 128\u001b[1;33m                         'with shape ' + str(data_shape))\n\u001b[0m\u001b[0;32m    129\u001b[0m                 \u001b[1;32mif\u001b[0m \u001b[1;32mnot\u001b[0m \u001b[0mcheck_batch_axis\u001b[0m\u001b[1;33m:\u001b[0m\u001b[1;33m\u001b[0m\u001b[1;33m\u001b[0m\u001b[0m\n\u001b[0;32m    130\u001b[0m                     \u001b[0mdata_shape\u001b[0m \u001b[1;33m=\u001b[0m \u001b[0mdata_shape\u001b[0m\u001b[1;33m[\u001b[0m\u001b[1;36m1\u001b[0m\u001b[1;33m:\u001b[0m\u001b[1;33m]\u001b[0m\u001b[1;33m\u001b[0m\u001b[1;33m\u001b[0m\u001b[0m\n",
      "\u001b[1;31mValueError\u001b[0m: Error when checking input: expected embedding_2_input to have 2 dimensions, but got array with shape (2527, 40, 1185)"
     ]
    }
   ],
   "source": [
    "word_model.fit(x, y, batch_size=128, epochs=10, callbacks=[reduce_lr])\n",
    "writefile=open('texts/const_words_out.txt','a+')\n",
    "word_model.fit(x, y, batch_size=128, epochs=2, callbacks=[print_callback])\n",
    "writefile.close()"
   ]
  },
  {
   "cell_type": "markdown",
   "metadata": {},
   "source": [
    "### Character by Character"
   ]
  },
  {
   "cell_type": "code",
   "execution_count": 318,
   "metadata": {},
   "outputs": [
    {
     "name": "stdout",
     "output_type": "stream",
     "text": [
      "const len 44841\n"
     ]
    }
   ],
   "source": [
    "with open('texts/const.txt', 'r') as f:\n",
    "    const = f.read().lower()\n",
    "print('const len {}'.format(len(const)))"
   ]
  },
  {
   "cell_type": "code",
   "execution_count": 319,
   "metadata": {},
   "outputs": [
    {
     "name": "stdout",
     "output_type": "stream",
     "text": [
      "total chars 46\n"
     ]
    }
   ],
   "source": [
    "chars = sorted(list(set(const))) # get unique characters\n",
    "print('total chars {}'.format(len(chars)))"
   ]
  },
  {
   "cell_type": "code",
   "execution_count": 320,
   "metadata": {},
   "outputs": [],
   "source": [
    "char_indices = dict((c,i) for i, c in enumerate(chars))\n",
    "indices_char = dict((i,c) for i, c in enumerate(chars))"
   ]
  },
  {
   "cell_type": "code",
   "execution_count": 321,
   "metadata": {},
   "outputs": [],
   "source": [
    "max_len = 40\n",
    "step = 3\n",
    "sentences = []\n",
    "next_chars = []\n",
    "for i in range(0, len(const) - max_len, step):\n",
    "    sentences.append(const[i:i+max_len])\n",
    "    next_chars.append(const[i+max_len])\n",
    "    \n",
    "x = np.zeros((len(sentences), max_len, len(chars)), dtype=np.bool)\n",
    "y = np.zeros((len(sentences), len(chars)), dtype=np.bool)\n",
    "\n",
    "for i, sentence in enumerate(sentences):\n",
    "    for t, char in enumerate(sentence):\n",
    "        x[i, t, char_indices[char]] = 1\n",
    "    y[i, char_indices[next_chars[i]]] = 1"
   ]
  },
  {
   "cell_type": "code",
   "execution_count": 322,
   "metadata": {},
   "outputs": [
    {
     "name": "stdout",
     "output_type": "stream",
     "text": [
      "_________________________________________________________________\n",
      "Layer (type)                 Output Shape              Param #   \n",
      "=================================================================\n",
      "lstm_18 (LSTM)               (None, 128)               89600     \n",
      "_________________________________________________________________\n",
      "dense_32 (Dense)             (None, 46)                5934      \n",
      "_________________________________________________________________\n",
      "activation_5 (Activation)    (None, 46)                0         \n",
      "=================================================================\n",
      "Total params: 95,534\n",
      "Trainable params: 95,534\n",
      "Non-trainable params: 0\n",
      "_________________________________________________________________\n",
      "None\n"
     ]
    }
   ],
   "source": [
    "from keras.models import Sequential\n",
    "from keras.layers import Dense, Activation\n",
    "from keras.layers import LSTM\n",
    "from keras.optimizers import RMSprop\n",
    "    \n",
    "model = Sequential()\n",
    "model.add(LSTM(128, input_shape=(max_len, len(chars))))\n",
    "model.add(Dense(len(chars)))\n",
    "model.add(Activation('softmax'))\n",
    "optimizer = RMSprop(lr=0.01)\n",
    "model.compile(loss='categorical_crossentropy', optimizer=optimizer)\n",
    "print(model.summary())"
   ]
  },
  {
   "cell_type": "code",
   "execution_count": 323,
   "metadata": {},
   "outputs": [],
   "source": [
    "# helper functions from official LSTM text generation example from Keras Team\n",
    "from keras.callbacks import LambdaCallback\n",
    "from keras.callbacks import ModelCheckpoint\n",
    "from keras.callbacks import ReduceLROnPlateau\n",
    "from keras.callbacks import CSVLogger\n",
    "import random\n",
    "import sys\n",
    "\n",
    "def sample(preds, temperature=1.0):\n",
    "    # helper function to sample an index from a probability array\n",
    "    preds = np.asarray(preds).astype('float64')\n",
    "    preds = np.log(preds) / temperature\n",
    "    exp_preds = np.exp(preds)\n",
    "    preds = exp_preds / np.sum(exp_preds)\n",
    "    probas = np.random.multinomial(1, preds, 1)\n",
    "    return np.argmax(probas)\n",
    "\n",
    "writefile=open('texts/const_out.txt','a+')\n",
    "def on_epoch_end(epoch, logs):\n",
    "    # Function invoked at end of each epoch. Prints generated text.\n",
    "    print()\n",
    "    print('----- Generating text after Epoch: %d' % epoch)\n",
    "    print('----- Generating text after Epoch: %d' % epoch, file=writefile)\n",
    "    \n",
    "    start_index = 0\n",
    "    #start_index = random.randint(0, len(const) - max_len - 1)\n",
    "    for diversity in [0.2, 0.5, 1.0, 1.2]:\n",
    "        print('----- diversity:', diversity)\n",
    "        print('----- diversity:', diversity, file=writefile)\n",
    "\n",
    "        generated = ''\n",
    "        #sentence = const[start_index: start_index + max_len]\n",
    "        sentence = 'amendment 28'\n",
    "        generated += sentence\n",
    "        print('----- Generating with seed: \"' + sentence + '\"')\n",
    "        print('----- Generating with seed: \"' + sentence + '\"', file=writefile)\n",
    "        sys.stdout.write(generated)\n",
    "        print(generated, file=writefile)\n",
    "\n",
    "        for i in range(400):\n",
    "            x_pred = np.zeros((1, max_len, len(chars)))\n",
    "            for t, char in enumerate(sentence):\n",
    "                x_pred[0, t, char_indices[char]] = 1.\n",
    "\n",
    "            preds = model.predict(x_pred, verbose=0)[0]\n",
    "            next_index = sample(preds, diversity)\n",
    "            next_char = indices_char[next_index]\n",
    "\n",
    "            generated += next_char\n",
    "            sentence = sentence[1:] + next_char\n",
    "\n",
    "            sys.stdout.write(next_char)\n",
    "            print(next_char,file=writefile, end='')\n",
    "            sys.stdout.flush()\n",
    "        print()\n",
    "        print(file=writefile)\n",
    "print_callback = LambdaCallback(on_epoch_end=on_epoch_end)\n",
    "\n",
    "chkpt_filepath = 'model_checkpoints/weights.hdf5'\n",
    "checkpoint = ModelCheckpoint(chkpt_filepath, monitor='loss',\n",
    "                             verbose=1, save_best_only=True,\n",
    "                             mode='min')\n",
    "\n",
    "reduce_lr = ReduceLROnPlateau(monitor='loss', factor=0.2,\n",
    "                              patience=1, min_lr=0.001)\n",
    "#csv_logger = CSVLogger('texts/const_pred.log')\n",
    "callbacks = [print_callback, checkpoint, reduce_lr]"
   ]
  },
  {
   "cell_type": "code",
   "execution_count": 324,
   "metadata": {},
   "outputs": [
    {
     "name": "stdout",
     "output_type": "stream",
     "text": [
      "Epoch 1/2\n",
      "14934/14934 [==============================] - 11s 704us/step - loss: 2.5570\n",
      "\n",
      "----- Generating text after Epoch: 0\n",
      "----- diversity: 0.2\n",
      "----- Generating with seed: \"amendment 28\"\n",
      "amendment 28eoeeioetioieoeoee etiiooe eeioo ooeei et eee o eee eies ioeti   eieeteeoo see ieoee  oeeeoe t eie tee t  oei te eoo ietoieei ei oot eo eoe e eoee ioeio o oeeooeesi see iteoee eeieoieoeeeee  eoe iteoeeeeoeeee oeio eoe  eooeoiroe e oeeeeoeoeio eeeio ee eeeieeoieeoeee eeteo  eeeee  oeeoteoeie eoeeoioeoeie e o ei ee s eo  eeeeeieae t  eeeeoeioeoeoe eeioateeoo  eooeeeeoiteeoeo  eeeoeeoeee eeieieoeeeoee\n",
      "----- diversity: 0.5\n",
      "----- Generating with seed: \"amendment 28\"\n",
      "amendment 28 tlio otcee etoioee nii-tsee oeaetsoen  aeoieacigti  rtetoobei e taoaoie  iatoeesan mtiaeototes seso co titooestote otetoees reog it oo oi taeittosts soi  eiie oe  to co oldgoio  esteee a tt,oosetev  tosetseoeoa s niootneeete c oeteepei oe n  eo oteeoe  s  neeeteottetiott  eitti eioveiamoeeene nieeis ereoemeooeei ioas  i  s  ae gmeiotercieeo eto eoeotonienop  ito siicloe t n aerose itetleoao  etar\n",
      "----- diversity: 1.0\n",
      "----- Generating with seed: \"amendment 28\"\n",
      "amendment 28deatiosena eaa sosicyloteinyso,emsspiseioorato o engmass sonnbaseedot laa\n",
      "oieiuo\n",
      "sipi eyie salbet fesei ro tqiivwisoo oisdggn,tefeemoftiheicoapiodisioispdoooaoylptn fny emoe  ,ioeepirliiasgsome s idot i, iehrifi nicohbbyisesroaoitse1  tmti odooor.sirgyleooheai oosiatnseetnorieeas elehgpyipir nuuou n\n",
      "atetctgsrfenics e itgsgg 1  broge oy n ilna s,ob e ioe- \n",
      ";bt senm  trn \n",
      "  \n",
      "ods oaaeaiieimtsuhebeeog\n",
      "----- diversity: 1.2\n",
      "----- Generating with seed: \"amendment 28\"\n",
      "amendment 28-neor, de o lf;otsaoo gnootpvcsp cieoso"
     ]
    },
    {
     "ename": "KeyboardInterrupt",
     "evalue": "",
     "output_type": "error",
     "traceback": [
      "\u001b[1;31m---------------------------------------------------------------------------\u001b[0m",
      "\u001b[1;31mKeyboardInterrupt\u001b[0m                         Traceback (most recent call last)",
      "\u001b[1;32m<ipython-input-324-f5f3a7e2c402>\u001b[0m in \u001b[0;36m<module>\u001b[1;34m\u001b[0m\n\u001b[1;32m----> 1\u001b[1;33m \u001b[0mmodel\u001b[0m\u001b[1;33m.\u001b[0m\u001b[0mfit\u001b[0m\u001b[1;33m(\u001b[0m\u001b[0mx\u001b[0m\u001b[1;33m,\u001b[0m \u001b[0my\u001b[0m\u001b[1;33m,\u001b[0m \u001b[0mbatch_size\u001b[0m\u001b[1;33m=\u001b[0m\u001b[1;36m128\u001b[0m\u001b[1;33m,\u001b[0m \u001b[0mepochs\u001b[0m\u001b[1;33m=\u001b[0m\u001b[1;36m2\u001b[0m\u001b[1;33m,\u001b[0m \u001b[0mcallbacks\u001b[0m\u001b[1;33m=\u001b[0m\u001b[0mcallbacks\u001b[0m\u001b[1;33m)\u001b[0m\u001b[1;33m\u001b[0m\u001b[1;33m\u001b[0m\u001b[0m\n\u001b[0m\u001b[0;32m      2\u001b[0m \u001b[0mwritefile\u001b[0m\u001b[1;33m.\u001b[0m\u001b[0mclose\u001b[0m\u001b[1;33m(\u001b[0m\u001b[1;33m)\u001b[0m\u001b[1;33m\u001b[0m\u001b[1;33m\u001b[0m\u001b[0m\n",
      "\u001b[1;32mC:\\ProgramData\\Anaconda3\\envs\\machine_learning_python\\lib\\site-packages\\keras\\engine\\training.py\u001b[0m in \u001b[0;36mfit\u001b[1;34m(self, x, y, batch_size, epochs, verbose, callbacks, validation_split, validation_data, shuffle, class_weight, sample_weight, initial_epoch, steps_per_epoch, validation_steps, **kwargs)\u001b[0m\n\u001b[0;32m   1037\u001b[0m                                         \u001b[0minitial_epoch\u001b[0m\u001b[1;33m=\u001b[0m\u001b[0minitial_epoch\u001b[0m\u001b[1;33m,\u001b[0m\u001b[1;33m\u001b[0m\u001b[1;33m\u001b[0m\u001b[0m\n\u001b[0;32m   1038\u001b[0m                                         \u001b[0msteps_per_epoch\u001b[0m\u001b[1;33m=\u001b[0m\u001b[0msteps_per_epoch\u001b[0m\u001b[1;33m,\u001b[0m\u001b[1;33m\u001b[0m\u001b[1;33m\u001b[0m\u001b[0m\n\u001b[1;32m-> 1039\u001b[1;33m                                         validation_steps=validation_steps)\n\u001b[0m\u001b[0;32m   1040\u001b[0m \u001b[1;33m\u001b[0m\u001b[0m\n\u001b[0;32m   1041\u001b[0m     def evaluate(self, x=None, y=None,\n",
      "\u001b[1;32mC:\\ProgramData\\Anaconda3\\envs\\machine_learning_python\\lib\\site-packages\\keras\\engine\\training_arrays.py\u001b[0m in \u001b[0;36mfit_loop\u001b[1;34m(model, f, ins, out_labels, batch_size, epochs, verbose, callbacks, val_f, val_ins, shuffle, callback_metrics, initial_epoch, steps_per_epoch, validation_steps)\u001b[0m\n\u001b[0;32m    215\u001b[0m                         \u001b[1;32mfor\u001b[0m \u001b[0ml\u001b[0m\u001b[1;33m,\u001b[0m \u001b[0mo\u001b[0m \u001b[1;32min\u001b[0m \u001b[0mzip\u001b[0m\u001b[1;33m(\u001b[0m\u001b[0mout_labels\u001b[0m\u001b[1;33m,\u001b[0m \u001b[0mval_outs\u001b[0m\u001b[1;33m)\u001b[0m\u001b[1;33m:\u001b[0m\u001b[1;33m\u001b[0m\u001b[1;33m\u001b[0m\u001b[0m\n\u001b[0;32m    216\u001b[0m                             \u001b[0mepoch_logs\u001b[0m\u001b[1;33m[\u001b[0m\u001b[1;34m'val_'\u001b[0m \u001b[1;33m+\u001b[0m \u001b[0ml\u001b[0m\u001b[1;33m]\u001b[0m \u001b[1;33m=\u001b[0m \u001b[0mo\u001b[0m\u001b[1;33m\u001b[0m\u001b[1;33m\u001b[0m\u001b[0m\n\u001b[1;32m--> 217\u001b[1;33m         \u001b[0mcallbacks\u001b[0m\u001b[1;33m.\u001b[0m\u001b[0mon_epoch_end\u001b[0m\u001b[1;33m(\u001b[0m\u001b[0mepoch\u001b[0m\u001b[1;33m,\u001b[0m \u001b[0mepoch_logs\u001b[0m\u001b[1;33m)\u001b[0m\u001b[1;33m\u001b[0m\u001b[1;33m\u001b[0m\u001b[0m\n\u001b[0m\u001b[0;32m    218\u001b[0m         \u001b[1;32mif\u001b[0m \u001b[0mcallback_model\u001b[0m\u001b[1;33m.\u001b[0m\u001b[0mstop_training\u001b[0m\u001b[1;33m:\u001b[0m\u001b[1;33m\u001b[0m\u001b[1;33m\u001b[0m\u001b[0m\n\u001b[0;32m    219\u001b[0m             \u001b[1;32mbreak\u001b[0m\u001b[1;33m\u001b[0m\u001b[1;33m\u001b[0m\u001b[0m\n",
      "\u001b[1;32mC:\\ProgramData\\Anaconda3\\envs\\machine_learning_python\\lib\\site-packages\\keras\\callbacks.py\u001b[0m in \u001b[0;36mon_epoch_end\u001b[1;34m(self, epoch, logs)\u001b[0m\n\u001b[0;32m     77\u001b[0m         \u001b[0mlogs\u001b[0m \u001b[1;33m=\u001b[0m \u001b[0mlogs\u001b[0m \u001b[1;32mor\u001b[0m \u001b[1;33m{\u001b[0m\u001b[1;33m}\u001b[0m\u001b[1;33m\u001b[0m\u001b[1;33m\u001b[0m\u001b[0m\n\u001b[0;32m     78\u001b[0m         \u001b[1;32mfor\u001b[0m \u001b[0mcallback\u001b[0m \u001b[1;32min\u001b[0m \u001b[0mself\u001b[0m\u001b[1;33m.\u001b[0m\u001b[0mcallbacks\u001b[0m\u001b[1;33m:\u001b[0m\u001b[1;33m\u001b[0m\u001b[1;33m\u001b[0m\u001b[0m\n\u001b[1;32m---> 79\u001b[1;33m             \u001b[0mcallback\u001b[0m\u001b[1;33m.\u001b[0m\u001b[0mon_epoch_end\u001b[0m\u001b[1;33m(\u001b[0m\u001b[0mepoch\u001b[0m\u001b[1;33m,\u001b[0m \u001b[0mlogs\u001b[0m\u001b[1;33m)\u001b[0m\u001b[1;33m\u001b[0m\u001b[1;33m\u001b[0m\u001b[0m\n\u001b[0m\u001b[0;32m     80\u001b[0m \u001b[1;33m\u001b[0m\u001b[0m\n\u001b[0;32m     81\u001b[0m     \u001b[1;32mdef\u001b[0m \u001b[0mon_batch_begin\u001b[0m\u001b[1;33m(\u001b[0m\u001b[0mself\u001b[0m\u001b[1;33m,\u001b[0m \u001b[0mbatch\u001b[0m\u001b[1;33m,\u001b[0m \u001b[0mlogs\u001b[0m\u001b[1;33m=\u001b[0m\u001b[1;32mNone\u001b[0m\u001b[1;33m)\u001b[0m\u001b[1;33m:\u001b[0m\u001b[1;33m\u001b[0m\u001b[1;33m\u001b[0m\u001b[0m\n",
      "\u001b[1;32m<ipython-input-323-ff135f40326f>\u001b[0m in \u001b[0;36mon_epoch_end\u001b[1;34m(epoch, logs)\u001b[0m\n\u001b[0;32m     43\u001b[0m                 \u001b[0mx_pred\u001b[0m\u001b[1;33m[\u001b[0m\u001b[1;36m0\u001b[0m\u001b[1;33m,\u001b[0m \u001b[0mt\u001b[0m\u001b[1;33m,\u001b[0m \u001b[0mchar_indices\u001b[0m\u001b[1;33m[\u001b[0m\u001b[0mchar\u001b[0m\u001b[1;33m]\u001b[0m\u001b[1;33m]\u001b[0m \u001b[1;33m=\u001b[0m \u001b[1;36m1.\u001b[0m\u001b[1;33m\u001b[0m\u001b[1;33m\u001b[0m\u001b[0m\n\u001b[0;32m     44\u001b[0m \u001b[1;33m\u001b[0m\u001b[0m\n\u001b[1;32m---> 45\u001b[1;33m             \u001b[0mpreds\u001b[0m \u001b[1;33m=\u001b[0m \u001b[0mmodel\u001b[0m\u001b[1;33m.\u001b[0m\u001b[0mpredict\u001b[0m\u001b[1;33m(\u001b[0m\u001b[0mx_pred\u001b[0m\u001b[1;33m,\u001b[0m \u001b[0mverbose\u001b[0m\u001b[1;33m=\u001b[0m\u001b[1;36m0\u001b[0m\u001b[1;33m)\u001b[0m\u001b[1;33m[\u001b[0m\u001b[1;36m0\u001b[0m\u001b[1;33m]\u001b[0m\u001b[1;33m\u001b[0m\u001b[1;33m\u001b[0m\u001b[0m\n\u001b[0m\u001b[0;32m     46\u001b[0m             \u001b[0mnext_index\u001b[0m \u001b[1;33m=\u001b[0m \u001b[0msample\u001b[0m\u001b[1;33m(\u001b[0m\u001b[0mpreds\u001b[0m\u001b[1;33m,\u001b[0m \u001b[0mdiversity\u001b[0m\u001b[1;33m)\u001b[0m\u001b[1;33m\u001b[0m\u001b[1;33m\u001b[0m\u001b[0m\n\u001b[0;32m     47\u001b[0m             \u001b[0mnext_char\u001b[0m \u001b[1;33m=\u001b[0m \u001b[0mindices_char\u001b[0m\u001b[1;33m[\u001b[0m\u001b[0mnext_index\u001b[0m\u001b[1;33m]\u001b[0m\u001b[1;33m\u001b[0m\u001b[1;33m\u001b[0m\u001b[0m\n",
      "\u001b[1;32mC:\\ProgramData\\Anaconda3\\envs\\machine_learning_python\\lib\\site-packages\\keras\\engine\\training.py\u001b[0m in \u001b[0;36mpredict\u001b[1;34m(self, x, batch_size, verbose, steps)\u001b[0m\n\u001b[0;32m   1167\u001b[0m                                             \u001b[0mbatch_size\u001b[0m\u001b[1;33m=\u001b[0m\u001b[0mbatch_size\u001b[0m\u001b[1;33m,\u001b[0m\u001b[1;33m\u001b[0m\u001b[1;33m\u001b[0m\u001b[0m\n\u001b[0;32m   1168\u001b[0m                                             \u001b[0mverbose\u001b[0m\u001b[1;33m=\u001b[0m\u001b[0mverbose\u001b[0m\u001b[1;33m,\u001b[0m\u001b[1;33m\u001b[0m\u001b[1;33m\u001b[0m\u001b[0m\n\u001b[1;32m-> 1169\u001b[1;33m                                             steps=steps)\n\u001b[0m\u001b[0;32m   1170\u001b[0m \u001b[1;33m\u001b[0m\u001b[0m\n\u001b[0;32m   1171\u001b[0m     def train_on_batch(self, x, y,\n",
      "\u001b[1;32mC:\\ProgramData\\Anaconda3\\envs\\machine_learning_python\\lib\\site-packages\\keras\\engine\\training_arrays.py\u001b[0m in \u001b[0;36mpredict_loop\u001b[1;34m(model, f, ins, batch_size, verbose, steps)\u001b[0m\n\u001b[0;32m    292\u001b[0m                 \u001b[0mins_batch\u001b[0m\u001b[1;33m[\u001b[0m\u001b[0mi\u001b[0m\u001b[1;33m]\u001b[0m \u001b[1;33m=\u001b[0m \u001b[0mins_batch\u001b[0m\u001b[1;33m[\u001b[0m\u001b[0mi\u001b[0m\u001b[1;33m]\u001b[0m\u001b[1;33m.\u001b[0m\u001b[0mtoarray\u001b[0m\u001b[1;33m(\u001b[0m\u001b[1;33m)\u001b[0m\u001b[1;33m\u001b[0m\u001b[1;33m\u001b[0m\u001b[0m\n\u001b[0;32m    293\u001b[0m \u001b[1;33m\u001b[0m\u001b[0m\n\u001b[1;32m--> 294\u001b[1;33m             \u001b[0mbatch_outs\u001b[0m \u001b[1;33m=\u001b[0m \u001b[0mf\u001b[0m\u001b[1;33m(\u001b[0m\u001b[0mins_batch\u001b[0m\u001b[1;33m)\u001b[0m\u001b[1;33m\u001b[0m\u001b[1;33m\u001b[0m\u001b[0m\n\u001b[0m\u001b[0;32m    295\u001b[0m             \u001b[0mbatch_outs\u001b[0m \u001b[1;33m=\u001b[0m \u001b[0mto_list\u001b[0m\u001b[1;33m(\u001b[0m\u001b[0mbatch_outs\u001b[0m\u001b[1;33m)\u001b[0m\u001b[1;33m\u001b[0m\u001b[1;33m\u001b[0m\u001b[0m\n\u001b[0;32m    296\u001b[0m             \u001b[1;32mif\u001b[0m \u001b[0mbatch_index\u001b[0m \u001b[1;33m==\u001b[0m \u001b[1;36m0\u001b[0m\u001b[1;33m:\u001b[0m\u001b[1;33m\u001b[0m\u001b[1;33m\u001b[0m\u001b[0m\n",
      "\u001b[1;32mC:\\ProgramData\\Anaconda3\\envs\\machine_learning_python\\lib\\site-packages\\keras\\backend\\tensorflow_backend.py\u001b[0m in \u001b[0;36m__call__\u001b[1;34m(self, inputs)\u001b[0m\n\u001b[0;32m   2713\u001b[0m                 \u001b[1;32mreturn\u001b[0m \u001b[0mself\u001b[0m\u001b[1;33m.\u001b[0m\u001b[0m_legacy_call\u001b[0m\u001b[1;33m(\u001b[0m\u001b[0minputs\u001b[0m\u001b[1;33m)\u001b[0m\u001b[1;33m\u001b[0m\u001b[1;33m\u001b[0m\u001b[0m\n\u001b[0;32m   2714\u001b[0m \u001b[1;33m\u001b[0m\u001b[0m\n\u001b[1;32m-> 2715\u001b[1;33m             \u001b[1;32mreturn\u001b[0m \u001b[0mself\u001b[0m\u001b[1;33m.\u001b[0m\u001b[0m_call\u001b[0m\u001b[1;33m(\u001b[0m\u001b[0minputs\u001b[0m\u001b[1;33m)\u001b[0m\u001b[1;33m\u001b[0m\u001b[1;33m\u001b[0m\u001b[0m\n\u001b[0m\u001b[0;32m   2716\u001b[0m         \u001b[1;32melse\u001b[0m\u001b[1;33m:\u001b[0m\u001b[1;33m\u001b[0m\u001b[1;33m\u001b[0m\u001b[0m\n\u001b[0;32m   2717\u001b[0m             \u001b[1;32mif\u001b[0m \u001b[0mpy_any\u001b[0m\u001b[1;33m(\u001b[0m\u001b[0mis_tensor\u001b[0m\u001b[1;33m(\u001b[0m\u001b[0mx\u001b[0m\u001b[1;33m)\u001b[0m \u001b[1;32mfor\u001b[0m \u001b[0mx\u001b[0m \u001b[1;32min\u001b[0m \u001b[0minputs\u001b[0m\u001b[1;33m)\u001b[0m\u001b[1;33m:\u001b[0m\u001b[1;33m\u001b[0m\u001b[1;33m\u001b[0m\u001b[0m\n",
      "\u001b[1;32mC:\\ProgramData\\Anaconda3\\envs\\machine_learning_python\\lib\\site-packages\\keras\\backend\\tensorflow_backend.py\u001b[0m in \u001b[0;36m_call\u001b[1;34m(self, inputs)\u001b[0m\n\u001b[0;32m   2673\u001b[0m             \u001b[0mfetched\u001b[0m \u001b[1;33m=\u001b[0m \u001b[0mself\u001b[0m\u001b[1;33m.\u001b[0m\u001b[0m_callable_fn\u001b[0m\u001b[1;33m(\u001b[0m\u001b[1;33m*\u001b[0m\u001b[0marray_vals\u001b[0m\u001b[1;33m,\u001b[0m \u001b[0mrun_metadata\u001b[0m\u001b[1;33m=\u001b[0m\u001b[0mself\u001b[0m\u001b[1;33m.\u001b[0m\u001b[0mrun_metadata\u001b[0m\u001b[1;33m)\u001b[0m\u001b[1;33m\u001b[0m\u001b[1;33m\u001b[0m\u001b[0m\n\u001b[0;32m   2674\u001b[0m         \u001b[1;32melse\u001b[0m\u001b[1;33m:\u001b[0m\u001b[1;33m\u001b[0m\u001b[1;33m\u001b[0m\u001b[0m\n\u001b[1;32m-> 2675\u001b[1;33m             \u001b[0mfetched\u001b[0m \u001b[1;33m=\u001b[0m \u001b[0mself\u001b[0m\u001b[1;33m.\u001b[0m\u001b[0m_callable_fn\u001b[0m\u001b[1;33m(\u001b[0m\u001b[1;33m*\u001b[0m\u001b[0marray_vals\u001b[0m\u001b[1;33m)\u001b[0m\u001b[1;33m\u001b[0m\u001b[1;33m\u001b[0m\u001b[0m\n\u001b[0m\u001b[0;32m   2676\u001b[0m         \u001b[1;32mreturn\u001b[0m \u001b[0mfetched\u001b[0m\u001b[1;33m[\u001b[0m\u001b[1;33m:\u001b[0m\u001b[0mlen\u001b[0m\u001b[1;33m(\u001b[0m\u001b[0mself\u001b[0m\u001b[1;33m.\u001b[0m\u001b[0moutputs\u001b[0m\u001b[1;33m)\u001b[0m\u001b[1;33m]\u001b[0m\u001b[1;33m\u001b[0m\u001b[1;33m\u001b[0m\u001b[0m\n\u001b[0;32m   2677\u001b[0m \u001b[1;33m\u001b[0m\u001b[0m\n",
      "\u001b[1;32mC:\\ProgramData\\Anaconda3\\envs\\machine_learning_python\\lib\\site-packages\\tensorflow\\python\\client\\session.py\u001b[0m in \u001b[0;36m__call__\u001b[1;34m(self, *args, **kwargs)\u001b[0m\n\u001b[0;32m   1437\u001b[0m           ret = tf_session.TF_SessionRunCallable(\n\u001b[0;32m   1438\u001b[0m               \u001b[0mself\u001b[0m\u001b[1;33m.\u001b[0m\u001b[0m_session\u001b[0m\u001b[1;33m.\u001b[0m\u001b[0m_session\u001b[0m\u001b[1;33m,\u001b[0m \u001b[0mself\u001b[0m\u001b[1;33m.\u001b[0m\u001b[0m_handle\u001b[0m\u001b[1;33m,\u001b[0m \u001b[0margs\u001b[0m\u001b[1;33m,\u001b[0m \u001b[0mstatus\u001b[0m\u001b[1;33m,\u001b[0m\u001b[1;33m\u001b[0m\u001b[1;33m\u001b[0m\u001b[0m\n\u001b[1;32m-> 1439\u001b[1;33m               run_metadata_ptr)\n\u001b[0m\u001b[0;32m   1440\u001b[0m         \u001b[1;32mif\u001b[0m \u001b[0mrun_metadata\u001b[0m\u001b[1;33m:\u001b[0m\u001b[1;33m\u001b[0m\u001b[1;33m\u001b[0m\u001b[0m\n\u001b[0;32m   1441\u001b[0m           \u001b[0mproto_data\u001b[0m \u001b[1;33m=\u001b[0m \u001b[0mtf_session\u001b[0m\u001b[1;33m.\u001b[0m\u001b[0mTF_GetBuffer\u001b[0m\u001b[1;33m(\u001b[0m\u001b[0mrun_metadata_ptr\u001b[0m\u001b[1;33m)\u001b[0m\u001b[1;33m\u001b[0m\u001b[1;33m\u001b[0m\u001b[0m\n",
      "\u001b[1;31mKeyboardInterrupt\u001b[0m: "
     ]
    }
   ],
   "source": [
    "model.fit(x, y, batch_size=128, epochs=2, callbacks=callbacks)\n",
    "writefile.close()"
   ]
  },
  {
   "cell_type": "code",
   "execution_count": 205,
   "metadata": {},
   "outputs": [],
   "source": [
    "writefile.close()"
   ]
  },
  {
   "cell_type": "code",
   "execution_count": null,
   "metadata": {},
   "outputs": [],
   "source": []
  }
 ],
 "metadata": {
  "kernelspec": {
   "display_name": "Python 3",
   "language": "python",
   "name": "python3"
  },
  "language_info": {
   "codemirror_mode": {
    "name": "ipython",
    "version": 3
   },
   "file_extension": ".py",
   "mimetype": "text/x-python",
   "name": "python",
   "nbconvert_exporter": "python",
   "pygments_lexer": "ipython3",
   "version": "3.6.8"
  }
 },
 "nbformat": 4,
 "nbformat_minor": 2
}
