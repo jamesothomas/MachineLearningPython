{
 "cells": [
  {
   "cell_type": "markdown",
   "metadata": {},
   "source": [
    "# Lab 7: Recurrent Network Atchitectures\n",
    "\n",
    "### James O. Thomas\n",
    "### Xiaoxian Jing\n",
    "### Kuang Yan\n",
    "\n",
    "1. [Data Selection](#data_selection) <br>\n",
    "  1.1 [Stock Prices Example](#pure_stock) <br>\n",
    "  1.2 [Stock Prices and News](#stock_and_news) <br>\n",
    "2. [Preparation](#preparation) <br>\n",
    "  2.1 [Class Variables](#class_varibles) <br>\n",
    "  2.2 [Metrics](#metrics) <br>\n",
    "  2.3 [Test-Train Split](#test_train_split) <br>\n",
    "3. [Modeling](#modeling) <br>\n",
    "  3.1 [Architectures](#architectures) <br>\n",
    "  3.2 [Second Recurrent Chain](#second_chain) <br>\n",
    "  3.3 [Evaluation](#evaluation) <br>\n",
    "4. [Exceptional Work](#exceptional_work) <br>\n",
    "  4.1 [Additional Analysis](#additional_analysis) <br>\n",
    "  4.2 [Fourier Filtering](#Fourier_filter) <br>\n",
    "  4.3 [Visualize Word Embeddings](#visualize_embeddings) <br>\n",
    "  .. 4.3.1 [t-SNE](#tSNE) <br>\n",
    "  .. 4.3.2 [PCA](#PCA) <br>\n",
    "  4.4 [Novel Text](#novel_text) <br>\n",
    "  ... 4.4.1 [Word by Word](#word_by_word) <br>\n",
    "  ... 4.4.2 [Character by Character](#character_by_character) <br>\n",
    "5. [Final Thoughts](#final_thoughts) <br>"
   ]
  },
  {
   "cell_type": "markdown",
   "metadata": {},
   "source": [
    "<a id=\"data_selection\"></a>\n",
    "\n",
    "# Data Selection\n",
    "\n",
    "> Select a dataset similarly to lab one:text. That is, the dataset should be text data (or a time series sequence). In terms of generalization performance, it is helpful to have a large dataset of similar sized text documents. It is fine to perform binary classification or multi-class classification. The classification can be \"many-to-one\" or \"many-to-many\" sequence classification, whichever you feel more comfortable with. \n",
    "\n",
    "For this lab we will be using stock prices and news. There are several ways to get historical stock prices (see below), but getting historical news headlines is somewhat harder. Therefore we will use the kaggle data set from https://www.kaggle.com/aaron7sun/stocknews. This source aggregated the news headlines from reddit (that's somewhat scary) and the stock information is from yahoo finance."
   ]
  },
  {
   "cell_type": "markdown",
   "metadata": {},
   "source": [
    "<a id=\"pure_stock\"></a>\n",
    "\n",
    "## Stock Prices Example\n",
    "\n",
    "Below is an example of retrieving pure stock prices"
   ]
  },
  {
   "cell_type": "code",
   "execution_count": 149,
   "metadata": {},
   "outputs": [],
   "source": [
    "# pure stock prices using pandas_datareader\n",
    "import pandas_datareader.data as web\n",
    "import datetime as dt\n",
    "\n",
    "start = dt.datetime(2008, 8, 8)\n",
    "end = dt.datetime.now()\n",
    "\n",
    "# dow https://en.wikipedia.org/wiki/Dow_Jones_Industrial_Average\n",
    "# S&P 500\n",
    "# Nasdaq\n",
    "\n",
    "tsla_df = web.DataReader(\"TSLA\", 'yahoo', start, end)\n",
    "msft_df = web.DataReader(\"MSFT\", 'yahoo', start, end)\n",
    "dji_df = web.DataReader('^DJI', 'yahoo', start, end) # 'yahoo', 'fred'?\n",
    "gspc_df = web.DataReader('^GSPC', 'yahoo', start, end) # 'yahoo', 'fred'?"
   ]
  },
  {
   "cell_type": "code",
   "execution_count": 150,
   "metadata": {},
   "outputs": [],
   "source": [
    "import matplotlib.pyplot as plt\n",
    "%matplotlib inline\n",
    "\n",
    "def plot_stock(df, title=''):\n",
    "    fig = plt.figure()\n",
    "    ax = fig.add_subplot(1,1,1)\n",
    "    ax.plot(df['High'], label='High')\n",
    "    ax.plot(df['Low'], label='Low')\n",
    "    ax.plot(df['Open'], label='Open')\n",
    "    ax.plot(df['Close'], label='Close')\n",
    "    ax.plot(df['Adj Close'], label='Adj Close')\n",
    "    ax.set(title=title, ylabel='price', xlabel='date')\n",
    "    plt.xticks(rotation=45)\n",
    "    l = ax.legend()\n",
    "    fig.show()"
   ]
  },
  {
   "cell_type": "code",
   "execution_count": 151,
   "metadata": {},
   "outputs": [
    {
     "data": {
      "text/html": [
       "<div>\n",
       "<style scoped>\n",
       "    .dataframe tbody tr th:only-of-type {\n",
       "        vertical-align: middle;\n",
       "    }\n",
       "\n",
       "    .dataframe tbody tr th {\n",
       "        vertical-align: top;\n",
       "    }\n",
       "\n",
       "    .dataframe thead th {\n",
       "        text-align: right;\n",
       "    }\n",
       "</style>\n",
       "<table border=\"1\" class=\"dataframe\">\n",
       "  <thead>\n",
       "    <tr style=\"text-align: right;\">\n",
       "      <th></th>\n",
       "      <th>High</th>\n",
       "      <th>Low</th>\n",
       "      <th>Open</th>\n",
       "      <th>Close</th>\n",
       "      <th>Volume</th>\n",
       "      <th>Adj Close</th>\n",
       "    </tr>\n",
       "    <tr>\n",
       "      <th>Date</th>\n",
       "      <th></th>\n",
       "      <th></th>\n",
       "      <th></th>\n",
       "      <th></th>\n",
       "      <th></th>\n",
       "      <th></th>\n",
       "    </tr>\n",
       "  </thead>\n",
       "  <tbody>\n",
       "    <tr>\n",
       "      <th>2008-08-08</th>\n",
       "      <td>11759.959961</td>\n",
       "      <td>11388.040039</td>\n",
       "      <td>11432.089844</td>\n",
       "      <td>11734.320312</td>\n",
       "      <td>212830000</td>\n",
       "      <td>11734.320312</td>\n",
       "    </tr>\n",
       "    <tr>\n",
       "      <th>2008-08-11</th>\n",
       "      <td>11867.110352</td>\n",
       "      <td>11675.530273</td>\n",
       "      <td>11729.669922</td>\n",
       "      <td>11782.349609</td>\n",
       "      <td>183190000</td>\n",
       "      <td>11782.349609</td>\n",
       "    </tr>\n",
       "    <tr>\n",
       "      <th>2008-08-12</th>\n",
       "      <td>11782.349609</td>\n",
       "      <td>11601.519531</td>\n",
       "      <td>11781.700195</td>\n",
       "      <td>11642.469727</td>\n",
       "      <td>173590000</td>\n",
       "      <td>11642.469727</td>\n",
       "    </tr>\n",
       "    <tr>\n",
       "      <th>2008-08-13</th>\n",
       "      <td>11633.780273</td>\n",
       "      <td>11453.339844</td>\n",
       "      <td>11632.809570</td>\n",
       "      <td>11532.959961</td>\n",
       "      <td>182550000</td>\n",
       "      <td>11532.959961</td>\n",
       "    </tr>\n",
       "    <tr>\n",
       "      <th>2008-08-14</th>\n",
       "      <td>11718.280273</td>\n",
       "      <td>11450.889648</td>\n",
       "      <td>11532.070312</td>\n",
       "      <td>11615.929688</td>\n",
       "      <td>159790000</td>\n",
       "      <td>11615.929688</td>\n",
       "    </tr>\n",
       "  </tbody>\n",
       "</table>\n",
       "</div>"
      ],
      "text/plain": [
       "                    High           Low          Open         Close     Volume  \\\n",
       "Date                                                                            \n",
       "2008-08-08  11759.959961  11388.040039  11432.089844  11734.320312  212830000   \n",
       "2008-08-11  11867.110352  11675.530273  11729.669922  11782.349609  183190000   \n",
       "2008-08-12  11782.349609  11601.519531  11781.700195  11642.469727  173590000   \n",
       "2008-08-13  11633.780273  11453.339844  11632.809570  11532.959961  182550000   \n",
       "2008-08-14  11718.280273  11450.889648  11532.070312  11615.929688  159790000   \n",
       "\n",
       "               Adj Close  \n",
       "Date                      \n",
       "2008-08-08  11734.320312  \n",
       "2008-08-11  11782.349609  \n",
       "2008-08-12  11642.469727  \n",
       "2008-08-13  11532.959961  \n",
       "2008-08-14  11615.929688  "
      ]
     },
     "execution_count": 151,
     "metadata": {},
     "output_type": "execute_result"
    }
   ],
   "source": [
    "dji_df.head()"
   ]
  },
  {
   "cell_type": "code",
   "execution_count": 152,
   "metadata": {},
   "outputs": [
    {
     "name": "stderr",
     "output_type": "stream",
     "text": [
      "C:\\ProgramData\\Anaconda3\\envs\\machine_learning_python\\lib\\site-packages\\matplotlib\\figure.py:445: UserWarning: Matplotlib is currently using module://ipykernel.pylab.backend_inline, which is a non-GUI backend, so cannot show the figure.\n",
      "  % get_backend())\n"
     ]
    },
    {
     "data": {
      "image/png": "[encoded data removed]",
      "text/plain": [
       "<Figure size 432x288 with 1 Axes>"
      ]
     },
     "metadata": {
      "needs_background": "light"
     },
     "output_type": "display_data"
    }
   ],
   "source": [
    "plot_stock(dji_df, title='Dow')"
   ]
  },
  {
   "cell_type": "markdown",
   "metadata": {},
   "source": [
    "<a id=\"stock_and_news\"></a>\n",
    "\n",
    "## Stock Prices and News\n",
    "\n",
    "Now we will import the stock and news prices for use in this lab."
   ]
  },
  {
   "cell_type": "code",
   "execution_count": 115,
   "metadata": {},
   "outputs": [
    {
     "ename": "FileNotFoundError",
     "evalue": "File b'Archive_2/DJIA_table.csv' does not exist",
     "output_type": "error",
     "traceback": [
      "\u001b[1;31m---------------------------------------------------------------------------\u001b[0m",
      "\u001b[1;31mFileNotFoundError\u001b[0m                         Traceback (most recent call last)",
      "\u001b[1;32m<ipython-input-115-54aa9428f455>\u001b[0m in \u001b[0;36m<module>\u001b[1;34m()\u001b[0m\n\u001b[0;32m      1\u001b[0m \u001b[1;32mimport\u001b[0m \u001b[0mpandas\u001b[0m \u001b[1;32mas\u001b[0m \u001b[0mpd\u001b[0m\u001b[1;33m\u001b[0m\u001b[0m\n\u001b[1;32m----> 2\u001b[1;33m \u001b[0mDJIA_df\u001b[0m \u001b[1;33m=\u001b[0m \u001b[0mpd\u001b[0m\u001b[1;33m.\u001b[0m\u001b[0mread_csv\u001b[0m\u001b[1;33m(\u001b[0m\u001b[1;34m'Archive_2/DJIA_table.csv'\u001b[0m\u001b[1;33m)\u001b[0m\u001b[1;33m\u001b[0m\u001b[0m\n\u001b[0m\u001b[0;32m      3\u001b[0m \u001b[0mnews_df\u001b[0m \u001b[1;33m=\u001b[0m \u001b[0mpd\u001b[0m\u001b[1;33m.\u001b[0m\u001b[0mread_csv\u001b[0m\u001b[1;33m(\u001b[0m\u001b[1;34m'Archive_2/Combined_News_DJIA.csv'\u001b[0m\u001b[1;33m)\u001b[0m\u001b[1;33m\u001b[0m\u001b[0m\n",
      "\u001b[1;32mC:\\ProgramData\\Anaconda3\\lib\\site-packages\\pandas\\io\\parsers.py\u001b[0m in \u001b[0;36mparser_f\u001b[1;34m(filepath_or_buffer, sep, delimiter, header, names, index_col, usecols, squeeze, prefix, mangle_dupe_cols, dtype, engine, converters, true_values, false_values, skipinitialspace, skiprows, nrows, na_values, keep_default_na, na_filter, verbose, skip_blank_lines, parse_dates, infer_datetime_format, keep_date_col, date_parser, dayfirst, iterator, chunksize, compression, thousands, decimal, lineterminator, quotechar, quoting, escapechar, comment, encoding, dialect, tupleize_cols, error_bad_lines, warn_bad_lines, skipfooter, skip_footer, doublequote, delim_whitespace, as_recarray, compact_ints, use_unsigned, low_memory, buffer_lines, memory_map, float_precision)\u001b[0m\n\u001b[0;32m    707\u001b[0m                     skip_blank_lines=skip_blank_lines)\n\u001b[0;32m    708\u001b[0m \u001b[1;33m\u001b[0m\u001b[0m\n\u001b[1;32m--> 709\u001b[1;33m         \u001b[1;32mreturn\u001b[0m \u001b[0m_read\u001b[0m\u001b[1;33m(\u001b[0m\u001b[0mfilepath_or_buffer\u001b[0m\u001b[1;33m,\u001b[0m \u001b[0mkwds\u001b[0m\u001b[1;33m)\u001b[0m\u001b[1;33m\u001b[0m\u001b[0m\n\u001b[0m\u001b[0;32m    710\u001b[0m \u001b[1;33m\u001b[0m\u001b[0m\n\u001b[0;32m    711\u001b[0m     \u001b[0mparser_f\u001b[0m\u001b[1;33m.\u001b[0m\u001b[0m__name__\u001b[0m \u001b[1;33m=\u001b[0m \u001b[0mname\u001b[0m\u001b[1;33m\u001b[0m\u001b[0m\n",
      "\u001b[1;32mC:\\ProgramData\\Anaconda3\\lib\\site-packages\\pandas\\io\\parsers.py\u001b[0m in \u001b[0;36m_read\u001b[1;34m(filepath_or_buffer, kwds)\u001b[0m\n\u001b[0;32m    447\u001b[0m \u001b[1;33m\u001b[0m\u001b[0m\n\u001b[0;32m    448\u001b[0m     \u001b[1;31m# Create the parser.\u001b[0m\u001b[1;33m\u001b[0m\u001b[1;33m\u001b[0m\u001b[0m\n\u001b[1;32m--> 449\u001b[1;33m     \u001b[0mparser\u001b[0m \u001b[1;33m=\u001b[0m \u001b[0mTextFileReader\u001b[0m\u001b[1;33m(\u001b[0m\u001b[0mfilepath_or_buffer\u001b[0m\u001b[1;33m,\u001b[0m \u001b[1;33m**\u001b[0m\u001b[0mkwds\u001b[0m\u001b[1;33m)\u001b[0m\u001b[1;33m\u001b[0m\u001b[0m\n\u001b[0m\u001b[0;32m    450\u001b[0m \u001b[1;33m\u001b[0m\u001b[0m\n\u001b[0;32m    451\u001b[0m     \u001b[1;32mif\u001b[0m \u001b[0mchunksize\u001b[0m \u001b[1;32mor\u001b[0m \u001b[0miterator\u001b[0m\u001b[1;33m:\u001b[0m\u001b[1;33m\u001b[0m\u001b[0m\n",
      "\u001b[1;32mC:\\ProgramData\\Anaconda3\\lib\\site-packages\\pandas\\io\\parsers.py\u001b[0m in \u001b[0;36m__init__\u001b[1;34m(self, f, engine, **kwds)\u001b[0m\n\u001b[0;32m    816\u001b[0m             \u001b[0mself\u001b[0m\u001b[1;33m.\u001b[0m\u001b[0moptions\u001b[0m\u001b[1;33m[\u001b[0m\u001b[1;34m'has_index_names'\u001b[0m\u001b[1;33m]\u001b[0m \u001b[1;33m=\u001b[0m \u001b[0mkwds\u001b[0m\u001b[1;33m[\u001b[0m\u001b[1;34m'has_index_names'\u001b[0m\u001b[1;33m]\u001b[0m\u001b[1;33m\u001b[0m\u001b[0m\n\u001b[0;32m    817\u001b[0m \u001b[1;33m\u001b[0m\u001b[0m\n\u001b[1;32m--> 818\u001b[1;33m         \u001b[0mself\u001b[0m\u001b[1;33m.\u001b[0m\u001b[0m_make_engine\u001b[0m\u001b[1;33m(\u001b[0m\u001b[0mself\u001b[0m\u001b[1;33m.\u001b[0m\u001b[0mengine\u001b[0m\u001b[1;33m)\u001b[0m\u001b[1;33m\u001b[0m\u001b[0m\n\u001b[0m\u001b[0;32m    819\u001b[0m \u001b[1;33m\u001b[0m\u001b[0m\n\u001b[0;32m    820\u001b[0m     \u001b[1;32mdef\u001b[0m \u001b[0mclose\u001b[0m\u001b[1;33m(\u001b[0m\u001b[0mself\u001b[0m\u001b[1;33m)\u001b[0m\u001b[1;33m:\u001b[0m\u001b[1;33m\u001b[0m\u001b[0m\n",
      "\u001b[1;32mC:\\ProgramData\\Anaconda3\\lib\\site-packages\\pandas\\io\\parsers.py\u001b[0m in \u001b[0;36m_make_engine\u001b[1;34m(self, engine)\u001b[0m\n\u001b[0;32m   1047\u001b[0m     \u001b[1;32mdef\u001b[0m \u001b[0m_make_engine\u001b[0m\u001b[1;33m(\u001b[0m\u001b[0mself\u001b[0m\u001b[1;33m,\u001b[0m \u001b[0mengine\u001b[0m\u001b[1;33m=\u001b[0m\u001b[1;34m'c'\u001b[0m\u001b[1;33m)\u001b[0m\u001b[1;33m:\u001b[0m\u001b[1;33m\u001b[0m\u001b[0m\n\u001b[0;32m   1048\u001b[0m         \u001b[1;32mif\u001b[0m \u001b[0mengine\u001b[0m \u001b[1;33m==\u001b[0m \u001b[1;34m'c'\u001b[0m\u001b[1;33m:\u001b[0m\u001b[1;33m\u001b[0m\u001b[0m\n\u001b[1;32m-> 1049\u001b[1;33m             \u001b[0mself\u001b[0m\u001b[1;33m.\u001b[0m\u001b[0m_engine\u001b[0m \u001b[1;33m=\u001b[0m \u001b[0mCParserWrapper\u001b[0m\u001b[1;33m(\u001b[0m\u001b[0mself\u001b[0m\u001b[1;33m.\u001b[0m\u001b[0mf\u001b[0m\u001b[1;33m,\u001b[0m \u001b[1;33m**\u001b[0m\u001b[0mself\u001b[0m\u001b[1;33m.\u001b[0m\u001b[0moptions\u001b[0m\u001b[1;33m)\u001b[0m\u001b[1;33m\u001b[0m\u001b[0m\n\u001b[0m\u001b[0;32m   1050\u001b[0m         \u001b[1;32melse\u001b[0m\u001b[1;33m:\u001b[0m\u001b[1;33m\u001b[0m\u001b[0m\n\u001b[0;32m   1051\u001b[0m             \u001b[1;32mif\u001b[0m \u001b[0mengine\u001b[0m \u001b[1;33m==\u001b[0m \u001b[1;34m'python'\u001b[0m\u001b[1;33m:\u001b[0m\u001b[1;33m\u001b[0m\u001b[0m\n",
      "\u001b[1;32mC:\\ProgramData\\Anaconda3\\lib\\site-packages\\pandas\\io\\parsers.py\u001b[0m in \u001b[0;36m__init__\u001b[1;34m(self, src, **kwds)\u001b[0m\n\u001b[0;32m   1693\u001b[0m         \u001b[0mkwds\u001b[0m\u001b[1;33m[\u001b[0m\u001b[1;34m'allow_leading_cols'\u001b[0m\u001b[1;33m]\u001b[0m \u001b[1;33m=\u001b[0m \u001b[0mself\u001b[0m\u001b[1;33m.\u001b[0m\u001b[0mindex_col\u001b[0m \u001b[1;32mis\u001b[0m \u001b[1;32mnot\u001b[0m \u001b[1;32mFalse\u001b[0m\u001b[1;33m\u001b[0m\u001b[0m\n\u001b[0;32m   1694\u001b[0m \u001b[1;33m\u001b[0m\u001b[0m\n\u001b[1;32m-> 1695\u001b[1;33m         \u001b[0mself\u001b[0m\u001b[1;33m.\u001b[0m\u001b[0m_reader\u001b[0m \u001b[1;33m=\u001b[0m \u001b[0mparsers\u001b[0m\u001b[1;33m.\u001b[0m\u001b[0mTextReader\u001b[0m\u001b[1;33m(\u001b[0m\u001b[0msrc\u001b[0m\u001b[1;33m,\u001b[0m \u001b[1;33m**\u001b[0m\u001b[0mkwds\u001b[0m\u001b[1;33m)\u001b[0m\u001b[1;33m\u001b[0m\u001b[0m\n\u001b[0m\u001b[0;32m   1696\u001b[0m \u001b[1;33m\u001b[0m\u001b[0m\n\u001b[0;32m   1697\u001b[0m         \u001b[1;31m# XXX\u001b[0m\u001b[1;33m\u001b[0m\u001b[1;33m\u001b[0m\u001b[0m\n",
      "\u001b[1;32mpandas/_libs/parsers.pyx\u001b[0m in \u001b[0;36mpandas._libs.parsers.TextReader.__cinit__\u001b[1;34m()\u001b[0m\n",
      "\u001b[1;32mpandas/_libs/parsers.pyx\u001b[0m in \u001b[0;36mpandas._libs.parsers.TextReader._setup_parser_source\u001b[1;34m()\u001b[0m\n",
      "\u001b[1;31mFileNotFoundError\u001b[0m: File b'Archive_2/DJIA_table.csv' does not exist"
     ]
    }
   ],
   "source": [
    "import pandas as pd\n",
    "DJIA_df = pd.read_csv('Archive_2/DJIA_table.csv')\n",
    "news_df = pd.read_csv('Archive_2/Combined_News_DJIA.csv')"
   ]
  },
  {
   "cell_type": "code",
   "execution_count": null,
   "metadata": {},
   "outputs": [],
   "source": [
    "DJIA_df.reindex(index=DJIA_df.index[::-1])\n",
    "DJIA_df.head()"
   ]
  },
  {
   "cell_type": "code",
   "execution_count": null,
   "metadata": {},
   "outputs": [],
   "source": [
    "DJIA_df['Change'] = DJIA_df['Close'].diff()\n",
    "DJIA_df['Change'] = DJIA_df['Change'].shift(-1)\n",
    "DJIA_df.head()"
   ]
  },
  {
   "cell_type": "code",
   "execution_count": null,
   "metadata": {},
   "outputs": [],
   "source": [
    "DJIA_df.dropna(inplace=True)\n",
    "DJIA_df.isna().sum()"
   ]
  },
  {
   "cell_type": "markdown",
   "metadata": {},
   "source": [
    "<a id=\"preparation\"></a>\n",
    "\n",
    "# Preparation"
   ]
  },
  {
   "cell_type": "markdown",
   "metadata": {},
   "source": [
    "<a id=\"class_variables\"></a>\n",
    "    \n",
    "## Class Variables\n",
    "\n",
    "> __[10 points]__ Define and prepare your class variables. Use proper variable representations (int, float, one-hot, etc.). Use pre-processing methods (as needed). Describe the final dataset that is used for classification/regression (include a description of any newly formed variables you created). __Discuss methods of tokenization in your dataset as well as any decisions to force a specific length of sequence.__ \n",
    "\n",
    "The data contains 6 numeric features for each day: opening stock price, high stock price, low stock price, closing stock price, volume (number of stocks), and adjusted close. The adjusted closing price is calculated by yahoo and takes into account things such as dividends paid or stock splits, as well as new stock offerings. All of these features will be normalized to floats using min/max scaling. We also use the headlines included in the data set. The words in these headlines are converted to vectors using GloVe."
   ]
  },
  {
   "cell_type": "code",
   "execution_count": null,
   "metadata": {},
   "outputs": [],
   "source": [
    "from sklearn.preprocessing import MinMaxScaler\n",
    "\n",
    "# how do you normalize these? How do you not data snoop?\n",
    "Data_df = DJIA_df[[col for col in list(DJIA_df) if (col != 'Change' and col != 'Date')]]\n",
    "Target_df = DJIA_df['Change']\n",
    "\n",
    "# now the normalization\n",
    "min_max_scaler = MinMaxScaler()\n",
    "X_data = min_max_scaler.fit_transform(Data_df.values)\n",
    "Y = Target_df.values"
   ]
  },
  {
   "cell_type": "code",
   "execution_count": null,
   "metadata": {},
   "outputs": [],
   "source": [
    "def make_datasets(X, Y, length=60):\n",
    "    if len(X) != len(Y):\n",
    "        print('you done messed up')\n",
    "    X_data_list = []\n",
    "    Y_data_list = []\n",
    "    for i in range(length, len(X)):\n",
    "        X_data_list.append(X[i-length:i,:])\n",
    "        Y_data_list.append(Y[i])\n",
    "    X_data = np.array(X_data_list)\n",
    "    Y_data = np.array(Y_data_list)\n",
    "    return(X_data, Y_data)"
   ]
  },
  {
   "cell_type": "code",
   "execution_count": null,
   "metadata": {},
   "outputs": [],
   "source": [
    "X_DJIA, Y = make_datasets(X_data, Y)"
   ]
  },
  {
   "cell_type": "code",
   "execution_count": null,
   "metadata": {},
   "outputs": [],
   "source": [
    "news_df.head()"
   ]
  },
  {
   "cell_type": "code",
   "execution_count": null,
   "metadata": {},
   "outputs": [],
   "source": [
    "news_df.drop(columns=['Date','Label'],inplace=True)"
   ]
  },
  {
   "cell_type": "code",
   "execution_count": null,
   "metadata": {},
   "outputs": [],
   "source": [
    "news_df['All'] = ''\n",
    "for col in news_df:\n",
    "    if col!='All':\n",
    "        news_df['All'] += news_df[col]\n",
    "news_df = news_df.astype(str)"
   ]
  },
  {
   "cell_type": "code",
   "execution_count": null,
   "metadata": {},
   "outputs": [],
   "source": [
    "NUM_TOP_WORDS = None\n",
    "MAX_ART_LEN = 50 # maximum and minimum number of words\n",
    "\n",
    "X_news = []\n",
    "\n",
    "#to make sure each news is MAX_ART_LEN, thus seperatable\n",
    "tokenizer = Tokenizer(num_words=NUM_TOP_WORDS)\n",
    "tokenizer.fit_on_texts(news_df['All'])\n",
    "\n",
    "for col in news_df:\n",
    "    if col!='All':\n",
    "        sequences = tokenizer.texts_to_sequences(news_df[col])\n",
    "        X_tmp = pad_sequences(sequences, maxlen=MAX_ART_LEN,padding='pre')\n",
    "        X_news += [X_tmp]\n",
    "\n",
    "\n",
    "word_index = tokenizer.word_index\n",
    "NUM_TOP_WORDS = len(word_index) if NUM_TOP_WORDS==None else NUM_TOP_WORDS\n",
    "top_words = min((len(word_index),NUM_TOP_WORDS))\n",
    "print('Found %s unique tokens. Distilled to %d top words.' % (len(word_index),top_words))"
   ]
  },
  {
   "cell_type": "code",
   "execution_count": null,
   "metadata": {},
   "outputs": [],
   "source": [
    "X_news = [news[60:-1] for news in X_news]"
   ]
  },
  {
   "cell_type": "code",
   "execution_count": null,
   "metadata": {},
   "outputs": [],
   "source": [
    "X_final = X_news + [X_DJIA]\n",
    "Idx = np.array([i for i in range(len(X_DJIA))])\n",
    "Idx_train, Idx_test = train_test_split(Idx, test_size=0.1,random_state=42)\n",
    "X_train = [_[Idx_train] for _ in X_final]\n",
    "X_test = [_[Idx_test] for _ in X_final]\n",
    "Y_train = Y[Idx_train]\n",
    "Y_test = Y[Idx_test]"
   ]
  },
  {
   "cell_type": "markdown",
   "metadata": {},
   "source": [
    "<a id=\"metrics\"></a>\n",
    "\n",
    "## Metrics\n",
    "\n",
    "> __[10 points]__ Choose and explain what metric(s) you will use to evaluate your algorithm’s performance. You should give a __detailed argument for why this (these) metric(s) are appropriate__ on your data. That is, why is the metric appropriate for the task (_e.g._, in terms of the business case for the task). Please note: rarely is accuracy the best evaluation metric to use. Think deeply about an appropriate measure of performance.\n",
    "\n",
    "During training of our model we will monitor the mean squared error (mse) between the predicted next day closing value and the actual next day closing value. However, we will also use the predictions from a trained model to calculate how much money we would have if we had invested it at a specific time. For this get_rich metric we will use several simplifications. We will ignore any trading fees associated with buying/selling stocks and we will also assume we will buy partial stocks. We will also assume that we can sell and buy the stocks requested immediately. "
   ]
  },
  {
   "cell_type": "code",
   "execution_count": 24,
   "metadata": {},
   "outputs": [],
   "source": [
    "def get_rich(y_hats, y, amount=1e4, print_steps=False, print_results=True):\n",
    "    if len(y_hats) != len(y):\n",
    "        print(\"you will never get rich if you can't count\")\n",
    "        return None\n",
    "    \n",
    "    riches = amount\n",
    "    n_shares = 0\n",
    "    own = False # start not owning any shares\n",
    "    n_shares_list = []\n",
    "    \n",
    "    # loop over the days buying and selling\n",
    "    for i in range(0, len(y_hats)-1):\n",
    "        if print_steps:\n",
    "            print('buy')\n",
    "        if y_hats[i][0] > 0:\n",
    "            # predicted increase so buy if you don't already own\n",
    "            # if you already own, just hold onto the stocks\n",
    "            if not own:\n",
    "                n_shares = riches/y[i]\n",
    "                riches = 0\n",
    "                own = True\n",
    "        else:\n",
    "            if print_steps:\n",
    "                print('sell')\n",
    "            # predicted decrease so sell if you own\n",
    "            if own:\n",
    "                riches = n_shares*y[i]\n",
    "                n_shares = 0\n",
    "                own = False\n",
    "        n_shares_list.append(n_shares)\n",
    "    # assume you always sell on the last day\n",
    "    if own:\n",
    "        riches = n_shares*y[-1]\n",
    "    \n",
    "    if print_results:\n",
    "        print('We ended up with ${:.2f} which is a {:2f}% change'.format(riches, (riches-amount)/amount*100))\n",
    "    return riches, n_shares_list"
   ]
  },
  {
   "cell_type": "markdown",
   "metadata": {},
   "source": [
    "<a id=\"test_train_split\"></a>\n",
    "\n",
    "## Test-Train Split\n",
    "\n",
    "> __[10 points]__ Choose the method you will use for dividing your data into training and testing (i.e., are you using Stratified 10-fold cross validation? Shuffle splits? Why?). __Explain why your chosen method is appropriate or use more than one method as appropriate.__ Convince me that your cross validation method is a realistic mirroring of how an algorithm would be used in practice. \n",
    "\n",
    "For this project we will use an 80/20 split for training/testing. We will use the first 80% of the data as the training and the last 20% for testing. We need to preserver the time sequence in our data so we cannot randomly choose the testing and training data. This splitting also matches our custom get_rich metric where we will theoretically invest $10,000 at the time corresponding to the end of the training data and calculate how much money we would have at the end of the testing data. "
   ]
  },
  {
   "cell_type": "markdown",
   "metadata": {},
   "source": [
    "<a id=\"modeling\"></a>\n",
    "\n",
    "# Modeling"
   ]
  },
  {
   "cell_type": "markdown",
   "metadata": {},
   "source": [
    "<a id=\"architectures\"></a>\n",
    "\n",
    "## Architectures\n",
    "\n",
    "> __[20 points]__ Investigate at least two different recurrent network architectures (perhaps LSTM and GRU). Be sure to use an embedding layer (pre-trained, from scratch, or both). Adjust hyper-parameters of the networks as needed to improve generalization performance."
   ]
  },
  {
   "cell_type": "code",
   "execution_count": null,
   "metadata": {},
   "outputs": [],
   "source": [
    "from keras.models import Sequential, Input, Model\n",
    "from keras.layers import Dense\n",
    "from keras.layers import SimpleRNN\n",
    "from keras.layers.embeddings import Embedding\n",
    "from keras.layers import concatenate\n",
    "\n",
    "NEW_NUM = 5\n",
    "\n",
    "EMBED_SIZE = 51\n",
    "\n",
    "all_inputs = []\n",
    "\n",
    "#RNN for all top 25 news share same embeding and RNN layers, defined as below\n",
    "news_embeding_layer = Embedding(top_words, # input dimension (max int of OHE)\n",
    "                    EMBED_SIZE, # output dimension size\n",
    "                    input_length=MAX_ART_LEN)\n",
    "news_rnn_layer = SimpleRNN(25,dropout=0.2, recurrent_dropout=0.2)\n",
    "\n",
    "\n",
    "#first news pass through the RNN\n",
    "news_input = Input(shape=(MAX_ART_LEN, ))\n",
    "all_inputs.append(news_input)\n",
    "\n",
    "input_embed = news_embeding_layer(news_input)\n",
    "print(input_embed.shape)\n",
    "x_tmp = news_rnn_layer(input_embed)\n",
    "x_news = x_tmp\n",
    "\n",
    "\n",
    "#all rest news pass through the RNN, and concanate them, also need to specify the input\n",
    "for start in range(1,25):\n",
    "    news_input = Input(shape=(MAX_ART_LEN, ))\n",
    "    all_inputs.append(news_input)\n",
    "    input_embed = news_embeding_layer(news_input)\n",
    "    x_tmp = news_rnn_layer(input_embed)\n",
    "    x_news = concatenate([x_news, x_tmp])\n",
    "\n",
    "\n",
    "x_news = Dense(NEW_NUM, activation='sigmoid')(x_news)\n",
    "\n",
    "news_model=Model(inputs=all_inputs,outputs=x_news)\n",
    "\n",
    "news_model.compile(loss='binary_crossentropy', \n",
    "              optimizer='rmsprop', \n",
    "              metrics=['accuracy'])\n",
    "#news_model.summary()"
   ]
  },
  {
   "cell_type": "code",
   "execution_count": null,
   "metadata": {},
   "outputs": [],
   "source": [
    "from IPython.display import SVG\n",
    "from keras.utils.vis_utils import model_to_dot\n",
    "\n",
    "# you will need to install pydot properly on your machine to get this running\n",
    "#SVG(model_to_dot(news_model).create(prog='dot', format='svg'))"
   ]
  },
  {
   "cell_type": "code",
   "execution_count": null,
   "metadata": {},
   "outputs": [],
   "source": [
    "BATCH_SIZE = 2\n",
    "TIME_STEPS = 60\n",
    "feature_num = 6\n",
    "\n",
    "DIJA_input=Input(shape=(TIME_STEPS,feature_num))\n",
    "DJIA_rnn_layer=LSTM(10)\n",
    "x_DIJA = DJIA_rnn_layer(DIJA_input)\n",
    "DJIA_model = Model(inputs=DIJA_input,outputs=x_DIJA)\n",
    "\n",
    "all_inputs.append(DIJA_input)\n",
    "\n",
    "DJIA_model.compile(loss='binary_crossentropy', \n",
    "              optimizer='rmsprop', \n",
    "              metrics=['accuracy'])\n",
    "DJIA_model.summary()"
   ]
  },
  {
   "cell_type": "code",
   "execution_count": null,
   "metadata": {},
   "outputs": [],
   "source": [
    "from IPython.display import SVG\n",
    "from keras.utils.vis_utils import model_to_dot\n",
    "\n",
    "# you will need to install pydot properly on your machine to get this running\n",
    "#SVG(model_to_dot(DJIA_model).create(prog='dot', format='svg'))"
   ]
  },
  {
   "cell_type": "code",
   "execution_count": null,
   "metadata": {},
   "outputs": [],
   "source": [
    "x_final = concatenate([x_news, x_DIJA])\n",
    "x = Dense(1, activation='relu')(x_final)\n",
    "\n",
    "final_model=Model(inputs=all_inputs,outputs=x)\n",
    "\n",
    "final_model.compile(loss='mse', \n",
    "              optimizer='adam', \n",
    "              metrics=['accuracy'])\n",
    "#final_model.summary()"
   ]
  },
  {
   "cell_type": "code",
   "execution_count": null,
   "metadata": {},
   "outputs": [],
   "source": [
    "from IPython.display import SVG\n",
    "from keras.utils.vis_utils import model_to_dot\n",
    "\n",
    "# you will need to install pydot properly on your machine to get this running\n",
    "#SVG(model_to_dot(final_model).create(prog='dot', format='svg'))"
   ]
  },
  {
   "cell_type": "code",
   "execution_count": null,
   "metadata": {},
   "outputs": [],
   "source": [
    "def wraped_model(rnn_news_type=SimpleRNN,rnn_DJIA_type=LSTM):\n",
    "    all_inputs = []\n",
    "        \n",
    "    NEWS_NUM = 2\n",
    "    EMBED_SIZE = 51\n",
    "    \n",
    "    news_embeding_layer = Embedding(top_words,\n",
    "                        EMBED_SIZE,\n",
    "                        input_length=MAX_ART_LEN)\n",
    "    news_rnn_layer = rnn_news_type(10,dropout=0.2, recurrent_dropout=0.2)\n",
    "    \n",
    "    news_input = Input(shape=(MAX_ART_LEN, ))\n",
    "    all_inputs.append(news_input)\n",
    "    input_embed = news_embeding_layer(news_input)\n",
    "    x_tmp = news_rnn_layer(input_embed)\n",
    "    x_news = x_tmp\n",
    "    for start in range(1,25):\n",
    "        news_input = Input(shape=(MAX_ART_LEN, ))\n",
    "        all_inputs.append(news_input)\n",
    "        input_embed = news_embeding_layer(news_input)\n",
    "        x_tmp = news_rnn_layer(input_embed)\n",
    "        x_news = concatenate([x_news, x_tmp])\n",
    "    x_news = Dense(NEWS_NUM, activation='relu')(x_news)\n",
    "    \n",
    "    \n",
    "    \n",
    "    BATCH_SIZE = 2\n",
    "    TIME_STEPS = 60\n",
    "    feature_num = 6\n",
    "    \n",
    "    DIJA_input=Input(shape=(TIME_STEPS,feature_num))\n",
    "    DJIA_rnn_layer=rnn_DJIA_type(2,dropout=0.4, recurrent_dropout=0.2)\n",
    "    x_DIJA = DJIA_rnn_layer(DIJA_input)\n",
    "    all_inputs.append(DIJA_input)\n",
    "    \n",
    "    x_final = concatenate([x_news, x_DIJA])\n",
    "    x = Dense(10, activation='relu')(x_final)\n",
    "    x = Dense(1, activation='linear')(x)\n",
    "\n",
    "    final_model=Model(inputs=all_inputs,outputs=x)\n",
    "\n",
    "    final_model.compile(loss='mse', \n",
    "                  optimizer='adam')\n",
    "    return final_model"
   ]
  },
  {
   "cell_type": "code",
   "execution_count": null,
   "metadata": {},
   "outputs": [],
   "source": [
    "model = wraped_model(LSTM,LSTM)\n",
    "#model.summary()"
   ]
  },
  {
   "cell_type": "code",
   "execution_count": null,
   "metadata": {},
   "outputs": [],
   "source": [
    "from IPython.display import SVG\n",
    "from keras.utils.vis_utils import model_to_dot\n",
    "\n",
    "# you will need to install pydot properly on your machine to get this running\n",
    "#SVG(model_to_dot(model).create(prog='dot', format='svg'))"
   ]
  },
  {
   "cell_type": "code",
   "execution_count": null,
   "metadata": {},
   "outputs": [],
   "source": [
    "model.fit(X_train,Y_train,batch_size=128,epochs=20,verbose=1,validation_data=(X_test,Y_test))"
   ]
  },
  {
   "cell_type": "code",
   "execution_count": null,
   "metadata": {},
   "outputs": [],
   "source": [
    "model.predict(X_test)"
   ]
  },
  {
   "cell_type": "code",
   "execution_count": null,
   "metadata": {},
   "outputs": [],
   "source": [
    "print(Y_test)"
   ]
  },
  {
   "cell_type": "markdown",
   "metadata": {},
   "source": [
    "<a id=\"second_chain\"></a>\n",
    "\n",
    "## Second Recurrent Chain\n",
    "\n",
    "> __[20 points]__ Using the best RNN parameters and architecture, add a second recurrent chain to your RNN. The input to the second chain should be the output sequence of the first chain. Visualize the performance of training and validation sets versus the training iterations. "
   ]
  },
  {
   "cell_type": "code",
   "execution_count": null,
   "metadata": {},
   "outputs": [],
   "source": []
  },
  {
   "cell_type": "markdown",
   "metadata": {},
   "source": [
    "<a id=\"evaluation\"></a>\n",
    "\n",
    "## Evaluation\n",
    "\n",
    "> __[20 points]__ Use the method of cross validation and evaluation criteria that you argued for at the beginning of the lab. Visualize the results of all the RNNs you trained.  Use proper statistical comparison techniques to determine which method(s) is (are) superior.  "
   ]
  },
  {
   "cell_type": "code",
   "execution_count": null,
   "metadata": {},
   "outputs": [],
   "source": []
  },
  {
   "cell_type": "markdown",
   "metadata": {},
   "source": [
    "<a id=\"exceptional_work\"></a>\n",
    "\n",
    "# Exceptional Work"
   ]
  },
  {
   "cell_type": "markdown",
   "metadata": {},
   "source": [
    "<a id=\"additional_analysis\"></a>\n",
    "\n",
    "## Additional Analysis\n",
    "\n",
    "> You have free reigh to provide additional analysis"
   ]
  },
  {
   "cell_type": "markdown",
   "metadata": {},
   "source": [
    "<a id=\"Fourier_filter\"></a>\n",
    "\n",
    "## Fourier Filtering\n",
    "\n",
    "As an exercise in procrastination, we also filter the data some to remove some of the high frequency fluctuations using Fourier filtering. It should be noted that Fourier filtering assumes the data will repreat itself outside of the domain and therefore has no influene on predicting the future as it is. Rather, it only makes the curves smoother and potentially easier to understand."
   ]
  },
  {
   "cell_type": "code",
   "execution_count": 53,
   "metadata": {},
   "outputs": [],
   "source": [
    "import numpy as np\n",
    "\n",
    "def Fourier_filter(data, filter_percent=0.9, plot=False, plot_title=''):\n",
    "    f = np.fft.rfft(data) # use rfft because we have real inputs...\n",
    "    f[int(len(data)*(1-filter_percent)):] = 0\n",
    "    inv = np.fft.irfft(f)\n",
    "    \n",
    "    if plot:\n",
    "        fig = plt.figure()\n",
    "        ax = fig.add_subplot(1,1,1)\n",
    "        ax.plot(data, label='original')\n",
    "        ax.plot(inv, label='filtered {}'.format(filter_percent))\n",
    "        ax.legend()\n",
    "        ax.set(title=plot_title, xlabel='time', ylabel='cost')\n",
    "        fig.show()\n",
    "    \n",
    "    return inv"
   ]
  },
  {
   "cell_type": "code",
   "execution_count": 54,
   "metadata": {},
   "outputs": [
    {
     "data": {
      "image/png": "[encoded data removed]",
      "text/plain": [
       "<Figure size 432x288 with 1 Axes>"
      ]
     },
     "metadata": {
      "needs_background": "light"
     },
     "output_type": "display_data"
    }
   ],
   "source": [
    "filterings = [0.5, 0.9, 0.95, 0.99]\n",
    "\n",
    "fig = plt.figure()\n",
    "ax = fig.add_subplot(1,1,1)\n",
    "for filt in filterings:\n",
    "    res = Fourier_filter(msft_df['Open'].values, filter_percent=filt, plot=False)\n",
    "    ax.plot(res, label='{}%'.format(filt*100))\n",
    "ax.plot(msft_df['Open'].values, label='original')\n",
    "l = ax.legend()\n",
    "ax.set_title('Fourier Filtering of MSFT Open')\n",
    "fig.show()"
   ]
  },
  {
   "cell_type": "markdown",
   "metadata": {},
   "source": [
    "<a id=\"visualize_embeddings\"></a>\n",
    "\n",
    "## Visualize Word Embeddings\n",
    "\n",
    "> One idea (__required for 7000 level students__): Use t-SNE (or SVD) to visualize the word embeddings of a subset of words in your vocabulary. Try to interpret what each dimension reflects (in your own words). That is, try to explain what aspect of the language is encoded in the reduced dimensionality embedding. "
   ]
  },
  {
   "cell_type": "markdown",
   "metadata": {},
   "source": [
    "<a id=\"tSNE\"></a>\n",
    "\n",
    "### t-SNE\n",
    "\n",
    "For this section we will start with a embedding matrix of our vocabulary using GloVe 50, 100, 200, and 300. We will then use t-SNE to reduce the dimensionality to 2 dimensions. We will then find the lenght of the diffence vectors between two sets of words that we think are similar. We tried this with the text from the constitution as well as the first 10,000 words from the GloVe embeddings.\n",
    "\n",
    "Also, t-SNE does not try to maintain distances so trying to compare the distances between vectors from a high dimension space to a low dimension space will not provide any information."
   ]
  },
  {
   "cell_type": "code",
   "execution_count": 435,
   "metadata": {},
   "outputs": [
    {
     "name": "stdout",
     "output_type": "stream",
     "text": [
      "first 5 words: ['we', 'the', 'people', 'of', 'the']\n",
      "total words found 7620\n"
     ]
    }
   ],
   "source": [
    "# first loat the constitution and clean it some\n",
    "with open('texts/const.txt', 'r') as f:\n",
    "    dat = f.read().lower()\n",
    "    \n",
    "word = ''\n",
    "word_list = []\n",
    "for c in dat:\n",
    "    if c in ['\\n']:\n",
    "        c = ' '\n",
    "    if c in [',', '.', ';']:\n",
    "        continue\n",
    "    if c == ' ': # new word\n",
    "        if word != '':\n",
    "            word_list.append(word)\n",
    "        word = ''\n",
    "    else:\n",
    "        word += c\n",
    "        \n",
    "print('first 5 words: {}'.format(word_list[:5]))\n",
    "print('total words found {}'.format(len(word_list)))"
   ]
  },
  {
   "cell_type": "code",
   "execution_count": 436,
   "metadata": {},
   "outputs": [],
   "source": [
    "# now tokenize to get the dictionary\n",
    "import keras\n",
    "from keras.preprocessing.text import Tokenizer\n",
    "\n",
    "NUM_TOP_WORDS=None\n",
    "\n",
    "tokenizer = Tokenizer(num_words=NUM_TOP_WORDS)\n",
    "tokenizer.fit_on_texts(word_list)\n",
    "sequences = tokenizer.texts_to_sequences(word_list)\n",
    "\n",
    "word_index = tokenizer.word_index"
   ]
  },
  {
   "cell_type": "code",
   "execution_count": 437,
   "metadata": {},
   "outputs": [
    {
     "name": "stdout",
     "output_type": "stream",
     "text": [
      "working on size 50\n",
      "Found 400000 word vectors.\n",
      "embedding matrix size (1167, 50)\n",
      "working on size 100\n",
      "Found 400000 word vectors.\n",
      "embedding matrix size (1167, 100)\n",
      "working on size 200\n",
      "Found 400000 word vectors.\n",
      "embedding matrix size (1167, 200)\n",
      "working on size 300\n",
      "Found 400000 word vectors.\n",
      "embedding matrix size (1167, 300)\n"
     ]
    }
   ],
   "source": [
    "embed_sizes = [50, 100, 200, 300]\n",
    "full_size_embed_dict = {}\n",
    "for EMBED_SIZE in embed_sizes:\n",
    "    print('working on size {}'.format(EMBED_SIZE))\n",
    "    # the embed size should match the file you load glove from\n",
    "    embeddings_index = {}\n",
    "    with open('glove.6B/glove.6B.{}d.txt'.format(EMBED_SIZE), 'r', encoding='utf-8') as f:\n",
    "    # save key/array pairs of the embeddings\n",
    "    #  the key of the dictionary is the word, the array is the embedding\n",
    "        for line in f:\n",
    "            values = line.split()\n",
    "            word = values[0]\n",
    "            coefs = np.asarray(values[1:], dtype='float32')\n",
    "            embeddings_index[word] = coefs\n",
    "\n",
    "    print('Found %s word vectors.' % len(embeddings_index))\n",
    "\n",
    "    # now fill in the matrix, using the ordering from the\n",
    "    #  keras word tokenizer from before\n",
    "    embedding_matrix = np.zeros((len(word_index) + 1, EMBED_SIZE))\n",
    "    for word, i in word_index.items():\n",
    "        embedding_vector = embeddings_index.get(word)\n",
    "        if embedding_vector is not None:\n",
    "            # words not found in embedding index will be all-zeros.\n",
    "            embedding_matrix[i] = embedding_vector\n",
    "\n",
    "    print('embedding matrix size {}'.format(embedding_matrix.shape))\n",
    "    full_size_embed_dict[EMBED_SIZE] = embedding_matrix"
   ]
  },
  {
   "cell_type": "code",
   "execution_count": 441,
   "metadata": {},
   "outputs": [
    {
     "name": "stdout",
     "output_type": "stream",
     "text": [
      "now working on size 50\n",
      "original matrix size (1167, 50)\n",
      "reduced matrix size (1167, 2)\n",
      "now working on size 100\n",
      "original matrix size (1167, 100)\n",
      "reduced matrix size (1167, 2)\n",
      "now working on size 200\n",
      "original matrix size (1167, 200)\n",
      "reduced matrix size (1167, 2)\n",
      "now working on size 300\n",
      "original matrix size (1167, 300)\n",
      "reduced matrix size (1167, 2)\n"
     ]
    }
   ],
   "source": [
    "# now use t-SNE to reduct dimensionality for each starting dimension\n",
    "from sklearn.manifold import TSNE\n",
    "\n",
    "reduced_size_embed_dict = {}\n",
    "original_sizes = [50, 100, 200, 300]\n",
    "for orig_size in original_sizes:\n",
    "    print('now working on size {}'.format(orig_size))\n",
    "    original_matrix = full_size_embed_dict[orig_size]\n",
    "    print('original matrix size {}'.format(original_matrix.shape))\n",
    "    reduced_matrix = TSNE(n_components=2).fit_transform(original_matrix)\n",
    "    print('reduced matrix size {}'.format(reduced_matrix.shape))\n",
    "    reduced_size_embed_dict[orig_size] = reduced_matrix"
   ]
  },
  {
   "cell_type": "code",
   "execution_count": 452,
   "metadata": {},
   "outputs": [],
   "source": [
    "# now find the distances between words\n",
    "\n",
    "word_pairs = [['representatives','members'],\n",
    "              ['representatives','electors'],\n",
    "              ['representatives','person'],\n",
    "              ['members','electors'],\n",
    "              ['members','person'],\n",
    "              ['electors','person']]\n",
    "\n",
    "original_sizes = [50, 100, 200, 300]\n",
    "\n",
    "dict_of_lists = {}\n",
    "for orig_size in original_sizes:\n",
    "    results_list = []\n",
    "    matrix = reduced_size_embed_dict[orig_size]\n",
    "    for word_pair in word_pairs:\n",
    "        i_1 = word_index[word_pair[0]]\n",
    "        i_2 = word_index[word_pair[1]]\n",
    "        v1 = matrix[i_1,:]\n",
    "        v2 = matrix[i_2,:]\n",
    "        d = np.linalg.norm((v1-v2))\n",
    "        results_list.append(word_pair+[d])\n",
    "    dict_of_lists[orig_size] = results_list"
   ]
  },
  {
   "cell_type": "code",
   "execution_count": 467,
   "metadata": {},
   "outputs": [
    {
     "data": {
      "image/png": "[encoded data removed]",
      "text/plain": [
       "<Figure size 1440x360 with 4 Axes>"
      ]
     },
     "metadata": {
      "needs_background": "light"
     },
     "output_type": "display_data"
    }
   ],
   "source": [
    "# now plot all of the words\n",
    "original_sizes = [50, 100, 200, 300]\n",
    "\n",
    "fig, axes = plt.subplots(nrows=1, ncols=4, figsize=(20,5))\n",
    "fig.suptitle('Using the Constitution Dictionary')\n",
    "for i in range(len(original_sizes)):\n",
    "    original_size = original_sizes[i]\n",
    "    embed_mat = reduced_size_embed_dict[original_size]\n",
    "    ax = axes[i]\n",
    "    ax.set_title('Reduced from {} dimensions'.format(original_size))\n",
    "    ax.scatter(embed_mat[:,0], embed_mat[:,1], marker='.', color='black')\n",
    "    ax.set_ylim(-60, 60)\n",
    "    ax.set_xlim(-60, 60)\n",
    "    # now the special words\n",
    "    for word_pair in word_pairs:\n",
    "        i_1 = word_index[word_pair[0]]\n",
    "        i_2 = word_index[word_pair[1]]\n",
    "        v1 = embed_mat[i_1,:]\n",
    "        v2 = embed_mat[i_2,:]\n",
    "        ax.scatter(v1[0], v1[1], marker='x', color='red')\n",
    "        ax.scatter(v2[0], v2[1], marker='x', color='red')"
   ]
  },
  {
   "cell_type": "markdown",
   "metadata": {},
   "source": [
    "As we can see from the images above, the starting dimensionality of the GloVe embedding does change the shape of the distribution of points in 2-D after applying t-SNE. We can also see that the points in red, all form words we think are similar, are not necessarily close to each other in 2-D space."
   ]
  },
  {
   "cell_type": "markdown",
   "metadata": {},
   "source": [
    "Now we will try the same thing with the first 10,000 words from the GloVE embedding."
   ]
  },
  {
   "cell_type": "code",
   "execution_count": 480,
   "metadata": {},
   "outputs": [
    {
     "name": "stdout",
     "output_type": "stream",
     "text": [
      "working on size 50\n",
      "Found 400000 word vectors.\n",
      "embedding matrix size (10000, 50)\n",
      "working on size 100\n",
      "Found 400000 word vectors.\n",
      "embedding matrix size (10000, 100)\n",
      "working on size 200\n",
      "Found 400000 word vectors.\n",
      "embedding matrix size (10000, 200)\n",
      "working on size 300\n",
      "Found 400000 word vectors.\n",
      "embedding matrix size (10000, 300)\n"
     ]
    }
   ],
   "source": [
    "# now instead of using only the constitution vocabulary, use the first n_lines from the GloVe embedding and hope for the best\n",
    "\n",
    "n_lines = 10000\n",
    "embed_sizes = [50, 100, 200, 300]\n",
    "full_size_glove_embed_dict = {}\n",
    "glove_word_index = {}\n",
    "for EMBED_SIZE in embed_sizes:\n",
    "    print('working on size {}'.format(EMBED_SIZE))\n",
    "    # the embed size should match the file you load glove from\n",
    "    embeddings_glove_index = {}\n",
    "    with open('glove.6B/glove.6B.{}d.txt'.format(EMBED_SIZE), 'r', encoding='utf-8') as f:\n",
    "    # save key/array pairs of the embeddings\n",
    "    #  the key of the dictionary is the word, the array is the embedding\n",
    "        i=0\n",
    "        embedding_matrix = np.zeros((n_lines, EMBED_SIZE))\n",
    "        for line in f:\n",
    "            values = line.split()\n",
    "            word = values[0]\n",
    "            coefs = np.asarray(values[1:], dtype='float32')\n",
    "            embeddings_glove_index[word] = coefs\n",
    "            embedding_matrix[i] = coefs\n",
    "            glove_word_index[word] = i\n",
    "\n",
    "    print('Found %s word vectors.' % len(embeddings_index))\n",
    "\n",
    "    print('embedding matrix size {}'.format(embedding_matrix.shape))\n",
    "    full_size_glove_embed_dict[EMBED_SIZE] = embedding_matrix"
   ]
  },
  {
   "cell_type": "code",
   "execution_count": 481,
   "metadata": {},
   "outputs": [
    {
     "name": "stdout",
     "output_type": "stream",
     "text": [
      "now working on size 50\n",
      "original matrix size (10000, 50)\n",
      "reduced matrix size (10000, 2)\n",
      "now working on size 100\n",
      "original matrix size (10000, 100)\n",
      "reduced matrix size (10000, 2)\n",
      "now working on size 200\n",
      "original matrix size (10000, 200)\n",
      "reduced matrix size (10000, 2)\n",
      "now working on size 300\n",
      "original matrix size (10000, 300)\n",
      "reduced matrix size (10000, 2)\n"
     ]
    }
   ],
   "source": [
    "# now use t-SNE to reduct dimensionality for each starting dimension\n",
    "from sklearn.manifold import TSNE\n",
    "\n",
    "reduced_size_glove_embed_dict = {}\n",
    "original_sizes = [50, 100, 200, 300]\n",
    "for orig_size in original_sizes:\n",
    "    print('now working on size {}'.format(orig_size))\n",
    "    original_matrix = full_size_glove_embed_dict[orig_size]\n",
    "    print('original matrix size {}'.format(original_matrix.shape))\n",
    "    reduced_matrix = TSNE(n_components=2).fit_transform(original_matrix)\n",
    "    print('reduced matrix size {}'.format(reduced_matrix.shape))\n",
    "    reduced_size_glove_embed_dict[orig_size] = reduced_matrix"
   ]
  },
  {
   "cell_type": "code",
   "execution_count": 482,
   "metadata": {},
   "outputs": [
    {
     "data": {
      "image/png": "[encoded data removed]",
      "text/plain": [
       "<Figure size 1440x360 with 4 Axes>"
      ]
     },
     "metadata": {
      "needs_background": "light"
     },
     "output_type": "display_data"
    }
   ],
   "source": [
    "# now plot all of the words\n",
    "original_sizes = [50, 100, 200, 300]\n",
    "\n",
    "fig, axes = plt.subplots(nrows=1, ncols=4, figsize=(20,5))\n",
    "fig.suptitle('Using the first words of GloVe')\n",
    "for i in range(len(original_sizes)):\n",
    "    original_size = original_sizes[i]\n",
    "    embed_mat = reduced_size_glove_embed_dict[original_size]\n",
    "    ax = axes[i]\n",
    "    ax.set_title('Reduced from {} dimensions'.format(original_size))\n",
    "    ax.scatter(embed_mat[:,0], embed_mat[:,1], marker='.', color='black')\n",
    "#    ax.set_ylim(-60, 60)\n",
    "#    ax.set_xlim(-60, 60)\n",
    "    # now the special words\n",
    "    for word_pair in word_pairs:\n",
    "        i_1 = glove_word_index[word_pair[0]]\n",
    "        i_2 = glove_word_index[word_pair[1]]\n",
    "        v1 = embed_mat[i_1,:]\n",
    "        v2 = embed_mat[i_2,:]\n",
    "        ax.scatter(v1[0], v1[1], marker='x', color='red')\n",
    "        ax.scatter(v2[0], v2[1], marker='x', color='red')\n",
    "    for word in ['state', 'states']:\n",
    "        i_w = glove_word_index[word]\n",
    "        v = embed_mat[i_w]\n",
    "        ax.scatter(v[0], v[1], marker='o', color='green')"
   ]
  },
  {
   "cell_type": "markdown",
   "metadata": {},
   "source": [
    "We can see that using the first words from the GloVe embedding instead of the vocabulary used in the constitution does change the final distribution after embedding in 2D. We can also see that the word pairs are all close to each other which agrees with our intuition that the words are similar."
   ]
  },
  {
   "cell_type": "markdown",
   "metadata": {},
   "source": [
    "Now we will use t-SNE and check how word differences behave. That is, we know that in the original dimensionality space the difference from \"male\" to \"female\" is similar to the difference between \"king\" and \"queen\". We will check if t-SNE preserves these analagies. We will also look at the words corresponding to the maximum and minimum values for each axis and see if we can tell what each axis encodes."
   ]
  },
  {
   "cell_type": "code",
   "execution_count": 118,
   "metadata": {},
   "outputs": [
    {
     "name": "stdout",
     "output_type": "stream",
     "text": [
      "working on size 50\n",
      "embedding matrix size (10001, 50)\n"
     ]
    }
   ],
   "source": [
    "import numpy as np\n",
    "\n",
    "n_lines = 10000\n",
    "embed_sizes = [50]\n",
    "full_size_glove_embed_dict = {}\n",
    "glove_word_index = {}\n",
    "glove_index_word = {}\n",
    "for EMBED_SIZE in embed_sizes:\n",
    "    print('working on size {}'.format(EMBED_SIZE))\n",
    "    # the embed size should match the file you load glove from\n",
    "    embeddings_glove_index = {}\n",
    "    with open('glove.6B/glove.6B.{}d.txt'.format(EMBED_SIZE), 'r', encoding='utf-8') as f:\n",
    "    # save key/array pairs of the embeddings\n",
    "    #  the key of the dictionary is the word, the array is the embedding\n",
    "        i=0\n",
    "        embedding_matrix = np.zeros((n_lines+1, EMBED_SIZE))\n",
    "        for line in f:\n",
    "            values = line.split()\n",
    "            word = values[0]\n",
    "            coefs = np.asarray(values[1:], dtype='float32')\n",
    "            embeddings_glove_index[word] = coefs\n",
    "            embedding_matrix[i] = coefs\n",
    "            glove_word_index[word] = i\n",
    "            glove_index_word[i] = word\n",
    "            i+=1\n",
    "            if i > n_lines:\n",
    "                break\n",
    "            \n",
    "\n",
    "#    print('Found %s word vectors.' % len(embeddings_index))\n",
    "\n",
    "    print('embedding matrix size {}'.format(embedding_matrix.shape))\n",
    "    full_size_glove_embed_dict[EMBED_SIZE] = embedding_matrix"
   ]
  },
  {
   "cell_type": "code",
   "execution_count": 119,
   "metadata": {},
   "outputs": [
    {
     "name": "stdout",
     "output_type": "stream",
     "text": [
      "Wall time: 0 ns\n",
      "full size matrix (10001, 50)\n",
      "small size matrix (10001, 2)\n"
     ]
    }
   ],
   "source": [
    "%time\n",
    "from sklearn.manifold import TSNE\n",
    "\n",
    "full_mat = full_size_glove_embed_dict[50]\n",
    "print('full size matrix {}'.format(full_mat.shape))\n",
    "small_mat = TSNE(n_components=2).fit_transform(full_mat)\n",
    "print('small size matrix {}'.format(small_mat.shape))"
   ]
  },
  {
   "cell_type": "code",
   "execution_count": 120,
   "metadata": {},
   "outputs": [
    {
     "name": "stdout",
     "output_type": "stream",
     "text": [
      "smallest a0\n",
      "['rocked', 'erupted', 'clashes', 'sectarian', 'bloodshed', 'unrest', 'riots', 'reactors', 'reactor', 'violence', 'uranium', 'enrichment', 'violent', 'nuclear', 'atomic']\n",
      "\n",
      "largest a0\n",
      "['1891', '1898', '1889', '1888', '1894', '1892', '1890', '1860', '1885', '1870', '1864', '1863', '1862', '1865', '1861']\n",
      "\n",
      "smallest a1\n",
      "['powder', 'teaspoon', 'tablespoons', 'salt', 'pour', 'pan', 'olive', 'chopped', 'cups', 'pepper', 'pot', 'stir', 'garlic', 'mixture', 'medium']\n",
      "\n",
      "largest a1\n",
      "['koh', 'uh', 'nah', 'nee', 'mee', 'ee', 'bah', 'rah', 'mah', 'sah', 'ree', 'kah', 'yah', 'lah', 'hah']\n"
     ]
    }
   ],
   "source": [
    "n=15\n",
    "smallest_a0_index = np.argpartition(small_mat[:,0],range(n))[:n]\n",
    "smallest_a0_elements = [[small_mat[i,0], small_mat[i,1]] for i in smallest_a0_index]\n",
    "smallest_a0_words = [glove_index_word[i] for i in smallest_a0_index]\n",
    "\n",
    "largest_a0_index = np.argpartition(small_mat[:,0],range(-n,0,1))[-n:]\n",
    "largest_a0_elements = [[small_mat[i,0], small_mat[i,1]] for i in largest_a0_index]\n",
    "largest_a0_words = [glove_index_word[i] for i in largest_a0_index]\n",
    "\n",
    "smallest_a1_index = np.argpartition(small_mat[:,1],range(n))[:n]\n",
    "smallest_a1_elements = [[small_mat[i,0], small_mat[i,1]] for i in smallest_a1_index]\n",
    "smallest_a1_words = [glove_index_word[i] for i in smallest_a1_index]\n",
    "\n",
    "largest_a1_index = np.argpartition(small_mat[:,1],range(-n,0,1))[-n:]\n",
    "largest_a1_elements = [[small_mat[i,0], small_mat[i,1]] for i in largest_a1_index]\n",
    "largest_a1_words = [glove_index_word[i] for i in largest_a1_index]\n",
    "\n",
    "print('smallest a0')\n",
    "print(smallest_a0_words)\n",
    "print('\\nlargest a0')\n",
    "print(largest_a0_words)\n",
    "print('\\nsmallest a1')\n",
    "print(smallest_a1_words)\n",
    "print('\\nlargest a1')\n",
    "print(largest_a1_words)"
   ]
  },
  {
   "cell_type": "code",
   "execution_count": 121,
   "metadata": {},
   "outputs": [
    {
     "name": "stderr",
     "output_type": "stream",
     "text": [
      "C:\\ProgramData\\Anaconda3\\lib\\site-packages\\matplotlib\\figure.py:418: UserWarning: matplotlib is currently using a non-GUI backend, so cannot show the figure\n",
      "  \"matplotlib is currently using a non-GUI backend, \"\n"
     ]
    },
    {
     "data": {
      "image/png": "[encoded data removed]",
      "text/plain": [
       "<matplotlib.figure.Figure at 0x252e1ba6c50>"
      ]
     },
     "metadata": {},
     "output_type": "display_data"
    }
   ],
   "source": [
    "%matplotlib inline\n",
    "import matplotlib.pyplot as plt\n",
    "\n",
    "fig = plt.figure()\n",
    "ax = fig.add_subplot(1,1,1)\n",
    "ax.set_xlabel('axis_0')\n",
    "ax.set_ylabel('axis_1')\n",
    "for i in range(len(smallest_a0_elements)):\n",
    "    l = smallest_a0_elements[i]\n",
    "    if i==0:\n",
    "        ax.scatter(l[0], l[1], color='red', label='small a0')\n",
    "    else:\n",
    "        ax.scatter(l[0], l[1], color='red')\n",
    "for i in range(len(largest_a0_elements)):\n",
    "    l = largest_a0_elements[i]\n",
    "    if i==0:\n",
    "        ax.scatter(l[0], l[1], color='blue', label='large a0')\n",
    "    else:\n",
    "        ax.scatter(l[0], l[1], color='blue')\n",
    "for i in range(len(smallest_a1_elements)):\n",
    "    l = smallest_a1_elements[i]\n",
    "    if i==0:\n",
    "        ax.scatter(l[0], l[1], color='green', label='small a1')\n",
    "    else:\n",
    "        ax.scatter(l[0], l[1], color='green')\n",
    "for i in range(len(largest_a1_elements)):\n",
    "    l = largest_a1_elements[i]\n",
    "    if i==0:\n",
    "        ax.scatter(l[0], l[1], color='black', label='large a1')\n",
    "    else:\n",
    "        ax.scatter(l[0], l[1], color='black')\n",
    "ax.legend()\n",
    "fig.show()"
   ]
  },
  {
   "cell_type": "code",
   "execution_count": 122,
   "metadata": {},
   "outputs": [
    {
     "data": {
      "text/plain": [
       "<matplotlib.collections.PathCollection at 0x252ddecfe48>"
      ]
     },
     "execution_count": 122,
     "metadata": {},
     "output_type": "execute_result"
    },
    {
     "data": {
      "image/png": "[encoded data removed]",
      "text/plain": [
       "<matplotlib.figure.Figure at 0x252841497b8>"
      ]
     },
     "metadata": {},
     "output_type": "display_data"
    }
   ],
   "source": [
    "plt.scatter(small_mat[:,0], small_mat[:,1])"
   ]
  },
  {
   "cell_type": "markdown",
   "metadata": {},
   "source": [
    "From the plots above we can tell that we were able to pull out the points and corresponding words which had the maximum and minimum values for each axis. However, it is difficult to tell what each axis encodes from the words (listed 2 cells up). \n",
    "\n",
    "Now we will look at words that have similar differences and check their behavior. We chose to look at male/female words as well as singular/plural words."
   ]
  },
  {
   "cell_type": "code",
   "execution_count": 123,
   "metadata": {},
   "outputs": [],
   "source": [
    "def plot_words(word_list, small_mat, plot_title = '', draw_vec = False):\n",
    "    diff_list = []\n",
    "    fig = plt.figure()\n",
    "    ax = fig.add_subplot(1,1,1)\n",
    "    ax.set_title(plot_title)\n",
    "    for pair in word_list:\n",
    "        male = pair[0]\n",
    "        female = pair[1]\n",
    "        try:\n",
    "            m_i = glove_word_index[male]\n",
    "            f_i = glove_word_index[female]\n",
    "        except:\n",
    "            continue\n",
    "        m_v = small_mat[m_i, :]\n",
    "        f_v = small_mat[f_i, :]\n",
    "        diff_list.append(np.linalg.norm(m_v - f_v))\n",
    "        ax.scatter(m_v[0], m_v[1], color='blue')\n",
    "        ax.scatter(f_v[0], f_v[1], color='red')\n",
    "        if draw_vec:\n",
    "            ax.arrow(m_v[0], m_v[1], f_v[0]-m_v[0], f_v[1]-m_v[1])\n",
    "    fig.show()\n",
    "    return np.array(diff_list)"
   ]
  },
  {
   "cell_type": "code",
   "execution_count": 124,
   "metadata": {},
   "outputs": [
    {
     "name": "stdout",
     "output_type": "stream",
     "text": [
      "[ 0.54660827  1.9703404   2.6779225   1.468143   53.998734  ]\n"
     ]
    },
    {
     "name": "stderr",
     "output_type": "stream",
     "text": [
      "C:\\ProgramData\\Anaconda3\\lib\\site-packages\\matplotlib\\figure.py:418: UserWarning: matplotlib is currently using a non-GUI backend, so cannot show the figure\n",
      "  \"matplotlib is currently using a non-GUI backend, \"\n"
     ]
    },
    {
     "data": {
      "image/png": "[encoded data removed]",
      "text/plain": [
       "<matplotlib.figure.Figure at 0x25283cb94e0>"
      ]
     },
     "metadata": {},
     "output_type": "display_data"
    }
   ],
   "source": [
    "gender_list = [['man', 'woman'],['son', 'daughter'],['uncle','aunt'],['nephew','niece'],['king', 'queen'],['his', 'her']]\n",
    "\n",
    "gender_diff = plot_words(gender_list, small_mat=small_mat, plot_title='gender', draw_vec=True)\n",
    "print(gender_diff)"
   ]
  },
  {
   "cell_type": "code",
   "execution_count": 125,
   "metadata": {},
   "outputs": [
    {
     "name": "stdout",
     "output_type": "stream",
     "text": [
      "[62.654903  63.20717   23.341953   0.9673996]\n"
     ]
    },
    {
     "name": "stderr",
     "output_type": "stream",
     "text": [
      "C:\\ProgramData\\Anaconda3\\lib\\site-packages\\matplotlib\\figure.py:418: UserWarning: matplotlib is currently using a non-GUI backend, so cannot show the figure\n",
      "  \"matplotlib is currently using a non-GUI backend, \"\n"
     ]
    },
    {
     "data": {
      "image/png": "[encoded data removed]",
      "text/plain": [
       "<matplotlib.figure.Figure at 0x252ddecc198>"
      ]
     },
     "metadata": {},
     "output_type": "display_data"
    }
   ],
   "source": [
    "single_plural = [['men','man'], ['women','woman'], ['people','person'], ['years','year']]\n",
    "single_plural_diff = plot_words(single_plural, small_mat=small_mat, plot_title='singular/plural', draw_vec=True)\n",
    "print(single_plural_diff)"
   ]
  },
  {
   "cell_type": "markdown",
   "metadata": {},
   "source": [
    "From the above plots we can see that using t-SNE does not seem to retain the analagy information that was encoded in the original embeddings. This is not totally surprising sicne t-SNE is intended to preserve probabilities not vector length differences."
   ]
  },
  {
   "cell_type": "markdown",
   "metadata": {},
   "source": [
    "<a id=\"PCA\"></a>\n",
    "\n",
    "### PCA\n",
    "\n",
    "Now we will look at how using PCA for dimensionality reduction affects these results. We should note that since PCA is quicker than t-SNE, we chose to use the full embedding vocabulary of 400,000 words."
   ]
  },
  {
   "cell_type": "code",
   "execution_count": 103,
   "metadata": {},
   "outputs": [
    {
     "name": "stdout",
     "output_type": "stream",
     "text": [
      "working on size 50\n",
      "embedding matrix size (400000, 50)\n"
     ]
    }
   ],
   "source": [
    "import numpy as np\n",
    "\n",
    "n_lines = 400000-1\n",
    "embed_sizes = [50]\n",
    "full_size_glove_embed_dict = {}\n",
    "glove_word_index = {}\n",
    "glove_index_word = {}\n",
    "for EMBED_SIZE in embed_sizes:\n",
    "    print('working on size {}'.format(EMBED_SIZE))\n",
    "    # the embed size should match the file you load glove from\n",
    "    embeddings_glove_index = {}\n",
    "    with open('glove.6B/glove.6B.{}d.txt'.format(EMBED_SIZE), 'r', encoding='utf-8') as f:\n",
    "    # save key/array pairs of the embeddings\n",
    "    #  the key of the dictionary is the word, the array is the embedding\n",
    "        i=0\n",
    "        embedding_matrix = np.zeros((n_lines+1, EMBED_SIZE))\n",
    "        for line in f:\n",
    "            values = line.split()\n",
    "            word = values[0]\n",
    "            coefs = np.asarray(values[1:], dtype='float32')\n",
    "            embeddings_glove_index[word] = coefs\n",
    "            embedding_matrix[i] = coefs\n",
    "            glove_word_index[word] = i\n",
    "            glove_index_word[i] = word\n",
    "            i+=1\n",
    "            if i > n_lines:\n",
    "                break\n",
    "            \n",
    "\n",
    "#    print('Found %s word vectors.' % len(embeddings_index))\n",
    "\n",
    "    print('embedding matrix size {}'.format(embedding_matrix.shape))\n",
    "    full_size_glove_embed_dict[EMBED_SIZE] = embedding_matrix"
   ]
  },
  {
   "cell_type": "code",
   "execution_count": 104,
   "metadata": {},
   "outputs": [
    {
     "name": "stdout",
     "output_type": "stream",
     "text": [
      "Wall time: 0 ns\n",
      "full size matrix (400000, 50)\n",
      "small size matrix (400000, 2)\n"
     ]
    }
   ],
   "source": [
    "%time\n",
    "from sklearn.decomposition import PCA\n",
    "\n",
    "full_mat = full_size_glove_embed_dict[50]\n",
    "print('full size matrix {}'.format(full_mat.shape))\n",
    "small_pca_mat = PCA(n_components=2).fit_transform(full_mat)\n",
    "print('small size matrix {}'.format(small_pca_mat.shape))"
   ]
  },
  {
   "cell_type": "code",
   "execution_count": 105,
   "metadata": {},
   "outputs": [
    {
     "data": {
      "text/plain": [
       "<matplotlib.collections.PathCollection at 0x252824bac50>"
      ]
     },
     "execution_count": 105,
     "metadata": {},
     "output_type": "execute_result"
    },
    {
     "data": {
      "image/png": "[encoded data removed]",
      "text/plain": [
       "<matplotlib.figure.Figure at 0x252e82ef588>"
      ]
     },
     "metadata": {},
     "output_type": "display_data"
    }
   ],
   "source": [
    "plt.scatter(small_pca_mat[:,0], small_pca_mat[:,1])"
   ]
  },
  {
   "cell_type": "code",
   "execution_count": 106,
   "metadata": {},
   "outputs": [
    {
     "name": "stdout",
     "output_type": "stream",
     "text": [
      "smallest a0\n",
      "['rungfapaisarn', 'fredesvindo', 'rosnazura', 'adek', 'renois', 'zablit', 'embalo', 'trouillaud', 'shusham', 'chandrapala', 'mutond', 'aarsaether', 'sefko', 'wivina', 'lebouachera']\n",
      "\n",
      "largest a0\n",
      "['four', 'all', 'up', 'which', 'in', 'it', 'the', 'have', 'more', 'than', 'some', 'they', 'into', 'their', 'its']\n",
      "\n",
      "smallest a1\n",
      "['timaliids', 'paginated', 'modifiying', '212-621-5449', 'shared-time', 'point-scorers', 'detraining', 'rosicruciana', 'inter-10', 'officership', 'gastrappet', 'non-primary', 'yakutiya', 'two-leg', 'unclench']\n",
      "\n",
      "largest a1\n",
      "['chairman', 'director', 'l.', 'jr.', 'michael', 'gen.', 'chief', 'minister', 'spokesman', 'dr.', '202-887-8334', 'j.', 'said', '202-887-8316', '404-582-7282']\n"
     ]
    }
   ],
   "source": [
    "n=15\n",
    "smallest_pca_a0_index = np.argpartition(small_pca_mat[:,0],range(n))[:n]\n",
    "smallest_pca_a0_elements = [[small_pca_mat[i,0], small_pca_mat[i,1]] for i in smallest_pca_a0_index]\n",
    "smallest_pca_a0_words = [glove_index_word[i] for i in smallest_pca_a0_index]\n",
    "\n",
    "largest_pca_a0_index = np.argpartition(small_pca_mat[:,0],range(-n,0,1))[-n:]\n",
    "largest_pca_a0_elements = [[small_pca_mat[i,0], small_pca_mat[i,1]] for i in largest_pca_a0_index]\n",
    "largest_pca_a0_words = [glove_index_word[i] for i in largest_pca_a0_index]\n",
    "\n",
    "smallest_pca_a1_index = np.argpartition(small_pca_mat[:,1],range(n))[:n]\n",
    "smallest_pca_a1_elements = [[small_pca_mat[i,0], small_pca_mat[i,1]] for i in smallest_pca_a1_index]\n",
    "smallest_pca_a1_words = [glove_index_word[i] for i in smallest_pca_a1_index]\n",
    "\n",
    "largest_pca_a1_index = np.argpartition(small_pca_mat[:,1],range(-n,0,1))[-n:]\n",
    "largest_pca_a1_elements = [[small_pca_mat[i,0], small_pca_mat[i,1]] for i in largest_pca_a1_index]\n",
    "largest_pca_a1_words = [glove_index_word[i] for i in largest_pca_a1_index]\n",
    "\n",
    "print('smallest a0')\n",
    "print(smallest_pca_a0_words)\n",
    "print('\\nlargest a0')\n",
    "print(largest_pca_a0_words)\n",
    "print('\\nsmallest a1')\n",
    "print(smallest_pca_a1_words)\n",
    "print('\\nlargest a1')\n",
    "print(largest_pca_a1_words)"
   ]
  },
  {
   "cell_type": "markdown",
   "metadata": {},
   "source": [
    "From the max/min values for each axis it is still difficult to see what each axis encodes. There appear to be many words that are not used often. Now we will look at the differences of words."
   ]
  },
  {
   "cell_type": "code",
   "execution_count": 107,
   "metadata": {},
   "outputs": [
    {
     "name": "stdout",
     "output_type": "stream",
     "text": [
      "[0.7433523  0.45813033 0.87458101 0.94471947 1.32499746 0.50907767]\n"
     ]
    },
    {
     "name": "stderr",
     "output_type": "stream",
     "text": [
      "C:\\ProgramData\\Anaconda3\\lib\\site-packages\\matplotlib\\figure.py:418: UserWarning: matplotlib is currently using a non-GUI backend, so cannot show the figure\n",
      "  \"matplotlib is currently using a non-GUI backend, \"\n"
     ]
    },
    {
     "data": {
      "image/png": "[encoded data removed]",
      "text/plain": [
       "<matplotlib.figure.Figure at 0x252824c8908>"
      ]
     },
     "metadata": {},
     "output_type": "display_data"
    }
   ],
   "source": [
    "gender_list = [['man', 'woman'],['son', 'daughter'],['uncle','aunt'],['nephew','niece'],['king', 'queen'],['his', 'her']]\n",
    "\n",
    "pca_gender_diff = plot_words(gender_list, small_mat=small_pca_mat, plot_title='gender', draw_vec=True)\n",
    "print(pca_gender_diff)"
   ]
  },
  {
   "cell_type": "code",
   "execution_count": 108,
   "metadata": {},
   "outputs": [
    {
     "name": "stdout",
     "output_type": "stream",
     "text": [
      "[2.5136099e+00 5.9866697e-01 1.5165675e+00 1.9985460e-05]\n"
     ]
    },
    {
     "name": "stderr",
     "output_type": "stream",
     "text": [
      "C:\\ProgramData\\Anaconda3\\lib\\site-packages\\matplotlib\\figure.py:418: UserWarning: matplotlib is currently using a non-GUI backend, so cannot show the figure\n",
      "  \"matplotlib is currently using a non-GUI backend, \"\n"
     ]
    },
    {
     "data": {
      "image/png": "[encoded data removed]",
      "text/plain": [
       "<matplotlib.figure.Figure at 0x25282504dd8>"
      ]
     },
     "metadata": {},
     "output_type": "display_data"
    }
   ],
   "source": [
    "single_plural = [['men','man'], ['women','woman'], ['people','person'], ['years','year']]\n",
    "pca_single_plural_diff = plot_words(single_plural, small_mat=small_mat, plot_title='singular/plural', draw_vec=True)\n",
    "print(pca_single_plural_diff)"
   ]
  },
  {
   "cell_type": "markdown",
   "metadata": {},
   "source": [
    "We can see that PCA appears to do a better job of preserving the male/female analagy (although not perfectly). However, it still does not seem to include any singular/plural analagy."
   ]
  },
  {
   "cell_type": "markdown",
   "metadata": {},
   "source": [
    "<a id=\"novel_text\"></a>\n",
    "\n",
    "## Novel Text\n",
    "\n",
    "> Another Idea (NOT required): Try to create a RNN for generating novel text. "
   ]
  },
  {
   "cell_type": "markdown",
   "metadata": {},
   "source": [
    "<a id=\"word_by_word\"></a>\n",
    "\n",
    "### Word by Word\n",
    "\n",
    "Now we will train a model on Pride and Prejudice and try to predict the next words."
   ]
  },
  {
   "cell_type": "code",
   "execution_count": 4,
   "metadata": {},
   "outputs": [],
   "source": [
    "with open('Archive_2/1342-0.txt', 'r', encoding='utf-8') as f:\n",
    "    dat = f.read().lower()\n",
    "    \n",
    "i = 0\n",
    "word = ''\n",
    "word_list = []\n",
    "for c in dat:\n",
    "    if c in ['\\n']:\n",
    "        c = ' '\n",
    "    if c in [',', '.', ';']:\n",
    "        continue\n",
    "    if c == ' ': # new word\n",
    "        if word != '':\n",
    "            word_list.append(word)\n",
    "        word = ''\n",
    "    else:\n",
    "        word += c\n",
    "\n",
    "tmp_list = []\n",
    "for i in word_list:\n",
    "    if i.isalpha:\n",
    "        tmp_list += [i]\n",
    "word_list = tmp_list"
   ]
  },
  {
   "cell_type": "code",
   "execution_count": 5,
   "metadata": {},
   "outputs": [],
   "source": [
    "text_train = []\n",
    "for i in range(len(word_list)-31):\n",
    "    text_train += [[''.join([word+' ' for word in word_list[i:i+30]]), word_list[i+30]]]"
   ]
  },
  {
   "cell_type": "code",
   "execution_count": 16,
   "metadata": {},
   "outputs": [],
   "source": [
    "import pandas as pd\n",
    "import numpy as np\n",
    "from keras.preprocessing import sequence\n",
    "\n",
    "import keras\n",
    "from keras.preprocessing.text import Tokenizer\n",
    "from keras.preprocessing.sequence import pad_sequences\n",
    "\n",
    "from keras.models import Input, Model\n",
    "from keras.layers import Dense, Dropout\n",
    "from keras.layers import SimpleRNN, LSTM, RNN, GRU\n",
    "from keras.layers.embeddings import Embedding\n",
    "from keras.utils import to_categorical\n",
    "\n",
    "from sklearn.model_selection import train_test_split\n",
    "\n",
    "import keras.backend as K\n",
    "import gc\n",
    "from keras.callbacks import EarlyStopping"
   ]
  },
  {
   "cell_type": "code",
   "execution_count": 12,
   "metadata": {},
   "outputs": [],
   "source": [
    "text_df = pd.DataFrame(text_train)"
   ]
  },
  {
   "cell_type": "code",
   "execution_count": 13,
   "metadata": {},
   "outputs": [
    {
     "data": {
      "text/html": [
       "<div>\n",
       "<style scoped>\n",
       "    .dataframe tbody tr th:only-of-type {\n",
       "        vertical-align: middle;\n",
       "    }\n",
       "\n",
       "    .dataframe tbody tr th {\n",
       "        vertical-align: top;\n",
       "    }\n",
       "\n",
       "    .dataframe thead th {\n",
       "        text-align: right;\n",
       "    }\n",
       "</style>\n",
       "<table border=\"1\" class=\"dataframe\">\n",
       "  <thead>\n",
       "    <tr style=\"text-align: right;\">\n",
       "      <th></th>\n",
       "      <th>0</th>\n",
       "      <th>1</th>\n",
       "    </tr>\n",
       "  </thead>\n",
       "  <tbody>\n",
       "    <tr>\n",
       "      <th>0</th>\n",
       "      <td>﻿the project gutenberg ebook of pride and prej...</td>\n",
       "      <td>may</td>\n",
       "    </tr>\n",
       "    <tr>\n",
       "      <th>1</th>\n",
       "      <td>project gutenberg ebook of pride and prejudice...</td>\n",
       "      <td>copy</td>\n",
       "    </tr>\n",
       "    <tr>\n",
       "      <th>2</th>\n",
       "      <td>gutenberg ebook of pride and prejudice by jane...</td>\n",
       "      <td>it</td>\n",
       "    </tr>\n",
       "    <tr>\n",
       "      <th>3</th>\n",
       "      <td>ebook of pride and prejudice by jane austen th...</td>\n",
       "      <td>give</td>\n",
       "    </tr>\n",
       "    <tr>\n",
       "      <th>4</th>\n",
       "      <td>of pride and prejudice by jane austen this ebo...</td>\n",
       "      <td>it</td>\n",
       "    </tr>\n",
       "  </tbody>\n",
       "</table>\n",
       "</div>"
      ],
      "text/plain": [
       "                                                   0     1\n",
       "0  ﻿the project gutenberg ebook of pride and prej...   may\n",
       "1  project gutenberg ebook of pride and prejudice...  copy\n",
       "2  gutenberg ebook of pride and prejudice by jane...    it\n",
       "3  ebook of pride and prejudice by jane austen th...  give\n",
       "4  of pride and prejudice by jane austen this ebo...    it"
      ]
     },
     "execution_count": 13,
     "metadata": {},
     "output_type": "execute_result"
    }
   ],
   "source": [
    "text_df.head()"
   ]
  },
  {
   "cell_type": "code",
   "execution_count": 14,
   "metadata": {},
   "outputs": [],
   "source": [
    "text_df.dropna(inplace=True)"
   ]
  },
  {
   "cell_type": "code",
   "execution_count": 17,
   "metadata": {},
   "outputs": [
    {
     "name": "stdout",
     "output_type": "stream",
     "text": [
      "Found 7627 unique tokens. Distilled to 7627 top words.\n",
      "(124561, 7628)\n"
     ]
    }
   ],
   "source": [
    "NUM_TOP_WORDS = None\n",
    "MAX_ART_LEN = 30 # maximum and minimum number of words\n",
    "\n",
    "\n",
    "#to make sure each news is MAX_ART_LEN, thus seperatable\n",
    "tokenizer = Tokenizer(num_words=NUM_TOP_WORDS)\n",
    "\n",
    "tokenizer.fit_on_texts(text_df[0])\n",
    "\n",
    "sequences = tokenizer.texts_to_sequences(text_df[0])\n",
    "text_X = pad_sequences(sequences, maxlen=MAX_ART_LEN,padding='pre')\n",
    "\n",
    "\n",
    "word_index = tokenizer.word_index\n",
    "NUM_TOP_WORDS = len(word_index) if NUM_TOP_WORDS==None else NUM_TOP_WORDS\n",
    "top_words = min((len(word_index),NUM_TOP_WORDS))\n",
    "print('Found %s unique tokens. Distilled to %d top words.' % (len(word_index),top_words))\n",
    "vocab_size = len(word_index) + 1\n",
    "\n",
    "sequences = tokenizer.texts_to_sequences(text_df[1])\n",
    "Y = pad_sequences(sequences, maxlen=1,padding='pre')\n",
    "Y = to_categorical(Y, num_classes=vocab_size)\n",
    "print(Y.shape)"
   ]
  },
  {
   "cell_type": "code",
   "execution_count": 20,
   "metadata": {},
   "outputs": [
    {
     "name": "stdout",
     "output_type": "stream",
     "text": [
      "Found 400000 word vectors.\n",
      "(7628, 100)\n",
      "Wall time: 13 s\n"
     ]
    }
   ],
   "source": [
    "%%time\n",
    "EMBED_SIZE = 100\n",
    "# the embed size should match the file you load glove from\n",
    "embeddings_index = {}\n",
    "f = open('glove.6B/glove.6B.'+str(EMBED_SIZE)+'d.txt', encoding='utf-8')\n",
    "# save key/array pairs of the embeddings\n",
    "#  the key of the dictionary is the word, the array is the embedding\n",
    "for line in f:\n",
    "    values = line.split()\n",
    "    word = values[0]\n",
    "    coefs = np.asarray(values[1:], dtype='float32')\n",
    "    embeddings_index[word] = coefs\n",
    "f.close()\n",
    "\n",
    "print('Found %s word vectors.' % len(embeddings_index))\n",
    "\n",
    "# now fill in the matrix, using the ordering from the\n",
    "#  keras word tokenizer from before\n",
    "embedding_matrix = np.zeros((len(word_index) + 1, EMBED_SIZE))\n",
    "for word, i in word_index.items():\n",
    "    embedding_vector = embeddings_index.get(word)\n",
    "    if embedding_vector is not None:\n",
    "        # words not found in embedding index will be all-zeros.\n",
    "        embedding_matrix[i] = embedding_vector\n",
    "\n",
    "print(embedding_matrix.shape)"
   ]
  },
  {
   "cell_type": "code",
   "execution_count": null,
   "metadata": {},
   "outputs": [],
   "source": [
    "if False:\n",
    "    Y = np.zeros((len(text_X), EMBED_SIZE))\n",
    "    for i, word in enumerate(text_df[1].values):\n",
    "        if word in embeddings_index:\n",
    "            Y[i,:] = embeddings_index.get(word)"
   ]
  },
  {
   "cell_type": "code",
   "execution_count": null,
   "metadata": {},
   "outputs": [],
   "source": [
    "EMBED_SIZE = 100\n",
    "input_holder = Input(shape=(text_X.shape[1], ))\n",
    "\n",
    "embedding_layer = Embedding(vocab_size,\n",
    "                            EMBED_SIZE,\n",
    "                            weights=[embedding_matrix],\n",
    "                            input_length=MAX_ART_LEN,\n",
    "                            trainable=False)\n",
    "\n",
    "rnn = Sequential()\n",
    "rnn.add(embedding_layer)\n",
    "#rnn.add(LSTM(100,dropout=0.2, recurrent_dropout=0.2,return_sequences=True))\n",
    "rnn.add(LSTM(300,dropout=0.2, recurrent_dropout=0.2))\n",
    "rnn.add(Dense(vocab_size, activation='softmax'))\n",
    "\n",
    "\n",
    "rnn.compile(loss='categorical_crossentropy', \n",
    "              optimizer='adam', \n",
    "              metrics=['accuracy'])\n",
    "print(rnn.summary())"
   ]
  },
  {
   "cell_type": "code",
   "execution_count": null,
   "metadata": {},
   "outputs": [],
   "source": [
    "rnn.fit(text_X, Y, epochs=300, batch_size=256)"
   ]
  },
  {
   "cell_type": "code",
   "execution_count": 21,
   "metadata": {},
   "outputs": [],
   "source": [
    "word_list = list(set(word_list))\n",
    "\n",
    "def write_text(string,length):\n",
    "    print(string,end = ' ')\n",
    "    for _ in range(length):\n",
    "        seq = tokenizer.texts_to_sequences([string])\n",
    "        x_test = pad_sequences(seq, maxlen=MAX_ART_LEN,padding='pre')\n",
    "        yhat = rnn.predict_classes(x_test)[0]\n",
    "        pred_word = ''\n",
    "        for word, index in tokenizer.word_index.items():\n",
    "            if index == yhat:\n",
    "                pred_word = word\n",
    "                break\n",
    "        string = ''.join([' '+ word for word in (string.split()[1:]+[pred_word])])\n",
    "        print(pred_word, end=' ')"
   ]
  },
  {
   "cell_type": "code",
   "execution_count": 22,
   "metadata": {},
   "outputs": [
    {
     "name": "stdout",
     "output_type": "stream",
     "text": [
      "As we move forward in this class, we will be transitioning more prove where finally purposely acknowledged extent apprehension nor were visitors left neither could return first praise first entering the circumstance were disposed kept expected almost impossible to go conjectures leaving netherfield lydia should talk upon fishing enough otherwise to engagements on comfortable where concern cousin regiment only sooner she added little much delight to meet “what while honoured making form of their punctuality making park hurried thither arose our master was thinking pleased me reasonable past eagerly language beginning playing where miles all women can visit pass first christmas engagements arose were informed that they were within twenty yards dear mr bennet” making general good connection also allowed happen that leads education handsome written page contact directions hand visit them all”  cousin men ladies men are maria deserve them otherwise absence were neither rational wish fair talk long to see where license short impossible distance do return looks girls often balls increased concerns need madam talk worse stay to judge for account pemberley is added otherwise madam best up stairs when they pronounced solicitude behind lydia's park where tuesday and meet them carry carry visit elizabeth younge repeated account visit pass they found got produced impatient activity occupied finding "
     ]
    }
   ],
   "source": [
    "write_text('As we move forward in this class, we will be transitioning more',200)"
   ]
  },
  {
   "cell_type": "code",
   "execution_count": null,
   "metadata": {},
   "outputs": [],
   "source": [
    "for _ in range(20):\n",
    "    rnn.fit(text_X, Y, epochs=1, batch_size=256)\n",
    "    write_text('As we move forward in this class, we will be transitioning more',100)"
   ]
  },
  {
   "cell_type": "code",
   "execution_count": null,
   "metadata": {},
   "outputs": [],
   "source": [
    "model_json = rnn.to_json()\n",
    "with open(\"model.json\", \"w\") as json_file:\n",
    "    json_file.write(model_json)\n",
    "# serialize weights to HDF5\n",
    "rnn.save_weights(\"model.h5\")\n",
    "print(\"Saved model to disk\")"
   ]
  },
  {
   "cell_type": "code",
   "execution_count": 2,
   "metadata": {},
   "outputs": [],
   "source": [
    "from keras.models import model_from_json\n",
    "\n",
    "with open('Archive_2/model.json', 'r') as f:\n",
    "    rnn = model_from_json(f.read())\n",
    "    \n",
    "rnn.load_weights('Archive_2/model.h5')"
   ]
  },
  {
   "cell_type": "markdown",
   "metadata": {},
   "source": [
    "<a id=\"character_by_character\"></a>\n",
    "\n",
    "### Character by Character\n",
    "\n",
    "Now we will loat the constitution and analyze it character by character. In this method we have a smaller set of possible choices, but we lose information contained in the embeddings."
   ]
  },
  {
   "cell_type": "code",
   "execution_count": 318,
   "metadata": {},
   "outputs": [
    {
     "name": "stdout",
     "output_type": "stream",
     "text": [
      "const len 44841\n"
     ]
    }
   ],
   "source": [
    "with open('texts/const.txt', 'r') as f:\n",
    "    const = f.read().lower()\n",
    "print('const len {}'.format(len(const)))"
   ]
  },
  {
   "cell_type": "code",
   "execution_count": 319,
   "metadata": {},
   "outputs": [
    {
     "name": "stdout",
     "output_type": "stream",
     "text": [
      "total chars 46\n"
     ]
    }
   ],
   "source": [
    "chars = sorted(list(set(const))) # get unique characters\n",
    "print('total chars {}'.format(len(chars)))"
   ]
  },
  {
   "cell_type": "code",
   "execution_count": 320,
   "metadata": {},
   "outputs": [],
   "source": [
    "# make dictioinaries for going back and forth between chars and indices\n",
    "char_indices = dict((c,i) for i, c in enumerate(chars))\n",
    "indices_char = dict((i,c) for i, c in enumerate(chars))"
   ]
  },
  {
   "cell_type": "code",
   "execution_count": 321,
   "metadata": {},
   "outputs": [],
   "source": [
    "# now build the data sets. They consist of \"sentences\" of characters for the data and a target that is the next character\n",
    "max_len = 40\n",
    "step = 3\n",
    "sentences = []\n",
    "next_chars = []\n",
    "for i in range(0, len(const) - max_len, step):\n",
    "    sentences.append(const[i:i+max_len])\n",
    "    next_chars.append(const[i+max_len])\n",
    "    \n",
    "x = np.zeros((len(sentences), max_len, len(chars)), dtype=np.bool)\n",
    "y = np.zeros((len(sentences), len(chars)), dtype=np.bool)\n",
    "\n",
    "for i, sentence in enumerate(sentences):\n",
    "    for t, char in enumerate(sentence):\n",
    "        x[i, t, char_indices[char]] = 1\n",
    "    y[i, char_indices[next_chars[i]]] = 1"
   ]
  },
  {
   "cell_type": "code",
   "execution_count": 322,
   "metadata": {},
   "outputs": [
    {
     "name": "stdout",
     "output_type": "stream",
     "text": [
      "_________________________________________________________________\n",
      "Layer (type)                 Output Shape              Param #   \n",
      "=================================================================\n",
      "lstm_18 (LSTM)               (None, 128)               89600     \n",
      "_________________________________________________________________\n",
      "dense_32 (Dense)             (None, 46)                5934      \n",
      "_________________________________________________________________\n",
      "activation_5 (Activation)    (None, 46)                0         \n",
      "=================================================================\n",
      "Total params: 95,534\n",
      "Trainable params: 95,534\n",
      "Non-trainable params: 0\n",
      "_________________________________________________________________\n",
      "None\n"
     ]
    }
   ],
   "source": [
    "from keras.models import Sequential\n",
    "from keras.layers import Dense, Activation\n",
    "from keras.layers import LSTM\n",
    "from keras.optimizers import RMSprop\n",
    "    \n",
    "model = Sequential()\n",
    "model.add(LSTM(128, input_shape=(max_len, len(chars))))\n",
    "model.add(Dense(len(chars)))\n",
    "model.add(Activation('softmax'))\n",
    "optimizer = RMSprop(lr=0.01)\n",
    "model.compile(loss='categorical_crossentropy', optimizer=optimizer)\n",
    "print(model.summary())"
   ]
  },
  {
   "cell_type": "markdown",
   "metadata": {},
   "source": [
    "We will include several semi-custom callbacks that are modified versions of sampels from keras documentation. We are not convinced that using on_epoch_end callbacks are necessarily cleaner than just training the model one epoch at a time in a loop and predicting after training, but this shows it can be done."
   ]
  },
  {
   "cell_type": "code",
   "execution_count": 323,
   "metadata": {},
   "outputs": [],
   "source": [
    "# helper functions from official LSTM text generation example from Keras Team\n",
    "from keras.callbacks import LambdaCallback\n",
    "from keras.callbacks import ModelCheckpoint\n",
    "from keras.callbacks import ReduceLROnPlateau\n",
    "from keras.callbacks import CSVLogger\n",
    "import random\n",
    "import sys\n",
    "\n",
    "def sample(preds, temperature=1.0):\n",
    "    # helper function to sample an index from a probability array\n",
    "    preds = np.asarray(preds).astype('float64')\n",
    "    preds = np.log(preds) / temperature\n",
    "    exp_preds = np.exp(preds)\n",
    "    preds = exp_preds / np.sum(exp_preds)\n",
    "    probas = np.random.multinomial(1, preds, 1)\n",
    "    return np.argmax(probas)\n",
    "\n",
    "writefile=open('texts/const_out.txt','a+')\n",
    "def on_epoch_end(epoch, logs):\n",
    "    # Function invoked at end of each epoch. Prints generated text.\n",
    "    print()\n",
    "    print('----- Generating text after Epoch: %d' % epoch)\n",
    "    print('----- Generating text after Epoch: %d' % epoch, file=writefile)\n",
    "    \n",
    "    start_index = 0\n",
    "    #start_index = random.randint(0, len(const) - max_len - 1)\n",
    "    for diversity in [0.2, 0.5, 1.0, 1.2]:\n",
    "        print('----- diversity:', diversity)\n",
    "        print('----- diversity:', diversity, file=writefile)\n",
    "\n",
    "        generated = ''\n",
    "        #sentence = const[start_index: start_index + max_len]\n",
    "        sentence = 'amendment 28'\n",
    "        generated += sentence\n",
    "        print('----- Generating with seed: \"' + sentence + '\"')\n",
    "        print('----- Generating with seed: \"' + sentence + '\"', file=writefile)\n",
    "        sys.stdout.write(generated)\n",
    "        print(generated, file=writefile)\n",
    "\n",
    "        for i in range(400):\n",
    "            x_pred = np.zeros((1, max_len, len(chars)))\n",
    "            for t, char in enumerate(sentence):\n",
    "                x_pred[0, t, char_indices[char]] = 1.\n",
    "\n",
    "            preds = model.predict(x_pred, verbose=0)[0]\n",
    "            next_index = sample(preds, diversity)\n",
    "            next_char = indices_char[next_index]\n",
    "\n",
    "            generated += next_char\n",
    "            sentence = sentence[1:] + next_char\n",
    "\n",
    "            sys.stdout.write(next_char)\n",
    "            print(next_char,file=writefile, end='')\n",
    "            sys.stdout.flush()\n",
    "        print()\n",
    "        print(file=writefile)\n",
    "print_callback = LambdaCallback(on_epoch_end=on_epoch_end)\n",
    "\n",
    "chkpt_filepath = 'model_checkpoints/weights.hdf5'\n",
    "checkpoint = ModelCheckpoint(chkpt_filepath, monitor='loss',\n",
    "                             verbose=1, save_best_only=True,\n",
    "                             mode='min')\n",
    "\n",
    "reduce_lr = ReduceLROnPlateau(monitor='loss', factor=0.2,\n",
    "                              patience=1, min_lr=0.001)\n",
    "#csv_logger = CSVLogger('texts/const_pred.log')\n",
    "callbacks = [print_callback, checkpoint, reduce_lr]"
   ]
  },
  {
   "cell_type": "code",
   "execution_count": 324,
   "metadata": {},
   "outputs": [
    {
     "name": "stdout",
     "output_type": "stream",
     "text": [
      "Epoch 1/2\n",
      "14934/14934 [==============================] - 11s 704us/step - loss: 2.5570\n",
      "\n",
      "----- Generating text after Epoch: 0\n",
      "----- diversity: 0.2\n",
      "----- Generating with seed: \"amendment 28\"\n",
      "amendment 28eoeeioetioieoeoee etiiooe eeioo ooeei et eee o eee eies ioeti   eieeteeoo see ieoee  oeeeoe t eie tee t  oei te eoo ietoieei ei oot eo eoe e eoee ioeio o oeeooeesi see iteoee eeieoieoeeeee  eoe iteoeeeeoeeee oeio eoe  eooeoiroe e oeeeeoeoeio eeeio ee eeeieeoieeoeee eeteo  eeeee  oeeoteoeie eoeeoioeoeie e o ei ee s eo  eeeeeieae t  eeeeoeioeoeoe eeioateeoo  eooeeeeoiteeoeo  eeeoeeoeee eeieieoeeeoee\n",
      "----- diversity: 0.5\n",
      "----- Generating with seed: \"amendment 28\"\n",
      "amendment 28 tlio otcee etoioee nii-tsee oeaetsoen  aeoieacigti  rtetoobei e taoaoie  iatoeesan mtiaeototes seso co titooestote otetoees reog it oo oi taeittosts soi  eiie oe  to co oldgoio  esteee a tt,oosetev  tosetseoeoa s niootneeete c oeteepei oe n  eo oteeoe  s  neeeteottetiott  eitti eioveiamoeeene nieeis ereoemeooeei ioas  i  s  ae gmeiotercieeo eto eoeotonienop  ito siicloe t n aerose itetleoao  etar\n",
      "----- diversity: 1.0\n",
      "----- Generating with seed: \"amendment 28\"\n",
      "amendment 28deatiosena eaa sosicyloteinyso,emsspiseioorato o engmass sonnbaseedot laa\n",
      "oieiuo\n",
      "sipi eyie salbet fesei ro tqiivwisoo oisdggn,tefeemoftiheicoapiodisioispdoooaoylptn fny emoe  ,ioeepirliiasgsome s idot i, iehrifi nicohbbyisesroaoitse1  tmti odooor.sirgyleooheai oosiatnseetnorieeas elehgpyipir nuuou n\n",
      "atetctgsrfenics e itgsgg 1  broge oy n ilna s,ob e ioe- \n",
      ";bt senm  trn \n",
      "  \n",
      "ods oaaeaiieimtsuhebeeog\n",
      "----- diversity: 1.2\n",
      "----- Generating with seed: \"amendment 28\"\n",
      "amendment 28-neor, de o lf;otsaoo gnootpvcsp cieoso"
     ]
    },
    {
     "ename": "KeyboardInterrupt",
     "evalue": "",
     "output_type": "error",
     "traceback": [
      "\u001b[1;31m---------------------------------------------------------------------------\u001b[0m",
      "\u001b[1;31mKeyboardInterrupt\u001b[0m                         Traceback (most recent call last)",
      "\u001b[1;32m<ipython-input-324-f5f3a7e2c402>\u001b[0m in \u001b[0;36m<module>\u001b[1;34m\u001b[0m\n\u001b[1;32m----> 1\u001b[1;33m \u001b[0mmodel\u001b[0m\u001b[1;33m.\u001b[0m\u001b[0mfit\u001b[0m\u001b[1;33m(\u001b[0m\u001b[0mx\u001b[0m\u001b[1;33m,\u001b[0m \u001b[0my\u001b[0m\u001b[1;33m,\u001b[0m \u001b[0mbatch_size\u001b[0m\u001b[1;33m=\u001b[0m\u001b[1;36m128\u001b[0m\u001b[1;33m,\u001b[0m \u001b[0mepochs\u001b[0m\u001b[1;33m=\u001b[0m\u001b[1;36m2\u001b[0m\u001b[1;33m,\u001b[0m \u001b[0mcallbacks\u001b[0m\u001b[1;33m=\u001b[0m\u001b[0mcallbacks\u001b[0m\u001b[1;33m)\u001b[0m\u001b[1;33m\u001b[0m\u001b[1;33m\u001b[0m\u001b[0m\n\u001b[0m\u001b[0;32m      2\u001b[0m \u001b[0mwritefile\u001b[0m\u001b[1;33m.\u001b[0m\u001b[0mclose\u001b[0m\u001b[1;33m(\u001b[0m\u001b[1;33m)\u001b[0m\u001b[1;33m\u001b[0m\u001b[1;33m\u001b[0m\u001b[0m\n",
      "\u001b[1;32mC:\\ProgramData\\Anaconda3\\envs\\machine_learning_python\\lib\\site-packages\\keras\\engine\\training.py\u001b[0m in \u001b[0;36mfit\u001b[1;34m(self, x, y, batch_size, epochs, verbose, callbacks, validation_split, validation_data, shuffle, class_weight, sample_weight, initial_epoch, steps_per_epoch, validation_steps, **kwargs)\u001b[0m\n\u001b[0;32m   1037\u001b[0m                                         \u001b[0minitial_epoch\u001b[0m\u001b[1;33m=\u001b[0m\u001b[0minitial_epoch\u001b[0m\u001b[1;33m,\u001b[0m\u001b[1;33m\u001b[0m\u001b[1;33m\u001b[0m\u001b[0m\n\u001b[0;32m   1038\u001b[0m                                         \u001b[0msteps_per_epoch\u001b[0m\u001b[1;33m=\u001b[0m\u001b[0msteps_per_epoch\u001b[0m\u001b[1;33m,\u001b[0m\u001b[1;33m\u001b[0m\u001b[1;33m\u001b[0m\u001b[0m\n\u001b[1;32m-> 1039\u001b[1;33m                                         validation_steps=validation_steps)\n\u001b[0m\u001b[0;32m   1040\u001b[0m \u001b[1;33m\u001b[0m\u001b[0m\n\u001b[0;32m   1041\u001b[0m     def evaluate(self, x=None, y=None,\n",
      "\u001b[1;32mC:\\ProgramData\\Anaconda3\\envs\\machine_learning_python\\lib\\site-packages\\keras\\engine\\training_arrays.py\u001b[0m in \u001b[0;36mfit_loop\u001b[1;34m(model, f, ins, out_labels, batch_size, epochs, verbose, callbacks, val_f, val_ins, shuffle, callback_metrics, initial_epoch, steps_per_epoch, validation_steps)\u001b[0m\n\u001b[0;32m    215\u001b[0m                         \u001b[1;32mfor\u001b[0m \u001b[0ml\u001b[0m\u001b[1;33m,\u001b[0m \u001b[0mo\u001b[0m \u001b[1;32min\u001b[0m \u001b[0mzip\u001b[0m\u001b[1;33m(\u001b[0m\u001b[0mout_labels\u001b[0m\u001b[1;33m,\u001b[0m \u001b[0mval_outs\u001b[0m\u001b[1;33m)\u001b[0m\u001b[1;33m:\u001b[0m\u001b[1;33m\u001b[0m\u001b[1;33m\u001b[0m\u001b[0m\n\u001b[0;32m    216\u001b[0m                             \u001b[0mepoch_logs\u001b[0m\u001b[1;33m[\u001b[0m\u001b[1;34m'val_'\u001b[0m \u001b[1;33m+\u001b[0m \u001b[0ml\u001b[0m\u001b[1;33m]\u001b[0m \u001b[1;33m=\u001b[0m \u001b[0mo\u001b[0m\u001b[1;33m\u001b[0m\u001b[1;33m\u001b[0m\u001b[0m\n\u001b[1;32m--> 217\u001b[1;33m         \u001b[0mcallbacks\u001b[0m\u001b[1;33m.\u001b[0m\u001b[0mon_epoch_end\u001b[0m\u001b[1;33m(\u001b[0m\u001b[0mepoch\u001b[0m\u001b[1;33m,\u001b[0m \u001b[0mepoch_logs\u001b[0m\u001b[1;33m)\u001b[0m\u001b[1;33m\u001b[0m\u001b[1;33m\u001b[0m\u001b[0m\n\u001b[0m\u001b[0;32m    218\u001b[0m         \u001b[1;32mif\u001b[0m \u001b[0mcallback_model\u001b[0m\u001b[1;33m.\u001b[0m\u001b[0mstop_training\u001b[0m\u001b[1;33m:\u001b[0m\u001b[1;33m\u001b[0m\u001b[1;33m\u001b[0m\u001b[0m\n\u001b[0;32m    219\u001b[0m             \u001b[1;32mbreak\u001b[0m\u001b[1;33m\u001b[0m\u001b[1;33m\u001b[0m\u001b[0m\n",
      "\u001b[1;32mC:\\ProgramData\\Anaconda3\\envs\\machine_learning_python\\lib\\site-packages\\keras\\callbacks.py\u001b[0m in \u001b[0;36mon_epoch_end\u001b[1;34m(self, epoch, logs)\u001b[0m\n\u001b[0;32m     77\u001b[0m         \u001b[0mlogs\u001b[0m \u001b[1;33m=\u001b[0m \u001b[0mlogs\u001b[0m \u001b[1;32mor\u001b[0m \u001b[1;33m{\u001b[0m\u001b[1;33m}\u001b[0m\u001b[1;33m\u001b[0m\u001b[1;33m\u001b[0m\u001b[0m\n\u001b[0;32m     78\u001b[0m         \u001b[1;32mfor\u001b[0m \u001b[0mcallback\u001b[0m \u001b[1;32min\u001b[0m \u001b[0mself\u001b[0m\u001b[1;33m.\u001b[0m\u001b[0mcallbacks\u001b[0m\u001b[1;33m:\u001b[0m\u001b[1;33m\u001b[0m\u001b[1;33m\u001b[0m\u001b[0m\n\u001b[1;32m---> 79\u001b[1;33m             \u001b[0mcallback\u001b[0m\u001b[1;33m.\u001b[0m\u001b[0mon_epoch_end\u001b[0m\u001b[1;33m(\u001b[0m\u001b[0mepoch\u001b[0m\u001b[1;33m,\u001b[0m \u001b[0mlogs\u001b[0m\u001b[1;33m)\u001b[0m\u001b[1;33m\u001b[0m\u001b[1;33m\u001b[0m\u001b[0m\n\u001b[0m\u001b[0;32m     80\u001b[0m \u001b[1;33m\u001b[0m\u001b[0m\n\u001b[0;32m     81\u001b[0m     \u001b[1;32mdef\u001b[0m \u001b[0mon_batch_begin\u001b[0m\u001b[1;33m(\u001b[0m\u001b[0mself\u001b[0m\u001b[1;33m,\u001b[0m \u001b[0mbatch\u001b[0m\u001b[1;33m,\u001b[0m \u001b[0mlogs\u001b[0m\u001b[1;33m=\u001b[0m\u001b[1;32mNone\u001b[0m\u001b[1;33m)\u001b[0m\u001b[1;33m:\u001b[0m\u001b[1;33m\u001b[0m\u001b[1;33m\u001b[0m\u001b[0m\n",
      "\u001b[1;32m<ipython-input-323-ff135f40326f>\u001b[0m in \u001b[0;36mon_epoch_end\u001b[1;34m(epoch, logs)\u001b[0m\n\u001b[0;32m     43\u001b[0m                 \u001b[0mx_pred\u001b[0m\u001b[1;33m[\u001b[0m\u001b[1;36m0\u001b[0m\u001b[1;33m,\u001b[0m \u001b[0mt\u001b[0m\u001b[1;33m,\u001b[0m \u001b[0mchar_indices\u001b[0m\u001b[1;33m[\u001b[0m\u001b[0mchar\u001b[0m\u001b[1;33m]\u001b[0m\u001b[1;33m]\u001b[0m \u001b[1;33m=\u001b[0m \u001b[1;36m1.\u001b[0m\u001b[1;33m\u001b[0m\u001b[1;33m\u001b[0m\u001b[0m\n\u001b[0;32m     44\u001b[0m \u001b[1;33m\u001b[0m\u001b[0m\n\u001b[1;32m---> 45\u001b[1;33m             \u001b[0mpreds\u001b[0m \u001b[1;33m=\u001b[0m \u001b[0mmodel\u001b[0m\u001b[1;33m.\u001b[0m\u001b[0mpredict\u001b[0m\u001b[1;33m(\u001b[0m\u001b[0mx_pred\u001b[0m\u001b[1;33m,\u001b[0m \u001b[0mverbose\u001b[0m\u001b[1;33m=\u001b[0m\u001b[1;36m0\u001b[0m\u001b[1;33m)\u001b[0m\u001b[1;33m[\u001b[0m\u001b[1;36m0\u001b[0m\u001b[1;33m]\u001b[0m\u001b[1;33m\u001b[0m\u001b[1;33m\u001b[0m\u001b[0m\n\u001b[0m\u001b[0;32m     46\u001b[0m             \u001b[0mnext_index\u001b[0m \u001b[1;33m=\u001b[0m \u001b[0msample\u001b[0m\u001b[1;33m(\u001b[0m\u001b[0mpreds\u001b[0m\u001b[1;33m,\u001b[0m \u001b[0mdiversity\u001b[0m\u001b[1;33m)\u001b[0m\u001b[1;33m\u001b[0m\u001b[1;33m\u001b[0m\u001b[0m\n\u001b[0;32m     47\u001b[0m             \u001b[0mnext_char\u001b[0m \u001b[1;33m=\u001b[0m \u001b[0mindices_char\u001b[0m\u001b[1;33m[\u001b[0m\u001b[0mnext_index\u001b[0m\u001b[1;33m]\u001b[0m\u001b[1;33m\u001b[0m\u001b[1;33m\u001b[0m\u001b[0m\n",
      "\u001b[1;32mC:\\ProgramData\\Anaconda3\\envs\\machine_learning_python\\lib\\site-packages\\keras\\engine\\training.py\u001b[0m in \u001b[0;36mpredict\u001b[1;34m(self, x, batch_size, verbose, steps)\u001b[0m\n\u001b[0;32m   1167\u001b[0m                                             \u001b[0mbatch_size\u001b[0m\u001b[1;33m=\u001b[0m\u001b[0mbatch_size\u001b[0m\u001b[1;33m,\u001b[0m\u001b[1;33m\u001b[0m\u001b[1;33m\u001b[0m\u001b[0m\n\u001b[0;32m   1168\u001b[0m                                             \u001b[0mverbose\u001b[0m\u001b[1;33m=\u001b[0m\u001b[0mverbose\u001b[0m\u001b[1;33m,\u001b[0m\u001b[1;33m\u001b[0m\u001b[1;33m\u001b[0m\u001b[0m\n\u001b[1;32m-> 1169\u001b[1;33m                                             steps=steps)\n\u001b[0m\u001b[0;32m   1170\u001b[0m \u001b[1;33m\u001b[0m\u001b[0m\n\u001b[0;32m   1171\u001b[0m     def train_on_batch(self, x, y,\n",
      "\u001b[1;32mC:\\ProgramData\\Anaconda3\\envs\\machine_learning_python\\lib\\site-packages\\keras\\engine\\training_arrays.py\u001b[0m in \u001b[0;36mpredict_loop\u001b[1;34m(model, f, ins, batch_size, verbose, steps)\u001b[0m\n\u001b[0;32m    292\u001b[0m                 \u001b[0mins_batch\u001b[0m\u001b[1;33m[\u001b[0m\u001b[0mi\u001b[0m\u001b[1;33m]\u001b[0m \u001b[1;33m=\u001b[0m \u001b[0mins_batch\u001b[0m\u001b[1;33m[\u001b[0m\u001b[0mi\u001b[0m\u001b[1;33m]\u001b[0m\u001b[1;33m.\u001b[0m\u001b[0mtoarray\u001b[0m\u001b[1;33m(\u001b[0m\u001b[1;33m)\u001b[0m\u001b[1;33m\u001b[0m\u001b[1;33m\u001b[0m\u001b[0m\n\u001b[0;32m    293\u001b[0m \u001b[1;33m\u001b[0m\u001b[0m\n\u001b[1;32m--> 294\u001b[1;33m             \u001b[0mbatch_outs\u001b[0m \u001b[1;33m=\u001b[0m \u001b[0mf\u001b[0m\u001b[1;33m(\u001b[0m\u001b[0mins_batch\u001b[0m\u001b[1;33m)\u001b[0m\u001b[1;33m\u001b[0m\u001b[1;33m\u001b[0m\u001b[0m\n\u001b[0m\u001b[0;32m    295\u001b[0m             \u001b[0mbatch_outs\u001b[0m \u001b[1;33m=\u001b[0m \u001b[0mto_list\u001b[0m\u001b[1;33m(\u001b[0m\u001b[0mbatch_outs\u001b[0m\u001b[1;33m)\u001b[0m\u001b[1;33m\u001b[0m\u001b[1;33m\u001b[0m\u001b[0m\n\u001b[0;32m    296\u001b[0m             \u001b[1;32mif\u001b[0m \u001b[0mbatch_index\u001b[0m \u001b[1;33m==\u001b[0m \u001b[1;36m0\u001b[0m\u001b[1;33m:\u001b[0m\u001b[1;33m\u001b[0m\u001b[1;33m\u001b[0m\u001b[0m\n",
      "\u001b[1;32mC:\\ProgramData\\Anaconda3\\envs\\machine_learning_python\\lib\\site-packages\\keras\\backend\\tensorflow_backend.py\u001b[0m in \u001b[0;36m__call__\u001b[1;34m(self, inputs)\u001b[0m\n\u001b[0;32m   2713\u001b[0m                 \u001b[1;32mreturn\u001b[0m \u001b[0mself\u001b[0m\u001b[1;33m.\u001b[0m\u001b[0m_legacy_call\u001b[0m\u001b[1;33m(\u001b[0m\u001b[0minputs\u001b[0m\u001b[1;33m)\u001b[0m\u001b[1;33m\u001b[0m\u001b[1;33m\u001b[0m\u001b[0m\n\u001b[0;32m   2714\u001b[0m \u001b[1;33m\u001b[0m\u001b[0m\n\u001b[1;32m-> 2715\u001b[1;33m             \u001b[1;32mreturn\u001b[0m \u001b[0mself\u001b[0m\u001b[1;33m.\u001b[0m\u001b[0m_call\u001b[0m\u001b[1;33m(\u001b[0m\u001b[0minputs\u001b[0m\u001b[1;33m)\u001b[0m\u001b[1;33m\u001b[0m\u001b[1;33m\u001b[0m\u001b[0m\n\u001b[0m\u001b[0;32m   2716\u001b[0m         \u001b[1;32melse\u001b[0m\u001b[1;33m:\u001b[0m\u001b[1;33m\u001b[0m\u001b[1;33m\u001b[0m\u001b[0m\n\u001b[0;32m   2717\u001b[0m             \u001b[1;32mif\u001b[0m \u001b[0mpy_any\u001b[0m\u001b[1;33m(\u001b[0m\u001b[0mis_tensor\u001b[0m\u001b[1;33m(\u001b[0m\u001b[0mx\u001b[0m\u001b[1;33m)\u001b[0m \u001b[1;32mfor\u001b[0m \u001b[0mx\u001b[0m \u001b[1;32min\u001b[0m \u001b[0minputs\u001b[0m\u001b[1;33m)\u001b[0m\u001b[1;33m:\u001b[0m\u001b[1;33m\u001b[0m\u001b[1;33m\u001b[0m\u001b[0m\n",
      "\u001b[1;32mC:\\ProgramData\\Anaconda3\\envs\\machine_learning_python\\lib\\site-packages\\keras\\backend\\tensorflow_backend.py\u001b[0m in \u001b[0;36m_call\u001b[1;34m(self, inputs)\u001b[0m\n\u001b[0;32m   2673\u001b[0m             \u001b[0mfetched\u001b[0m \u001b[1;33m=\u001b[0m \u001b[0mself\u001b[0m\u001b[1;33m.\u001b[0m\u001b[0m_callable_fn\u001b[0m\u001b[1;33m(\u001b[0m\u001b[1;33m*\u001b[0m\u001b[0marray_vals\u001b[0m\u001b[1;33m,\u001b[0m \u001b[0mrun_metadata\u001b[0m\u001b[1;33m=\u001b[0m\u001b[0mself\u001b[0m\u001b[1;33m.\u001b[0m\u001b[0mrun_metadata\u001b[0m\u001b[1;33m)\u001b[0m\u001b[1;33m\u001b[0m\u001b[1;33m\u001b[0m\u001b[0m\n\u001b[0;32m   2674\u001b[0m         \u001b[1;32melse\u001b[0m\u001b[1;33m:\u001b[0m\u001b[1;33m\u001b[0m\u001b[1;33m\u001b[0m\u001b[0m\n\u001b[1;32m-> 2675\u001b[1;33m             \u001b[0mfetched\u001b[0m \u001b[1;33m=\u001b[0m \u001b[0mself\u001b[0m\u001b[1;33m.\u001b[0m\u001b[0m_callable_fn\u001b[0m\u001b[1;33m(\u001b[0m\u001b[1;33m*\u001b[0m\u001b[0marray_vals\u001b[0m\u001b[1;33m)\u001b[0m\u001b[1;33m\u001b[0m\u001b[1;33m\u001b[0m\u001b[0m\n\u001b[0m\u001b[0;32m   2676\u001b[0m         \u001b[1;32mreturn\u001b[0m \u001b[0mfetched\u001b[0m\u001b[1;33m[\u001b[0m\u001b[1;33m:\u001b[0m\u001b[0mlen\u001b[0m\u001b[1;33m(\u001b[0m\u001b[0mself\u001b[0m\u001b[1;33m.\u001b[0m\u001b[0moutputs\u001b[0m\u001b[1;33m)\u001b[0m\u001b[1;33m]\u001b[0m\u001b[1;33m\u001b[0m\u001b[1;33m\u001b[0m\u001b[0m\n\u001b[0;32m   2677\u001b[0m \u001b[1;33m\u001b[0m\u001b[0m\n",
      "\u001b[1;32mC:\\ProgramData\\Anaconda3\\envs\\machine_learning_python\\lib\\site-packages\\tensorflow\\python\\client\\session.py\u001b[0m in \u001b[0;36m__call__\u001b[1;34m(self, *args, **kwargs)\u001b[0m\n\u001b[0;32m   1437\u001b[0m           ret = tf_session.TF_SessionRunCallable(\n\u001b[0;32m   1438\u001b[0m               \u001b[0mself\u001b[0m\u001b[1;33m.\u001b[0m\u001b[0m_session\u001b[0m\u001b[1;33m.\u001b[0m\u001b[0m_session\u001b[0m\u001b[1;33m,\u001b[0m \u001b[0mself\u001b[0m\u001b[1;33m.\u001b[0m\u001b[0m_handle\u001b[0m\u001b[1;33m,\u001b[0m \u001b[0margs\u001b[0m\u001b[1;33m,\u001b[0m \u001b[0mstatus\u001b[0m\u001b[1;33m,\u001b[0m\u001b[1;33m\u001b[0m\u001b[1;33m\u001b[0m\u001b[0m\n\u001b[1;32m-> 1439\u001b[1;33m               run_metadata_ptr)\n\u001b[0m\u001b[0;32m   1440\u001b[0m         \u001b[1;32mif\u001b[0m \u001b[0mrun_metadata\u001b[0m\u001b[1;33m:\u001b[0m\u001b[1;33m\u001b[0m\u001b[1;33m\u001b[0m\u001b[0m\n\u001b[0;32m   1441\u001b[0m           \u001b[0mproto_data\u001b[0m \u001b[1;33m=\u001b[0m \u001b[0mtf_session\u001b[0m\u001b[1;33m.\u001b[0m\u001b[0mTF_GetBuffer\u001b[0m\u001b[1;33m(\u001b[0m\u001b[0mrun_metadata_ptr\u001b[0m\u001b[1;33m)\u001b[0m\u001b[1;33m\u001b[0m\u001b[1;33m\u001b[0m\u001b[0m\n",
      "\u001b[1;31mKeyboardInterrupt\u001b[0m: "
     ]
    }
   ],
   "source": [
    "model.fit(x, y, batch_size=128, epochs=2, callbacks=callbacks)\n",
    "writefile.close()"
   ]
  },
  {
   "cell_type": "markdown",
   "metadata": {},
   "source": [
    "We can see (before the keyboard interrupt) that precidting the next character of the constitution did not seem to yeild very good results. We should note that we had previously trained the model for several epochs so the results here are reasonable, but not great. In principle we could train for much longer or train on a larger set of documents, but this part of the lab is mostly to see if we can do it or not."
   ]
  },
  {
   "cell_type": "code",
   "execution_count": null,
   "metadata": {},
   "outputs": [],
   "source": []
  }
 ],
 "metadata": {
  "kernelspec": {
   "display_name": "Python 3",
   "language": "python",
   "name": "python3"
  },
  "language_info": {
   "codemirror_mode": {
    "name": "ipython",
    "version": 3
   },
   "file_extension": ".py",
   "mimetype": "text/x-python",
   "name": "python",
   "nbconvert_exporter": "python",
   "pygments_lexer": "ipython3",
   "version": "3.6.8"
  }
 },
 "nbformat": 4,
 "nbformat_minor": 2
}
