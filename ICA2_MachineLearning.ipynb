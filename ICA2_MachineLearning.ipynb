{
 "cells": [
  {
   "cell_type": "code",
   "execution_count": 1,
   "metadata": {},
   "outputs": [
    {
     "data": {
      "text/html": [
       "<link href='https://fonts.googleapis.com/css?family=Passion+One' rel='stylesheet' type='text/css'><style>div.attn { font-family: 'Helvetica Neue'; font-size: 30px; line-height: 40px; color: #FFFFFF; text-align: center; margin: 30px 0; border-width: 10px 0; border-style: solid; border-color: #5AAAAA; padding: 30px 0; background-color: #DDDDFF; }hr { border: 0; background-color: #ffffff; border-top: 1px solid black; }hr.major { border-top: 10px solid #5AAA5A; }hr.minor { border: none; background-color: #ffffff; border-top: 5px dotted #CC3333; }div.bubble { width: 65%; padding: 20px; background: #DDDDDD; border-radius: 15px; margin: 0 auto; font-style: italic; color: #f00; }em { color: #AAA; }div.c1{visibility:hidden;margin:0;height:0;}div.note{color:red;}</style>"
      ],
      "text/plain": [
       "<IPython.core.display.HTML object>"
      ]
     },
     "execution_count": 1,
     "metadata": {},
     "output_type": "execute_result"
    }
   ],
   "source": [
    "#  Ebnable HTML/CSS \n",
    "from IPython.core.display import HTML\n",
    "HTML(\"<link href='https://fonts.googleapis.com/css?family=Passion+One' rel='stylesheet' type='text/css'><style>div.attn { font-family: 'Helvetica Neue'; font-size: 30px; line-height: 40px; color: #FFFFFF; text-align: center; margin: 30px 0; border-width: 10px 0; border-style: solid; border-color: #5AAAAA; padding: 30px 0; background-color: #DDDDFF; }hr { border: 0; background-color: #ffffff; border-top: 1px solid black; }hr.major { border-top: 10px solid #5AAA5A; }hr.minor { border: none; background-color: #ffffff; border-top: 5px dotted #CC3333; }div.bubble { width: 65%; padding: 20px; background: #DDDDDD; border-radius: 15px; margin: 0 auto; font-style: italic; color: #f00; }em { color: #AAA; }div.c1{visibility:hidden;margin:0;height:0;}div.note{color:red;}</style>\")"
   ]
  },
  {
   "cell_type": "markdown",
   "metadata": {},
   "source": [
    "___\n",
    "Enter Team Member Names here (*double click to edit*):\n",
    "\n",
    "- Name 1: James O. Thomas\n",
    "- Name 2: Xiaoxian Jing\n",
    "- Name 3: Kuang Yan\n",
    "\n",
    "___"
   ]
  },
  {
   "cell_type": "markdown",
   "metadata": {},
   "source": [
    "# In Class Assignment Two\n",
    "In the following assignment you will be asked to fill in python code and derivations for a number of different problems. Please read all instructions carefully and turn in the rendered notebook (or HTML of the rendered notebook)  before the end of class (or right after class). The initial portion of this notebook is given before class and the remainder is given during class. Please answer the initial questions before class, to the best of your ability. Once class has started you may rework your answers as a team for the initial part of the assignment. \n",
    "\n",
    "<a id=\"top\"></a>\n",
    "## Contents\n",
    "* <a href=\"#Loading\">Loading the Data</a>\n",
    "* <a href=\"#svm\">Linear SVMs</a>\n",
    "* <a href=\"#svm_using\">Using Linear SVMs</a>\n",
    "* <a href=\"#nonlinear\">Non-linear SVMs</a>\n",
    "\n",
    "________________________________________________________________________________________________________\n",
    "\n",
    "<a id=\"Loading\"></a>\n",
    "<a href=\"#top\">Back to Top</a>\n",
    "## Loading the Data\n",
    "Please run the following code to read in the \"olivetti faces\" dataset from sklearn's data loading module. \n",
    "\n",
    "This will load the data into the variable `ds`. `ds` is a `bunch` object with fields like `ds.data` and `ds.target`. The field `ds.data` is a numpy matrix of the continuous features in the dataset. **The object is not a pandas dataframe. It is a numpy matrix.** Each row is a set of observed instances, each column is a different feature. It also has a field called `ds.target` that is an integer value we are trying to predict (i.e., a specific integer represents a specific person). Each entry in `ds.target` is a label for each row of the `ds.data` matrix. "
   ]
  },
  {
   "cell_type": "code",
   "execution_count": 2,
   "metadata": {},
   "outputs": [
    {
     "name": "stderr",
     "output_type": "stream",
     "text": [
      "Downloading LFW metadata: https://ndownloader.figshare.com/files/5976012\n",
      "Downloading LFW metadata: https://ndownloader.figshare.com/files/5976009\n",
      "Downloading LFW metadata: https://ndownloader.figshare.com/files/5976006\n",
      "Downloading LFW data (~200MB): https://ndownloader.figshare.com/files/5976015\n"
     ]
    }
   ],
   "source": [
    "# fetch the images for the dataset\n",
    "# this will take a long time the first run because it needs to download\n",
    "# after the first time, the dataset will be save to your disk (in sklearn package somewhere) \n",
    "# if this does not run, you may need additional libraries installed on your system (install at your own risk!!)\n",
    "from sklearn.datasets import fetch_lfw_people\n",
    "\n",
    "lfw_people = fetch_lfw_people(min_faces_per_person=20, resize=None)"
   ]
  },
  {
   "cell_type": "code",
   "execution_count": 3,
   "metadata": {},
   "outputs": [
    {
     "name": "stdout",
     "output_type": "stream",
     "text": [
      "n_samples: 3023\n",
      "n_features: 11750\n",
      "n_classes: 62\n",
      "Original Image Sizes 125 by 94\n",
      "11750\n"
     ]
    }
   ],
   "source": [
    "# get some of the specifics of the dataset\n",
    "X = lfw_people.data\n",
    "y = lfw_people.target\n",
    "names = lfw_people.target_names\n",
    "\n",
    "n_samples, n_features = X.shape\n",
    "_, h, w = lfw_people.images.shape\n",
    "n_classes = len(names)\n",
    "\n",
    "print(\"n_samples: {}\".format(n_samples))\n",
    "print(\"n_features: {}\".format(n_features))\n",
    "print(\"n_classes: {}\".format(n_classes))\n",
    "print(\"Original Image Sizes {} by {}\".format(h,w))\n",
    "print (125*94) # the size of the images are the size of the feature vectors"
   ]
  },
  {
   "cell_type": "markdown",
   "metadata": {},
   "source": [
    "**Question 1:** For the faces dataset, describe what the data represents? That is, what is each column? What is each row? What do the unique class values represent?"
   ]
  },
  {
   "cell_type": "markdown",
   "metadata": {},
   "source": [
    "\n",
    "\n",
    "This data represents represents the original images. Each row represents a ravelled (reshaped) image which is $125 \\times 94$ pixels. Therefore each column is the pixel value corresponding to a specific location in the original image. The unique class values represent an ID corresponding to individuals represented in the dataset.\n",
    "\n",
    "\n",
    "___"
   ]
  },
  {
   "cell_type": "markdown",
   "metadata": {},
   "source": [
    "<a id=\"svm\"></a>\n",
    "<a href=\"#top\">Back to Top</a>\n",
    "## Linear Support Vector Machines\n",
    "\n",
    "**Question 2:** If we were to train a linear Support Vector Machine (SVM) upon the faces data, how many parameters would need to be optimized in the model? That is, how many coefficients would need to be calculated?\n"
   ]
  },
  {
   "cell_type": "markdown",
   "metadata": {},
   "source": [
    "\n",
    "\n",
    "We will need to optimize parameters equal to the number of features. This means we will need to optimize 11750 parameters for each class. This means we would have a total of $11,750 \\times 62 = 728,500$ total parameters to optimize.\n",
    "\n",
    "\n",
    "___"
   ]
  },
  {
   "cell_type": "code",
   "execution_count": 4,
   "metadata": {},
   "outputs": [],
   "source": [
    "# Enter any scratchwork or calculations here\n"
   ]
  },
  {
   "cell_type": "markdown",
   "metadata": {},
   "source": [
    "**Question 3:** \n",
    "- **Part A:** Given the number of parameters calculated above, would you expect the model to train quickly using **batch optimization techniques**? Why or why not? \n",
    "- **Part B:** Is there a way to reduce training time?\n",
    "- **Part C:** If we transformed the X data using principle components analysis (PCA) with 100 components, how many parameters would we need to find for a linear Support Vector Machine (SVM)?"
   ]
  },
  {
   "cell_type": "markdown",
   "metadata": {},
   "source": [
    "\n",
    "\n",
    "A. Yes, we expect this to train quickly with __batch optimization techniques__ because finding the gradient in each step will be computationally expensive. This is because the time complexity of each step is proportional to the size of the sample, and the overall complexity is more than quadratic in the sample size.\n",
    "\n",
    "B.  We could reduce the training time using Newtin's method because this method will need fewer steps to find the optimal position. We could also use mini-batch method.\n",
    "\n",
    "C. Using PCA with 100 components, we would need to find 100 parameters for each class for a total of 6200.\n",
    "___"
   ]
  },
  {
   "cell_type": "code",
   "execution_count": 53,
   "metadata": {},
   "outputs": [
    {
     "name": "stdout",
     "output_type": "stream",
     "text": [
      "Part C. With 100 features we would need 100 parameters for each class for a total of 6200 total parameters\n"
     ]
    }
   ],
   "source": [
    "# Enter any scratchwork or calculations here\n",
    "\n",
    "print('Part C. With 100 features we would need 100 parameters for each class for a total of 6200 total parameters')\n"
   ]
  },
  {
   "cell_type": "markdown",
   "metadata": {},
   "source": [
    "___\n",
    "<a id=\"svm_using\"></a>\n",
    "<a href=\"#top\">Back to Top</a>\n",
    "\n",
    "# Using Linear SVMs\n",
    "\n",
    "**Exercise 1:** Use the block of code below to check if the number of parameters you calculated is equal to the number of parameters returned by `sklearn`'s implementation of the Linear SVM. **Was your calculation correct? If different, can you think of a reason why the parameters would not match?**"
   ]
  },
  {
   "cell_type": "code",
   "execution_count": 55,
   "metadata": {},
   "outputs": [
    {
     "data": {
      "text/plain": [
       "LinearSVC(C=1.0, class_weight=None, dual=True, fit_intercept=True,\n",
       "     intercept_scaling=1, loss='squared_hinge', max_iter=1000,\n",
       "     multi_class='ovr', penalty='l2', random_state=None, tol=0.0001,\n",
       "     verbose=0)"
      ]
     },
     "execution_count": 55,
     "metadata": {},
     "output_type": "execute_result"
    }
   ],
   "source": [
    "from sklearn.svm import LinearSVC\n",
    "from sklearn.decomposition import PCA\n",
    "\n",
    "n_components = 100\n",
    "pca = PCA(n_components=n_components,svd_solver='randomized')\n",
    "Xpca = pca.fit_transform(X)\n",
    "\n",
    "clf = LinearSVC()\n",
    "clf.fit(Xpca,y)"
   ]
  },
  {
   "cell_type": "code",
   "execution_count": 57,
   "metadata": {},
   "outputs": [
    {
     "name": "stdout",
     "output_type": "stream",
     "text": [
      "for 100 weights for each of 62 classes, we have a total of 6200 parameters\n"
     ]
    }
   ],
   "source": [
    "#===================================================================\n",
    "# Enter your code below to calculate the number of parameters in the model \n",
    "\n",
    "print('for {} weights for each of {} classes, we have a total of {} parameters'.format(clf.coef_.shape[1],\n",
    "                                                                                       clf.coef_.shape[0],\n",
    "                                                                                       clf.coef_.shape[0]*clf.coef_.shape[1]))\n",
    "#==================================================================="
   ]
  },
  {
   "cell_type": "markdown",
   "metadata": {},
   "source": [
    "In the shape above, the 62 corresponds to the 62 classes in the data set. The 100 corresponds to the number of features for each class."
   ]
  },
  {
   "cell_type": "markdown",
   "metadata": {},
   "source": [
    "___\n",
    "**Exercise 2:** Use the starter code below to calculate two quantities: \n",
    "- **Part A.:** The overall accuracy of the trained linear svm on the training set\n",
    "- **Part B.:** The *mean, standard deviation, maximum, and minimum* of the **accuracy per class** on the training set\n",
    "\n",
    "You might be interested in the following documentation of the confusion matrix calculated by `scikit-learn`:\n",
    "- http://scikit-learn.org/stable/auto_examples/model_selection/plot_confusion_matrix.html\n",
    "\n",
    "And an example matrix returned by the confusion matrix function:\n",
    "<img src=\"http://scikit-learn.org/stable/_images/sphx_glr_plot_confusion_matrix_001.png\",width=400,height=400>"
   ]
  },
  {
   "cell_type": "code",
   "execution_count": 37,
   "metadata": {},
   "outputs": [
    {
     "data": {
      "image/png": "[encoded data removed]",
      "text/plain": [
       "<Figure size 1440x360 with 4 Axes>"
      ]
     },
     "metadata": {},
     "output_type": "display_data"
    },
    {
     "name": "stdout",
     "output_type": "stream",
     "text": [
      "Overall Accuracy is 0.872 %\n",
      "The class accuracy of 0 is 0.769\n",
      "The class accuracy of 1 is 0.971\n",
      "The class accuracy of 2 is 0.952\n",
      "The class accuracy of 3 is 0.889\n",
      "The class accuracy of 4 is 0.900\n",
      "The class accuracy of 5 is 0.792\n",
      "The class accuracy of 6 is 0.571\n",
      "The class accuracy of 7 is 0.958\n",
      "The class accuracy of 8 is 0.759\n",
      "The class accuracy of 9 is 0.952\n",
      "The class accuracy of 10 is 0.886\n",
      "The class accuracy of 11 is 0.806\n",
      "The class accuracy of 12 is 0.760\n",
      "The class accuracy of 13 is 1.000\n",
      "The class accuracy of 14 is 0.909\n",
      "The class accuracy of 15 is 0.752\n",
      "The class accuracy of 16 is 1.000\n",
      "The class accuracy of 17 is 0.846\n",
      "The class accuracy of 18 is 0.967\n",
      "The class accuracy of 19 is 0.909\n",
      "The class accuracy of 20 is 0.974\n",
      "The class accuracy of 21 is 0.901\n",
      "The class accuracy of 22 is 0.550\n",
      "The class accuracy of 23 is 1.000\n",
      "The class accuracy of 24 is 0.846\n",
      "The class accuracy of 25 is 0.945\n",
      "The class accuracy of 26 is 0.952\n",
      "The class accuracy of 27 is 0.810\n",
      "The class accuracy of 28 is 1.000\n",
      "The class accuracy of 29 is 1.000\n",
      "The class accuracy of 30 is 1.000\n",
      "The class accuracy of 31 is 0.755\n",
      "The class accuracy of 32 is 0.742\n",
      "The class accuracy of 33 is 1.000\n",
      "The class accuracy of 34 is 1.000\n",
      "The class accuracy of 35 is 0.950\n",
      "The class accuracy of 36 is 1.000\n",
      "The class accuracy of 37 is 1.000\n",
      "The class accuracy of 38 is 0.955\n",
      "The class accuracy of 39 is 0.902\n",
      "The class accuracy of 40 is 0.854\n",
      "The class accuracy of 41 is 0.966\n",
      "The class accuracy of 42 is 1.000\n",
      "The class accuracy of 43 is 0.400\n",
      "The class accuracy of 44 is 0.955\n",
      "The class accuracy of 45 is 0.892\n",
      "The class accuracy of 46 is 1.000\n",
      "The class accuracy of 47 is 1.000\n",
      "The class accuracy of 48 is 0.833\n",
      "The class accuracy of 49 is 0.889\n",
      "The class accuracy of 50 is 1.000\n",
      "The class accuracy of 51 is 0.500\n",
      "The class accuracy of 52 is 1.000\n",
      "The class accuracy of 53 is 0.981\n",
      "The class accuracy of 54 is 0.697\n",
      "The class accuracy of 55 is 0.957\n",
      "The class accuracy of 56 is 0.960\n",
      "The class accuracy of 57 is 0.788\n",
      "The class accuracy of 58 is 0.778\n",
      "The class accuracy of 59 is 0.969\n",
      "The class accuracy of 60 is 0.612\n",
      "The class accuracy of 61 is 1.000\n",
      "\n",
      "some statistics:\n",
      "\n",
      "mean 0.882\n",
      "standard deviation 0.137\n",
      "max 1.000\n",
      "min 0.400\n"
     ]
    }
   ],
   "source": [
    "from sklearn.metrics import accuracy_score\n",
    "from sklearn.metrics import confusion_matrix\n",
    "import numpy as np\n",
    "import matplotlib.pyplot as plt\n",
    "\n",
    "yhat = clf.predict(Xpca)\n",
    "\n",
    "#===================================================\n",
    "# Enter your code below\n",
    "\n",
    "cm = confusion_matrix(y, yhat)\n",
    "cm_norm = cm.astype('float') / cm.sum(axis=1)[:, np.newaxis]\n",
    "diag = np.diagonal(cm_norm)\n",
    "\n",
    "fig = plt.figure(figsize = (20,5))\n",
    "\n",
    "ax = fig.add_subplot(1,1,1)\n",
    "ax.set_title('non normalized confusion matrix')\n",
    "im = ax.imshow(cm)\n",
    "fig.colorbar(im, ax=ax)\n",
    "\n",
    "ax1 = fig.add_subplot(1,2,1)\n",
    "ax1.set_title('normalized confusion matrix')\n",
    "im1 = ax1.imshow(cm_norm)\n",
    "fig.colorbar(im1, ax=ax1)\n",
    "\n",
    "plt.show()\n",
    "\n",
    "print('Overall Accuracy is {:.3f} %'.format(accuracy_score(y, yhat)) )\n",
    "for i in range(len(diag)):\n",
    "    print('The class accuracy of {} is {:.3f}'.format(i, diag[i]))\n",
    "print('\\nsome statistics:\\n')\n",
    "print('mean {:.3f}'.format(np.mean(diag)))\n",
    "print('standard deviation {:.3f}'.format(np.std(diag)))\n",
    "print('max {:.3f}'.format(max(diag)))\n",
    "print('min {:.3f}'.format(min(diag)))\n",
    "\n",
    "#==================================================="
   ]
  },
  {
   "cell_type": "markdown",
   "metadata": {},
   "source": [
    "___\n",
    "<a id=\"nonlinear\"></a>\n",
    "<a href=\"#top\">Back to Top</a>\n",
    "\n",
    "# Non-linear SVMs\n",
    "Now let's explore the use of non-linear svms. More explicitly, using different kernels. Take a look at the example training and testing code below for the non-linear SVM. All parameters are left as default, except we change the kernel to be `rbf`. Run the block of code below.\n",
    "\n"
   ]
  },
  {
   "cell_type": "code",
   "execution_count": 38,
   "metadata": {},
   "outputs": [
    {
     "name": "stdout",
     "output_type": "stream",
     "text": [
      "Overall Accuracy is  0.938140919616\n"
     ]
    }
   ],
   "source": [
    "from sklearn.svm import SVC\n",
    "\n",
    "clf = SVC(kernel='rbf')\n",
    "clf.fit(Xpca,y)\n",
    "yhat = clf.predict(Xpca)\n",
    "print('Overall Accuracy is ',accuracy_score(y,yhat))"
   ]
  },
  {
   "cell_type": "markdown",
   "metadata": {},
   "source": [
    "___\n",
    "**Exercise 3:** Use the starter code from above to calculate the accuracy for three different non-linear SVM kernels. That is, repeat the code above for different `kernel` parameters. **Only use non-linear kernels.  Which kernel is most accurate with the default parameters?**\n",
    "\n",
    "You might be interested in the documentation of the scikit-learn SVM implementation, available here:\n",
    "- http://scikit-learn.org/stable/modules/generated/sklearn.svm.SVC.html"
   ]
  },
  {
   "cell_type": "code",
   "execution_count": 42,
   "metadata": {},
   "outputs": [
    {
     "name": "stdout",
     "output_type": "stream",
     "text": [
      "for kernel rbf, overall accuracy is 0.938, calculated in 5.57 seconds\n",
      "for kernel poly, overall accuracy is 0.975, calculated in 3.87 seconds\n",
      "for kernel sigmoid, overall accuracy is 0.215, calculated in 2.84 seconds\n",
      "\n",
      "The most accurate kernel is poly with an accuracy of 0.975\n"
     ]
    }
   ],
   "source": [
    "#===================================================\n",
    "# Enter your code below\n",
    "from time import time\n",
    "\n",
    "kernels = ['rbf', 'poly', 'sigmoid']\n",
    "accuracies = []\n",
    "for kern in kernels:\n",
    "    t_start = time()\n",
    "    clf = SVC(kernel = kern)\n",
    "    clf.fit(Xpca,y)\n",
    "    yhat = clf.predict(Xpca)\n",
    "    acc = accuracy_score(y,yhat)\n",
    "    accuracies.append(acc)\n",
    "    t_stop = time()\n",
    "    print('for kernel {}, overall accuracy is {:.3f}, calculated in {:.2f} seconds'.format(kern, \n",
    "                                                                                          acc, \n",
    "                                                                                          t_stop - t_start))\n",
    "    \n",
    "max_i = np.argmax(accuracies)\n",
    "print('\\nThe most accurate kernel is {} with an accuracy of {:.3f}'.format(kernels[max_i], accuracies[max_i]))\n",
    "\n",
    "#==================================================="
   ]
  },
  {
   "cell_type": "markdown",
   "metadata": {},
   "source": [
    "___\n",
    "**Exercise 4:** Choose the **most accurate kernel** and manipulate the settings for `gamma` to make the classification more accurate. \n",
    "- **Part A:** How accurate can you make it? \n",
    "- **Part B:** Would you expect the results to generalize well? Why or why not?"
   ]
  },
  {
   "cell_type": "code",
   "execution_count": 52,
   "metadata": {},
   "outputs": [
    {
     "name": "stdout",
     "output_type": "stream",
     "text": [
      "0.001:0.003:0.005:0.007:0.009:0.011:0.013:0.015:0.017:0.019:0.021:0.023:0.025:0.027:0.029:0.031:0.033:0.035:0.037:0.039:0.041:0.043:0.045:0.047:0.049:0.051:0.053:0.055:0.057:0.059:0.061:0.063:0.065:0.067:0.069:0.071:0.073:0.075:0.077:0.079:0.081:0.083:0.085:0.087:0.089:0.091:0.093:0.095:0.097:0.099:0.101:0.103:"
     ]
    },
    {
     "data": {
      "image/png": "[encoded data removed]",
      "text/plain": [
       "<Figure size 720x360 with 2 Axes>"
      ]
     },
     "metadata": {},
     "output_type": "display_data"
    },
    {
     "name": "stdout",
     "output_type": "stream",
     "text": [
      "optimal g value of 0.019 with accuracy of 1.000\n"
     ]
    }
   ],
   "source": [
    "#===================================================\n",
    "# Enter your code below\n",
    "\n",
    "kern = 'poly'\n",
    "gs = np.arange(0.001, 0.105, 0.002)\n",
    "\n",
    "g_accuracies = []\n",
    "times = []\n",
    "for g in gs:\n",
    "    t_start = time()\n",
    "    yhat = SVC(kernel=kern, gamma=g).fit(Xpca,y).predict(Xpca)\n",
    "    g_accuracies.append(accuracy_score(y,yhat))\n",
    "    times.append(time()-t_start)\n",
    "    print('{:.3f}'.format(g) , end=':') \n",
    "\n",
    "fig = plt.figure(figsize=(10,5))\n",
    "ax = fig.add_subplot(1,2,1)\n",
    "ax.plot(gs, g_accuracies)\n",
    "ax.set_xlabel('g value')\n",
    "ax.set_ylabel('accuracy')\n",
    "ax1 = fig.add_subplot(1,2,2)\n",
    "ax1.plot(gs,times)\n",
    "ax1.set_xlabel('g value')\n",
    "ax1.set_ylabel('time [s]')\n",
    "plt.show()\n",
    "\n",
    "max_i = np.argmax(g_accuracies)\n",
    "print('optimal g value of {:.3f} with accuracy of {:.3f}'.format(gs[max_i], g_accuracies[max_i]))\n",
    "#==================================================="
   ]
  },
  {
   "cell_type": "markdown",
   "metadata": {},
   "source": [
    "*Enter you answer here (double click)*\n",
    "\n",
    "A. The highest accuracy we could achieve was 1. This was achieved at gamma $\\approx$ 0.02 and was consistent for larger values of gamma. However, we are testing on the training data here so this value may not accuratly represent how well we could predict other data using this model.\n",
    "\n",
    "B. We would not expect this to generalize because the optimal gamma value is very dependent upon the data as well as the kernel used.\n",
    "\n"
   ]
  },
  {
   "cell_type": "markdown",
   "metadata": {},
   "source": [
    "___\n",
    "**Final Question:** Using the most accurate non-linear SVM you found in the previous question, how many parameter coefficients does the trained model contain?"
   ]
  },
  {
   "cell_type": "markdown",
   "metadata": {},
   "source": [
    "*Enter you answer here (double click)*\n",
    "\n"
   ]
  },
  {
   "cell_type": "code",
   "execution_count": 60,
   "metadata": {},
   "outputs": [
    {
     "name": "stdout",
     "output_type": "stream",
     "text": [
      "(61, 2944)\n"
     ]
    }
   ],
   "source": [
    "#===================================================\n",
    "# Enter any scratchwork calculations you need below\n",
    "\n",
    "clf = SVC(kernel = 'poly', gamma = 0.019).fit(Xpca,y)\n",
    "print(clf.dual_coef_.shape)"
   ]
  },
  {
   "cell_type": "markdown",
   "metadata": {},
   "source": [
    "As can be seen, we still have weights for 61 classes, each one contains information for 2944 parameters."
   ]
  },
  {
   "cell_type": "markdown",
   "metadata": {},
   "source": [
    "________________________________________________________________________________________________________\n",
    "\n",
    "That's all! Please **save (make sure you saved!!!) and upload your rendered notebook** and please include **team member names** in the notebook submission."
   ]
  },
  {
   "cell_type": "code",
   "execution_count": null,
   "metadata": {
    "collapsed": true
   },
   "outputs": [],
   "source": []
  }
 ],
 "metadata": {
  "anaconda-cloud": {},
  "kernelspec": {
   "display_name": "Python 3",
   "language": "python",
   "name": "python3"
  },
  "language_info": {
   "codemirror_mode": {
    "name": "ipython",
    "version": 3
   },
   "file_extension": ".py",
   "mimetype": "text/x-python",
   "name": "python",
   "nbconvert_exporter": "python",
   "pygments_lexer": "ipython3",
   "version": "3.6.7"
  }
 },
 "nbformat": 4,
 "nbformat_minor": 1
}
